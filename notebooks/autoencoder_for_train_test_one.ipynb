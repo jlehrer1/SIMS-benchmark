{
 "cells": [
  {
   "cell_type": "code",
   "execution_count": 1,
   "id": "ba395800",
   "metadata": {
    "scrolled": true
   },
   "outputs": [],
   "source": [
    "import scsims\n",
    "import pandas as pd \n",
    "import anndata as an\n",
    "from scsims.autoencoder import *\n",
    "import pytorch_lightning as pl\n",
    "from pytorch_lightning.loggers import WandbLogger\n",
    "import numpy as np\n",
    "from sklearn.model_selection import train_test_split\n",
    "\n",
    "from torch.utils.data import Dataset, Subset, DataLoader"
   ]
  },
  {
   "cell_type": "code",
   "execution_count": 2,
   "id": "4ed86450",
   "metadata": {},
   "outputs": [],
   "source": [
    "traindata = an.read_h5ad('../data/bhaduri/primary_RAWCOUNTS_T.h5ad')\n",
    "testdata = an.read_h5ad('../data/benchmark/human_lognorm.h5ad')"
   ]
  },
  {
   "cell_type": "code",
   "execution_count": 3,
   "id": "f7d28dc9",
   "metadata": {},
   "outputs": [],
   "source": [
    "def train_val_dataset(dataset, val_split=0.25):\n",
    "    train_idx, val_idx = train_test_split(list(range(len(dataset))), test_size=val_split)\n",
    "    return Subset(dataset, train_idx), Subset(dataset, val_idx)\n",
    "\n",
    "train, val = train_val_dataset(AEDataset(traindata.X))\n",
    "\n",
    "test = AEDataset(testdata.X)"
   ]
  },
  {
   "cell_type": "code",
   "execution_count": 9,
   "id": "db68f937",
   "metadata": {},
   "outputs": [
    {
     "name": "stderr",
     "output_type": "stream",
     "text": [
      "/Users/julian/miniconda3/envs/sims/lib/python3.9/site-packages/scsims/autoencoder.py:16: UserWarning: Output_dim < 500, final layer has increasing dimensionality in Encoder\n",
      "  warnings.warn(\n"
     ]
    }
   ],
   "source": [
    "train_compresser = AutoEncoder(\n",
    "    data_shape=traindata.shape[1],\n",
    "    optim_params={\n",
    "        'optimizer': torch.optim.Adam,\n",
    "        'lr': 0.001,\n",
    "        'weight_decay': 0.001,\n",
    "    }\n",
    ")\n",
    "\n",
    "test_compresser = AutoEncoder(\n",
    "    data_shape=testdata.shape[1],\n",
    "    optim_params={\n",
    "        'optimizer': torch.optim.Adam,\n",
    "        'lr': 0.001,\n",
    "        'weight_decay': 0.001,\n",
    "    }\n",
    "\n",
    ")"
   ]
  },
  {
   "cell_type": "code",
   "execution_count": 10,
   "id": "376cb4dc",
   "metadata": {},
   "outputs": [],
   "source": [
    "trainloader, valloader = DataLoader(train, batch_size=4, shuffle=True), DataLoader(val, batch_size=4)"
   ]
  },
  {
   "cell_type": "markdown",
   "id": "21a284fc",
   "metadata": {},
   "source": [
    "Now we can train our model"
   ]
  },
  {
   "cell_type": "code",
   "execution_count": 11,
   "id": "2c84052a",
   "metadata": {
    "scrolled": true
   },
   "outputs": [
    {
     "name": "stderr",
     "output_type": "stream",
     "text": [
      "GPU available: False, used: False\n",
      "TPU available: False, using: 0 TPU cores\n",
      "IPU available: False, using: 0 IPUs\n",
      "HPU available: False, using: 0 HPUs\n",
      "\n",
      "  | Name    | Type    | Params\n",
      "------------------------------------\n",
      "0 | encoder | Encoder | 392 M \n",
      "1 | decoder | Decoder | 392 M \n",
      "2 | loss    | MSELoss | 0     \n",
      "------------------------------------\n",
      "785 M     Trainable params\n",
      "0         Non-trainable params\n",
      "785 M     Total params\n",
      "3,140.788 Total estimated model params size (MB)\n"
     ]
    },
    {
     "data": {
      "application/vnd.jupyter.widget-view+json": {
       "model_id": "",
       "version_major": 2,
       "version_minor": 0
      },
      "text/plain": [
       "Sanity Checking: 0it [00:00, ?it/s]"
      ]
     },
     "metadata": {},
     "output_type": "display_data"
    },
    {
     "data": {
      "application/vnd.jupyter.widget-view+json": {
       "model_id": "d43dbee1b3d943e38bd2d15aa2f66b5b",
       "version_major": 2,
       "version_minor": 0
      },
      "text/plain": [
       "Training: 0it [00:00, ?it/s]"
      ]
     },
     "metadata": {},
     "output_type": "display_data"
    },
    {
     "name": "stderr",
     "output_type": "stream",
     "text": [
      "\n",
      "KeyboardInterrupt\n",
      "\n"
     ]
    }
   ],
   "source": [
    "trainer = pl.Trainer(\n",
    "    max_epochs=50,\n",
    "    logger=WandbLogger(project='Train_encoder')\n",
    ")\n",
    "\n",
    "trainer.fit(train_compresser, trainloader, valloader)"
   ]
  },
  {
   "cell_type": "code",
   "execution_count": null,
   "id": "e7962980",
   "metadata": {},
   "outputs": [],
   "source": []
  }
 ],
 "metadata": {
  "kernelspec": {
   "display_name": "sims",
   "language": "python",
   "name": "sims"
  },
  "language_info": {
   "codemirror_mode": {
    "name": "ipython",
    "version": 3
   },
   "file_extension": ".py",
   "mimetype": "text/x-python",
   "name": "python",
   "nbconvert_exporter": "python",
   "pygments_lexer": "ipython3",
   "version": "3.9.12"
  }
 },
 "nbformat": 4,
 "nbformat_minor": 5
}

{
 "cells": [
  {
   "cell_type": "markdown",
   "id": "bbe5da99",
   "metadata": {},
   "source": [
    "# Benchmark Modeling 02\n",
    "\n",
    "Now that we've fixed the bug with calculating gene intersection"
   ]
  },
  {
   "cell_type": "code",
   "execution_count": 3,
   "id": "6d8cd976",
   "metadata": {},
   "outputs": [],
   "source": [
    "import pandas as pd \n",
    "import numpy as np\n",
    "\n",
    "import sys, os \n",
    "from scsims import *"
   ]
  },
  {
   "cell_type": "code",
   "execution_count": 2,
   "id": "361188da",
   "metadata": {},
   "outputs": [
    {
     "name": "stderr",
     "output_type": "stream",
     "text": [
      "/Users/julian/miniconda3/envs/sims/lib/python3.9/site-packages/anndata/_core/anndata.py:121: ImplicitModificationWarning: Transforming to str index.\n",
      "  warnings.warn(\"Transforming to str index.\", ImplicitModificationWarning)\n"
     ]
    }
   ],
   "source": [
    "human_data = an.read_h5ad('../data/benchmark/human.h5ad', backed='r+')\n",
    "mouse_data = an.read_h5ad('../data/benchmark/mouse_clipped.h5ad', backed='r+')"
   ]
  },
  {
   "cell_type": "code",
   "execution_count": 12,
   "id": "b12faa04",
   "metadata": {},
   "outputs": [
    {
     "data": {
      "text/plain": [
       "28"
      ]
     },
     "execution_count": 12,
     "metadata": {},
     "output_type": "execute_result"
    }
   ],
   "source": [
    "pd.read_csv('../data/bhaduri/primary_labels_clean.csv')['Subtype'].nunique()"
   ]
  },
  {
   "cell_type": "code",
   "execution_count": null,
   "id": "6c786f30",
   "metadata": {},
   "outputs": [],
   "source": [
    "human_cols = [x.strip().upper() for x in human_data.var.index.values]\n",
    "mouse_cols = [x.strip().upper() for x in mouse_data.var.index.values]\n",
    "refgenes = list(set(human_cols).intersection(mouse_cols))\n"
   ]
  },
  {
   "cell_type": "code",
   "execution_count": 2,
   "id": "2ddda2b3",
   "metadata": {
    "scrolled": true
   },
   "outputs": [
    {
     "data": {
      "text/plain": [
       "['mouse_CLA_labels_clean.csv',\n",
       " 'mouse_PAR-POST-PRE_labels_clean.csv',\n",
       " 'mouse_HIP_labels_clean.csv',\n",
       " 'mouse_SSs_labels_clean.csv',\n",
       " 'mouse_ENTm_labels_clean.csv',\n",
       " 'mouse_ALM_labels_clean.csv',\n",
       " 'mouse_RSP_labels_clean.csv',\n",
       " 'mouse_MOp_labels_clean.csv',\n",
       " 'mouse_AI_labels_clean.csv',\n",
       " 'mouse_ORB_labels_clean.csv',\n",
       " 'mouse_ACA_labels_clean.csv',\n",
       " 'mouse_VIS_labels_clean.csv',\n",
       " 'mouse_ENTl_labels_clean.csv',\n",
       " 'mouse_VISp_labels_clean.csv',\n",
       " 'mouse_PL-ILA_labels_clean.csv',\n",
       " 'mouse_RSPv_labels_clean.csv',\n",
       " 'mouse_GU_labels_clean.csv',\n",
       " 'mouse_TEa-PERI-ECT_labels_clean.csv',\n",
       " 'mouse_SUB-ProS_labels_clean.csv',\n",
       " 'mouse_SSp_labels_clean.csv',\n",
       " 'mouse_AUD_labels_clean.csv',\n",
       " 'mouse_PTLp_labels_clean.csv']"
      ]
     },
     "execution_count": 2,
     "metadata": {},
     "output_type": "execute_result"
    }
   ],
   "source": [
    "files = os.listdir('../data/benchmark/mouse_labels/')"
   ]
  },
  {
   "cell_type": "code",
   "execution_count": 10,
   "id": "4022f483",
   "metadata": {
    "scrolled": true
   },
   "outputs": [
    {
     "data": {
      "text/plain": [
       "False"
      ]
     },
     "execution_count": 10,
     "metadata": {},
     "output_type": "execute_result"
    }
   ],
   "source": [
    "t1 = pd.read_csv('../data/benchmark/mouse_labels/mouse_ALM_labels_clean.csv')\n",
    "t2 = pd.read_csv('../data/benchmark/mouse_labels/mouse_VIS_labels_clean.csv')\n",
    "\n",
    "(sorted(t1['subclass_label'].unique()) == sorted(t2['subclass_label'].unique()))"
   ]
  },
  {
   "cell_type": "code",
   "execution_count": null,
   "id": "85368f36",
   "metadata": {},
   "outputs": [],
   "source": []
  }
 ],
 "metadata": {
  "kernelspec": {
   "display_name": "sims",
   "language": "python",
   "name": "sims"
  },
  "language_info": {
   "codemirror_mode": {
    "name": "ipython",
    "version": 3
   },
   "file_extension": ".py",
   "mimetype": "text/x-python",
   "name": "python",
   "nbconvert_exporter": "python",
   "pygments_lexer": "ipython3",
   "version": "3.9.12"
  }
 },
 "nbformat": 4,
 "nbformat_minor": 5
}

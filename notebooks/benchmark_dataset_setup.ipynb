{
 "cells": [
  {
   "cell_type": "code",
   "execution_count": 2,
   "id": "93dac5bb",
   "metadata": {},
   "outputs": [],
   "source": [
    "from typing import *\n",
    "\n",
    "import torch \n",
    "import numpy as np \n",
    "import shutil \n",
    "import json \n",
    "import zipfile \n",
    "import io \n",
    "import pytorch_lightning as pl \n",
    "from scipy.sparse import csc_matrix \n",
    "from pathlib import Path \n",
    "import torch.nn.functional as F\n",
    "from torchmetrics.functional import accuracy, precision, recall \n",
    "from pytorch_tabnet.tab_network import TabNet\n",
    "import copy\n",
    "import warnings\n",
    "import pandas as pd \n",
    "from torchmetrics.functional import *\n",
    "import torchmetrics \n",
    "\n",
    "from torchmetrics.functional.classification.stat_scores import _stat_scores_update, _stat_scores\n",
    "from sklearn.metrics import classification_report\n",
    "\n",
    "# from scsims.data import *\n",
    "# from scsims.lightning_train import *"
   ]
  },
  {
   "cell_type": "code",
   "execution_count": 3,
   "id": "a6109703",
   "metadata": {},
   "outputs": [
    {
     "name": "stderr",
     "output_type": "stream",
     "text": [
      "/var/folders/pd/jsjcl0fn7w57s5mfr34b20pm0000gn/T/ipykernel_23365/804854649.py:1: DtypeWarning: Columns (21) have mixed types. Specify dtype option on import or set low_memory=False.\n",
      "  mouse_labels = pd.read_csv('../../scanvi_benchmark/data/benchmark/mouse_labels.csv')\n"
     ]
    }
   ],
   "source": [
    "mouse_labels = pd.read_csv('../../scanvi_benchmark/data/benchmark/mouse_labels.csv')\n",
    "human_labels = pd.read_csv('../../scanvi_benchmark/data/benchmark/human_labels.csv')"
   ]
  },
  {
   "cell_type": "code",
   "execution_count": 8,
   "id": "8ab7642b",
   "metadata": {},
   "outputs": [
    {
     "data": {
      "text/plain": [
       "13"
      ]
     },
     "execution_count": 8,
     "metadata": {},
     "output_type": "execute_result"
    }
   ],
   "source": [
    "retina = pd.read_csv('../data/retina/retina_labels_numeric.csv')\n",
    "retina['class_label'].nunique()"
   ]
  },
  {
   "cell_type": "code",
   "execution_count": 4,
   "id": "d4c03f16",
   "metadata": {
    "scrolled": true
   },
   "outputs": [
    {
     "data": {
      "text/plain": [
       "(42, 19)"
      ]
     },
     "execution_count": 4,
     "metadata": {},
     "output_type": "execute_result"
    }
   ],
   "source": [
    "mouse_labels['subclass_label'].nunique(), human_labels['subclass_label'].nunique()"
   ]
  },
  {
   "cell_type": "markdown",
   "id": "b5c69599",
   "metadata": {},
   "source": [
    "Let's clean the cell type labels for human data since there are some NaN values"
   ]
  },
  {
   "cell_type": "code",
   "execution_count": 3,
   "id": "01c5b786",
   "metadata": {},
   "outputs": [],
   "source": [
    "fixed_human = human_labels.dropna(subset=['subclass_label'])\n",
    "fixed_human.index.name = 'cell'\n",
    "fixed_human = fixed_human.reset_index(drop=False)\n",
    "\n",
    "fixed_human.to_csv('../data/benchmark/human_labels_clean.csv', index=False)"
   ]
  },
  {
   "cell_type": "code",
   "execution_count": 4,
   "id": "52e714f3",
   "metadata": {
    "scrolled": true
   },
   "outputs": [],
   "source": [
    "human_labels = pd.read_csv('../data/benchmark/human_labels_clean.csv')\n",
    "\n",
    "for label in human_labels['region_label'].unique():\n",
    "    df = human_labels[human_labels['region_label'] == label]\n",
    "    \n",
    "    df.to_csv(f'../data/benchmark/human_labels/human_{label}_labels_clean.csv', index=False)"
   ]
  },
  {
   "cell_type": "code",
   "execution_count": 5,
   "id": "3dba1e6d",
   "metadata": {
    "scrolled": true
   },
   "outputs": [
    {
     "data": {
      "text/html": [
       "<div>\n",
       "<style scoped>\n",
       "    .dataframe tbody tr th:only-of-type {\n",
       "        vertical-align: middle;\n",
       "    }\n",
       "\n",
       "    .dataframe tbody tr th {\n",
       "        vertical-align: top;\n",
       "    }\n",
       "\n",
       "    .dataframe thead th {\n",
       "        text-align: right;\n",
       "    }\n",
       "</style>\n",
       "<table border=\"1\" class=\"dataframe\">\n",
       "  <thead>\n",
       "    <tr style=\"text-align: right;\">\n",
       "      <th></th>\n",
       "      <th>cell</th>\n",
       "      <th>sample_name</th>\n",
       "      <th>exp_component_name</th>\n",
       "      <th>specimen_type</th>\n",
       "      <th>cluster_color</th>\n",
       "      <th>cluster_order</th>\n",
       "      <th>cluster_label</th>\n",
       "      <th>class_color</th>\n",
       "      <th>class_order</th>\n",
       "      <th>class_label</th>\n",
       "      <th>...</th>\n",
       "      <th>cell_type_alt_alias_order</th>\n",
       "      <th>cell_type_alt_alias_label</th>\n",
       "      <th>cell_type_designation_color</th>\n",
       "      <th>cell_type_designation_order</th>\n",
       "      <th>cell_type_designation_label</th>\n",
       "      <th>external_donor_name_color</th>\n",
       "      <th>external_donor_name_order</th>\n",
       "      <th>external_donor_name_label</th>\n",
       "      <th>outlier_call</th>\n",
       "      <th>outlier_type</th>\n",
       "    </tr>\n",
       "  </thead>\n",
       "  <tbody>\n",
       "    <tr>\n",
       "      <th>0</th>\n",
       "      <td>1</td>\n",
       "      <td>F2S4_160113_027_B01</td>\n",
       "      <td>LS-15005h_S02_E1-50</td>\n",
       "      <td>nucleus</td>\n",
       "      <td>#E170FE</td>\n",
       "      <td>32.0</td>\n",
       "      <td>Inh L2-5 VIP TOX2</td>\n",
       "      <td>#0066FF</td>\n",
       "      <td>4.0</td>\n",
       "      <td>GABAergic</td>\n",
       "      <td>...</td>\n",
       "      <td>32.0</td>\n",
       "      <td>NaN</td>\n",
       "      <td>#E170FE</td>\n",
       "      <td>32.0</td>\n",
       "      <td>Neuron 032</td>\n",
       "      <td>#3DCC3D</td>\n",
       "      <td>2</td>\n",
       "      <td>H200.1025</td>\n",
       "      <td>False</td>\n",
       "      <td>NaN</td>\n",
       "    </tr>\n",
       "    <tr>\n",
       "      <th>1</th>\n",
       "      <td>2</td>\n",
       "      <td>F2S4_160113_027_C01</td>\n",
       "      <td>LS-15005h_S03_E1-50</td>\n",
       "      <td>nucleus</td>\n",
       "      <td>#8E5864</td>\n",
       "      <td>2.0</td>\n",
       "      <td>Inh L1 LAMP5 GGT8P</td>\n",
       "      <td>#0066FF</td>\n",
       "      <td>4.0</td>\n",
       "      <td>GABAergic</td>\n",
       "      <td>...</td>\n",
       "      <td>2.0</td>\n",
       "      <td>NaN</td>\n",
       "      <td>#8E5864</td>\n",
       "      <td>2.0</td>\n",
       "      <td>Neuron 002</td>\n",
       "      <td>#3DCC3D</td>\n",
       "      <td>2</td>\n",
       "      <td>H200.1025</td>\n",
       "      <td>False</td>\n",
       "      <td>NaN</td>\n",
       "    </tr>\n",
       "    <tr>\n",
       "      <th>2</th>\n",
       "      <td>3</td>\n",
       "      <td>F2S4_160113_027_D01</td>\n",
       "      <td>LS-15005h_S04_E1-50</td>\n",
       "      <td>nucleus</td>\n",
       "      <td>#8B5862</td>\n",
       "      <td>1.0</td>\n",
       "      <td>Inh L1 LAMP5 NDNF</td>\n",
       "      <td>#0066FF</td>\n",
       "      <td>4.0</td>\n",
       "      <td>GABAergic</td>\n",
       "      <td>...</td>\n",
       "      <td>1.0</td>\n",
       "      <td>NaN</td>\n",
       "      <td>#8B5862</td>\n",
       "      <td>1.0</td>\n",
       "      <td>Neuron 001</td>\n",
       "      <td>#3DCC3D</td>\n",
       "      <td>2</td>\n",
       "      <td>H200.1025</td>\n",
       "      <td>False</td>\n",
       "      <td>NaN</td>\n",
       "    </tr>\n",
       "    <tr>\n",
       "      <th>3</th>\n",
       "      <td>4</td>\n",
       "      <td>F2S4_160113_027_E01</td>\n",
       "      <td>LS-15005h_S05_E1-50</td>\n",
       "      <td>nucleus</td>\n",
       "      <td>#CF6EC9</td>\n",
       "      <td>34.0</td>\n",
       "      <td>Inh L1-3 VIP ZNF322P1</td>\n",
       "      <td>#0066FF</td>\n",
       "      <td>4.0</td>\n",
       "      <td>GABAergic</td>\n",
       "      <td>...</td>\n",
       "      <td>34.0</td>\n",
       "      <td>NaN</td>\n",
       "      <td>#CF6EC9</td>\n",
       "      <td>34.0</td>\n",
       "      <td>Neuron 034</td>\n",
       "      <td>#3DCC3D</td>\n",
       "      <td>2</td>\n",
       "      <td>H200.1025</td>\n",
       "      <td>False</td>\n",
       "      <td>NaN</td>\n",
       "    </tr>\n",
       "    <tr>\n",
       "      <th>4</th>\n",
       "      <td>5</td>\n",
       "      <td>F2S4_160113_027_F01</td>\n",
       "      <td>LS-15005h_S06_E1-50</td>\n",
       "      <td>nucleus</td>\n",
       "      <td>#E693CE</td>\n",
       "      <td>35.0</td>\n",
       "      <td>Inh L3 VIP CBLN1</td>\n",
       "      <td>#0066FF</td>\n",
       "      <td>4.0</td>\n",
       "      <td>GABAergic</td>\n",
       "      <td>...</td>\n",
       "      <td>35.0</td>\n",
       "      <td>NaN</td>\n",
       "      <td>#E693CE</td>\n",
       "      <td>35.0</td>\n",
       "      <td>Neuron 035</td>\n",
       "      <td>#3DCC3D</td>\n",
       "      <td>2</td>\n",
       "      <td>H200.1025</td>\n",
       "      <td>False</td>\n",
       "      <td>NaN</td>\n",
       "    </tr>\n",
       "    <tr>\n",
       "      <th>...</th>\n",
       "      <td>...</td>\n",
       "      <td>...</td>\n",
       "      <td>...</td>\n",
       "      <td>...</td>\n",
       "      <td>...</td>\n",
       "      <td>...</td>\n",
       "      <td>...</td>\n",
       "      <td>...</td>\n",
       "      <td>...</td>\n",
       "      <td>...</td>\n",
       "      <td>...</td>\n",
       "      <td>...</td>\n",
       "      <td>...</td>\n",
       "      <td>...</td>\n",
       "      <td>...</td>\n",
       "      <td>...</td>\n",
       "      <td>...</td>\n",
       "      <td>...</td>\n",
       "      <td>...</td>\n",
       "      <td>...</td>\n",
       "      <td>...</td>\n",
       "    </tr>\n",
       "    <tr>\n",
       "      <th>47427</th>\n",
       "      <td>49412</td>\n",
       "      <td>F2S4_190227_100_C01</td>\n",
       "      <td>SM-GE4QU_S187_E1-50</td>\n",
       "      <td>nucleus</td>\n",
       "      <td>#312E27</td>\n",
       "      <td>111.0</td>\n",
       "      <td>Astro L1-6 FGFR3 ETNPPL</td>\n",
       "      <td>#17994B</td>\n",
       "      <td>3.0</td>\n",
       "      <td>Non-neuronal</td>\n",
       "      <td>...</td>\n",
       "      <td>111.0</td>\n",
       "      <td>NaN</td>\n",
       "      <td>#312E27</td>\n",
       "      <td>111.0</td>\n",
       "      <td>Non-neuron 001</td>\n",
       "      <td>#3DCC3D</td>\n",
       "      <td>2</td>\n",
       "      <td>H200.1025</td>\n",
       "      <td>False</td>\n",
       "      <td>NaN</td>\n",
       "    </tr>\n",
       "    <tr>\n",
       "      <th>47428</th>\n",
       "      <td>49413</td>\n",
       "      <td>F2S4_190227_100_E01</td>\n",
       "      <td>SM-GE4QU_S189_E1-50</td>\n",
       "      <td>nucleus</td>\n",
       "      <td>#BFC124</td>\n",
       "      <td>75.0</td>\n",
       "      <td>Exc L6 THEMIS LINC00343</td>\n",
       "      <td>#AFCC3D</td>\n",
       "      <td>2.0</td>\n",
       "      <td>Glutamatergic</td>\n",
       "      <td>...</td>\n",
       "      <td>75.0</td>\n",
       "      <td>NaN</td>\n",
       "      <td>#BFC124</td>\n",
       "      <td>75.0</td>\n",
       "      <td>Neuron 075</td>\n",
       "      <td>#3DCC3D</td>\n",
       "      <td>2</td>\n",
       "      <td>H200.1025</td>\n",
       "      <td>False</td>\n",
       "      <td>NaN</td>\n",
       "    </tr>\n",
       "    <tr>\n",
       "      <th>47429</th>\n",
       "      <td>49414</td>\n",
       "      <td>F2S4_190227_100_F01</td>\n",
       "      <td>SM-GE4QU_S190_E1-50</td>\n",
       "      <td>nucleus</td>\n",
       "      <td>#8B5862</td>\n",
       "      <td>1.0</td>\n",
       "      <td>Inh L1 LAMP5 NDNF</td>\n",
       "      <td>#0066FF</td>\n",
       "      <td>4.0</td>\n",
       "      <td>GABAergic</td>\n",
       "      <td>...</td>\n",
       "      <td>1.0</td>\n",
       "      <td>NaN</td>\n",
       "      <td>#8B5862</td>\n",
       "      <td>1.0</td>\n",
       "      <td>Neuron 001</td>\n",
       "      <td>#3DCC3D</td>\n",
       "      <td>2</td>\n",
       "      <td>H200.1025</td>\n",
       "      <td>False</td>\n",
       "      <td>NaN</td>\n",
       "    </tr>\n",
       "    <tr>\n",
       "      <th>47430</th>\n",
       "      <td>49415</td>\n",
       "      <td>F2S4_190227_100_G01</td>\n",
       "      <td>SM-GE4QU_S191_E1-50</td>\n",
       "      <td>nucleus</td>\n",
       "      <td>#71AF9A</td>\n",
       "      <td>116.0</td>\n",
       "      <td>Oligo L4-6 OPALIN</td>\n",
       "      <td>#17994B</td>\n",
       "      <td>3.0</td>\n",
       "      <td>Non-neuronal</td>\n",
       "      <td>...</td>\n",
       "      <td>116.0</td>\n",
       "      <td>NaN</td>\n",
       "      <td>#71AF9A</td>\n",
       "      <td>116.0</td>\n",
       "      <td>Non-neuron 006</td>\n",
       "      <td>#3DCC3D</td>\n",
       "      <td>2</td>\n",
       "      <td>H200.1025</td>\n",
       "      <td>False</td>\n",
       "      <td>NaN</td>\n",
       "    </tr>\n",
       "    <tr>\n",
       "      <th>47431</th>\n",
       "      <td>49416</td>\n",
       "      <td>F2S4_190227_100_H01</td>\n",
       "      <td>SM-GE4QU_S192_E1-50</td>\n",
       "      <td>nucleus</td>\n",
       "      <td>#71AF9A</td>\n",
       "      <td>116.0</td>\n",
       "      <td>Oligo L4-6 OPALIN</td>\n",
       "      <td>#17994B</td>\n",
       "      <td>3.0</td>\n",
       "      <td>Non-neuronal</td>\n",
       "      <td>...</td>\n",
       "      <td>116.0</td>\n",
       "      <td>NaN</td>\n",
       "      <td>#71AF9A</td>\n",
       "      <td>116.0</td>\n",
       "      <td>Non-neuron 006</td>\n",
       "      <td>#3DCC3D</td>\n",
       "      <td>2</td>\n",
       "      <td>H200.1025</td>\n",
       "      <td>False</td>\n",
       "      <td>NaN</td>\n",
       "    </tr>\n",
       "  </tbody>\n",
       "</table>\n",
       "<p>47432 rows × 42 columns</p>\n",
       "</div>"
      ],
      "text/plain": [
       "        cell          sample_name   exp_component_name specimen_type  \\\n",
       "0          1  F2S4_160113_027_B01  LS-15005h_S02_E1-50       nucleus   \n",
       "1          2  F2S4_160113_027_C01  LS-15005h_S03_E1-50       nucleus   \n",
       "2          3  F2S4_160113_027_D01  LS-15005h_S04_E1-50       nucleus   \n",
       "3          4  F2S4_160113_027_E01  LS-15005h_S05_E1-50       nucleus   \n",
       "4          5  F2S4_160113_027_F01  LS-15005h_S06_E1-50       nucleus   \n",
       "...      ...                  ...                  ...           ...   \n",
       "47427  49412  F2S4_190227_100_C01  SM-GE4QU_S187_E1-50       nucleus   \n",
       "47428  49413  F2S4_190227_100_E01  SM-GE4QU_S189_E1-50       nucleus   \n",
       "47429  49414  F2S4_190227_100_F01  SM-GE4QU_S190_E1-50       nucleus   \n",
       "47430  49415  F2S4_190227_100_G01  SM-GE4QU_S191_E1-50       nucleus   \n",
       "47431  49416  F2S4_190227_100_H01  SM-GE4QU_S192_E1-50       nucleus   \n",
       "\n",
       "      cluster_color  cluster_order            cluster_label class_color  \\\n",
       "0           #E170FE           32.0        Inh L2-5 VIP TOX2     #0066FF   \n",
       "1           #8E5864            2.0       Inh L1 LAMP5 GGT8P     #0066FF   \n",
       "2           #8B5862            1.0        Inh L1 LAMP5 NDNF     #0066FF   \n",
       "3           #CF6EC9           34.0    Inh L1-3 VIP ZNF322P1     #0066FF   \n",
       "4           #E693CE           35.0         Inh L3 VIP CBLN1     #0066FF   \n",
       "...             ...            ...                      ...         ...   \n",
       "47427       #312E27          111.0  Astro L1-6 FGFR3 ETNPPL     #17994B   \n",
       "47428       #BFC124           75.0  Exc L6 THEMIS LINC00343     #AFCC3D   \n",
       "47429       #8B5862            1.0        Inh L1 LAMP5 NDNF     #0066FF   \n",
       "47430       #71AF9A          116.0        Oligo L4-6 OPALIN     #17994B   \n",
       "47431       #71AF9A          116.0        Oligo L4-6 OPALIN     #17994B   \n",
       "\n",
       "       class_order    class_label  ... cell_type_alt_alias_order  \\\n",
       "0              4.0      GABAergic  ...                      32.0   \n",
       "1              4.0      GABAergic  ...                       2.0   \n",
       "2              4.0      GABAergic  ...                       1.0   \n",
       "3              4.0      GABAergic  ...                      34.0   \n",
       "4              4.0      GABAergic  ...                      35.0   \n",
       "...            ...            ...  ...                       ...   \n",
       "47427          3.0   Non-neuronal  ...                     111.0   \n",
       "47428          2.0  Glutamatergic  ...                      75.0   \n",
       "47429          4.0      GABAergic  ...                       1.0   \n",
       "47430          3.0   Non-neuronal  ...                     116.0   \n",
       "47431          3.0   Non-neuronal  ...                     116.0   \n",
       "\n",
       "       cell_type_alt_alias_label cell_type_designation_color  \\\n",
       "0                            NaN                     #E170FE   \n",
       "1                            NaN                     #8E5864   \n",
       "2                            NaN                     #8B5862   \n",
       "3                            NaN                     #CF6EC9   \n",
       "4                            NaN                     #E693CE   \n",
       "...                          ...                         ...   \n",
       "47427                        NaN                     #312E27   \n",
       "47428                        NaN                     #BFC124   \n",
       "47429                        NaN                     #8B5862   \n",
       "47430                        NaN                     #71AF9A   \n",
       "47431                        NaN                     #71AF9A   \n",
       "\n",
       "       cell_type_designation_order  cell_type_designation_label  \\\n",
       "0                             32.0                   Neuron 032   \n",
       "1                              2.0                   Neuron 002   \n",
       "2                              1.0                   Neuron 001   \n",
       "3                             34.0                   Neuron 034   \n",
       "4                             35.0                   Neuron 035   \n",
       "...                            ...                          ...   \n",
       "47427                        111.0               Non-neuron 001   \n",
       "47428                         75.0                   Neuron 075   \n",
       "47429                          1.0                   Neuron 001   \n",
       "47430                        116.0               Non-neuron 006   \n",
       "47431                        116.0               Non-neuron 006   \n",
       "\n",
       "       external_donor_name_color external_donor_name_order  \\\n",
       "0                        #3DCC3D                         2   \n",
       "1                        #3DCC3D                         2   \n",
       "2                        #3DCC3D                         2   \n",
       "3                        #3DCC3D                         2   \n",
       "4                        #3DCC3D                         2   \n",
       "...                          ...                       ...   \n",
       "47427                    #3DCC3D                         2   \n",
       "47428                    #3DCC3D                         2   \n",
       "47429                    #3DCC3D                         2   \n",
       "47430                    #3DCC3D                         2   \n",
       "47431                    #3DCC3D                         2   \n",
       "\n",
       "       external_donor_name_label outlier_call outlier_type  \n",
       "0                      H200.1025        False          NaN  \n",
       "1                      H200.1025        False          NaN  \n",
       "2                      H200.1025        False          NaN  \n",
       "3                      H200.1025        False          NaN  \n",
       "4                      H200.1025        False          NaN  \n",
       "...                          ...          ...          ...  \n",
       "47427                  H200.1025        False          NaN  \n",
       "47428                  H200.1025        False          NaN  \n",
       "47429                  H200.1025        False          NaN  \n",
       "47430                  H200.1025        False          NaN  \n",
       "47431                  H200.1025        False          NaN  \n",
       "\n",
       "[47432 rows x 42 columns]"
      ]
     },
     "execution_count": 5,
     "metadata": {},
     "output_type": "execute_result"
    }
   ],
   "source": [
    "human_labels"
   ]
  },
  {
   "cell_type": "markdown",
   "id": "26ba0fb0",
   "metadata": {},
   "source": [
    "And again for the mouse labels"
   ]
  },
  {
   "cell_type": "code",
   "execution_count": 6,
   "id": "69a14469",
   "metadata": {
    "scrolled": true
   },
   "outputs": [],
   "source": [
    "fixed_mouse = mouse_labels.dropna(subset=['subclass_label'])\n",
    "fixed_mouse.index.name = 'cell'\n",
    "fixed_mouse = fixed_mouse.reset_index(drop=False)\n",
    "\n",
    "fixed_mouse.to_csv('../data/benchmark/mouse_labels_clean.csv', index=False)"
   ]
  },
  {
   "cell_type": "code",
   "execution_count": 10,
   "id": "3fdf3194",
   "metadata": {},
   "outputs": [
    {
     "name": "stderr",
     "output_type": "stream",
     "text": [
      "/var/folders/pd/jsjcl0fn7w57s5mfr34b20pm0000gn/T/ipykernel_87700/3982835164.py:1: DtypeWarning: Columns (22) have mixed types. Specify dtype option on import or set low_memory=False.\n",
      "  mouse_labels = pd.read_csv('../data/benchmark/mouse_labels_clean.csv')\n"
     ]
    }
   ],
   "source": [
    "mouse_labels = pd.read_csv('../data/benchmark/mouse_labels_clean.csv')\n",
    "\n",
    "for label in mouse_labels['region_label'].unique():\n",
    "    df = mouse_labels[mouse_labels['region_label'] == label]\n",
    "    \n",
    "    df.to_csv(f'../data/benchmark/mouse_labels/mouse_{label}_labels_clean.csv', index=False)"
   ]
  },
  {
   "cell_type": "markdown",
   "id": "e31e5d5a",
   "metadata": {},
   "source": [
    "Since there are some extra sample in the mouse data, we'll take the intersection of the samples labeled and those in the entire dataset, and write it out to a new file."
   ]
  },
  {
   "cell_type": "code",
   "execution_count": 13,
   "id": "5a71b941",
   "metadata": {},
   "outputs": [],
   "source": [
    "# comb = list(set(mouse_data.obs['index'].values).intersection(mouse_labels['sample_name']))\n",
    "# to_keep = mouse_data.obs[mouse_data.obs['index'].isin(comb)].index.astype(int)\n",
    "\n",
    "# clipped = an.AnnData(\n",
    "#     X=mouse_data.X[to_keep, :],\n",
    "#     obs=mouse_data.obs[mouse_data.obs['index'].isin(comb)],\n",
    "#     var=mouse_data.var\n",
    "# )\n",
    "# clipped.write('../data/benchmark/mouse_clipped.h5ad')"
   ]
  },
  {
   "cell_type": "markdown",
   "id": "68c552a0",
   "metadata": {},
   "source": [
    "Let's look at which genes intersect between the two datasets"
   ]
  },
  {
   "cell_type": "code",
   "execution_count": 15,
   "id": "6026b478",
   "metadata": {},
   "outputs": [
    {
     "data": {
      "text/plain": [
       "16519"
      ]
     },
     "execution_count": 15,
     "metadata": {},
     "output_type": "execute_result"
    }
   ],
   "source": [
    "hg = [x.upper() for x in human_data.var.index]\n",
    "mg = [x.upper() for x in mouse_data.var.index]\n",
    "\n",
    "len(set(hg).intersection(mg))"
   ]
  },
  {
   "cell_type": "code",
   "execution_count": 26,
   "id": "47b2af98",
   "metadata": {},
   "outputs": [
    {
     "data": {
      "text/plain": [
       "50"
      ]
     },
     "execution_count": 26,
     "metadata": {},
     "output_type": "execute_result"
    }
   ],
   "source": [
    "max(pd.read_csv('../data/mouse/MouseAdultInhibitoryNeurons_labels.csv')['numeric_class'].unique()) + 1"
   ]
  },
  {
   "cell_type": "code",
   "execution_count": 11,
   "id": "3668b661",
   "metadata": {},
   "outputs": [],
   "source": [
    "testlabels = pd.read_csv('../data/benchmark/mouse_labels/mouse_ALM_labels_clean.csv')\n",
    "trainlabels = pd.read_csv('../data/benchmark/human_labels/human_MTG_labels_clean.csv')"
   ]
  },
  {
   "cell_type": "code",
   "execution_count": 18,
   "id": "5ca7ae52",
   "metadata": {},
   "outputs": [
    {
     "data": {
      "text/plain": [
       "array(['Sst', 'Sst Chodl', 'Sncg', 'Vip', 'L6 CT CTX', 'L4/5 IT CTX',\n",
       "       'L5 IT CTX', 'L2/3 IT CTX', 'Lamp5', 'L5/6 NP CTX', 'Pvalb',\n",
       "       'Oligo', 'Astro', 'Micro-PVM', 'Endo', 'L6b CTX', 'CR',\n",
       "       'L6 IT CTX', 'L5 PT CTX', 'Meis2', 'VLMC', 'SMC-Peri', 'Car3'],\n",
       "      dtype=object)"
      ]
     },
     "execution_count": 18,
     "metadata": {},
     "output_type": "execute_result"
    }
   ],
   "source": [
    "testlabels['subclass_label'].unique()"
   ]
  },
  {
   "cell_type": "code",
   "execution_count": 16,
   "id": "8c7917bb",
   "metadata": {},
   "outputs": [
    {
     "data": {
      "text/plain": [
       "array(['VIP', 'LAMP5', 'IT', 'PAX6', 'Oligodendrocyte', 'Astrocyte',\n",
       "       'L5/6 IT Car3', 'L5/6 NP', 'SST', 'L6 CT', 'OPC', 'PVALB', 'L6b',\n",
       "       'Microglia', 'L5 ET', 'Pericyte', 'Endothelial', 'L4 IT', 'VLMC'],\n",
       "      dtype=object)"
      ]
     },
     "execution_count": 16,
     "metadata": {},
     "output_type": "execute_result"
    }
   ],
   "source": [
    "trainlabels['subclass_label'].unique()"
   ]
  },
  {
   "cell_type": "code",
   "execution_count": null,
   "id": "edcd0d9b",
   "metadata": {},
   "outputs": [],
   "source": [
    "# testlabels --> trainlabels \n",
    "\n",
    "mapping = {\n",
    "    'Sst': 'SST',\n",
    "    'Sst Chodl': 'SST',\n",
    "    'Sncg': 'drop',\n",
    "    'Vip': 'VIP',\n",
    "    'L6 CT CTX': 'L6 CT',\n",
    "    'L4/5 IT CTX': 'L4 IT',\n",
    "    'L5 IT CTX': 'L5/6 IT Car3',\n",
    "    'L2/3 IT CTX': 'IT',\n",
    "    'Lamp5': 'LAMP5',\n",
    "    'L5/6 NP CTX': \n",
    "}"
   ]
  },
  {
   "cell_type": "code",
   "execution_count": 14,
   "id": "7aa74d23",
   "metadata": {},
   "outputs": [
    {
     "data": {
      "text/plain": [
       "array(['L5 PT CTX', 'L5 IT CTX', 'L4/5 IT CTX', 'L6 IT CTX', 'L6 CT CTX',\n",
       "       'L5/6 NP CTX', 'Pvalb', 'Vip', 'L2/3 IT CTX', 'Lamp5', 'Sst',\n",
       "       'Oligo', 'Sst Chodl', 'Sncg', 'Car3', 'Astro', 'L6b CTX', 'Endo',\n",
       "       'L2/3 IT PPP', 'SMC-Peri', 'Meis2', 'Micro-PVM', 'VLMC', 'CR',\n",
       "       'L5/6 IT TPE-ENT', 'DG'], dtype=object)"
      ]
     },
     "execution_count": 14,
     "metadata": {},
     "output_type": "execute_result"
    }
   ],
   "source": [
    "pd.read_csv('../data/benchmark/mouse_labels/mouse_VISp_labels_clean.csv')['subclass_label'].unique()"
   ]
  },
  {
   "cell_type": "code",
   "execution_count": 19,
   "id": "8a337a47",
   "metadata": {},
   "outputs": [
    {
     "data": {
      "text/html": [
       "<div>\n",
       "<style scoped>\n",
       "    .dataframe tbody tr th:only-of-type {\n",
       "        vertical-align: middle;\n",
       "    }\n",
       "\n",
       "    .dataframe tbody tr th {\n",
       "        vertical-align: top;\n",
       "    }\n",
       "\n",
       "    .dataframe thead th {\n",
       "        text-align: right;\n",
       "    }\n",
       "</style>\n",
       "<table border=\"1\" class=\"dataframe\">\n",
       "  <thead>\n",
       "    <tr style=\"text-align: right;\">\n",
       "      <th></th>\n",
       "      <th>cell</th>\n",
       "      <th>Type</th>\n",
       "    </tr>\n",
       "  </thead>\n",
       "  <tbody>\n",
       "    <tr>\n",
       "      <th>0</th>\n",
       "      <td>0</td>\n",
       "      <td>16</td>\n",
       "    </tr>\n",
       "    <tr>\n",
       "      <th>1</th>\n",
       "      <td>1</td>\n",
       "      <td>16</td>\n",
       "    </tr>\n",
       "    <tr>\n",
       "      <th>2</th>\n",
       "      <td>2</td>\n",
       "      <td>4</td>\n",
       "    </tr>\n",
       "    <tr>\n",
       "      <th>3</th>\n",
       "      <td>3</td>\n",
       "      <td>4</td>\n",
       "    </tr>\n",
       "    <tr>\n",
       "      <th>4</th>\n",
       "      <td>4</td>\n",
       "      <td>4</td>\n",
       "    </tr>\n",
       "    <tr>\n",
       "      <th>...</th>\n",
       "      <td>...</td>\n",
       "      <td>...</td>\n",
       "    </tr>\n",
       "    <tr>\n",
       "      <th>186471</th>\n",
       "      <td>189404</td>\n",
       "      <td>9</td>\n",
       "    </tr>\n",
       "    <tr>\n",
       "      <th>186472</th>\n",
       "      <td>189405</td>\n",
       "      <td>9</td>\n",
       "    </tr>\n",
       "    <tr>\n",
       "      <th>186473</th>\n",
       "      <td>189406</td>\n",
       "      <td>4</td>\n",
       "    </tr>\n",
       "    <tr>\n",
       "      <th>186474</th>\n",
       "      <td>189407</td>\n",
       "      <td>8</td>\n",
       "    </tr>\n",
       "    <tr>\n",
       "      <th>186475</th>\n",
       "      <td>189408</td>\n",
       "      <td>4</td>\n",
       "    </tr>\n",
       "  </tbody>\n",
       "</table>\n",
       "<p>186476 rows × 2 columns</p>\n",
       "</div>"
      ],
      "text/plain": [
       "          cell  Type\n",
       "0            0    16\n",
       "1            1    16\n",
       "2            2     4\n",
       "3            3     4\n",
       "4            4     4\n",
       "...        ...   ...\n",
       "186471  189404     9\n",
       "186472  189405     9\n",
       "186473  189406     4\n",
       "186474  189407     8\n",
       "186475  189408     4\n",
       "\n",
       "[186476 rows x 2 columns]"
      ]
     },
     "execution_count": 19,
     "metadata": {},
     "output_type": "execute_result"
    }
   ],
   "source": [
    "pd.read_csv('../data/bhaduri/primary_bhaduri_labels.csv')"
   ]
  },
  {
   "cell_type": "code",
   "execution_count": 23,
   "id": "aee84ce0",
   "metadata": {},
   "outputs": [
    {
     "data": {
      "text/plain": [
       "array(['oRG', 'Layer VI Occipital', 'Newborn', 'vRG', 'early', 'Mural',\n",
       "       'IPC/newborn', 'OPC', 'Upper Layer Occipital', 'IPC-new',\n",
       "       'Cajal Retzius', 'Upper Layer', 'Layer VI Pan-area', 'Outlier',\n",
       "       'Microglia low quality', 'Low Quality', 'SST-MGE1', 'IPC-div1',\n",
       "       'PFC', 'Upper Layer PFC', 'Microglia', 'Deep Layer', 'late',\n",
       "       'Parietal and Temporal', 'IPC-div2', 'Layer IV', 'MGE2',\n",
       "       'Endothelial', 'oRG/Astrocyte', 'tRG'], dtype=object)"
      ]
     },
     "execution_count": 23,
     "metadata": {},
     "output_type": "execute_result"
    }
   ],
   "source": [
    "pd.read_csv('../data/bhaduri/primary_labels.tsv', sep='\\t')['Subtype'].unique()"
   ]
  },
  {
   "cell_type": "code",
   "execution_count": null,
   "id": "93c76f61",
   "metadata": {},
   "outputs": [],
   "source": []
  }
 ],
 "metadata": {
  "kernelspec": {
   "display_name": "sims",
   "language": "python",
   "name": "sims"
  },
  "language_info": {
   "codemirror_mode": {
    "name": "ipython",
    "version": 3
   },
   "file_extension": ".py",
   "mimetype": "text/x-python",
   "name": "python",
   "nbconvert_exporter": "python",
   "pygments_lexer": "ipython3",
   "version": "3.9.12"
  }
 },
 "nbformat": 4,
 "nbformat_minor": 5
}

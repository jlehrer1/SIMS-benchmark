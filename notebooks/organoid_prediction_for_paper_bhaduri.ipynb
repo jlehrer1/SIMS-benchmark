{
 "cells": [
  {
   "cell_type": "code",
   "execution_count": 1,
   "id": "bdf6a53e",
   "metadata": {},
   "outputs": [],
   "source": [
    "import scsims \n",
    "import pandas as pd \n",
    "import numpy as np\n",
    "import os\n",
    "import anndata as an\n",
    "from scsims import SIMS \n",
    "import scanpy as sc\n",
    "import anndata as an\n",
    "from torch.utils.data import DataLoader\n",
    "from scsims.testing import TestAnndatasetMatrix\n",
    "import torch\n",
    "from tqdm import tqdm\n",
    "from scsims import clean_sample \n",
    "import numpy as np\n",
    "import pandas as pd \n",
    "from scsims import SIMSClassifier\n",
    "from scsims.data import AnnDatasetMatrix\n",
    "import plotly.express as px \n",
    "from scsims import DataModule\n",
    "import os \n",
    "from pytorch_lightning.loggers import WandbLogger\n",
    "import pytorch_lightning as pl \n",
    "\n",
    "from bigcsv import to_h5ad\n",
    "\n",
    "class UploadCallback(pl.callbacks.Callback):\n",
    "    def __init__(\n",
    "        self, \n",
    "        path: str, \n",
    "        desc: str, \n",
    "        upload_path='model_checkpoints',\n",
    "        epochs: int=1,\n",
    "    ) -> None:\n",
    "        super().__init__()\n",
    "        self.path = path \n",
    "        self.desc = desc\n",
    "        self.upload_path = upload_path\n",
    "        self.epochs = epochs \n",
    "\n",
    "    def on_train_epoch_end(self, trainer, pl_module):\n",
    "        epoch = trainer.current_epoch\n",
    "\n",
    "        if epoch % self.epochs == 0 and epoch > 0: # Save every ten epochs\n",
    "            checkpoint = f'checkpoint-{epoch}-desc-{self.desc}.ckpt'\n",
    "            trainer.save_checkpoint(os.path.join(self.path, checkpoint))\n",
    "            print(f'Saving checkpoint at epoch {epoch}')"
   ]
  },
  {
   "cell_type": "code",
   "execution_count": 40,
   "id": "3c6b073c",
   "metadata": {},
   "outputs": [],
   "source": [
    "traindata = an.read_h5ad('../data/bhaduri/primary_T.h5ad')\n",
    "testdata = an.read_h5ad('../data/bhaduri/organoid_T.h5ad')"
   ]
  },
  {
   "cell_type": "code",
   "execution_count": 3,
   "id": "c01c7050",
   "metadata": {},
   "outputs": [],
   "source": [
    "trainlabels = pd.read_csv('../data/bhaduri/primary_labels_clean.csv')\n",
    "testlabels = pd.read_csv('../data/bhaduri/organoid_labels_clean.csv')"
   ]
  },
  {
   "cell_type": "code",
   "execution_count": 25,
   "id": "ea3b8d4b",
   "metadata": {
    "scrolled": true
   },
   "outputs": [
    {
     "data": {
      "text/html": [
       "<div>\n",
       "<style scoped>\n",
       "    .dataframe tbody tr th:only-of-type {\n",
       "        vertical-align: middle;\n",
       "    }\n",
       "\n",
       "    .dataframe tbody tr th {\n",
       "        vertical-align: top;\n",
       "    }\n",
       "\n",
       "    .dataframe thead th {\n",
       "        text-align: right;\n",
       "    }\n",
       "</style>\n",
       "<table border=\"1\" class=\"dataframe\">\n",
       "  <thead>\n",
       "    <tr style=\"text-align: right;\">\n",
       "      <th></th>\n",
       "      <th>cell</th>\n",
       "      <th>Cell</th>\n",
       "      <th>Area</th>\n",
       "      <th>Individual</th>\n",
       "      <th>Age</th>\n",
       "      <th>Class</th>\n",
       "      <th>State</th>\n",
       "      <th>Type</th>\n",
       "      <th>Subtype</th>\n",
       "      <th>Cluster</th>\n",
       "      <th>categorical_Subtype</th>\n",
       "    </tr>\n",
       "  </thead>\n",
       "  <tbody>\n",
       "    <tr>\n",
       "      <th>0</th>\n",
       "      <td>0</td>\n",
       "      <td>AAACCTGAGCTGCCCA_50646</td>\n",
       "      <td>motor</td>\n",
       "      <td>GW14</td>\n",
       "      <td>14</td>\n",
       "      <td>Non-neuronal</td>\n",
       "      <td>Non-dividing</td>\n",
       "      <td>Radial Glia</td>\n",
       "      <td>24</td>\n",
       "      <td>26</td>\n",
       "      <td>oRG</td>\n",
       "    </tr>\n",
       "    <tr>\n",
       "      <th>1</th>\n",
       "      <td>1</td>\n",
       "      <td>AAACCTGAGCTTATCG_50647</td>\n",
       "      <td>motor</td>\n",
       "      <td>GW14</td>\n",
       "      <td>14</td>\n",
       "      <td>Non-neuronal</td>\n",
       "      <td>Non-dividing</td>\n",
       "      <td>Radial Glia</td>\n",
       "      <td>24</td>\n",
       "      <td>26</td>\n",
       "      <td>oRG</td>\n",
       "    </tr>\n",
       "    <tr>\n",
       "      <th>2</th>\n",
       "      <td>2</td>\n",
       "      <td>AAACCTGAGTATGACA_50652</td>\n",
       "      <td>motor</td>\n",
       "      <td>GW14</td>\n",
       "      <td>14</td>\n",
       "      <td>Neuron</td>\n",
       "      <td>Postmitotic</td>\n",
       "      <td>Excitatory Neuron</td>\n",
       "      <td>8</td>\n",
       "      <td>15</td>\n",
       "      <td>Layer VI Occipital</td>\n",
       "    </tr>\n",
       "    <tr>\n",
       "      <th>3</th>\n",
       "      <td>3</td>\n",
       "      <td>AAACCTGAGTCGCCGT_50654</td>\n",
       "      <td>motor</td>\n",
       "      <td>GW14</td>\n",
       "      <td>14</td>\n",
       "      <td>Neuron</td>\n",
       "      <td>Postmitotic</td>\n",
       "      <td>Excitatory Neuron</td>\n",
       "      <td>13</td>\n",
       "      <td>35</td>\n",
       "      <td>Newborn</td>\n",
       "    </tr>\n",
       "    <tr>\n",
       "      <th>4</th>\n",
       "      <td>4</td>\n",
       "      <td>AAACCTGCACCAGCAC_50657</td>\n",
       "      <td>motor</td>\n",
       "      <td>GW14</td>\n",
       "      <td>14</td>\n",
       "      <td>Neuron</td>\n",
       "      <td>Postmitotic</td>\n",
       "      <td>Excitatory Neuron</td>\n",
       "      <td>8</td>\n",
       "      <td>15</td>\n",
       "      <td>Layer VI Occipital</td>\n",
       "    </tr>\n",
       "    <tr>\n",
       "      <th>...</th>\n",
       "      <td>...</td>\n",
       "      <td>...</td>\n",
       "      <td>...</td>\n",
       "      <td>...</td>\n",
       "      <td>...</td>\n",
       "      <td>...</td>\n",
       "      <td>...</td>\n",
       "      <td>...</td>\n",
       "      <td>...</td>\n",
       "      <td>...</td>\n",
       "      <td>...</td>\n",
       "    </tr>\n",
       "    <tr>\n",
       "      <th>168692</th>\n",
       "      <td>189404</td>\n",
       "      <td>CS22_CTTAACTCAGTAGAGC_6016</td>\n",
       "      <td>Occipital cortex</td>\n",
       "      <td>CS22</td>\n",
       "      <td>10</td>\n",
       "      <td>Non-neuronal</td>\n",
       "      <td>Postmitotic</td>\n",
       "      <td>Mural</td>\n",
       "      <td>12</td>\n",
       "      <td>18</td>\n",
       "      <td>Mural</td>\n",
       "    </tr>\n",
       "    <tr>\n",
       "      <th>168693</th>\n",
       "      <td>189405</td>\n",
       "      <td>CS22_GGATGTTTCGACCAGC_6380</td>\n",
       "      <td>Occipital cortex</td>\n",
       "      <td>CS22</td>\n",
       "      <td>10</td>\n",
       "      <td>Non-neuronal</td>\n",
       "      <td>Postmitotic</td>\n",
       "      <td>Mural</td>\n",
       "      <td>12</td>\n",
       "      <td>18</td>\n",
       "      <td>Mural</td>\n",
       "    </tr>\n",
       "    <tr>\n",
       "      <th>168694</th>\n",
       "      <td>189406</td>\n",
       "      <td>CS22_GCTGCTTAGCACCGTC_6308</td>\n",
       "      <td>Occipital cortex</td>\n",
       "      <td>CS22</td>\n",
       "      <td>10</td>\n",
       "      <td>Neuron</td>\n",
       "      <td>Postmitotic</td>\n",
       "      <td>Excitatory Neuron</td>\n",
       "      <td>1</td>\n",
       "      <td>27</td>\n",
       "      <td>Deep Layer</td>\n",
       "    </tr>\n",
       "    <tr>\n",
       "      <th>168695</th>\n",
       "      <td>189407</td>\n",
       "      <td>CS22_ATAGACCTCCTAGTGA_5271</td>\n",
       "      <td>Occipital cortex</td>\n",
       "      <td>CS22</td>\n",
       "      <td>10</td>\n",
       "      <td>Non-neuronal</td>\n",
       "      <td>Postmitotic</td>\n",
       "      <td>Microglia</td>\n",
       "      <td>11</td>\n",
       "      <td>39</td>\n",
       "      <td>Microglia</td>\n",
       "    </tr>\n",
       "    <tr>\n",
       "      <th>168696</th>\n",
       "      <td>189408</td>\n",
       "      <td>CS22_CCGGGATTCAAGATCC_5645</td>\n",
       "      <td>Occipital cortex</td>\n",
       "      <td>CS22</td>\n",
       "      <td>10</td>\n",
       "      <td>Neuron</td>\n",
       "      <td>Postmitotic</td>\n",
       "      <td>Excitatory Neuron</td>\n",
       "      <td>1</td>\n",
       "      <td>27</td>\n",
       "      <td>Deep Layer</td>\n",
       "    </tr>\n",
       "  </tbody>\n",
       "</table>\n",
       "<p>168697 rows × 11 columns</p>\n",
       "</div>"
      ],
      "text/plain": [
       "          cell                        Cell              Area Individual  Age  \\\n",
       "0            0      AAACCTGAGCTGCCCA_50646             motor       GW14   14   \n",
       "1            1      AAACCTGAGCTTATCG_50647             motor       GW14   14   \n",
       "2            2      AAACCTGAGTATGACA_50652             motor       GW14   14   \n",
       "3            3      AAACCTGAGTCGCCGT_50654             motor       GW14   14   \n",
       "4            4      AAACCTGCACCAGCAC_50657             motor       GW14   14   \n",
       "...        ...                         ...               ...        ...  ...   \n",
       "168692  189404  CS22_CTTAACTCAGTAGAGC_6016  Occipital cortex       CS22   10   \n",
       "168693  189405  CS22_GGATGTTTCGACCAGC_6380  Occipital cortex       CS22   10   \n",
       "168694  189406  CS22_GCTGCTTAGCACCGTC_6308  Occipital cortex       CS22   10   \n",
       "168695  189407  CS22_ATAGACCTCCTAGTGA_5271  Occipital cortex       CS22   10   \n",
       "168696  189408  CS22_CCGGGATTCAAGATCC_5645  Occipital cortex       CS22   10   \n",
       "\n",
       "               Class         State                Type  Subtype  Cluster  \\\n",
       "0       Non-neuronal  Non-dividing         Radial Glia       24       26   \n",
       "1       Non-neuronal  Non-dividing         Radial Glia       24       26   \n",
       "2             Neuron   Postmitotic  Excitatory Neuron         8       15   \n",
       "3             Neuron   Postmitotic  Excitatory Neuron        13       35   \n",
       "4             Neuron   Postmitotic  Excitatory Neuron         8       15   \n",
       "...              ...           ...                 ...      ...      ...   \n",
       "168692  Non-neuronal   Postmitotic               Mural       12       18   \n",
       "168693  Non-neuronal   Postmitotic               Mural       12       18   \n",
       "168694        Neuron   Postmitotic  Excitatory Neuron         1       27   \n",
       "168695  Non-neuronal   Postmitotic           Microglia       11       39   \n",
       "168696        Neuron   Postmitotic  Excitatory Neuron         1       27   \n",
       "\n",
       "       categorical_Subtype  \n",
       "0                      oRG  \n",
       "1                      oRG  \n",
       "2       Layer VI Occipital  \n",
       "3                  Newborn  \n",
       "4       Layer VI Occipital  \n",
       "...                    ...  \n",
       "168692               Mural  \n",
       "168693               Mural  \n",
       "168694          Deep Layer  \n",
       "168695           Microglia  \n",
       "168696          Deep Layer  \n",
       "\n",
       "[168697 rows x 11 columns]"
      ]
     },
     "execution_count": 25,
     "metadata": {},
     "output_type": "execute_result"
    }
   ],
   "source": [
    "trainlabels"
   ]
  },
  {
   "cell_type": "code",
   "execution_count": 21,
   "id": "b210ec98",
   "metadata": {
    "scrolled": true
   },
   "outputs": [
    {
     "data": {
      "text/plain": [
       "array(['panRG', 'hindbrainRG', 'earlyRG', 'hindbrainAstrocyte',\n",
       "       'MatureIPC', 'Newborn', 'panNeuron', 'glycolyticneurons',\n",
       "       'glycolyticRG', 'lowquality', 'UpperLayer', 'Astrocyte',\n",
       "       'DeepLayer', 'Unknown', 'Interneuron', 'Outlier'], dtype=object)"
      ]
     },
     "execution_count": 21,
     "metadata": {},
     "output_type": "execute_result"
    }
   ],
   "source": [
    "testlabels['Subtype'].unique()"
   ]
  },
  {
   "cell_type": "code",
   "execution_count": 18,
   "id": "6a0ac39f",
   "metadata": {},
   "outputs": [
    {
     "data": {
      "text/plain": [
       "array(['oRG', 'Layer VI Occipital', 'Newborn', 'vRG', 'early', 'Mural',\n",
       "       'IPC/newborn', 'OPC', 'Upper Layer Occipital', 'IPC-new',\n",
       "       'Cajal Retzius', 'Upper Layer', 'Layer VI Pan-area', 'Outlier',\n",
       "       'SST-MGE1', 'IPC-div1', 'PFC', 'Upper Layer PFC', 'Microglia',\n",
       "       'Deep Layer', 'late', 'Parietal and Temporal', 'IPC-div2',\n",
       "       'Layer IV', 'MGE2', 'Endothelial', 'oRG/Astrocyte', 'tRG'],\n",
       "      dtype=object)"
      ]
     },
     "execution_count": 18,
     "metadata": {},
     "output_type": "execute_result"
    }
   ],
   "source": [
    "trainlabels['categorical_Subtype'].unique()"
   ]
  },
  {
   "cell_type": "code",
   "execution_count": 125,
   "id": "94ac0261",
   "metadata": {
    "scrolled": true
   },
   "outputs": [],
   "source": [
    "# Nothing should map to microglia or endothelial\n",
    "mapping = {\n",
    "    'panRG': ['oRG', 'tRG', 'oRG/Astrocyte', 'vRG'],\n",
    "    'hindbrainRG': ['oRG', 'tRG', 'oRG/Astrocyte', 'vRG'],\n",
    "    'earlyRG': ['oRG', 'tRG', 'oRG/Astrocyte', 'vRG'],\n",
    "    'hindbrainAstrocyte': ['oRG', 'tRG', 'oRG/Astrocyte', 'vRG'],\n",
    "    'MatureIPC': ['IPC/newborn', 'IPC-new', 'IPC-div1', 'IPC-div2'],\n",
    "    'Newborn': ['Newborn', 'IPC/newborn', 'early', 'Upper Layer', 'Upper Layer Occipital'],\n",
    "    'panNeuron': [\n",
    "        'Layer VI Occipital', 'early', \n",
    "        'Upper Layer Occipital', 'Layer VI Pan-area', \n",
    "        'Upper Layer', 'Upper Layer PFC', \n",
    "        'PFC', 'Deep Layer', 'Parietal and Temporal', 'Newborn', 'IPC/newborn'\n",
    "    ],\n",
    "    'glycolyticneurons': [ # look at these \n",
    "        'Layer VI Occipital', 'early', \n",
    "        'Upper Layer Occipital', 'Layer VI Pan-area', \n",
    "        'Upper Layer', 'Upper Layer PFC', \n",
    "        'PFC', 'Deep Layer', 'Parietal and Temporal', 'Newborn', 'IPC/newborn'\n",
    "    ],\n",
    "    'glycolyticRG': ['oRG', 'tRG', 'oRG/Astrocyte', 'vRG'],\n",
    "    'lowquality': ['oRG', 'Layer VI Occipital', 'Newborn', 'vRG', 'early', 'Mural',\n",
    "       'IPC/newborn', 'OPC', 'Upper Layer Occipital', 'IPC-new',\n",
    "       'Cajal Retzius', 'Upper Layer', 'Layer VI Pan-area', 'Outlier',\n",
    "       'SST-MGE1', 'IPC-div1', 'PFC', 'Upper Layer PFC', 'Microglia',\n",
    "       'Deep Layer', 'late', 'Parietal and Temporal', 'IPC-div2',\n",
    "       'Layer IV', 'MGE2', 'Endothelial', 'oRG/Astrocyte', 'tRG'], # could be anywhere\n",
    "    'Interneuron': ['SST-MGE1', 'MGE2'],\n",
    "    'UpperLayer': ['Upper Layer Occipital', 'Upper Layer', 'Upper Layer PFC', 'Layer IV'],\n",
    "    'Astrocyte': ['oRG', 'tRG', 'oRG/Astrocyte', 'vRG'],\n",
    "    'DeepLayer': ['Layer VI Occipital', 'Layer VI Pan-area', 'Deep Layer', 'late', 'Parietal and Temporal'],\n",
    "    'Unknown': ['oRG', 'Layer VI Occipital', 'Newborn', 'vRG', 'early', 'Mural',\n",
    "       'IPC/newborn', 'OPC', 'Upper Layer Occipital', 'IPC-new',\n",
    "       'Cajal Retzius', 'Upper Layer', 'Layer VI Pan-area', 'Outlier',\n",
    "       'SST-MGE1', 'IPC-div1', 'PFC', 'Upper Layer PFC', 'Microglia',\n",
    "       'Deep Layer', 'late', 'Parietal and Temporal', 'IPC-div2',\n",
    "       'Layer IV', 'MGE2', 'Endothelial', 'oRG/Astrocyte', 'tRG'], # could be anywhere\n",
    "    'Interneuron': ['SST-MGE1', 'MGE2'],\n",
    "    'Outlier': ['oRG', 'Layer VI Occipital', 'Newborn', 'vRG', 'early', 'Mural',\n",
    "       'IPC/newborn', 'OPC', 'Upper Layer Occipital', 'IPC-new',\n",
    "       'Cajal Retzius', 'Upper Layer', 'Layer VI Pan-area', 'Outlier',\n",
    "       'SST-MGE1', 'IPC-div1', 'PFC', 'Upper Layer PFC', 'Microglia',\n",
    "       'Deep Layer', 'late', 'Parietal and Temporal', 'IPC-div2',\n",
    "       'Layer IV', 'MGE2', 'Endothelial', 'oRG/Astrocyte', 'tRG']\n",
    "}"
   ]
  },
  {
   "cell_type": "code",
   "execution_count": 126,
   "id": "242c5b66",
   "metadata": {},
   "outputs": [],
   "source": [
    "for f in mapping.values():\n",
    "    for k in f:\n",
    "        if k not in trainlabels['categorical_Subtype'].unique():\n",
    "            print(k)"
   ]
  },
  {
   "cell_type": "markdown",
   "id": "1d5c13a5",
   "metadata": {},
   "source": [
    "Now let's train the model and run inference"
   ]
  },
  {
   "cell_type": "code",
   "execution_count": 26,
   "id": "382d731d",
   "metadata": {
    "scrolled": true
   },
   "outputs": [
    {
     "name": "stdout",
     "output_type": "stream",
     "text": [
      "Labels are non-numeric, using sklearn.preprocessing.LabelEncoder to encode.\n",
      "Transforming labelfile 1/1\n",
      "Creating train/val/test DataLoaders...\n",
      "Done, continuing to training.\n",
      "Calculating weights\n"
     ]
    },
    {
     "name": "stderr",
     "output_type": "stream",
     "text": [
      "\u001b[34m\u001b[1mwandb\u001b[0m: Currently logged in as: \u001b[33mjlehrer1\u001b[0m. Use \u001b[1m`wandb login --relogin`\u001b[0m to force relogin\n"
     ]
    },
    {
     "data": {
      "text/html": [
       "wandb version 0.13.3 is available!  To upgrade, please run:\n",
       " $ pip install wandb --upgrade"
      ],
      "text/plain": [
       "<IPython.core.display.HTML object>"
      ]
     },
     "metadata": {},
     "output_type": "display_data"
    },
    {
     "data": {
      "text/html": [
       "Tracking run with wandb version 0.12.16"
      ],
      "text/plain": [
       "<IPython.core.display.HTML object>"
      ]
     },
     "metadata": {},
     "output_type": "display_data"
    },
    {
     "data": {
      "text/html": [
       "Run data is saved locally in <code>/Users/julian/Documents/Projects/scanvi_benchmark/notebooks/wandb/run-20220909_165949-omk6ms22</code>"
      ],
      "text/plain": [
       "<IPython.core.display.HTML object>"
      ]
     },
     "metadata": {},
     "output_type": "display_data"
    },
    {
     "data": {
      "text/html": [
       "Syncing run <strong><a href=\"https://wandb.ai/jlehrer1/Bhaduri%20human%20organoid%20model/runs/omk6ms22\" target=\"_blank\">helpful-dust-1</a></strong> to <a href=\"https://wandb.ai/jlehrer1/Bhaduri%20human%20organoid%20model\" target=\"_blank\">Weights & Biases</a> (<a href=\"https://wandb.me/run\" target=\"_blank\">docs</a>)<br/>"
      ],
      "text/plain": [
       "<IPython.core.display.HTML object>"
      ]
     },
     "metadata": {},
     "output_type": "display_data"
    },
    {
     "name": "stderr",
     "output_type": "stream",
     "text": [
      "/Users/julian/miniconda3/envs/sims/lib/python3.9/site-packages/pytorch_lightning/trainer/connectors/callback_connector.py:64: LightningDeprecationWarning: Setting `Trainer(stochastic_weight_avg=True)` is deprecated in v1.5 and will be removed in v1.7. Please pass `pytorch_lightning.callbacks.stochastic_weight_avg.StochasticWeightAveraging` directly to the Trainer's `callbacks` argument instead.\n",
      "  rank_zero_deprecation(\n",
      "GPU available: False, used: False\n",
      "TPU available: False, using: 0 TPU cores\n",
      "IPU available: False, using: 0 IPUs\n",
      "HPU available: False, using: 0 HPUs\n"
     ]
    },
    {
     "name": "stdout",
     "output_type": "stream",
     "text": [
      "Initializing network\n",
      "Initializing explain matrix\n",
      "Input dim and output dim are 16507 / 28\n",
      "Creating train/val/test DataLoaders...\n",
      "Done, continuing to training.\n",
      "Calculating weights\n"
     ]
    },
    {
     "name": "stderr",
     "output_type": "stream",
     "text": [
      "\n",
      "  | Name    | Type   | Params\n",
      "-----------------------------------\n",
      "0 | network | TabNet | 1.1 M \n",
      "-----------------------------------\n",
      "1.1 M     Trainable params\n",
      "0         Non-trainable params\n",
      "1.1 M     Total params\n",
      "4.381     Total estimated model params size (MB)\n"
     ]
    },
    {
     "data": {
      "application/vnd.jupyter.widget-view+json": {
       "model_id": "",
       "version_major": 2,
       "version_minor": 0
      },
      "text/plain": [
       "Sanity Checking: 0it [00:00, ?it/s]"
      ]
     },
     "metadata": {},
     "output_type": "display_data"
    },
    {
     "name": "stderr",
     "output_type": "stream",
     "text": [
      "/Users/julian/miniconda3/envs/sims/lib/python3.9/site-packages/pytorch_lightning/trainer/connectors/data_connector.py:240: PossibleUserWarning: The dataloader, val_dataloader 0, does not have many workers which may be a bottleneck. Consider increasing the value of the `num_workers` argument` (try 10 which is the number of cpus on this machine) in the `DataLoader` init to improve performance.\n",
      "  rank_zero_warn(\n",
      "/Users/julian/miniconda3/envs/sims/lib/python3.9/site-packages/torchmetrics/utilities/prints.py:36: UserWarning: No positive samples in targets, true positive value should be meaningless. Returning zero tensor in true positive score\n",
      "  warnings.warn(*args, **kwargs)\n",
      "/Users/julian/miniconda3/envs/sims/lib/python3.9/site-packages/scsims/model.py:207: RuntimeWarning: invalid value encountered in true_divide\n",
      "  precision = tp / (tp + fp)\n",
      "/Users/julian/miniconda3/envs/sims/lib/python3.9/site-packages/scsims/model.py:208: RuntimeWarning: invalid value encountered in true_divide\n",
      "  recall = tp / (tp + fn)\n",
      "/Users/julian/miniconda3/envs/sims/lib/python3.9/site-packages/scsims/model.py:209: RuntimeWarning: invalid value encountered in true_divide\n",
      "  f1s = 2*(precision * recall) / (precision + recall)\n",
      "/Users/julian/miniconda3/envs/sims/lib/python3.9/site-packages/pytorch_lightning/trainer/connectors/data_connector.py:240: PossibleUserWarning: The dataloader, train_dataloader, does not have many workers which may be a bottleneck. Consider increasing the value of the `num_workers` argument` (try 10 which is the number of cpus on this machine) in the `DataLoader` init to improve performance.\n",
      "  rank_zero_warn(\n"
     ]
    },
    {
     "data": {
      "application/vnd.jupyter.widget-view+json": {
       "model_id": "c471648c564440e3be90fcd55dcbcb0f",
       "version_major": 2,
       "version_minor": 0
      },
      "text/plain": [
       "Training: 0it [00:00, ?it/s]"
      ]
     },
     "metadata": {},
     "output_type": "display_data"
    },
    {
     "data": {
      "application/vnd.jupyter.widget-view+json": {
       "model_id": "",
       "version_major": 2,
       "version_minor": 0
      },
      "text/plain": [
       "Validation: 0it [00:00, ?it/s]"
      ]
     },
     "metadata": {},
     "output_type": "display_data"
    },
    {
     "data": {
      "application/vnd.jupyter.widget-view+json": {
       "model_id": "",
       "version_major": 2,
       "version_minor": 0
      },
      "text/plain": [
       "Validation: 0it [00:00, ?it/s]"
      ]
     },
     "metadata": {},
     "output_type": "display_data"
    },
    {
     "name": "stdout",
     "output_type": "stream",
     "text": [
      "Saving checkpoint at epoch 1\n"
     ]
    },
    {
     "data": {
      "application/vnd.jupyter.widget-view+json": {
       "model_id": "",
       "version_major": 2,
       "version_minor": 0
      },
      "text/plain": [
       "Validation: 0it [00:00, ?it/s]"
      ]
     },
     "metadata": {},
     "output_type": "display_data"
    },
    {
     "name": "stdout",
     "output_type": "stream",
     "text": [
      "Saving checkpoint at epoch 2\n"
     ]
    },
    {
     "data": {
      "application/vnd.jupyter.widget-view+json": {
       "model_id": "",
       "version_major": 2,
       "version_minor": 0
      },
      "text/plain": [
       "Validation: 0it [00:00, ?it/s]"
      ]
     },
     "metadata": {},
     "output_type": "display_data"
    },
    {
     "name": "stdout",
     "output_type": "stream",
     "text": [
      "Saving checkpoint at epoch 3\n"
     ]
    },
    {
     "data": {
      "application/vnd.jupyter.widget-view+json": {
       "model_id": "",
       "version_major": 2,
       "version_minor": 0
      },
      "text/plain": [
       "Validation: 0it [00:00, ?it/s]"
      ]
     },
     "metadata": {},
     "output_type": "display_data"
    },
    {
     "name": "stdout",
     "output_type": "stream",
     "text": [
      "Saving checkpoint at epoch 4\n"
     ]
    },
    {
     "data": {
      "application/vnd.jupyter.widget-view+json": {
       "model_id": "",
       "version_major": 2,
       "version_minor": 0
      },
      "text/plain": [
       "Validation: 0it [00:00, ?it/s]"
      ]
     },
     "metadata": {},
     "output_type": "display_data"
    },
    {
     "name": "stdout",
     "output_type": "stream",
     "text": [
      "Saving checkpoint at epoch 5\n"
     ]
    },
    {
     "data": {
      "application/vnd.jupyter.widget-view+json": {
       "model_id": "",
       "version_major": 2,
       "version_minor": 0
      },
      "text/plain": [
       "Validation: 0it [00:00, ?it/s]"
      ]
     },
     "metadata": {},
     "output_type": "display_data"
    },
    {
     "name": "stdout",
     "output_type": "stream",
     "text": [
      "Saving checkpoint at epoch 6\n"
     ]
    },
    {
     "data": {
      "application/vnd.jupyter.widget-view+json": {
       "model_id": "",
       "version_major": 2,
       "version_minor": 0
      },
      "text/plain": [
       "Validation: 0it [00:00, ?it/s]"
      ]
     },
     "metadata": {},
     "output_type": "display_data"
    },
    {
     "name": "stdout",
     "output_type": "stream",
     "text": [
      "Saving checkpoint at epoch 7\n"
     ]
    },
    {
     "data": {
      "application/vnd.jupyter.widget-view+json": {
       "model_id": "",
       "version_major": 2,
       "version_minor": 0
      },
      "text/plain": [
       "Validation: 0it [00:00, ?it/s]"
      ]
     },
     "metadata": {},
     "output_type": "display_data"
    },
    {
     "name": "stdout",
     "output_type": "stream",
     "text": [
      "Saving checkpoint at epoch 8\n"
     ]
    }
   ],
   "source": [
    "testgenes = [x.split('|')[0].upper() for x in testdata.var['index']]\n",
    "traingenes = [x.upper() for x in traindata.var['index']]\n",
    "\n",
    "combined_genes = list(set(testgenes).intersection(traingenes))\n",
    "    \n",
    "module = DataModule(\n",
    "    datafiles=['../data/bhaduri/primary_T.h5ad'],\n",
    "    labelfiles=['../data/bhaduri/primary_labels_clean.csv'],\n",
    "    class_label='categorical_Subtype',\n",
    "    index_col='cell',\n",
    "    batch_size=16,\n",
    "    num_workers=0,\n",
    "    deterministic=True,\n",
    "    normalize=True,\n",
    "    currgenes=traingenesews,\n",
    "    refgenes=combined_genes,\n",
    ")\n",
    "\n",
    "module.prepare_data()\n",
    "module.setup()\n",
    "\n",
    "wandb_logger = WandbLogger(\n",
    "    project=f\"Bhaduri human organoid model\",\n",
    ")\n",
    "\n",
    "lr_callback = pl.callbacks.LearningRateMonitor(logging_interval='epoch')\n",
    "\n",
    "upload_callback = UploadCallback(\n",
    "    path='checkpoints',\n",
    "    desc=f'local_bhaduri_human_organoid'\n",
    ")\n",
    "\n",
    "early_stopping_callback = pl.callbacks.EarlyStopping(\n",
    "    monitor='val_loss',\n",
    "    patience=6,\n",
    ")\n",
    "\n",
    "trainer = pl.Trainer(\n",
    "    gpus=(1 if torch.cuda.is_available() else 0),\n",
    "    auto_lr_find=False,\n",
    "    logger=wandb_logger,\n",
    "    max_epochs=500,\n",
    "    gradient_clip_val=0.5,\n",
    "    callbacks=[\n",
    "        lr_callback, \n",
    "        upload_callback,\n",
    "        early_stopping_callback,\n",
    "    ],\n",
    "    stochastic_weight_avg=True,\n",
    ")\n",
    "\n",
    "\n",
    "model = SIMSClassifier(\n",
    "    input_dim=module.num_features,\n",
    "    output_dim=module.num_labels,\n",
    "    weights=module.weights,\n",
    ")\n",
    "\n",
    "print(f'Input dim and output dim are {module.num_features} / {module.num_labels}')\n",
    "\n",
    "trainer.fit(model, datamodule=module)"
   ]
  },
  {
   "cell_type": "code",
   "execution_count": 113,
   "id": "1413abc4",
   "metadata": {
    "scrolled": true
   },
   "outputs": [],
   "source": [
    "from scsims.data import CollateLoader \n",
    "from scsims.testing import TestAnndatasetMatrix\n",
    "\n",
    "\n",
    "testdataset = TestAnndatasetMatrix(\n",
    "    testdata.X,\n",
    ")\n",
    "\n",
    "testloader = CollateLoader(\n",
    "    dataset=testdataset, \n",
    "    batch_size=64, \n",
    "    num_workers=0, \n",
    "    refgenes=combined_genes, \n",
    "    currgenes=testgenes,\n",
    "    normalize=True,\n",
    ")"
   ]
  },
  {
   "cell_type": "code",
   "execution_count": 116,
   "id": "0f5aecd4",
   "metadata": {},
   "outputs": [
    {
     "name": "stderr",
     "output_type": "stream",
     "text": [
      "100%|██████████████████████████████████████████████████████████████████████████████████████████████████████████████████████████████████| 3674/3674 [08:08<00:00,  7.52it/s]\n"
     ]
    }
   ],
   "source": [
    "from functools import partial\n",
    "tqdm = partial(tqdm, position=0, leave=True)\n",
    "\n",
    "preds = []\n",
    "\n",
    "model.eval()\n",
    "with torch.no_grad():\n",
    "    for X in tqdm(testloader):\n",
    "        res, _ = model(X)\n",
    "        \n",
    "        _, top_preds = res.topk(3, axis=1) # to get indices\n",
    "        preds.extend(top_preds.numpy())"
   ]
  },
  {
   "cell_type": "code",
   "execution_count": 117,
   "id": "96b646a0",
   "metadata": {},
   "outputs": [],
   "source": [
    "preds = pd.DataFrame(preds)"
   ]
  },
  {
   "cell_type": "code",
   "execution_count": 41,
   "id": "6c26886b",
   "metadata": {
    "scrolled": true
   },
   "outputs": [],
   "source": [
    "traindata = traindata[trainlabels['cell'].values, :]"
   ]
  },
  {
   "cell_type": "code",
   "execution_count": 43,
   "id": "264ce17f",
   "metadata": {},
   "outputs": [],
   "source": [
    "traindata = traindata.copy()"
   ]
  },
  {
   "cell_type": "code",
   "execution_count": 50,
   "id": "842df51d",
   "metadata": {
    "scrolled": true
   },
   "outputs": [],
   "source": [
    "testlabels = testlabels.set_index('V1')\n",
    "testdata.obs = testdata.obs.join(testlabels)"
   ]
  },
  {
   "cell_type": "code",
   "execution_count": 58,
   "id": "5aed5ecc",
   "metadata": {},
   "outputs": [],
   "source": [
    "trainlabels = trainlabels.set_index('Cell')\n",
    "\n",
    "traindata.obs = traindata.obs.join(trainlabels)"
   ]
  },
  {
   "cell_type": "code",
   "execution_count": 118,
   "id": "90c9b3bb",
   "metadata": {
    "scrolled": true
   },
   "outputs": [],
   "source": [
    "from sklearn.preprocessing import LabelEncoder\n",
    "\n",
    "le = LabelEncoder().fit(traindata.obs['categorical_Subtype'])\n",
    "\n",
    "testdata.obs['predicted'] = preds.loc[:, 0].values\n",
    "testdata.obs['predicted_str'] = module.label_encoder.inverse_transform(testdata.obs['predicted'])"
   ]
  },
  {
   "cell_type": "code",
   "execution_count": 119,
   "id": "3133e8f9",
   "metadata": {
    "scrolled": true
   },
   "outputs": [
    {
     "data": {
      "text/plain": [
       "76160"
      ]
     },
     "execution_count": 119,
     "metadata": {},
     "output_type": "execute_result"
    }
   ],
   "source": [
    "acc = 0\n",
    "for truth, pred in zip(testdata.obs[\"Subtype\"], testdata.obs[\"predicted_str\"]):\n",
    "    options = mapping[truth]\n",
    "    if pred in options:\n",
    "        acc += 1\n",
    "\n",
    "acc"
   ]
  },
  {
   "cell_type": "code",
   "execution_count": 120,
   "id": "5f0a08ae",
   "metadata": {
    "scrolled": false
   },
   "outputs": [
    {
     "data": {
      "text/plain": [
       "panRG                 69272\n",
       "panNeuron             46665\n",
       "lowquality            25224\n",
       "glycolyticRG          19798\n",
       "glycolyticneurons     16344\n",
       "Newborn               14757\n",
       "UpperLayer            12406\n",
       "hindbrainRG            7670\n",
       "earlyRG                5800\n",
       "DeepLayer              4585\n",
       "hindbrainAstrocyte     3565\n",
       "MatureIPC              2210\n",
       "Outlier                2160\n",
       "Astrocyte              1873\n",
       "Interneuron            1662\n",
       "Unknown                1130\n",
       "Name: Subtype, dtype: int64"
      ]
     },
     "execution_count": 120,
     "metadata": {},
     "output_type": "execute_result"
    }
   ],
   "source": [
    "testdata.obs['Subtype'].value_counts()"
   ]
  },
  {
   "cell_type": "code",
   "execution_count": 109,
   "id": "39891d64",
   "metadata": {},
   "outputs": [
    {
     "data": {
      "text/plain": [
       "LabelEncoder()"
      ]
     },
     "execution_count": 109,
     "metadata": {},
     "output_type": "execute_result"
    }
   ],
   "source": [
    "module.label_encoder"
   ]
  },
  {
   "cell_type": "code",
   "execution_count": 98,
   "id": "e58af8a5",
   "metadata": {},
   "outputs": [],
   "source": [
    "testdata.obs = testdata.obs.reset_index(drop=False)"
   ]
  },
  {
   "cell_type": "code",
   "execution_count": 127,
   "id": "a41601cc",
   "metadata": {
    "scrolled": true
   },
   "outputs": [
    {
     "name": "stdout",
     "output_type": "stream",
     "text": [
      "Accuracy for panRG is 36.77098972167687\n",
      "Accuracy for hindbrainRG is 34.485006518904825\n",
      "Accuracy for earlyRG is 31.06896551724138\n",
      "Accuracy for hindbrainAstrocyte is 29.957924263674613\n",
      "Accuracy for MatureIPC is 3.619909502262444\n",
      "Accuracy for Newborn is 6.173341465067426\n",
      "Accuracy for panNeuron is 59.71070395371263\n",
      "Accuracy for glycolyticneurons is 32.74596182085169\n",
      "Accuracy for glycolyticRG is 17.875542984139813\n",
      "Accuracy for lowquality is 100.0\n",
      "Accuracy for UpperLayer is 13.872319845236175\n",
      "Accuracy for Astrocyte is 29.578216764548852\n",
      "Accuracy for DeepLayer is 36.205016357688116\n",
      "Accuracy for Unknown is 100.0\n",
      "Accuracy for Interneuron is 16.365824308062578\n",
      "Accuracy for Outlier is 100.0\n"
     ]
    },
    {
     "name": "stderr",
     "output_type": "stream",
     "text": [
      "Exception in thread ChkStopThr:\n",
      "Traceback (most recent call last):\n",
      "  File \"/Users/julian/miniconda3/envs/sims/lib/python3.9/threading.py\", line 973, in _bootstrap_inner\n",
      "    self.run()\n",
      "  File \"/Users/julian/miniconda3/envs/sims/lib/python3.9/threading.py\", line 910, in run\n",
      "    self._target(*self._args, **self._kwargs)\n",
      "  File \"/Users/julian/miniconda3/envs/sims/lib/python3.9/site-packages/wandb/sdk/wandb_run.py\", line 170, in check_status\n",
      "    status_response = self._interface.communicate_stop_status()\n",
      "  File \"/Users/julian/miniconda3/envs/sims/lib/python3.9/site-packages/wandb/sdk/interface/interface.py\", line 127, in communicate_stop_status\n",
      "    resp = self._communicate_stop_status(status)\n",
      "  File \"/Users/julian/miniconda3/envs/sims/lib/python3.9/site-packages/wandb/sdk/interface/interface_sock.py\", line 69, in _communicate_stop_status\n",
      "    data = super()._communicate_stop_status(status)\n",
      "  File \"/Users/julian/miniconda3/envs/sims/lib/python3.9/site-packages/wandb/sdk/interface/interface_shared.py\", line 395, in _communicate_stop_status\n",
      "    resp = self._communicate(req, local=True)\n",
      "  File \"/Users/julian/miniconda3/envs/sims/lib/python3.9/site-packages/wandb/sdk/interface/interface_shared.py\", line 226, in _communicate\n",
      "    return self._communicate_async(rec, local=local).get(timeout=timeout)\n",
      "  File \"/Users/julian/miniconda3/envs/sims/lib/python3.9/site-packages/wandb/sdk/interface/interface_sock.py\", line 58, in _communicate_async\n",
      "    future = self._router.send_and_receive(rec, local=local)\n",
      "  File \"/Users/julian/miniconda3/envs/sims/lib/python3.9/site-packages/wandb/sdk/interface/router.py\", line 93, in send_and_receive\n",
      "    self._send_message(rec)\n",
      "  File \"/Users/julian/miniconda3/envs/sims/lib/python3.9/site-packages/wandb/sdk/interface/router_sock.py\", line 35, in _send_message\n",
      "    self._sock_client.send_record_communicate(record)\n",
      "  File \"/Users/julian/miniconda3/envs/sims/lib/python3.9/site-packages/wandb/sdk/lib/sock_client.py\", line 118, in send_record_communicate\n",
      "    self.send_server_request(server_req)\n",
      "  File \"/Users/julian/miniconda3/envs/sims/lib/python3.9/site-packages/wandb/sdk/lib/sock_client.py\", line 57, in send_server_request\n",
      "    self._send_message(msg)\n",
      "  File \"/Users/julian/miniconda3/envs/sims/lib/python3.9/site-packages/wandb/sdk/lib/sock_client.py\", line 54, in _send_message\n",
      "    self._sock.sendall(header + data)\n",
      "socket.timeout: timed out\n",
      "Exception in thread NetStatThr:\n",
      "Traceback (most recent call last):\n",
      "  File \"/Users/julian/miniconda3/envs/sims/lib/python3.9/threading.py\", line 973, in _bootstrap_inner\n",
      "    self.run()\n",
      "  File \"/Users/julian/miniconda3/envs/sims/lib/python3.9/threading.py\", line 910, in run\n",
      "    self._target(*self._args, **self._kwargs)\n",
      "  File \"/Users/julian/miniconda3/envs/sims/lib/python3.9/site-packages/wandb/sdk/wandb_run.py\", line 152, in check_network_status\n",
      "    status_response = self._interface.communicate_network_status()\n",
      "  File \"/Users/julian/miniconda3/envs/sims/lib/python3.9/site-packages/wandb/sdk/interface/interface.py\", line 138, in communicate_network_status\n",
      "    resp = self._communicate_network_status(status)\n",
      "  File \"/Users/julian/miniconda3/envs/sims/lib/python3.9/site-packages/wandb/sdk/interface/interface_sock.py\", line 82, in _communicate_network_status\n",
      "    data = super()._communicate_network_status(status)\n",
      "  File \"/Users/julian/miniconda3/envs/sims/lib/python3.9/site-packages/wandb/sdk/interface/interface_shared.py\", line 405, in _communicate_network_status\n",
      "    resp = self._communicate(req, local=True)\n",
      "  File \"/Users/julian/miniconda3/envs/sims/lib/python3.9/site-packages/wandb/sdk/interface/interface_shared.py\", line 226, in _communicate\n",
      "    return self._communicate_async(rec, local=local).get(timeout=timeout)\n",
      "  File \"/Users/julian/miniconda3/envs/sims/lib/python3.9/site-packages/wandb/sdk/interface/interface_sock.py\", line 58, in _communicate_async\n",
      "    future = self._router.send_and_receive(rec, local=local)\n",
      "  File \"/Users/julian/miniconda3/envs/sims/lib/python3.9/site-packages/wandb/sdk/interface/router.py\", line 93, in send_and_receive\n",
      "    self._send_message(rec)\n",
      "  File \"/Users/julian/miniconda3/envs/sims/lib/python3.9/site-packages/wandb/sdk/interface/router_sock.py\", line 35, in _send_message\n",
      "    self._sock_client.send_record_communicate(record)\n",
      "  File \"/Users/julian/miniconda3/envs/sims/lib/python3.9/site-packages/wandb/sdk/lib/sock_client.py\", line 118, in send_record_communicate\n",
      "    self.send_server_request(server_req)\n",
      "  File \"/Users/julian/miniconda3/envs/sims/lib/python3.9/site-packages/wandb/sdk/lib/sock_client.py\", line 57, in send_server_request\n",
      "    self._send_message(msg)\n",
      "  File \"/Users/julian/miniconda3/envs/sims/lib/python3.9/site-packages/wandb/sdk/lib/sock_client.py\", line 54, in _send_message\n",
      "    self._sock.sendall(header + data)\n",
      "socket.timeout: timed out\n"
     ]
    }
   ],
   "source": [
    "for label in testdata.obs['Subtype'].unique():\n",
    "    t = testdata[\n",
    "        testdata.obs[testdata.obs['Subtype'] == label].index\n",
    "    ]\n",
    "    \n",
    "    acc = 0\n",
    "    for truth, pred in zip(t.obs[\"Subtype\"], t.obs[\"predicted_str\"]):\n",
    "        options = mapping[truth]\n",
    "        if pred in options:\n",
    "            acc += 1\n",
    "\n",
    "    print(f'Accuracy for {label} is {acc / len(t) * 100}')"
   ]
  },
  {
   "cell_type": "code",
   "execution_count": 101,
   "id": "4604d0cf",
   "metadata": {
    "scrolled": true
   },
   "outputs": [
    {
     "data": {
      "text/html": [
       "<div>\n",
       "<style scoped>\n",
       "    .dataframe tbody tr th:only-of-type {\n",
       "        vertical-align: middle;\n",
       "    }\n",
       "\n",
       "    .dataframe tbody tr th {\n",
       "        vertical-align: top;\n",
       "    }\n",
       "\n",
       "    .dataframe thead th {\n",
       "        text-align: right;\n",
       "    }\n",
       "</style>\n",
       "<table border=\"1\" class=\"dataframe\">\n",
       "  <thead>\n",
       "    <tr style=\"text-align: right;\">\n",
       "      <th></th>\n",
       "      <th>index</th>\n",
       "      <th>Cluster</th>\n",
       "      <th>Sample</th>\n",
       "      <th>Line</th>\n",
       "      <th>Protocol</th>\n",
       "      <th>Age</th>\n",
       "      <th>iPSCorhESC</th>\n",
       "      <th>Class</th>\n",
       "      <th>State</th>\n",
       "      <th>Type</th>\n",
       "      <th>Subtype</th>\n",
       "      <th>predicted</th>\n",
       "      <th>predicted_str</th>\n",
       "    </tr>\n",
       "  </thead>\n",
       "  <tbody>\n",
       "    <tr>\n",
       "      <th>0</th>\n",
       "      <td>H1SWeek3_AAACCTGAGACAAAGG</td>\n",
       "      <td>29</td>\n",
       "      <td>H1SWeek3</td>\n",
       "      <td>H1</td>\n",
       "      <td>Less Directed</td>\n",
       "      <td>3</td>\n",
       "      <td>hESC</td>\n",
       "      <td>Nonneuronal</td>\n",
       "      <td>Dividing</td>\n",
       "      <td>RadialGlia</td>\n",
       "      <td>panRG</td>\n",
       "      <td>23</td>\n",
       "      <td>late</td>\n",
       "    </tr>\n",
       "    <tr>\n",
       "      <th>1</th>\n",
       "      <td>H1SWeek3_AAACCTGAGCACACAG</td>\n",
       "      <td>5</td>\n",
       "      <td>H1SWeek3</td>\n",
       "      <td>H1</td>\n",
       "      <td>Less Directed</td>\n",
       "      <td>3</td>\n",
       "      <td>hESC</td>\n",
       "      <td>Nonneuronal</td>\n",
       "      <td>Dividing</td>\n",
       "      <td>RadialGlia</td>\n",
       "      <td>panRG</td>\n",
       "      <td>11</td>\n",
       "      <td>Microglia</td>\n",
       "    </tr>\n",
       "    <tr>\n",
       "      <th>2</th>\n",
       "      <td>H1SWeek3_AAACCTGAGGATGGAA</td>\n",
       "      <td>35</td>\n",
       "      <td>H1SWeek3</td>\n",
       "      <td>H1</td>\n",
       "      <td>Less Directed</td>\n",
       "      <td>3</td>\n",
       "      <td>hESC</td>\n",
       "      <td>Nonneuronal</td>\n",
       "      <td>Dividing</td>\n",
       "      <td>RadialGlia</td>\n",
       "      <td>panRG</td>\n",
       "      <td>21</td>\n",
       "      <td>Upper Layer PFC</td>\n",
       "    </tr>\n",
       "    <tr>\n",
       "      <th>4</th>\n",
       "      <td>H1SWeek3_AAACCTGCAGCGTAAG</td>\n",
       "      <td>5</td>\n",
       "      <td>H1SWeek3</td>\n",
       "      <td>H1</td>\n",
       "      <td>Less Directed</td>\n",
       "      <td>3</td>\n",
       "      <td>hESC</td>\n",
       "      <td>Nonneuronal</td>\n",
       "      <td>Dividing</td>\n",
       "      <td>RadialGlia</td>\n",
       "      <td>panRG</td>\n",
       "      <td>16</td>\n",
       "      <td>PFC</td>\n",
       "    </tr>\n",
       "    <tr>\n",
       "      <th>5</th>\n",
       "      <td>H1SWeek3_AAACCTGCATTACGAC</td>\n",
       "      <td>5</td>\n",
       "      <td>H1SWeek3</td>\n",
       "      <td>H1</td>\n",
       "      <td>Less Directed</td>\n",
       "      <td>3</td>\n",
       "      <td>hESC</td>\n",
       "      <td>Nonneuronal</td>\n",
       "      <td>Dividing</td>\n",
       "      <td>RadialGlia</td>\n",
       "      <td>panRG</td>\n",
       "      <td>11</td>\n",
       "      <td>Microglia</td>\n",
       "    </tr>\n",
       "    <tr>\n",
       "      <th>...</th>\n",
       "      <td>...</td>\n",
       "      <td>...</td>\n",
       "      <td>...</td>\n",
       "      <td>...</td>\n",
       "      <td>...</td>\n",
       "      <td>...</td>\n",
       "      <td>...</td>\n",
       "      <td>...</td>\n",
       "      <td>...</td>\n",
       "      <td>...</td>\n",
       "      <td>...</td>\n",
       "      <td>...</td>\n",
       "      <td>...</td>\n",
       "    </tr>\n",
       "    <tr>\n",
       "      <th>235101</th>\n",
       "      <td>WTC10SWeek10_TTTGCGCGTAGCCTCG</td>\n",
       "      <td>14</td>\n",
       "      <td>YH10SWeek10</td>\n",
       "      <td>YH10</td>\n",
       "      <td>Less Directed</td>\n",
       "      <td>10</td>\n",
       "      <td>iPSC</td>\n",
       "      <td>Nonneuronal</td>\n",
       "      <td>Nondividing</td>\n",
       "      <td>RadialGlia</td>\n",
       "      <td>panRG</td>\n",
       "      <td>16</td>\n",
       "      <td>PFC</td>\n",
       "    </tr>\n",
       "    <tr>\n",
       "      <th>235106</th>\n",
       "      <td>WTC10SWeek10_TTTGGTTAGCGTCAAG</td>\n",
       "      <td>17</td>\n",
       "      <td>YH10SWeek10</td>\n",
       "      <td>YH10</td>\n",
       "      <td>Less Directed</td>\n",
       "      <td>10</td>\n",
       "      <td>iPSC</td>\n",
       "      <td>Nonneuronal</td>\n",
       "      <td>Dividing</td>\n",
       "      <td>RadialGlia</td>\n",
       "      <td>panRG</td>\n",
       "      <td>16</td>\n",
       "      <td>PFC</td>\n",
       "    </tr>\n",
       "    <tr>\n",
       "      <th>235112</th>\n",
       "      <td>WTC10SWeek10_TTTGGTTTCACGCGGT</td>\n",
       "      <td>4</td>\n",
       "      <td>YH10SWeek10</td>\n",
       "      <td>YH10</td>\n",
       "      <td>Less Directed</td>\n",
       "      <td>10</td>\n",
       "      <td>iPSC</td>\n",
       "      <td>Nonneuronal</td>\n",
       "      <td>Dividing</td>\n",
       "      <td>RadialGlia</td>\n",
       "      <td>panRG</td>\n",
       "      <td>11</td>\n",
       "      <td>Microglia</td>\n",
       "    </tr>\n",
       "    <tr>\n",
       "      <th>235113</th>\n",
       "      <td>WTC10SWeek10_TTTGGTTTCTCTTATG</td>\n",
       "      <td>29</td>\n",
       "      <td>YH10SWeek10</td>\n",
       "      <td>YH10</td>\n",
       "      <td>Less Directed</td>\n",
       "      <td>10</td>\n",
       "      <td>iPSC</td>\n",
       "      <td>Nonneuronal</td>\n",
       "      <td>Dividing</td>\n",
       "      <td>RadialGlia</td>\n",
       "      <td>panRG</td>\n",
       "      <td>23</td>\n",
       "      <td>late</td>\n",
       "    </tr>\n",
       "    <tr>\n",
       "      <th>235120</th>\n",
       "      <td>WTC10SWeek10_TTTGTCATCTGGGCCA</td>\n",
       "      <td>7</td>\n",
       "      <td>YH10SWeek10</td>\n",
       "      <td>YH10</td>\n",
       "      <td>Less Directed</td>\n",
       "      <td>10</td>\n",
       "      <td>iPSC</td>\n",
       "      <td>Nonneuronal</td>\n",
       "      <td>Dividing</td>\n",
       "      <td>RadialGlia</td>\n",
       "      <td>panRG</td>\n",
       "      <td>11</td>\n",
       "      <td>Microglia</td>\n",
       "    </tr>\n",
       "  </tbody>\n",
       "</table>\n",
       "<p>69272 rows × 13 columns</p>\n",
       "</div>"
      ],
      "text/plain": [
       "                                index  Cluster       Sample  Line  \\\n",
       "0           H1SWeek3_AAACCTGAGACAAAGG       29     H1SWeek3    H1   \n",
       "1           H1SWeek3_AAACCTGAGCACACAG        5     H1SWeek3    H1   \n",
       "2           H1SWeek3_AAACCTGAGGATGGAA       35     H1SWeek3    H1   \n",
       "4           H1SWeek3_AAACCTGCAGCGTAAG        5     H1SWeek3    H1   \n",
       "5           H1SWeek3_AAACCTGCATTACGAC        5     H1SWeek3    H1   \n",
       "...                               ...      ...          ...   ...   \n",
       "235101  WTC10SWeek10_TTTGCGCGTAGCCTCG       14  YH10SWeek10  YH10   \n",
       "235106  WTC10SWeek10_TTTGGTTAGCGTCAAG       17  YH10SWeek10  YH10   \n",
       "235112  WTC10SWeek10_TTTGGTTTCACGCGGT        4  YH10SWeek10  YH10   \n",
       "235113  WTC10SWeek10_TTTGGTTTCTCTTATG       29  YH10SWeek10  YH10   \n",
       "235120  WTC10SWeek10_TTTGTCATCTGGGCCA        7  YH10SWeek10  YH10   \n",
       "\n",
       "             Protocol  Age iPSCorhESC        Class        State        Type  \\\n",
       "0       Less Directed    3       hESC  Nonneuronal     Dividing  RadialGlia   \n",
       "1       Less Directed    3       hESC  Nonneuronal     Dividing  RadialGlia   \n",
       "2       Less Directed    3       hESC  Nonneuronal     Dividing  RadialGlia   \n",
       "4       Less Directed    3       hESC  Nonneuronal     Dividing  RadialGlia   \n",
       "5       Less Directed    3       hESC  Nonneuronal     Dividing  RadialGlia   \n",
       "...               ...  ...        ...          ...          ...         ...   \n",
       "235101  Less Directed   10       iPSC  Nonneuronal  Nondividing  RadialGlia   \n",
       "235106  Less Directed   10       iPSC  Nonneuronal     Dividing  RadialGlia   \n",
       "235112  Less Directed   10       iPSC  Nonneuronal     Dividing  RadialGlia   \n",
       "235113  Less Directed   10       iPSC  Nonneuronal     Dividing  RadialGlia   \n",
       "235120  Less Directed   10       iPSC  Nonneuronal     Dividing  RadialGlia   \n",
       "\n",
       "       Subtype  predicted    predicted_str  \n",
       "0        panRG         23             late  \n",
       "1        panRG         11        Microglia  \n",
       "2        panRG         21  Upper Layer PFC  \n",
       "4        panRG         16              PFC  \n",
       "5        panRG         11        Microglia  \n",
       "...        ...        ...              ...  \n",
       "235101   panRG         16              PFC  \n",
       "235106   panRG         16              PFC  \n",
       "235112   panRG         11        Microglia  \n",
       "235113   panRG         23             late  \n",
       "235120   panRG         11        Microglia  \n",
       "\n",
       "[69272 rows x 13 columns]"
      ]
     },
     "execution_count": 101,
     "metadata": {},
     "output_type": "execute_result"
    }
   ],
   "source": [
    "testdata.obs[testdata.obs['Subtype'] == 'panRG']"
   ]
  },
  {
   "cell_type": "code",
   "execution_count": 70,
   "id": "09d2089d",
   "metadata": {
    "scrolled": true
   },
   "outputs": [
    {
     "data": {
      "text/plain": [
       "21.788781095691153"
      ]
     },
     "execution_count": 70,
     "metadata": {},
     "output_type": "execute_result"
    }
   ],
   "source": [
    "acc / len(preds) * 100"
   ]
  },
  {
   "cell_type": "code",
   "execution_count": null,
   "id": "56974bb7",
   "metadata": {},
   "outputs": [],
   "source": []
  }
 ],
 "metadata": {
  "kernelspec": {
   "display_name": "sims",
   "language": "python",
   "name": "sims"
  },
  "language_info": {
   "codemirror_mode": {
    "name": "ipython",
    "version": 3
   },
   "file_extension": ".py",
   "mimetype": "text/x-python",
   "name": "python",
   "nbconvert_exporter": "python",
   "pygments_lexer": "ipython3",
   "version": "3.9.12"
  }
 },
 "nbformat": 4,
 "nbformat_minor": 5
}

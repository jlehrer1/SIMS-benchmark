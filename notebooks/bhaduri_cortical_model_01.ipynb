{
 "cells": [
  {
   "cell_type": "code",
   "execution_count": 2,
   "id": "0a3b2282",
   "metadata": {},
   "outputs": [],
   "source": [
    "import pandas as pd \n",
    "import numpy as np\n",
    "import plotly.express as px \n",
    "import plotly.graph_objects as go\n",
    "import anndata as an\n",
    "\n",
    "import sys, os \n",
    "sys.path.append('../src')\n",
    "\n",
    "from model import *\n",
    "from lightning_train import *\n",
    "from data import *\n",
    "from testing import *"
   ]
  },
  {
   "cell_type": "code",
   "execution_count": 30,
   "id": "d939e2b8",
   "metadata": {},
   "outputs": [],
   "source": [
    "primary = an.read_h5ad('../data/bhaduri/primary_T.h5ad', backed='r+')\n",
    "organoid = an.read_h5ad('../data/bhaduri/organoid_T.h5ad', backed='r+')"
   ]
  },
  {
   "cell_type": "code",
   "execution_count": 37,
   "id": "1f33f375",
   "metadata": {},
   "outputs": [],
   "source": [
    "prim_genes = [x.upper() for x in primary.var['index'].values]\n",
    "org_genes = [x.upper() for x in organoid.var['index'].apply(lambda x: x.split('|')[0]).values]"
   ]
  },
  {
   "cell_type": "code",
   "execution_count": 39,
   "id": "ff4ac0c5",
   "metadata": {},
   "outputs": [
    {
     "data": {
      "text/plain": [
       "16507"
      ]
     },
     "execution_count": 39,
     "metadata": {},
     "output_type": "execute_result"
    }
   ],
   "source": [
    "len(set(prim_genes).intersection(org_genes))"
   ]
  },
  {
   "cell_type": "code",
   "execution_count": 19,
   "id": "b4821d59",
   "metadata": {},
   "outputs": [],
   "source": [
    "prim_labels = pd.read_csv('../data/bhaduri/primary_labels.tsv', sep='\\t')\n",
    "org_labels = pd.read_csv('../data/bhaduri/organoid_labels.tsv', sep='\\t')"
   ]
  },
  {
   "cell_type": "code",
   "execution_count": 20,
   "id": "61099442",
   "metadata": {
    "scrolled": true
   },
   "outputs": [
    {
     "data": {
      "text/plain": [
       "array(['oRG', 'Layer VI Occipital', 'Newborn', 'vRG', 'early', 'Mural',\n",
       "       'IPC/newborn', 'OPC', 'Upper Layer Occipital', 'IPC-new',\n",
       "       'Cajal Retzius', 'Upper Layer', 'Layer VI Pan-area', 'Outlier',\n",
       "       'Microglia low quality', 'Low Quality', 'SST-MGE1', 'IPC-div1',\n",
       "       'PFC', 'Upper Layer PFC', 'Microglia', 'Deep Layer', 'late',\n",
       "       'Parietal and Temporal', 'IPC-div2', 'Layer IV', 'MGE2',\n",
       "       'Endothelial', 'oRG/Astrocyte', 'tRG'], dtype=object)"
      ]
     },
     "execution_count": 20,
     "metadata": {},
     "output_type": "execute_result"
    }
   ],
   "source": [
    "prim_labels['Subtype'].unique()"
   ]
  },
  {
   "cell_type": "code",
   "execution_count": 21,
   "id": "f460b64a",
   "metadata": {},
   "outputs": [
    {
     "data": {
      "text/plain": [
       "panRG                 69272\n",
       "panNeuron             46665\n",
       "lowquality            25224\n",
       "glycolyticRG          19798\n",
       "glycolyticneurons     16344\n",
       "Newborn               14757\n",
       "UpperLayer            12406\n",
       "hindbrainRG            7670\n",
       "earlyRG                5800\n",
       "DeepLayer              4585\n",
       "hindbrainAstrocyte     3565\n",
       "MatureIPC              2210\n",
       "Outlier                2160\n",
       "Astrocyte              1873\n",
       "Interneuron            1662\n",
       "Unknown                1130\n",
       "Name: Subtype, dtype: int64"
      ]
     },
     "execution_count": 21,
     "metadata": {},
     "output_type": "execute_result"
    }
   ],
   "source": [
    "org_labels['Subtype'].value_counts()"
   ]
  },
  {
   "cell_type": "markdown",
   "id": "21b879c8",
   "metadata": {},
   "source": [
    "## Label cleaning\n",
    "\n",
    "Quickly, we'll remove labels we don't want to train on (that of low quality cells)"
   ]
  },
  {
   "cell_type": "code",
   "execution_count": 22,
   "id": "3f88dc52",
   "metadata": {},
   "outputs": [
    {
     "data": {
      "text/plain": [
       "array(['oRG', 'Layer VI Occipital', 'Newborn', 'vRG', 'early', 'Mural',\n",
       "       'IPC/newborn', 'OPC', 'Upper Layer Occipital', 'IPC-new',\n",
       "       'Cajal Retzius', 'Upper Layer', 'Layer VI Pan-area', 'Outlier',\n",
       "       'SST-MGE1', 'IPC-div1', 'PFC', 'Upper Layer PFC', 'Microglia',\n",
       "       'Deep Layer', 'late', 'Parietal and Temporal', 'IPC-div2',\n",
       "       'Layer IV', 'MGE2', 'Endothelial', 'oRG/Astrocyte', 'tRG'],\n",
       "      dtype=object)"
      ]
     },
     "execution_count": 22,
     "metadata": {},
     "output_type": "execute_result"
    }
   ],
   "source": [
    "prim_labels = prim_labels[~prim_labels['Subtype'].isin(['Low Quality', 'Microglia low quality'])]\n",
    "\n",
    "prim_labels.index.name = 'cell'\n",
    "prim_labels = prim_labels.reset_index(drop=False)\n",
    "\n",
    "prim_labels['Subtype'].unique()"
   ]
  },
  {
   "cell_type": "code",
   "execution_count": 48,
   "id": "603bfb86",
   "metadata": {
    "scrolled": true
   },
   "outputs": [
    {
     "data": {
      "text/html": [
       "<div>\n",
       "<style scoped>\n",
       "    .dataframe tbody tr th:only-of-type {\n",
       "        vertical-align: middle;\n",
       "    }\n",
       "\n",
       "    .dataframe tbody tr th {\n",
       "        vertical-align: top;\n",
       "    }\n",
       "\n",
       "    .dataframe thead th {\n",
       "        text-align: right;\n",
       "    }\n",
       "</style>\n",
       "<table border=\"1\" class=\"dataframe\">\n",
       "  <thead>\n",
       "    <tr style=\"text-align: right;\">\n",
       "      <th></th>\n",
       "      <th>cell</th>\n",
       "      <th>V1</th>\n",
       "      <th>Cluster</th>\n",
       "      <th>Sample</th>\n",
       "      <th>Line</th>\n",
       "      <th>Protocol</th>\n",
       "      <th>Age</th>\n",
       "      <th>iPSCorhESC</th>\n",
       "      <th>Class</th>\n",
       "      <th>State</th>\n",
       "      <th>Type</th>\n",
       "      <th>Subtype</th>\n",
       "    </tr>\n",
       "  </thead>\n",
       "  <tbody>\n",
       "    <tr>\n",
       "      <th>0</th>\n",
       "      <td>0</td>\n",
       "      <td>H1SWeek3_AAACCTGAGACAAAGG</td>\n",
       "      <td>29</td>\n",
       "      <td>H1SWeek3</td>\n",
       "      <td>H1</td>\n",
       "      <td>Less Directed</td>\n",
       "      <td>3</td>\n",
       "      <td>hESC</td>\n",
       "      <td>Nonneuronal</td>\n",
       "      <td>Dividing</td>\n",
       "      <td>RadialGlia</td>\n",
       "      <td>panRG</td>\n",
       "    </tr>\n",
       "    <tr>\n",
       "      <th>1</th>\n",
       "      <td>1</td>\n",
       "      <td>H1SWeek3_AAACCTGAGCACACAG</td>\n",
       "      <td>5</td>\n",
       "      <td>H1SWeek3</td>\n",
       "      <td>H1</td>\n",
       "      <td>Less Directed</td>\n",
       "      <td>3</td>\n",
       "      <td>hESC</td>\n",
       "      <td>Nonneuronal</td>\n",
       "      <td>Dividing</td>\n",
       "      <td>RadialGlia</td>\n",
       "      <td>panRG</td>\n",
       "    </tr>\n",
       "    <tr>\n",
       "      <th>2</th>\n",
       "      <td>2</td>\n",
       "      <td>H1SWeek3_AAACCTGAGGATGGAA</td>\n",
       "      <td>35</td>\n",
       "      <td>H1SWeek3</td>\n",
       "      <td>H1</td>\n",
       "      <td>Less Directed</td>\n",
       "      <td>3</td>\n",
       "      <td>hESC</td>\n",
       "      <td>Nonneuronal</td>\n",
       "      <td>Dividing</td>\n",
       "      <td>RadialGlia</td>\n",
       "      <td>panRG</td>\n",
       "    </tr>\n",
       "    <tr>\n",
       "      <th>3</th>\n",
       "      <td>3</td>\n",
       "      <td>H1SWeek3_AAACCTGCAATTGCTG</td>\n",
       "      <td>36</td>\n",
       "      <td>H1SWeek3</td>\n",
       "      <td>H1</td>\n",
       "      <td>Less Directed</td>\n",
       "      <td>3</td>\n",
       "      <td>hESC</td>\n",
       "      <td>Nonneuronal</td>\n",
       "      <td>Nondividing</td>\n",
       "      <td>RadialGlia</td>\n",
       "      <td>hindbrainRG</td>\n",
       "    </tr>\n",
       "    <tr>\n",
       "      <th>4</th>\n",
       "      <td>4</td>\n",
       "      <td>H1SWeek3_AAACCTGCAGCGTAAG</td>\n",
       "      <td>5</td>\n",
       "      <td>H1SWeek3</td>\n",
       "      <td>H1</td>\n",
       "      <td>Less Directed</td>\n",
       "      <td>3</td>\n",
       "      <td>hESC</td>\n",
       "      <td>Nonneuronal</td>\n",
       "      <td>Dividing</td>\n",
       "      <td>RadialGlia</td>\n",
       "      <td>panRG</td>\n",
       "    </tr>\n",
       "    <tr>\n",
       "      <th>...</th>\n",
       "      <td>...</td>\n",
       "      <td>...</td>\n",
       "      <td>...</td>\n",
       "      <td>...</td>\n",
       "      <td>...</td>\n",
       "      <td>...</td>\n",
       "      <td>...</td>\n",
       "      <td>...</td>\n",
       "      <td>...</td>\n",
       "      <td>...</td>\n",
       "      <td>...</td>\n",
       "      <td>...</td>\n",
       "    </tr>\n",
       "    <tr>\n",
       "      <th>209892</th>\n",
       "      <td>235115</td>\n",
       "      <td>WTC10SWeek10_TTTGTCAAGGCCCTTG</td>\n",
       "      <td>2</td>\n",
       "      <td>YH10SWeek10</td>\n",
       "      <td>YH10</td>\n",
       "      <td>Less Directed</td>\n",
       "      <td>10</td>\n",
       "      <td>iPSC</td>\n",
       "      <td>Neuronal</td>\n",
       "      <td>Postmitotic</td>\n",
       "      <td>ExcitatoryNeuron</td>\n",
       "      <td>panNeuron</td>\n",
       "    </tr>\n",
       "    <tr>\n",
       "      <th>209893</th>\n",
       "      <td>235117</td>\n",
       "      <td>WTC10SWeek10_TTTGTCACAAGTTGTC</td>\n",
       "      <td>35</td>\n",
       "      <td>YH10SWeek10</td>\n",
       "      <td>YH10</td>\n",
       "      <td>Less Directed</td>\n",
       "      <td>10</td>\n",
       "      <td>iPSC</td>\n",
       "      <td>Nonneuronal</td>\n",
       "      <td>Nondividing</td>\n",
       "      <td>IPC</td>\n",
       "      <td>MatureIPC</td>\n",
       "    </tr>\n",
       "    <tr>\n",
       "      <th>209894</th>\n",
       "      <td>235118</td>\n",
       "      <td>WTC10SWeek10_TTTGTCAGTCTAAACC</td>\n",
       "      <td>2</td>\n",
       "      <td>YH10SWeek10</td>\n",
       "      <td>YH10</td>\n",
       "      <td>Less Directed</td>\n",
       "      <td>10</td>\n",
       "      <td>iPSC</td>\n",
       "      <td>Neuronal</td>\n",
       "      <td>Postmitotic</td>\n",
       "      <td>ExcitatoryNeuron</td>\n",
       "      <td>panNeuron</td>\n",
       "    </tr>\n",
       "    <tr>\n",
       "      <th>209895</th>\n",
       "      <td>235119</td>\n",
       "      <td>WTC10SWeek10_TTTGTCATCACAGGCC</td>\n",
       "      <td>4</td>\n",
       "      <td>YH10SWeek10</td>\n",
       "      <td>YH10</td>\n",
       "      <td>Less Directed</td>\n",
       "      <td>10</td>\n",
       "      <td>iPSC</td>\n",
       "      <td>Nonneuronal</td>\n",
       "      <td>Nondividing</td>\n",
       "      <td>RadialGlia</td>\n",
       "      <td>earlyRG</td>\n",
       "    </tr>\n",
       "    <tr>\n",
       "      <th>209896</th>\n",
       "      <td>235120</td>\n",
       "      <td>WTC10SWeek10_TTTGTCATCTGGGCCA</td>\n",
       "      <td>7</td>\n",
       "      <td>YH10SWeek10</td>\n",
       "      <td>YH10</td>\n",
       "      <td>Less Directed</td>\n",
       "      <td>10</td>\n",
       "      <td>iPSC</td>\n",
       "      <td>Nonneuronal</td>\n",
       "      <td>Dividing</td>\n",
       "      <td>RadialGlia</td>\n",
       "      <td>panRG</td>\n",
       "    </tr>\n",
       "  </tbody>\n",
       "</table>\n",
       "<p>209897 rows × 12 columns</p>\n",
       "</div>"
      ],
      "text/plain": [
       "          cell                             V1  Cluster       Sample  Line  \\\n",
       "0            0      H1SWeek3_AAACCTGAGACAAAGG       29     H1SWeek3    H1   \n",
       "1            1      H1SWeek3_AAACCTGAGCACACAG        5     H1SWeek3    H1   \n",
       "2            2      H1SWeek3_AAACCTGAGGATGGAA       35     H1SWeek3    H1   \n",
       "3            3      H1SWeek3_AAACCTGCAATTGCTG       36     H1SWeek3    H1   \n",
       "4            4      H1SWeek3_AAACCTGCAGCGTAAG        5     H1SWeek3    H1   \n",
       "...        ...                            ...      ...          ...   ...   \n",
       "209892  235115  WTC10SWeek10_TTTGTCAAGGCCCTTG        2  YH10SWeek10  YH10   \n",
       "209893  235117  WTC10SWeek10_TTTGTCACAAGTTGTC       35  YH10SWeek10  YH10   \n",
       "209894  235118  WTC10SWeek10_TTTGTCAGTCTAAACC        2  YH10SWeek10  YH10   \n",
       "209895  235119  WTC10SWeek10_TTTGTCATCACAGGCC        4  YH10SWeek10  YH10   \n",
       "209896  235120  WTC10SWeek10_TTTGTCATCTGGGCCA        7  YH10SWeek10  YH10   \n",
       "\n",
       "             Protocol  Age iPSCorhESC        Class        State  \\\n",
       "0       Less Directed    3       hESC  Nonneuronal     Dividing   \n",
       "1       Less Directed    3       hESC  Nonneuronal     Dividing   \n",
       "2       Less Directed    3       hESC  Nonneuronal     Dividing   \n",
       "3       Less Directed    3       hESC  Nonneuronal  Nondividing   \n",
       "4       Less Directed    3       hESC  Nonneuronal     Dividing   \n",
       "...               ...  ...        ...          ...          ...   \n",
       "209892  Less Directed   10       iPSC     Neuronal  Postmitotic   \n",
       "209893  Less Directed   10       iPSC  Nonneuronal  Nondividing   \n",
       "209894  Less Directed   10       iPSC     Neuronal  Postmitotic   \n",
       "209895  Less Directed   10       iPSC  Nonneuronal  Nondividing   \n",
       "209896  Less Directed   10       iPSC  Nonneuronal     Dividing   \n",
       "\n",
       "                    Type      Subtype  \n",
       "0             RadialGlia        panRG  \n",
       "1             RadialGlia        panRG  \n",
       "2             RadialGlia        panRG  \n",
       "3             RadialGlia  hindbrainRG  \n",
       "4             RadialGlia        panRG  \n",
       "...                  ...          ...  \n",
       "209892  ExcitatoryNeuron    panNeuron  \n",
       "209893               IPC    MatureIPC  \n",
       "209894  ExcitatoryNeuron    panNeuron  \n",
       "209895        RadialGlia      earlyRG  \n",
       "209896        RadialGlia        panRG  \n",
       "\n",
       "[209897 rows x 12 columns]"
      ]
     },
     "execution_count": 48,
     "metadata": {},
     "output_type": "execute_result"
    }
   ],
   "source": [
    "org_labels = org_labels[~org_labels['Subtype'].isin(['lowquality'])]\n",
    "\n",
    "org_labels.index.name = 'cell'\n",
    "org_labels = org_labels.reset_index(drop=False)\n",
    "\n",
    "org_labels"
   ]
  },
  {
   "cell_type": "code",
   "execution_count": 23,
   "id": "53f9cd44",
   "metadata": {},
   "outputs": [],
   "source": [
    "prim_labels.to_csv('../data/bhaduri/primary_labels_clean.csv', index=False)\n",
    "org_labels.to_csv('../data/bhaduri/organoid_labels_clean.csv', index=False)"
   ]
  },
  {
   "cell_type": "code",
   "execution_count": 88,
   "id": "3dcee494",
   "metadata": {},
   "outputs": [
    {
     "data": {
      "text/plain": [
       "28"
      ]
     },
     "execution_count": 88,
     "metadata": {},
     "output_type": "execute_result"
    }
   ],
   "source": [
    "pd.read_csv('../data/bhaduri/primary_labels_clean.csv')['Subtype'].nunique()"
   ]
  },
  {
   "cell_type": "markdown",
   "id": "2456210f",
   "metadata": {},
   "source": [
    "## Predicting organoid cell types"
   ]
  },
  {
   "cell_type": "code",
   "execution_count": 3,
   "id": "412c1563",
   "metadata": {},
   "outputs": [
    {
     "name": "stdout",
     "output_type": "stream",
     "text": [
      "assume_numeric_label=False, using sklearn.preprocessing.LabelEncoder and encoding target variables.\n",
      "Transforming labelfile 1/1\n",
      "Creating train/val/test DataLoaders...\n",
      "Done, continuing to training.\n",
      "Calculating weights\n"
     ]
    }
   ],
   "source": [
    "from os.path import join\n",
    "\n",
    "data_path = '../data/bhaduri/'\n",
    "\n",
    "primary = an.read_h5ad(join(data_path, 'primary_T.h5ad'), backed='r+')\n",
    "organoid = an.read_h5ad(join(data_path, 'organoid_T.h5ad'), backed='r+')\n",
    "\n",
    "prim_genes = [x.upper() for x in primary.var['index'].values]\n",
    "org_genes = [x.upper() for x in organoid.var['index'].apply(lambda x: x.split('|')[0]).values]\n",
    "refgenes = list(set(prim_genes).intersection(org_genes))\n",
    "\n",
    "module = DataModule(\n",
    "    datafiles=[join(data_path, 'primary_T.h5ad')],\n",
    "    labelfiles=[join(data_path, 'primary_labels_clean.csv')],\n",
    "    class_label='Subtype',\n",
    "    sep=',',\n",
    "    batch_size=32,\n",
    "    index_col='cell',\n",
    "    num_workers=0,\n",
    "    deterministic=True,\n",
    "    normalize=True,\n",
    "    assume_numeric_label=False,\n",
    "    currgenes=prim_genes,\n",
    "    refgenes=refgenes,\n",
    "    preprocess=True,\n",
    ")\n",
    "\n",
    "module.prepare_data()\n",
    "module.setup()"
   ]
  },
  {
   "cell_type": "code",
   "execution_count": 4,
   "id": "7f6dc684",
   "metadata": {
    "scrolled": false
   },
   "outputs": [
    {
     "name": "stdout",
     "output_type": "stream",
     "text": [
      "Initializing network\n",
      "Initializing explain matrix\n"
     ]
    }
   ],
   "source": [
    "model = SIMSClassifier.load_from_checkpoint(\n",
    "    '../checkpoints/checkpoint-50-desc-bhaduri_primary_cortical_unweighted.ckpt',\n",
    "    input_dim=module.input_dim,\n",
    "    output_dim=module.output_dim,\n",
    "    weights=module.weights,\n",
    "    n_a=32,\n",
    "    n_d=32,\n",
    "    n_steps=10,\n",
    ")"
   ]
  },
  {
   "cell_type": "markdown",
   "id": "ef9e77fa",
   "metadata": {},
   "source": [
    "Now, we can load in the organoid data, generate a dataloader and make cell type predictions"
   ]
  },
  {
   "cell_type": "code",
   "execution_count": 5,
   "id": "bdb60cb7",
   "metadata": {},
   "outputs": [],
   "source": [
    "organoid = an.read_h5ad(join(data_path, 'organoid_T.h5ad'))\n",
    "\n",
    "to_pred = TestAnndatasetMatrix(organoid.X)"
   ]
  },
  {
   "cell_type": "code",
   "execution_count": 6,
   "id": "433d9055",
   "metadata": {},
   "outputs": [
    {
     "data": {
      "text/plain": [
       "tensor([[0.0563, 0.0000, 0.4843,  ..., 0.0000, 0.0000, 0.0000],\n",
       "        [0.0000, 0.0000, 0.0000,  ..., 0.0000, 0.0000, 0.0000],\n",
       "        [0.0000, 0.0000, 0.0000,  ..., 0.0000, 0.0000, 0.0000],\n",
       "        ...,\n",
       "        [0.0000, 0.0000, 0.0000,  ..., 0.0000, 0.0000, 0.0000],\n",
       "        [0.0000, 0.0000, 0.0000,  ..., 0.0000, 0.0000, 0.0000],\n",
       "        [0.0000, 0.7837, 0.0000,  ..., 0.0000, 0.0000, 0.0000]])"
      ]
     },
     "execution_count": 6,
     "metadata": {},
     "output_type": "execute_result"
    }
   ],
   "source": [
    "loader = DataLoader(to_pred, batch_size=64, num_workers=0)\n",
    "\n",
    "next(iter(loader))"
   ]
  },
  {
   "cell_type": "code",
   "execution_count": 51,
   "id": "f143b79f",
   "metadata": {},
   "outputs": [
    {
     "name": "stderr",
     "output_type": "stream",
     "text": [
      "100%|█| 3674/3674 [39:15<00:00,  1.\n"
     ]
    }
   ],
   "source": [
    "from tqdm import tqdm \n",
    "\n",
    "topk = []\n",
    "with torch.no_grad():\n",
    "    for i, X in enumerate(tqdm(loader)):\n",
    "        X = clean_sample(\n",
    "            sample=X,\n",
    "            refgenes=refgenes,\n",
    "            currgenes=org_genes,\n",
    "        )\n",
    "\n",
    "        res, _ = model(X)\n",
    "\n",
    "        _, top_preds = res.topk(3, axis=1) # to get indices\n",
    "        topk.extend(top_preds.numpy())"
   ]
  },
  {
   "cell_type": "code",
   "execution_count": 52,
   "id": "ec115bdc",
   "metadata": {},
   "outputs": [
    {
     "data": {
      "text/html": [
       "<div>\n",
       "<style scoped>\n",
       "    .dataframe tbody tr th:only-of-type {\n",
       "        vertical-align: middle;\n",
       "    }\n",
       "\n",
       "    .dataframe tbody tr th {\n",
       "        vertical-align: top;\n",
       "    }\n",
       "\n",
       "    .dataframe thead th {\n",
       "        text-align: right;\n",
       "    }\n",
       "</style>\n",
       "<table border=\"1\" class=\"dataframe\">\n",
       "  <thead>\n",
       "    <tr style=\"text-align: right;\">\n",
       "      <th></th>\n",
       "      <th>0</th>\n",
       "      <th>1</th>\n",
       "      <th>2</th>\n",
       "    </tr>\n",
       "  </thead>\n",
       "  <tbody>\n",
       "    <tr>\n",
       "      <th>0</th>\n",
       "      <td>27</td>\n",
       "      <td>24</td>\n",
       "      <td>13</td>\n",
       "    </tr>\n",
       "    <tr>\n",
       "      <th>1</th>\n",
       "      <td>6</td>\n",
       "      <td>24</td>\n",
       "      <td>16</td>\n",
       "    </tr>\n",
       "    <tr>\n",
       "      <th>2</th>\n",
       "      <td>24</td>\n",
       "      <td>22</td>\n",
       "      <td>5</td>\n",
       "    </tr>\n",
       "    <tr>\n",
       "      <th>3</th>\n",
       "      <td>7</td>\n",
       "      <td>21</td>\n",
       "      <td>19</td>\n",
       "    </tr>\n",
       "    <tr>\n",
       "      <th>4</th>\n",
       "      <td>8</td>\n",
       "      <td>18</td>\n",
       "      <td>13</td>\n",
       "    </tr>\n",
       "    <tr>\n",
       "      <th>...</th>\n",
       "      <td>...</td>\n",
       "      <td>...</td>\n",
       "      <td>...</td>\n",
       "    </tr>\n",
       "    <tr>\n",
       "      <th>235116</th>\n",
       "      <td>27</td>\n",
       "      <td>3</td>\n",
       "      <td>23</td>\n",
       "    </tr>\n",
       "    <tr>\n",
       "      <th>235117</th>\n",
       "      <td>22</td>\n",
       "      <td>24</td>\n",
       "      <td>6</td>\n",
       "    </tr>\n",
       "    <tr>\n",
       "      <th>235118</th>\n",
       "      <td>10</td>\n",
       "      <td>18</td>\n",
       "      <td>21</td>\n",
       "    </tr>\n",
       "    <tr>\n",
       "      <th>235119</th>\n",
       "      <td>27</td>\n",
       "      <td>23</td>\n",
       "      <td>4</td>\n",
       "    </tr>\n",
       "    <tr>\n",
       "      <th>235120</th>\n",
       "      <td>27</td>\n",
       "      <td>24</td>\n",
       "      <td>5</td>\n",
       "    </tr>\n",
       "  </tbody>\n",
       "</table>\n",
       "<p>235121 rows × 3 columns</p>\n",
       "</div>"
      ],
      "text/plain": [
       "         0   1   2\n",
       "0       27  24  13\n",
       "1        6  24  16\n",
       "2       24  22   5\n",
       "3        7  21  19\n",
       "4        8  18  13\n",
       "...     ..  ..  ..\n",
       "235116  27   3  23\n",
       "235117  22  24   6\n",
       "235118  10  18  21\n",
       "235119  27  23   4\n",
       "235120  27  24   5\n",
       "\n",
       "[235121 rows x 3 columns]"
      ]
     },
     "execution_count": 52,
     "metadata": {},
     "output_type": "execute_result"
    }
   ],
   "source": [
    "topk = pd.DataFrame(topk)\n",
    "\n",
    "topk"
   ]
  },
  {
   "cell_type": "code",
   "execution_count": 53,
   "id": "b0327c96",
   "metadata": {},
   "outputs": [],
   "source": [
    "from sklearn.preprocessing import LabelEncoder\n",
    "\n",
    "le = LabelEncoder()"
   ]
  },
  {
   "cell_type": "code",
   "execution_count": 54,
   "id": "56070128",
   "metadata": {},
   "outputs": [
    {
     "data": {
      "text/plain": [
       "array(['oRG', 'Layer VI Occipital', 'Newborn', 'vRG', 'early', 'Mural',\n",
       "       'IPC/newborn', 'OPC', 'Upper Layer Occipital', 'IPC-new',\n",
       "       'Cajal Retzius', 'Upper Layer', 'Layer VI Pan-area', 'Outlier',\n",
       "       'SST-MGE1', 'IPC-div1', 'PFC', 'Upper Layer PFC', 'Microglia',\n",
       "       'Deep Layer', 'late', 'Parietal and Temporal', 'IPC-div2',\n",
       "       'Layer IV', 'MGE2', 'Endothelial', 'oRG/Astrocyte', 'tRG'],\n",
       "      dtype=object)"
      ]
     },
     "execution_count": 54,
     "metadata": {},
     "output_type": "execute_result"
    }
   ],
   "source": [
    "prim_labels['Subtype'].unique()"
   ]
  },
  {
   "cell_type": "code",
   "execution_count": 61,
   "id": "f1968128",
   "metadata": {},
   "outputs": [
    {
     "data": {
      "text/html": [
       "<div>\n",
       "<style scoped>\n",
       "    .dataframe tbody tr th:only-of-type {\n",
       "        vertical-align: middle;\n",
       "    }\n",
       "\n",
       "    .dataframe tbody tr th {\n",
       "        vertical-align: top;\n",
       "    }\n",
       "\n",
       "    .dataframe thead th {\n",
       "        text-align: right;\n",
       "    }\n",
       "</style>\n",
       "<table border=\"1\" class=\"dataframe\">\n",
       "  <thead>\n",
       "    <tr style=\"text-align: right;\">\n",
       "      <th></th>\n",
       "      <th>0</th>\n",
       "      <th>1</th>\n",
       "      <th>2</th>\n",
       "    </tr>\n",
       "  </thead>\n",
       "  <tbody>\n",
       "    <tr>\n",
       "      <th>0</th>\n",
       "      <td>27</td>\n",
       "      <td>24</td>\n",
       "      <td>13</td>\n",
       "    </tr>\n",
       "    <tr>\n",
       "      <th>1</th>\n",
       "      <td>6</td>\n",
       "      <td>24</td>\n",
       "      <td>16</td>\n",
       "    </tr>\n",
       "    <tr>\n",
       "      <th>2</th>\n",
       "      <td>24</td>\n",
       "      <td>22</td>\n",
       "      <td>5</td>\n",
       "    </tr>\n",
       "    <tr>\n",
       "      <th>3</th>\n",
       "      <td>7</td>\n",
       "      <td>21</td>\n",
       "      <td>19</td>\n",
       "    </tr>\n",
       "    <tr>\n",
       "      <th>4</th>\n",
       "      <td>8</td>\n",
       "      <td>18</td>\n",
       "      <td>13</td>\n",
       "    </tr>\n",
       "  </tbody>\n",
       "</table>\n",
       "</div>"
      ],
      "text/plain": [
       "    0   1   2\n",
       "0  27  24  13\n",
       "1   6  24  16\n",
       "2  24  22   5\n",
       "3   7  21  19\n",
       "4   8  18  13"
      ]
     },
     "execution_count": 61,
     "metadata": {},
     "output_type": "execute_result"
    }
   ],
   "source": [
    "le = le.fit(prim_labels['Subtype'])\n",
    "topk.head()"
   ]
  },
  {
   "cell_type": "code",
   "execution_count": 62,
   "id": "62097136",
   "metadata": {},
   "outputs": [],
   "source": [
    "import plotly.express as px \n",
    "\n",
    "labels = pd.Series(le.inverse_transform(topk.loc[:, 0]))\n",
    "\n",
    "fig = px.bar(labels.value_counts())\n",
    "\n",
    "fig.update_layout(\n",
    "    title='Distribution of Inferred Cell Types',\n",
    "    font_family='Serif',\n",
    "    xaxis_title='Cell Type',\n",
    "    yaxis_title='Number of cells',\n",
    "    showlegend=False\n",
    ")\n",
    "\n",
    "fig.write_image('../../ms-thesis/images/bhaduri-inferred-labels.pdf', scale=3)"
   ]
  },
  {
   "cell_type": "code",
   "execution_count": 87,
   "id": "6e60d5da",
   "metadata": {
    "scrolled": false
   },
   "outputs": [
    {
     "data": {
      "application/vnd.plotly.v1+json": {
       "config": {
        "plotlyServerURL": "https://plot.ly"
       },
       "data": [
        {
         "name": "First Predicted Label",
         "type": "bar",
         "x": [
          "Newborn",
          "vRG",
          "SST-MGE1",
          "oRG",
          "Upper Layer Occipital",
          "Upper Layer",
          "early",
          "Layer VI Occipital",
          "IPC/newborn",
          "Layer VI Pan-area",
          "Parietal and Temporal",
          "Upper Layer PFC",
          "Layer IV",
          "Deep Layer",
          "PFC",
          "IPC-div2",
          "IPC-div1",
          "oRG/Astrocyte",
          "late",
          "Outlier",
          "OPC",
          "Mural",
          "Microglia",
          "MGE2",
          "Endothelial",
          "IPC-new"
         ],
         "y": [
          48223,
          28937,
          25791,
          19590,
          18326,
          12682,
          11261,
          10925,
          8380,
          8366,
          7952,
          6892,
          4265,
          4140,
          3869,
          3470,
          2848,
          2549,
          2282,
          1651,
          859,
          679,
          545,
          474,
          143,
          22
         ]
        }
       ],
       "layout": {
        "barmode": "group",
        "font": {
         "family": "Serif"
        },
        "template": {
         "data": {
          "bar": [
           {
            "error_x": {
             "color": "#2a3f5f"
            },
            "error_y": {
             "color": "#2a3f5f"
            },
            "marker": {
             "line": {
              "color": "#E5ECF6",
              "width": 0.5
             },
             "pattern": {
              "fillmode": "overlay",
              "size": 10,
              "solidity": 0.2
             }
            },
            "type": "bar"
           }
          ],
          "barpolar": [
           {
            "marker": {
             "line": {
              "color": "#E5ECF6",
              "width": 0.5
             },
             "pattern": {
              "fillmode": "overlay",
              "size": 10,
              "solidity": 0.2
             }
            },
            "type": "barpolar"
           }
          ],
          "carpet": [
           {
            "aaxis": {
             "endlinecolor": "#2a3f5f",
             "gridcolor": "white",
             "linecolor": "white",
             "minorgridcolor": "white",
             "startlinecolor": "#2a3f5f"
            },
            "baxis": {
             "endlinecolor": "#2a3f5f",
             "gridcolor": "white",
             "linecolor": "white",
             "minorgridcolor": "white",
             "startlinecolor": "#2a3f5f"
            },
            "type": "carpet"
           }
          ],
          "choropleth": [
           {
            "colorbar": {
             "outlinewidth": 0,
             "ticks": ""
            },
            "type": "choropleth"
           }
          ],
          "contour": [
           {
            "colorbar": {
             "outlinewidth": 0,
             "ticks": ""
            },
            "colorscale": [
             [
              0,
              "#0d0887"
             ],
             [
              0.1111111111111111,
              "#46039f"
             ],
             [
              0.2222222222222222,
              "#7201a8"
             ],
             [
              0.3333333333333333,
              "#9c179e"
             ],
             [
              0.4444444444444444,
              "#bd3786"
             ],
             [
              0.5555555555555556,
              "#d8576b"
             ],
             [
              0.6666666666666666,
              "#ed7953"
             ],
             [
              0.7777777777777778,
              "#fb9f3a"
             ],
             [
              0.8888888888888888,
              "#fdca26"
             ],
             [
              1,
              "#f0f921"
             ]
            ],
            "type": "contour"
           }
          ],
          "contourcarpet": [
           {
            "colorbar": {
             "outlinewidth": 0,
             "ticks": ""
            },
            "type": "contourcarpet"
           }
          ],
          "heatmap": [
           {
            "colorbar": {
             "outlinewidth": 0,
             "ticks": ""
            },
            "colorscale": [
             [
              0,
              "#0d0887"
             ],
             [
              0.1111111111111111,
              "#46039f"
             ],
             [
              0.2222222222222222,
              "#7201a8"
             ],
             [
              0.3333333333333333,
              "#9c179e"
             ],
             [
              0.4444444444444444,
              "#bd3786"
             ],
             [
              0.5555555555555556,
              "#d8576b"
             ],
             [
              0.6666666666666666,
              "#ed7953"
             ],
             [
              0.7777777777777778,
              "#fb9f3a"
             ],
             [
              0.8888888888888888,
              "#fdca26"
             ],
             [
              1,
              "#f0f921"
             ]
            ],
            "type": "heatmap"
           }
          ],
          "heatmapgl": [
           {
            "colorbar": {
             "outlinewidth": 0,
             "ticks": ""
            },
            "colorscale": [
             [
              0,
              "#0d0887"
             ],
             [
              0.1111111111111111,
              "#46039f"
             ],
             [
              0.2222222222222222,
              "#7201a8"
             ],
             [
              0.3333333333333333,
              "#9c179e"
             ],
             [
              0.4444444444444444,
              "#bd3786"
             ],
             [
              0.5555555555555556,
              "#d8576b"
             ],
             [
              0.6666666666666666,
              "#ed7953"
             ],
             [
              0.7777777777777778,
              "#fb9f3a"
             ],
             [
              0.8888888888888888,
              "#fdca26"
             ],
             [
              1,
              "#f0f921"
             ]
            ],
            "type": "heatmapgl"
           }
          ],
          "histogram": [
           {
            "marker": {
             "pattern": {
              "fillmode": "overlay",
              "size": 10,
              "solidity": 0.2
             }
            },
            "type": "histogram"
           }
          ],
          "histogram2d": [
           {
            "colorbar": {
             "outlinewidth": 0,
             "ticks": ""
            },
            "colorscale": [
             [
              0,
              "#0d0887"
             ],
             [
              0.1111111111111111,
              "#46039f"
             ],
             [
              0.2222222222222222,
              "#7201a8"
             ],
             [
              0.3333333333333333,
              "#9c179e"
             ],
             [
              0.4444444444444444,
              "#bd3786"
             ],
             [
              0.5555555555555556,
              "#d8576b"
             ],
             [
              0.6666666666666666,
              "#ed7953"
             ],
             [
              0.7777777777777778,
              "#fb9f3a"
             ],
             [
              0.8888888888888888,
              "#fdca26"
             ],
             [
              1,
              "#f0f921"
             ]
            ],
            "type": "histogram2d"
           }
          ],
          "histogram2dcontour": [
           {
            "colorbar": {
             "outlinewidth": 0,
             "ticks": ""
            },
            "colorscale": [
             [
              0,
              "#0d0887"
             ],
             [
              0.1111111111111111,
              "#46039f"
             ],
             [
              0.2222222222222222,
              "#7201a8"
             ],
             [
              0.3333333333333333,
              "#9c179e"
             ],
             [
              0.4444444444444444,
              "#bd3786"
             ],
             [
              0.5555555555555556,
              "#d8576b"
             ],
             [
              0.6666666666666666,
              "#ed7953"
             ],
             [
              0.7777777777777778,
              "#fb9f3a"
             ],
             [
              0.8888888888888888,
              "#fdca26"
             ],
             [
              1,
              "#f0f921"
             ]
            ],
            "type": "histogram2dcontour"
           }
          ],
          "mesh3d": [
           {
            "colorbar": {
             "outlinewidth": 0,
             "ticks": ""
            },
            "type": "mesh3d"
           }
          ],
          "parcoords": [
           {
            "line": {
             "colorbar": {
              "outlinewidth": 0,
              "ticks": ""
             }
            },
            "type": "parcoords"
           }
          ],
          "pie": [
           {
            "automargin": true,
            "type": "pie"
           }
          ],
          "scatter": [
           {
            "fillpattern": {
             "fillmode": "overlay",
             "size": 10,
             "solidity": 0.2
            },
            "type": "scatter"
           }
          ],
          "scatter3d": [
           {
            "line": {
             "colorbar": {
              "outlinewidth": 0,
              "ticks": ""
             }
            },
            "marker": {
             "colorbar": {
              "outlinewidth": 0,
              "ticks": ""
             }
            },
            "type": "scatter3d"
           }
          ],
          "scattercarpet": [
           {
            "marker": {
             "colorbar": {
              "outlinewidth": 0,
              "ticks": ""
             }
            },
            "type": "scattercarpet"
           }
          ],
          "scattergeo": [
           {
            "marker": {
             "colorbar": {
              "outlinewidth": 0,
              "ticks": ""
             }
            },
            "type": "scattergeo"
           }
          ],
          "scattergl": [
           {
            "marker": {
             "colorbar": {
              "outlinewidth": 0,
              "ticks": ""
             }
            },
            "type": "scattergl"
           }
          ],
          "scattermapbox": [
           {
            "marker": {
             "colorbar": {
              "outlinewidth": 0,
              "ticks": ""
             }
            },
            "type": "scattermapbox"
           }
          ],
          "scatterpolar": [
           {
            "marker": {
             "colorbar": {
              "outlinewidth": 0,
              "ticks": ""
             }
            },
            "type": "scatterpolar"
           }
          ],
          "scatterpolargl": [
           {
            "marker": {
             "colorbar": {
              "outlinewidth": 0,
              "ticks": ""
             }
            },
            "type": "scatterpolargl"
           }
          ],
          "scatterternary": [
           {
            "marker": {
             "colorbar": {
              "outlinewidth": 0,
              "ticks": ""
             }
            },
            "type": "scatterternary"
           }
          ],
          "surface": [
           {
            "colorbar": {
             "outlinewidth": 0,
             "ticks": ""
            },
            "colorscale": [
             [
              0,
              "#0d0887"
             ],
             [
              0.1111111111111111,
              "#46039f"
             ],
             [
              0.2222222222222222,
              "#7201a8"
             ],
             [
              0.3333333333333333,
              "#9c179e"
             ],
             [
              0.4444444444444444,
              "#bd3786"
             ],
             [
              0.5555555555555556,
              "#d8576b"
             ],
             [
              0.6666666666666666,
              "#ed7953"
             ],
             [
              0.7777777777777778,
              "#fb9f3a"
             ],
             [
              0.8888888888888888,
              "#fdca26"
             ],
             [
              1,
              "#f0f921"
             ]
            ],
            "type": "surface"
           }
          ],
          "table": [
           {
            "cells": {
             "fill": {
              "color": "#EBF0F8"
             },
             "line": {
              "color": "white"
             }
            },
            "header": {
             "fill": {
              "color": "#C8D4E3"
             },
             "line": {
              "color": "white"
             }
            },
            "type": "table"
           }
          ]
         },
         "layout": {
          "annotationdefaults": {
           "arrowcolor": "#2a3f5f",
           "arrowhead": 0,
           "arrowwidth": 1
          },
          "autotypenumbers": "strict",
          "coloraxis": {
           "colorbar": {
            "outlinewidth": 0,
            "ticks": ""
           }
          },
          "colorscale": {
           "diverging": [
            [
             0,
             "#8e0152"
            ],
            [
             0.1,
             "#c51b7d"
            ],
            [
             0.2,
             "#de77ae"
            ],
            [
             0.3,
             "#f1b6da"
            ],
            [
             0.4,
             "#fde0ef"
            ],
            [
             0.5,
             "#f7f7f7"
            ],
            [
             0.6,
             "#e6f5d0"
            ],
            [
             0.7,
             "#b8e186"
            ],
            [
             0.8,
             "#7fbc41"
            ],
            [
             0.9,
             "#4d9221"
            ],
            [
             1,
             "#276419"
            ]
           ],
           "sequential": [
            [
             0,
             "#0d0887"
            ],
            [
             0.1111111111111111,
             "#46039f"
            ],
            [
             0.2222222222222222,
             "#7201a8"
            ],
            [
             0.3333333333333333,
             "#9c179e"
            ],
            [
             0.4444444444444444,
             "#bd3786"
            ],
            [
             0.5555555555555556,
             "#d8576b"
            ],
            [
             0.6666666666666666,
             "#ed7953"
            ],
            [
             0.7777777777777778,
             "#fb9f3a"
            ],
            [
             0.8888888888888888,
             "#fdca26"
            ],
            [
             1,
             "#f0f921"
            ]
           ],
           "sequentialminus": [
            [
             0,
             "#0d0887"
            ],
            [
             0.1111111111111111,
             "#46039f"
            ],
            [
             0.2222222222222222,
             "#7201a8"
            ],
            [
             0.3333333333333333,
             "#9c179e"
            ],
            [
             0.4444444444444444,
             "#bd3786"
            ],
            [
             0.5555555555555556,
             "#d8576b"
            ],
            [
             0.6666666666666666,
             "#ed7953"
            ],
            [
             0.7777777777777778,
             "#fb9f3a"
            ],
            [
             0.8888888888888888,
             "#fdca26"
            ],
            [
             1,
             "#f0f921"
            ]
           ]
          },
          "colorway": [
           "#636efa",
           "#EF553B",
           "#00cc96",
           "#ab63fa",
           "#FFA15A",
           "#19d3f3",
           "#FF6692",
           "#B6E880",
           "#FF97FF",
           "#FECB52"
          ],
          "font": {
           "color": "#2a3f5f"
          },
          "geo": {
           "bgcolor": "white",
           "lakecolor": "white",
           "landcolor": "#E5ECF6",
           "showlakes": true,
           "showland": true,
           "subunitcolor": "white"
          },
          "hoverlabel": {
           "align": "left"
          },
          "hovermode": "closest",
          "mapbox": {
           "style": "light"
          },
          "paper_bgcolor": "white",
          "plot_bgcolor": "#E5ECF6",
          "polar": {
           "angularaxis": {
            "gridcolor": "white",
            "linecolor": "white",
            "ticks": ""
           },
           "bgcolor": "#E5ECF6",
           "radialaxis": {
            "gridcolor": "white",
            "linecolor": "white",
            "ticks": ""
           }
          },
          "scene": {
           "xaxis": {
            "backgroundcolor": "#E5ECF6",
            "gridcolor": "white",
            "gridwidth": 2,
            "linecolor": "white",
            "showbackground": true,
            "ticks": "",
            "zerolinecolor": "white"
           },
           "yaxis": {
            "backgroundcolor": "#E5ECF6",
            "gridcolor": "white",
            "gridwidth": 2,
            "linecolor": "white",
            "showbackground": true,
            "ticks": "",
            "zerolinecolor": "white"
           },
           "zaxis": {
            "backgroundcolor": "#E5ECF6",
            "gridcolor": "white",
            "gridwidth": 2,
            "linecolor": "white",
            "showbackground": true,
            "ticks": "",
            "zerolinecolor": "white"
           }
          },
          "shapedefaults": {
           "line": {
            "color": "#2a3f5f"
           }
          },
          "ternary": {
           "aaxis": {
            "gridcolor": "white",
            "linecolor": "white",
            "ticks": ""
           },
           "baxis": {
            "gridcolor": "white",
            "linecolor": "white",
            "ticks": ""
           },
           "bgcolor": "#E5ECF6",
           "caxis": {
            "gridcolor": "white",
            "linecolor": "white",
            "ticks": ""
           }
          },
          "title": {
           "x": 0.05
          },
          "xaxis": {
           "automargin": true,
           "gridcolor": "white",
           "linecolor": "white",
           "ticks": "",
           "title": {
            "standoff": 15
           },
           "zerolinecolor": "white",
           "zerolinewidth": 2
          },
          "yaxis": {
           "automargin": true,
           "gridcolor": "white",
           "linecolor": "white",
           "ticks": "",
           "title": {
            "standoff": 15
           },
           "zerolinecolor": "white",
           "zerolinewidth": 2
          }
         }
        },
        "title": {
         "text": "Distribution of Inferred Cell Types"
        },
        "xaxis": {
         "title": {
          "text": "Cell Type"
         }
        },
        "yaxis": {
         "title": {
          "text": "Number of cells"
         }
        }
       }
      },
      "text/html": [
       "<div>                            <div id=\"913b390b-f962-4d5c-b7d1-18668351b88a\" class=\"plotly-graph-div\" style=\"height:525px; width:100%;\"></div>            <script type=\"text/javascript\">                require([\"plotly\"], function(Plotly) {                    window.PLOTLYENV=window.PLOTLYENV || {};                                    if (document.getElementById(\"913b390b-f962-4d5c-b7d1-18668351b88a\")) {                    Plotly.newPlot(                        \"913b390b-f962-4d5c-b7d1-18668351b88a\",                        [{\"name\":\"First Predicted Label\",\"x\":[\"Newborn\",\"vRG\",\"SST-MGE1\",\"oRG\",\"Upper Layer Occipital\",\"Upper Layer\",\"early\",\"Layer VI Occipital\",\"IPC/newborn\",\"Layer VI Pan-area\",\"Parietal and Temporal\",\"Upper Layer PFC\",\"Layer IV\",\"Deep Layer\",\"PFC\",\"IPC-div2\",\"IPC-div1\",\"oRG/Astrocyte\",\"late\",\"Outlier\",\"OPC\",\"Mural\",\"Microglia\",\"MGE2\",\"Endothelial\",\"IPC-new\"],\"y\":[48223,28937,25791,19590,18326,12682,11261,10925,8380,8366,7952,6892,4265,4140,3869,3470,2848,2549,2282,1651,859,679,545,474,143,22],\"type\":\"bar\"}],                        {\"template\":{\"data\":{\"histogram2dcontour\":[{\"type\":\"histogram2dcontour\",\"colorbar\":{\"outlinewidth\":0,\"ticks\":\"\"},\"colorscale\":[[0.0,\"#0d0887\"],[0.1111111111111111,\"#46039f\"],[0.2222222222222222,\"#7201a8\"],[0.3333333333333333,\"#9c179e\"],[0.4444444444444444,\"#bd3786\"],[0.5555555555555556,\"#d8576b\"],[0.6666666666666666,\"#ed7953\"],[0.7777777777777778,\"#fb9f3a\"],[0.8888888888888888,\"#fdca26\"],[1.0,\"#f0f921\"]]}],\"choropleth\":[{\"type\":\"choropleth\",\"colorbar\":{\"outlinewidth\":0,\"ticks\":\"\"}}],\"histogram2d\":[{\"type\":\"histogram2d\",\"colorbar\":{\"outlinewidth\":0,\"ticks\":\"\"},\"colorscale\":[[0.0,\"#0d0887\"],[0.1111111111111111,\"#46039f\"],[0.2222222222222222,\"#7201a8\"],[0.3333333333333333,\"#9c179e\"],[0.4444444444444444,\"#bd3786\"],[0.5555555555555556,\"#d8576b\"],[0.6666666666666666,\"#ed7953\"],[0.7777777777777778,\"#fb9f3a\"],[0.8888888888888888,\"#fdca26\"],[1.0,\"#f0f921\"]]}],\"heatmap\":[{\"type\":\"heatmap\",\"colorbar\":{\"outlinewidth\":0,\"ticks\":\"\"},\"colorscale\":[[0.0,\"#0d0887\"],[0.1111111111111111,\"#46039f\"],[0.2222222222222222,\"#7201a8\"],[0.3333333333333333,\"#9c179e\"],[0.4444444444444444,\"#bd3786\"],[0.5555555555555556,\"#d8576b\"],[0.6666666666666666,\"#ed7953\"],[0.7777777777777778,\"#fb9f3a\"],[0.8888888888888888,\"#fdca26\"],[1.0,\"#f0f921\"]]}],\"heatmapgl\":[{\"type\":\"heatmapgl\",\"colorbar\":{\"outlinewidth\":0,\"ticks\":\"\"},\"colorscale\":[[0.0,\"#0d0887\"],[0.1111111111111111,\"#46039f\"],[0.2222222222222222,\"#7201a8\"],[0.3333333333333333,\"#9c179e\"],[0.4444444444444444,\"#bd3786\"],[0.5555555555555556,\"#d8576b\"],[0.6666666666666666,\"#ed7953\"],[0.7777777777777778,\"#fb9f3a\"],[0.8888888888888888,\"#fdca26\"],[1.0,\"#f0f921\"]]}],\"contourcarpet\":[{\"type\":\"contourcarpet\",\"colorbar\":{\"outlinewidth\":0,\"ticks\":\"\"}}],\"contour\":[{\"type\":\"contour\",\"colorbar\":{\"outlinewidth\":0,\"ticks\":\"\"},\"colorscale\":[[0.0,\"#0d0887\"],[0.1111111111111111,\"#46039f\"],[0.2222222222222222,\"#7201a8\"],[0.3333333333333333,\"#9c179e\"],[0.4444444444444444,\"#bd3786\"],[0.5555555555555556,\"#d8576b\"],[0.6666666666666666,\"#ed7953\"],[0.7777777777777778,\"#fb9f3a\"],[0.8888888888888888,\"#fdca26\"],[1.0,\"#f0f921\"]]}],\"surface\":[{\"type\":\"surface\",\"colorbar\":{\"outlinewidth\":0,\"ticks\":\"\"},\"colorscale\":[[0.0,\"#0d0887\"],[0.1111111111111111,\"#46039f\"],[0.2222222222222222,\"#7201a8\"],[0.3333333333333333,\"#9c179e\"],[0.4444444444444444,\"#bd3786\"],[0.5555555555555556,\"#d8576b\"],[0.6666666666666666,\"#ed7953\"],[0.7777777777777778,\"#fb9f3a\"],[0.8888888888888888,\"#fdca26\"],[1.0,\"#f0f921\"]]}],\"mesh3d\":[{\"type\":\"mesh3d\",\"colorbar\":{\"outlinewidth\":0,\"ticks\":\"\"}}],\"scatter\":[{\"fillpattern\":{\"fillmode\":\"overlay\",\"size\":10,\"solidity\":0.2},\"type\":\"scatter\"}],\"parcoords\":[{\"type\":\"parcoords\",\"line\":{\"colorbar\":{\"outlinewidth\":0,\"ticks\":\"\"}}}],\"scatterpolargl\":[{\"type\":\"scatterpolargl\",\"marker\":{\"colorbar\":{\"outlinewidth\":0,\"ticks\":\"\"}}}],\"bar\":[{\"error_x\":{\"color\":\"#2a3f5f\"},\"error_y\":{\"color\":\"#2a3f5f\"},\"marker\":{\"line\":{\"color\":\"#E5ECF6\",\"width\":0.5},\"pattern\":{\"fillmode\":\"overlay\",\"size\":10,\"solidity\":0.2}},\"type\":\"bar\"}],\"scattergeo\":[{\"type\":\"scattergeo\",\"marker\":{\"colorbar\":{\"outlinewidth\":0,\"ticks\":\"\"}}}],\"scatterpolar\":[{\"type\":\"scatterpolar\",\"marker\":{\"colorbar\":{\"outlinewidth\":0,\"ticks\":\"\"}}}],\"histogram\":[{\"marker\":{\"pattern\":{\"fillmode\":\"overlay\",\"size\":10,\"solidity\":0.2}},\"type\":\"histogram\"}],\"scattergl\":[{\"type\":\"scattergl\",\"marker\":{\"colorbar\":{\"outlinewidth\":0,\"ticks\":\"\"}}}],\"scatter3d\":[{\"type\":\"scatter3d\",\"line\":{\"colorbar\":{\"outlinewidth\":0,\"ticks\":\"\"}},\"marker\":{\"colorbar\":{\"outlinewidth\":0,\"ticks\":\"\"}}}],\"scattermapbox\":[{\"type\":\"scattermapbox\",\"marker\":{\"colorbar\":{\"outlinewidth\":0,\"ticks\":\"\"}}}],\"scatterternary\":[{\"type\":\"scatterternary\",\"marker\":{\"colorbar\":{\"outlinewidth\":0,\"ticks\":\"\"}}}],\"scattercarpet\":[{\"type\":\"scattercarpet\",\"marker\":{\"colorbar\":{\"outlinewidth\":0,\"ticks\":\"\"}}}],\"carpet\":[{\"aaxis\":{\"endlinecolor\":\"#2a3f5f\",\"gridcolor\":\"white\",\"linecolor\":\"white\",\"minorgridcolor\":\"white\",\"startlinecolor\":\"#2a3f5f\"},\"baxis\":{\"endlinecolor\":\"#2a3f5f\",\"gridcolor\":\"white\",\"linecolor\":\"white\",\"minorgridcolor\":\"white\",\"startlinecolor\":\"#2a3f5f\"},\"type\":\"carpet\"}],\"table\":[{\"cells\":{\"fill\":{\"color\":\"#EBF0F8\"},\"line\":{\"color\":\"white\"}},\"header\":{\"fill\":{\"color\":\"#C8D4E3\"},\"line\":{\"color\":\"white\"}},\"type\":\"table\"}],\"barpolar\":[{\"marker\":{\"line\":{\"color\":\"#E5ECF6\",\"width\":0.5},\"pattern\":{\"fillmode\":\"overlay\",\"size\":10,\"solidity\":0.2}},\"type\":\"barpolar\"}],\"pie\":[{\"automargin\":true,\"type\":\"pie\"}]},\"layout\":{\"autotypenumbers\":\"strict\",\"colorway\":[\"#636efa\",\"#EF553B\",\"#00cc96\",\"#ab63fa\",\"#FFA15A\",\"#19d3f3\",\"#FF6692\",\"#B6E880\",\"#FF97FF\",\"#FECB52\"],\"font\":{\"color\":\"#2a3f5f\"},\"hovermode\":\"closest\",\"hoverlabel\":{\"align\":\"left\"},\"paper_bgcolor\":\"white\",\"plot_bgcolor\":\"#E5ECF6\",\"polar\":{\"bgcolor\":\"#E5ECF6\",\"angularaxis\":{\"gridcolor\":\"white\",\"linecolor\":\"white\",\"ticks\":\"\"},\"radialaxis\":{\"gridcolor\":\"white\",\"linecolor\":\"white\",\"ticks\":\"\"}},\"ternary\":{\"bgcolor\":\"#E5ECF6\",\"aaxis\":{\"gridcolor\":\"white\",\"linecolor\":\"white\",\"ticks\":\"\"},\"baxis\":{\"gridcolor\":\"white\",\"linecolor\":\"white\",\"ticks\":\"\"},\"caxis\":{\"gridcolor\":\"white\",\"linecolor\":\"white\",\"ticks\":\"\"}},\"coloraxis\":{\"colorbar\":{\"outlinewidth\":0,\"ticks\":\"\"}},\"colorscale\":{\"sequential\":[[0.0,\"#0d0887\"],[0.1111111111111111,\"#46039f\"],[0.2222222222222222,\"#7201a8\"],[0.3333333333333333,\"#9c179e\"],[0.4444444444444444,\"#bd3786\"],[0.5555555555555556,\"#d8576b\"],[0.6666666666666666,\"#ed7953\"],[0.7777777777777778,\"#fb9f3a\"],[0.8888888888888888,\"#fdca26\"],[1.0,\"#f0f921\"]],\"sequentialminus\":[[0.0,\"#0d0887\"],[0.1111111111111111,\"#46039f\"],[0.2222222222222222,\"#7201a8\"],[0.3333333333333333,\"#9c179e\"],[0.4444444444444444,\"#bd3786\"],[0.5555555555555556,\"#d8576b\"],[0.6666666666666666,\"#ed7953\"],[0.7777777777777778,\"#fb9f3a\"],[0.8888888888888888,\"#fdca26\"],[1.0,\"#f0f921\"]],\"diverging\":[[0,\"#8e0152\"],[0.1,\"#c51b7d\"],[0.2,\"#de77ae\"],[0.3,\"#f1b6da\"],[0.4,\"#fde0ef\"],[0.5,\"#f7f7f7\"],[0.6,\"#e6f5d0\"],[0.7,\"#b8e186\"],[0.8,\"#7fbc41\"],[0.9,\"#4d9221\"],[1,\"#276419\"]]},\"xaxis\":{\"gridcolor\":\"white\",\"linecolor\":\"white\",\"ticks\":\"\",\"title\":{\"standoff\":15},\"zerolinecolor\":\"white\",\"automargin\":true,\"zerolinewidth\":2},\"yaxis\":{\"gridcolor\":\"white\",\"linecolor\":\"white\",\"ticks\":\"\",\"title\":{\"standoff\":15},\"zerolinecolor\":\"white\",\"automargin\":true,\"zerolinewidth\":2},\"scene\":{\"xaxis\":{\"backgroundcolor\":\"#E5ECF6\",\"gridcolor\":\"white\",\"linecolor\":\"white\",\"showbackground\":true,\"ticks\":\"\",\"zerolinecolor\":\"white\",\"gridwidth\":2},\"yaxis\":{\"backgroundcolor\":\"#E5ECF6\",\"gridcolor\":\"white\",\"linecolor\":\"white\",\"showbackground\":true,\"ticks\":\"\",\"zerolinecolor\":\"white\",\"gridwidth\":2},\"zaxis\":{\"backgroundcolor\":\"#E5ECF6\",\"gridcolor\":\"white\",\"linecolor\":\"white\",\"showbackground\":true,\"ticks\":\"\",\"zerolinecolor\":\"white\",\"gridwidth\":2}},\"shapedefaults\":{\"line\":{\"color\":\"#2a3f5f\"}},\"annotationdefaults\":{\"arrowcolor\":\"#2a3f5f\",\"arrowhead\":0,\"arrowwidth\":1},\"geo\":{\"bgcolor\":\"white\",\"landcolor\":\"#E5ECF6\",\"subunitcolor\":\"white\",\"showland\":true,\"showlakes\":true,\"lakecolor\":\"white\"},\"title\":{\"x\":0.05},\"mapbox\":{\"style\":\"light\"}}},\"font\":{\"family\":\"Serif\"},\"title\":{\"text\":\"Distribution of Inferred Cell Types\"},\"xaxis\":{\"title\":{\"text\":\"Cell Type\"}},\"yaxis\":{\"title\":{\"text\":\"Number of cells\"}},\"barmode\":\"group\"},                        {\"responsive\": true}                    ).then(function(){\n",
       "                            \n",
       "var gd = document.getElementById('913b390b-f962-4d5c-b7d1-18668351b88a');\n",
       "var x = new MutationObserver(function (mutations, observer) {{\n",
       "        var display = window.getComputedStyle(gd).display;\n",
       "        if (!display || display === 'none') {{\n",
       "            console.log([gd, 'removed!']);\n",
       "            Plotly.purge(gd);\n",
       "            observer.disconnect();\n",
       "        }}\n",
       "}});\n",
       "\n",
       "// Listen for the removal of the full notebook cells\n",
       "var notebookContainer = gd.closest('#notebook-container');\n",
       "if (notebookContainer) {{\n",
       "    x.observe(notebookContainer, {childList: true});\n",
       "}}\n",
       "\n",
       "// Listen for the clearing of the current output cell\n",
       "var outputEl = gd.closest('.output');\n",
       "if (outputEl) {{\n",
       "    x.observe(outputEl, {childList: true});\n",
       "}}\n",
       "\n",
       "                        })                };                });            </script>        </div>"
      ]
     },
     "metadata": {},
     "output_type": "display_data"
    }
   ],
   "source": [
    "first = pd.Series(le.inverse_transform(topk.loc[:, 0])).value_counts()\n",
    "second = pd.Series(le.inverse_transform(topk.loc[:, 1])).value_counts()\n",
    "\n",
    "fig = go.Figure(\n",
    "    data=[\n",
    "        go.Bar(x=first.index, y=first.values, name='First Predicted Label'),\n",
    "#         go.Bar(x=second.index, y=second.values, name='Second Predicted Label')\n",
    "    ]\n",
    ")\n",
    "\n",
    "fig.update_layout(\n",
    "    title='Distribution of Inferred Cell Types',\n",
    "    font_family='Serif',\n",
    "    xaxis_title='Cell Type',\n",
    "    yaxis_title='Number of cells',\n",
    "#     showlegend=False,\n",
    "    barmode='group'\n",
    ")\n",
    "\n",
    "fig.show()\n",
    "fig.write_image('../../ms-thesis/images/bhaduri_inferred_labels.pdf', scale=3)"
   ]
  },
  {
   "cell_type": "code",
   "execution_count": 81,
   "id": "77ad26c7",
   "metadata": {},
   "outputs": [],
   "source": [
    "import plotly.express as px \n",
    "\n",
    "organoid_tsne = pd.read_csv('../data/bhaduri/organoid_tsne.tsv', sep='\\t', header=None)\n",
    "\n",
    "organoid_tsne = organoid_tsne.rename(columns={1: 'x', 2: 'y'})"
   ]
  },
  {
   "cell_type": "code",
   "execution_count": 59,
   "id": "fcba1b39",
   "metadata": {},
   "outputs": [
    {
     "data": {
      "text/plain": [
       "0"
      ]
     },
     "execution_count": 59,
     "metadata": {},
     "output_type": "execute_result"
    }
   ],
   "source": [
    "labels = pd.read_csv('../data/bhaduri/organoid_labels_clean.csv')\n",
    "org_labels['predicted'] = topk.loc[:, 0]\n",
    "\n",
    "org_labels['predicted'].isna().sum()"
   ]
  },
  {
   "cell_type": "code",
   "execution_count": 67,
   "id": "9f2c2721",
   "metadata": {
    "scrolled": true
   },
   "outputs": [
    {
     "name": "stderr",
     "output_type": "stream",
     "text": [
      "\n",
      "KeyboardInterrupt\n",
      "\n"
     ]
    }
   ],
   "source": [
    "import matplotlib.pyplot as plt \n",
    "\n",
    "plt.scatter(organoid_tsne[0], organoid_tsne[1], c=org_labels['predicted'].astype(int).values)\n",
    "\n",
    "plt.show()"
   ]
  },
  {
   "cell_type": "code",
   "execution_count": 84,
   "id": "6244cca3",
   "metadata": {},
   "outputs": [
    {
     "data": {
      "text/plain": [
       "<seaborn.axisgrid.FacetGrid at 0x7f8266754640>"
      ]
     },
     "execution_count": 84,
     "metadata": {},
     "output_type": "execute_result"
    },
    {
     "data": {
      "image/png": "[encoded data removed]",
      "text/plain": [
       "<Figure size 415.375x360 with 1 Axes>"
      ]
     },
     "metadata": {
      "needs_background": "light"
     },
     "output_type": "display_data"
    }
   ],
   "source": [
    "import seaborn as sns\n",
    "\n",
    "organoid_tsne['predicted'] = topk.loc[:, 0]\n",
    "\n",
    "sns.lmplot(x='x', y='y', data=organoid_tsne, hue='predicted', fit_reg=False, scatter_kws={\"s\": 1})"
   ]
  },
  {
   "cell_type": "code",
   "execution_count": null,
   "id": "3586524d",
   "metadata": {},
   "outputs": [],
   "source": []
  }
 ],
 "metadata": {
  "kernelspec": {
   "display_name": "sims",
   "language": "python",
   "name": "sims"
  },
  "language_info": {
   "codemirror_mode": {
    "name": "ipython",
    "version": 3
   },
   "file_extension": ".py",
   "mimetype": "text/x-python",
   "name": "python",
   "nbconvert_exporter": "python",
   "pygments_lexer": "ipython3",
   "version": "3.9.12"
  }
 },
 "nbformat": 4,
 "nbformat_minor": 5
}

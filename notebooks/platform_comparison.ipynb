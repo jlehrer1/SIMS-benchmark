{
 "cells": [
  {
   "cell_type": "code",
   "execution_count": 28,
   "id": "424e6694",
   "metadata": {},
   "outputs": [],
   "source": [
    "import scsims \n",
    "import pandas as pd \n",
    "import anndata as an\n",
    "import matplotlib.pyplot as plt \n",
    "import scanpy as sc "
   ]
  },
  {
   "cell_type": "code",
   "execution_count": 29,
   "id": "bc57e588",
   "metadata": {},
   "outputs": [
    {
     "name": "stderr",
     "output_type": "stream",
     "text": [
      "/Users/julian/miniconda3/envs/sims/lib/python3.9/site-packages/anndata/_core/anndata.py:121: ImplicitModificationWarning: Transforming to str index.\n",
      "  warnings.warn(\"Transforming to str index.\", ImplicitModificationWarning)\n"
     ]
    }
   ],
   "source": [
    "data = an.read_h5ad('../data/benchmark/mouse_data.h5ad')"
   ]
  },
  {
   "cell_type": "code",
   "execution_count": 30,
   "id": "f271f595",
   "metadata": {},
   "outputs": [
    {
     "data": {
      "text/plain": [
       "AnnData object with n_obs × n_vars = 73363 × 45768\n",
       "    obs: 'index'"
      ]
     },
     "execution_count": 30,
     "metadata": {},
     "output_type": "execute_result"
    }
   ],
   "source": [
    "data"
   ]
  },
  {
   "cell_type": "code",
   "execution_count": 6,
   "id": "fdc01b1e",
   "metadata": {
    "scrolled": true
   },
   "outputs": [
    {
     "name": "stderr",
     "output_type": "stream",
     "text": [
      "/var/folders/pd/jsjcl0fn7w57s5mfr34b20pm0000gn/T/ipykernel_43006/1489111139.py:1: DtypeWarning: Columns (22) have mixed types. Specify dtype option on import or set low_memory=False.\n",
      "  df = pd.read_csv('../data/benchmark/mouse_labels_clean.csv')\n"
     ]
    },
    {
     "data": {
      "text/html": [
       "<div>\n",
       "<style scoped>\n",
       "    .dataframe tbody tr th:only-of-type {\n",
       "        vertical-align: middle;\n",
       "    }\n",
       "\n",
       "    .dataframe tbody tr th {\n",
       "        vertical-align: top;\n",
       "    }\n",
       "\n",
       "    .dataframe thead th {\n",
       "        text-align: right;\n",
       "    }\n",
       "</style>\n",
       "<table border=\"1\" class=\"dataframe\">\n",
       "  <thead>\n",
       "    <tr style=\"text-align: right;\">\n",
       "      <th></th>\n",
       "      <th>cell</th>\n",
       "      <th>sample_name</th>\n",
       "      <th>donor_sex_id</th>\n",
       "      <th>donor_sex_label</th>\n",
       "      <th>donor_sex_color</th>\n",
       "      <th>region_id</th>\n",
       "      <th>region_label</th>\n",
       "      <th>region_color</th>\n",
       "      <th>platform_label</th>\n",
       "      <th>cluster_order</th>\n",
       "      <th>...</th>\n",
       "      <th>cell_type_alias_id</th>\n",
       "      <th>cell_type_accession_id</th>\n",
       "      <th>cell_type_designation_color</th>\n",
       "      <th>cell_type_alt_alias_color</th>\n",
       "      <th>cell_type_alias_color</th>\n",
       "      <th>cell_type_accession_color</th>\n",
       "      <th>cortical_layer_label</th>\n",
       "      <th>cortical_layer_order</th>\n",
       "      <th>cortical_layer_color</th>\n",
       "      <th>categorical_subclass_label</th>\n",
       "    </tr>\n",
       "  </thead>\n",
       "  <tbody>\n",
       "    <tr>\n",
       "      <th>0</th>\n",
       "      <td>0</td>\n",
       "      <td>US-1250273_E1_S37</td>\n",
       "      <td>1</td>\n",
       "      <td>F</td>\n",
       "      <td>#565353</td>\n",
       "      <td>1</td>\n",
       "      <td>VISp</td>\n",
       "      <td>#9299FF</td>\n",
       "      <td>SS</td>\n",
       "      <td>259</td>\n",
       "      <td>...</td>\n",
       "      <td>259</td>\n",
       "      <td>259</td>\n",
       "      <td>#286291</td>\n",
       "      <td>#286291</td>\n",
       "      <td>#286291</td>\n",
       "      <td>#286291</td>\n",
       "      <td>L4/5/6</td>\n",
       "      <td>11</td>\n",
       "      <td>#7373FF</td>\n",
       "      <td>L5 PT CTX</td>\n",
       "    </tr>\n",
       "    <tr>\n",
       "      <th>1</th>\n",
       "      <td>1</td>\n",
       "      <td>US-1250273_E2_S01</td>\n",
       "      <td>2</td>\n",
       "      <td>M</td>\n",
       "      <td>#ADC4C3</td>\n",
       "      <td>1</td>\n",
       "      <td>VISp</td>\n",
       "      <td>#9299FF</td>\n",
       "      <td>SS</td>\n",
       "      <td>259</td>\n",
       "      <td>...</td>\n",
       "      <td>259</td>\n",
       "      <td>259</td>\n",
       "      <td>#286291</td>\n",
       "      <td>#286291</td>\n",
       "      <td>#286291</td>\n",
       "      <td>#286291</td>\n",
       "      <td>L4/5/6</td>\n",
       "      <td>11</td>\n",
       "      <td>#7373FF</td>\n",
       "      <td>L5 PT CTX</td>\n",
       "    </tr>\n",
       "    <tr>\n",
       "      <th>2</th>\n",
       "      <td>2</td>\n",
       "      <td>US-1250273_E2_S02</td>\n",
       "      <td>2</td>\n",
       "      <td>M</td>\n",
       "      <td>#ADC4C3</td>\n",
       "      <td>1</td>\n",
       "      <td>VISp</td>\n",
       "      <td>#9299FF</td>\n",
       "      <td>SS</td>\n",
       "      <td>259</td>\n",
       "      <td>...</td>\n",
       "      <td>259</td>\n",
       "      <td>259</td>\n",
       "      <td>#286291</td>\n",
       "      <td>#286291</td>\n",
       "      <td>#286291</td>\n",
       "      <td>#286291</td>\n",
       "      <td>L4/5/6</td>\n",
       "      <td>11</td>\n",
       "      <td>#7373FF</td>\n",
       "      <td>L5 PT CTX</td>\n",
       "    </tr>\n",
       "    <tr>\n",
       "      <th>3</th>\n",
       "      <td>3</td>\n",
       "      <td>US-1250273_E2_S03</td>\n",
       "      <td>2</td>\n",
       "      <td>M</td>\n",
       "      <td>#ADC4C3</td>\n",
       "      <td>1</td>\n",
       "      <td>VISp</td>\n",
       "      <td>#9299FF</td>\n",
       "      <td>SS</td>\n",
       "      <td>197</td>\n",
       "      <td>...</td>\n",
       "      <td>197</td>\n",
       "      <td>197</td>\n",
       "      <td>#4EA8AC</td>\n",
       "      <td>#4EA8AC</td>\n",
       "      <td>#4EA8AC</td>\n",
       "      <td>#4EA8AC</td>\n",
       "      <td>L4/5/6</td>\n",
       "      <td>11</td>\n",
       "      <td>#7373FF</td>\n",
       "      <td>L5 IT CTX</td>\n",
       "    </tr>\n",
       "    <tr>\n",
       "      <th>4</th>\n",
       "      <td>4</td>\n",
       "      <td>US-1250273_E2_S04</td>\n",
       "      <td>2</td>\n",
       "      <td>M</td>\n",
       "      <td>#ADC4C3</td>\n",
       "      <td>1</td>\n",
       "      <td>VISp</td>\n",
       "      <td>#9299FF</td>\n",
       "      <td>SS</td>\n",
       "      <td>245</td>\n",
       "      <td>...</td>\n",
       "      <td>245</td>\n",
       "      <td>245</td>\n",
       "      <td>#0D5D7E</td>\n",
       "      <td>#0D5D7E</td>\n",
       "      <td>#0D5D7E</td>\n",
       "      <td>#0D5D7E</td>\n",
       "      <td>L4/5/6</td>\n",
       "      <td>11</td>\n",
       "      <td>#7373FF</td>\n",
       "      <td>L5 PT CTX</td>\n",
       "    </tr>\n",
       "    <tr>\n",
       "      <th>...</th>\n",
       "      <td>...</td>\n",
       "      <td>...</td>\n",
       "      <td>...</td>\n",
       "      <td>...</td>\n",
       "      <td>...</td>\n",
       "      <td>...</td>\n",
       "      <td>...</td>\n",
       "      <td>...</td>\n",
       "      <td>...</td>\n",
       "      <td>...</td>\n",
       "      <td>...</td>\n",
       "      <td>...</td>\n",
       "      <td>...</td>\n",
       "      <td>...</td>\n",
       "      <td>...</td>\n",
       "      <td>...</td>\n",
       "      <td>...</td>\n",
       "      <td>...</td>\n",
       "      <td>...</td>\n",
       "      <td>...</td>\n",
       "      <td>...</td>\n",
       "    </tr>\n",
       "    <tr>\n",
       "      <th>73342</th>\n",
       "      <td>73342</td>\n",
       "      <td>SM-J39VT_S475_E1-50</td>\n",
       "      <td>1</td>\n",
       "      <td>F</td>\n",
       "      <td>#565353</td>\n",
       "      <td>7</td>\n",
       "      <td>SSp</td>\n",
       "      <td>#EA8663</td>\n",
       "      <td>SS</td>\n",
       "      <td>201</td>\n",
       "      <td>...</td>\n",
       "      <td>201</td>\n",
       "      <td>201</td>\n",
       "      <td>#61867A</td>\n",
       "      <td>#61867A</td>\n",
       "      <td>#61867A</td>\n",
       "      <td>#61867A</td>\n",
       "      <td>All</td>\n",
       "      <td>17</td>\n",
       "      <td>#A7CC5C</td>\n",
       "      <td>L5 IT CTX</td>\n",
       "    </tr>\n",
       "    <tr>\n",
       "      <th>73343</th>\n",
       "      <td>73343</td>\n",
       "      <td>SM-J39VT_S476_E1-50</td>\n",
       "      <td>1</td>\n",
       "      <td>F</td>\n",
       "      <td>#565353</td>\n",
       "      <td>7</td>\n",
       "      <td>SSp</td>\n",
       "      <td>#EA8663</td>\n",
       "      <td>SS</td>\n",
       "      <td>15</td>\n",
       "      <td>...</td>\n",
       "      <td>15</td>\n",
       "      <td>15</td>\n",
       "      <td>#A6666F</td>\n",
       "      <td>#A6666F</td>\n",
       "      <td>#A6666F</td>\n",
       "      <td>#A6666F</td>\n",
       "      <td>All</td>\n",
       "      <td>17</td>\n",
       "      <td>#A7CC5C</td>\n",
       "      <td>Lamp5</td>\n",
       "    </tr>\n",
       "    <tr>\n",
       "      <th>73344</th>\n",
       "      <td>73344</td>\n",
       "      <td>SM-J39VT_S478_E1-50</td>\n",
       "      <td>1</td>\n",
       "      <td>F</td>\n",
       "      <td>#565353</td>\n",
       "      <td>7</td>\n",
       "      <td>SSp</td>\n",
       "      <td>#EA8663</td>\n",
       "      <td>SS</td>\n",
       "      <td>123</td>\n",
       "      <td>...</td>\n",
       "      <td>123</td>\n",
       "      <td>123</td>\n",
       "      <td>#DC4649</td>\n",
       "      <td>#DC4649</td>\n",
       "      <td>#DC4649</td>\n",
       "      <td>#DC4649</td>\n",
       "      <td>All</td>\n",
       "      <td>17</td>\n",
       "      <td>#A7CC5C</td>\n",
       "      <td>Pvalb</td>\n",
       "    </tr>\n",
       "    <tr>\n",
       "      <th>73345</th>\n",
       "      <td>73345</td>\n",
       "      <td>SM-J39VT_S479_E1-50</td>\n",
       "      <td>1</td>\n",
       "      <td>F</td>\n",
       "      <td>#565353</td>\n",
       "      <td>7</td>\n",
       "      <td>SSp</td>\n",
       "      <td>#EA8663</td>\n",
       "      <td>SS</td>\n",
       "      <td>182</td>\n",
       "      <td>...</td>\n",
       "      <td>182</td>\n",
       "      <td>182</td>\n",
       "      <td>#0E9797</td>\n",
       "      <td>#0E9797</td>\n",
       "      <td>#0E9797</td>\n",
       "      <td>#0E9797</td>\n",
       "      <td>All</td>\n",
       "      <td>17</td>\n",
       "      <td>#A7CC5C</td>\n",
       "      <td>L4/5 IT CTX</td>\n",
       "    </tr>\n",
       "    <tr>\n",
       "      <th>73346</th>\n",
       "      <td>73346</td>\n",
       "      <td>SM-J39VT_S480_E1-50</td>\n",
       "      <td>1</td>\n",
       "      <td>F</td>\n",
       "      <td>#565353</td>\n",
       "      <td>7</td>\n",
       "      <td>SSp</td>\n",
       "      <td>#EA8663</td>\n",
       "      <td>SS</td>\n",
       "      <td>168</td>\n",
       "      <td>...</td>\n",
       "      <td>168</td>\n",
       "      <td>168</td>\n",
       "      <td>#02F970</td>\n",
       "      <td>#02F970</td>\n",
       "      <td>#02F970</td>\n",
       "      <td>#02F970</td>\n",
       "      <td>All</td>\n",
       "      <td>17</td>\n",
       "      <td>#A7CC5C</td>\n",
       "      <td>L2/3 IT CTX</td>\n",
       "    </tr>\n",
       "  </tbody>\n",
       "</table>\n",
       "<p>73347 rows × 59 columns</p>\n",
       "</div>"
      ],
      "text/plain": [
       "        cell          sample_name  donor_sex_id donor_sex_label  \\\n",
       "0          0    US-1250273_E1_S37             1               F   \n",
       "1          1    US-1250273_E2_S01             2               M   \n",
       "2          2    US-1250273_E2_S02             2               M   \n",
       "3          3    US-1250273_E2_S03             2               M   \n",
       "4          4    US-1250273_E2_S04             2               M   \n",
       "...      ...                  ...           ...             ...   \n",
       "73342  73342  SM-J39VT_S475_E1-50             1               F   \n",
       "73343  73343  SM-J39VT_S476_E1-50             1               F   \n",
       "73344  73344  SM-J39VT_S478_E1-50             1               F   \n",
       "73345  73345  SM-J39VT_S479_E1-50             1               F   \n",
       "73346  73346  SM-J39VT_S480_E1-50             1               F   \n",
       "\n",
       "      donor_sex_color  region_id region_label region_color platform_label  \\\n",
       "0             #565353          1         VISp      #9299FF             SS   \n",
       "1             #ADC4C3          1         VISp      #9299FF             SS   \n",
       "2             #ADC4C3          1         VISp      #9299FF             SS   \n",
       "3             #ADC4C3          1         VISp      #9299FF             SS   \n",
       "4             #ADC4C3          1         VISp      #9299FF             SS   \n",
       "...               ...        ...          ...          ...            ...   \n",
       "73342         #565353          7          SSp      #EA8663             SS   \n",
       "73343         #565353          7          SSp      #EA8663             SS   \n",
       "73344         #565353          7          SSp      #EA8663             SS   \n",
       "73345         #565353          7          SSp      #EA8663             SS   \n",
       "73346         #565353          7          SSp      #EA8663             SS   \n",
       "\n",
       "       cluster_order  ... cell_type_alias_id cell_type_accession_id  \\\n",
       "0                259  ...                259                    259   \n",
       "1                259  ...                259                    259   \n",
       "2                259  ...                259                    259   \n",
       "3                197  ...                197                    197   \n",
       "4                245  ...                245                    245   \n",
       "...              ...  ...                ...                    ...   \n",
       "73342            201  ...                201                    201   \n",
       "73343             15  ...                 15                     15   \n",
       "73344            123  ...                123                    123   \n",
       "73345            182  ...                182                    182   \n",
       "73346            168  ...                168                    168   \n",
       "\n",
       "       cell_type_designation_color  cell_type_alt_alias_color  \\\n",
       "0                          #286291                    #286291   \n",
       "1                          #286291                    #286291   \n",
       "2                          #286291                    #286291   \n",
       "3                          #4EA8AC                    #4EA8AC   \n",
       "4                          #0D5D7E                    #0D5D7E   \n",
       "...                            ...                        ...   \n",
       "73342                      #61867A                    #61867A   \n",
       "73343                      #A6666F                    #A6666F   \n",
       "73344                      #DC4649                    #DC4649   \n",
       "73345                      #0E9797                    #0E9797   \n",
       "73346                      #02F970                    #02F970   \n",
       "\n",
       "      cell_type_alias_color  cell_type_accession_color cortical_layer_label  \\\n",
       "0                   #286291                    #286291               L4/5/6   \n",
       "1                   #286291                    #286291               L4/5/6   \n",
       "2                   #286291                    #286291               L4/5/6   \n",
       "3                   #4EA8AC                    #4EA8AC               L4/5/6   \n",
       "4                   #0D5D7E                    #0D5D7E               L4/5/6   \n",
       "...                     ...                        ...                  ...   \n",
       "73342               #61867A                    #61867A                  All   \n",
       "73343               #A6666F                    #A6666F                  All   \n",
       "73344               #DC4649                    #DC4649                  All   \n",
       "73345               #0E9797                    #0E9797                  All   \n",
       "73346               #02F970                    #02F970                  All   \n",
       "\n",
       "      cortical_layer_order  cortical_layer_color categorical_subclass_label  \n",
       "0                       11               #7373FF                  L5 PT CTX  \n",
       "1                       11               #7373FF                  L5 PT CTX  \n",
       "2                       11               #7373FF                  L5 PT CTX  \n",
       "3                       11               #7373FF                  L5 IT CTX  \n",
       "4                       11               #7373FF                  L5 PT CTX  \n",
       "...                    ...                   ...                        ...  \n",
       "73342                   17               #A7CC5C                  L5 IT CTX  \n",
       "73343                   17               #A7CC5C                      Lamp5  \n",
       "73344                   17               #A7CC5C                      Pvalb  \n",
       "73345                   17               #A7CC5C                L4/5 IT CTX  \n",
       "73346                   17               #A7CC5C                L2/3 IT CTX  \n",
       "\n",
       "[73347 rows x 59 columns]"
      ]
     },
     "execution_count": 6,
     "metadata": {},
     "output_type": "execute_result"
    }
   ],
   "source": [
    "df = pd.read_csv('../data/benchmark/mouse_labels_clean.csv')\n",
    "\n",
    "df"
   ]
  },
  {
   "cell_type": "code",
   "execution_count": 11,
   "id": "53647caa",
   "metadata": {
    "scrolled": true
   },
   "outputs": [
    {
     "data": {
      "text/plain": [
       "Index(['cell', 'sample_name', 'donor_sex_id', 'donor_sex_label',\n",
       "       'donor_sex_color', 'region_id', 'region_label', 'region_color',\n",
       "       'platform_label', 'cluster_order', 'cluster_label', 'cluster_color',\n",
       "       'subclass_order', 'subclass_label', 'subclass_color', 'neighborhood_id',\n",
       "       'neighborhood_label', 'neighborhood_color', 'class_order',\n",
       "       'class_label', 'class_color', 'exp_component_name',\n",
       "       'external_donor_name_label', 'full_genotype_label',\n",
       "       'facs_population_plan_label', 'injection_roi_label',\n",
       "       'injection_materials_label', 'injection_method_label',\n",
       "       'injection_type_label', 'full_genotype_id', 'full_genotype_color',\n",
       "       'external_donor_name_id', 'external_donor_name_color',\n",
       "       'facs_population_plan_id', 'facs_population_plan_color',\n",
       "       'injection_materials_id', 'injection_materials_color',\n",
       "       'injection_method_id', 'injection_method_color', 'injection_roi_id',\n",
       "       'injection_roi_color', 'injection_type_id', 'injection_type_color',\n",
       "       'cell_type_accession_label', 'cell_type_alias_label',\n",
       "       'cell_type_alt_alias_label', 'cell_type_designation_label',\n",
       "       'cell_type_designation_id', 'cell_type_alt_alias_id',\n",
       "       'cell_type_alias_id', 'cell_type_accession_id',\n",
       "       'cell_type_designation_color', 'cell_type_alt_alias_color',\n",
       "       'cell_type_alias_color', 'cell_type_accession_color',\n",
       "       'cortical_layer_label', 'cortical_layer_order', 'cortical_layer_color',\n",
       "       'categorical_subclass_label'],\n",
       "      dtype='object')"
      ]
     },
     "execution_count": 11,
     "metadata": {},
     "output_type": "execute_result"
    }
   ],
   "source": [
    "df.columns"
   ]
  },
  {
   "cell_type": "code",
   "execution_count": 12,
   "id": "9aef9600",
   "metadata": {},
   "outputs": [
    {
     "data": {
      "text/plain": [
       "0    0\n",
       "1    1\n",
       "2    2\n",
       "3    3\n",
       "4    4\n",
       "Name: cell, dtype: int64"
      ]
     },
     "metadata": {},
     "output_type": "display_data"
    },
    {
     "data": {
      "text/plain": [
       "0    US-1250273_E1_S37\n",
       "1    US-1250273_E2_S01\n",
       "2    US-1250273_E2_S02\n",
       "3    US-1250273_E2_S03\n",
       "4    US-1250273_E2_S04\n",
       "Name: sample_name, dtype: object"
      ]
     },
     "metadata": {},
     "output_type": "display_data"
    },
    {
     "data": {
      "text/plain": [
       "0    1\n",
       "1    2\n",
       "2    2\n",
       "3    2\n",
       "4    2\n",
       "Name: donor_sex_id, dtype: int64"
      ]
     },
     "metadata": {},
     "output_type": "display_data"
    },
    {
     "data": {
      "text/plain": [
       "0    F\n",
       "1    M\n",
       "2    M\n",
       "3    M\n",
       "4    M\n",
       "Name: donor_sex_label, dtype: object"
      ]
     },
     "metadata": {},
     "output_type": "display_data"
    },
    {
     "data": {
      "text/plain": [
       "0    #565353\n",
       "1    #ADC4C3\n",
       "2    #ADC4C3\n",
       "3    #ADC4C3\n",
       "4    #ADC4C3\n",
       "Name: donor_sex_color, dtype: object"
      ]
     },
     "metadata": {},
     "output_type": "display_data"
    },
    {
     "data": {
      "text/plain": [
       "0    1\n",
       "1    1\n",
       "2    1\n",
       "3    1\n",
       "4    1\n",
       "Name: region_id, dtype: int64"
      ]
     },
     "metadata": {},
     "output_type": "display_data"
    },
    {
     "data": {
      "text/plain": [
       "0    VISp\n",
       "1    VISp\n",
       "2    VISp\n",
       "3    VISp\n",
       "4    VISp\n",
       "Name: region_label, dtype: object"
      ]
     },
     "metadata": {},
     "output_type": "display_data"
    },
    {
     "data": {
      "text/plain": [
       "0    #9299FF\n",
       "1    #9299FF\n",
       "2    #9299FF\n",
       "3    #9299FF\n",
       "4    #9299FF\n",
       "Name: region_color, dtype: object"
      ]
     },
     "metadata": {},
     "output_type": "display_data"
    },
    {
     "data": {
      "text/plain": [
       "0    SS\n",
       "1    SS\n",
       "2    SS\n",
       "3    SS\n",
       "4    SS\n",
       "Name: platform_label, dtype: object"
      ]
     },
     "metadata": {},
     "output_type": "display_data"
    },
    {
     "data": {
      "text/plain": [
       "0    259\n",
       "1    259\n",
       "2    259\n",
       "3    197\n",
       "4    245\n",
       "Name: cluster_order, dtype: int64"
      ]
     },
     "metadata": {},
     "output_type": "display_data"
    },
    {
     "data": {
      "text/plain": [
       "0    259_L5 PT CTX\n",
       "1    259_L5 PT CTX\n",
       "2    259_L5 PT CTX\n",
       "3    197_L5 IT CTX\n",
       "4    245_L5 PT CTX\n",
       "Name: cluster_label, dtype: object"
      ]
     },
     "metadata": {},
     "output_type": "display_data"
    },
    {
     "data": {
      "text/plain": [
       "0    #286291\n",
       "1    #286291\n",
       "2    #286291\n",
       "3    #4EA8AC\n",
       "4    #0D5D7E\n",
       "Name: cluster_color, dtype: object"
      ]
     },
     "metadata": {},
     "output_type": "display_data"
    },
    {
     "data": {
      "text/plain": [
       "0    22\n",
       "1    22\n",
       "2    22\n",
       "3    17\n",
       "4    22\n",
       "Name: subclass_order, dtype: int64"
      ]
     },
     "metadata": {},
     "output_type": "display_data"
    },
    {
     "data": {
      "text/plain": [
       "0    20\n",
       "1    20\n",
       "2    20\n",
       "3    18\n",
       "4    20\n",
       "Name: subclass_label, dtype: int64"
      ]
     },
     "metadata": {},
     "output_type": "display_data"
    },
    {
     "data": {
      "text/plain": [
       "0    #0D5B78\n",
       "1    #0D5B78\n",
       "2    #0D5B78\n",
       "3    #50B2AD\n",
       "4    #0D5B78\n",
       "Name: subclass_color, dtype: object"
      ]
     },
     "metadata": {},
     "output_type": "display_data"
    },
    {
     "data": {
      "text/plain": [
       "0    5\n",
       "1    5\n",
       "2    5\n",
       "3    4\n",
       "4    5\n",
       "Name: neighborhood_id, dtype: int64"
      ]
     },
     "metadata": {},
     "output_type": "display_data"
    },
    {
     "data": {
      "text/plain": [
       "0                PT\n",
       "1                PT\n",
       "2                PT\n",
       "3    L4/5/6 IT Car3\n",
       "4                PT\n",
       "Name: neighborhood_label, dtype: object"
      ]
     },
     "metadata": {},
     "output_type": "display_data"
    },
    {
     "data": {
      "text/plain": [
       "0    #0D5A8B\n",
       "1    #0D5A8B\n",
       "2    #0D5A8B\n",
       "3    #58D2CF\n",
       "4    #0D5A8B\n",
       "Name: neighborhood_color, dtype: object"
      ]
     },
     "metadata": {},
     "output_type": "display_data"
    },
    {
     "data": {
      "text/plain": [
       "0    1\n",
       "1    1\n",
       "2    1\n",
       "3    1\n",
       "4    1\n",
       "Name: class_order, dtype: int64"
      ]
     },
     "metadata": {},
     "output_type": "display_data"
    },
    {
     "data": {
      "text/plain": [
       "0    Glutamatergic\n",
       "1    Glutamatergic\n",
       "2    Glutamatergic\n",
       "3    Glutamatergic\n",
       "4    Glutamatergic\n",
       "Name: class_label, dtype: object"
      ]
     },
     "metadata": {},
     "output_type": "display_data"
    },
    {
     "data": {
      "text/plain": [
       "0    #00ADEE\n",
       "1    #00ADEE\n",
       "2    #00ADEE\n",
       "3    #00ADEE\n",
       "4    #00ADEE\n",
       "Name: class_color, dtype: object"
      ]
     },
     "metadata": {},
     "output_type": "display_data"
    },
    {
     "data": {
      "text/plain": [
       "0    US-1250273_E1_S37\n",
       "1    US-1250273_E2_S01\n",
       "2    US-1250273_E2_S02\n",
       "3    US-1250273_E2_S03\n",
       "4    US-1250273_E2_S04\n",
       "Name: exp_component_name, dtype: object"
      ]
     },
     "metadata": {},
     "output_type": "display_data"
    },
    {
     "data": {
      "text/plain": [
       "0    184750\n",
       "1    184756\n",
       "2    184756\n",
       "3    184756\n",
       "4    184756\n",
       "Name: external_donor_name_label, dtype: object"
      ]
     },
     "metadata": {},
     "output_type": "display_data"
    },
    {
     "data": {
      "text/plain": [
       "0    Rbp4-Cre_KL100/wt;Ai14(RCL-tdT)/wt\n",
       "1    Rbp4-Cre_KL100/wt;Ai14(RCL-tdT)/wt\n",
       "2    Rbp4-Cre_KL100/wt;Ai14(RCL-tdT)/wt\n",
       "3    Rbp4-Cre_KL100/wt;Ai14(RCL-tdT)/wt\n",
       "4    Rbp4-Cre_KL100/wt;Ai14(RCL-tdT)/wt\n",
       "Name: full_genotype_label, dtype: object"
      ]
     },
     "metadata": {},
     "output_type": "display_data"
    },
    {
     "data": {
      "text/plain": [
       "0    RFP-positive\n",
       "1    RFP-positive\n",
       "2    RFP-positive\n",
       "3    RFP-positive\n",
       "4    RFP-positive\n",
       "Name: facs_population_plan_label, dtype: object"
      ]
     },
     "metadata": {},
     "output_type": "display_data"
    },
    {
     "data": {
      "text/plain": [
       "0    NaN\n",
       "1    NaN\n",
       "2    NaN\n",
       "3    NaN\n",
       "4    NaN\n",
       "Name: injection_roi_label, dtype: object"
      ]
     },
     "metadata": {},
     "output_type": "display_data"
    },
    {
     "data": {
      "text/plain": [
       "0    NaN\n",
       "1    NaN\n",
       "2    NaN\n",
       "3    NaN\n",
       "4    NaN\n",
       "Name: injection_materials_label, dtype: object"
      ]
     },
     "metadata": {},
     "output_type": "display_data"
    },
    {
     "data": {
      "text/plain": [
       "0    NaN\n",
       "1    NaN\n",
       "2    NaN\n",
       "3    NaN\n",
       "4    NaN\n",
       "Name: injection_method_label, dtype: object"
      ]
     },
     "metadata": {},
     "output_type": "display_data"
    },
    {
     "data": {
      "text/plain": [
       "0    ZZ_Missing\n",
       "1    ZZ_Missing\n",
       "2    ZZ_Missing\n",
       "3    ZZ_Missing\n",
       "4    ZZ_Missing\n",
       "Name: injection_type_label, dtype: object"
      ]
     },
     "metadata": {},
     "output_type": "display_data"
    },
    {
     "data": {
      "text/plain": [
       "0    54\n",
       "1    54\n",
       "2    54\n",
       "3    54\n",
       "4    54\n",
       "Name: full_genotype_id, dtype: int64"
      ]
     },
     "metadata": {},
     "output_type": "display_data"
    },
    {
     "data": {
      "text/plain": [
       "0    #2E3699\n",
       "1    #2E3699\n",
       "2    #2E3699\n",
       "3    #2E3699\n",
       "4    #2E3699\n",
       "Name: full_genotype_color, dtype: object"
      ]
     },
     "metadata": {},
     "output_type": "display_data"
    },
    {
     "data": {
      "text/plain": [
       "0    1\n",
       "1    3\n",
       "2    3\n",
       "3    3\n",
       "4    3\n",
       "Name: external_donor_name_id, dtype: int64"
      ]
     },
     "metadata": {},
     "output_type": "display_data"
    },
    {
     "data": {
      "text/plain": [
       "0    #FF7373\n",
       "1    #991A17\n",
       "2    #991A17\n",
       "3    #991A17\n",
       "4    #991A17\n",
       "Name: external_donor_name_color, dtype: object"
      ]
     },
     "metadata": {},
     "output_type": "display_data"
    },
    {
     "data": {
      "text/plain": [
       "0    6\n",
       "1    6\n",
       "2    6\n",
       "3    6\n",
       "4    6\n",
       "Name: facs_population_plan_id, dtype: int64"
      ]
     },
     "metadata": {},
     "output_type": "display_data"
    },
    {
     "data": {
      "text/plain": [
       "0    #4C2E99\n",
       "1    #4C2E99\n",
       "2    #4C2E99\n",
       "3    #4C2E99\n",
       "4    #4C2E99\n",
       "Name: facs_population_plan_color, dtype: object"
      ]
     },
     "metadata": {},
     "output_type": "display_data"
    },
    {
     "data": {
      "text/plain": [
       "0    1\n",
       "1    1\n",
       "2    1\n",
       "3    1\n",
       "4    1\n",
       "Name: injection_materials_id, dtype: int64"
      ]
     },
     "metadata": {},
     "output_type": "display_data"
    },
    {
     "data": {
      "text/plain": [
       "0    #FF7373\n",
       "1    #FF7373\n",
       "2    #FF7373\n",
       "3    #FF7373\n",
       "4    #FF7373\n",
       "Name: injection_materials_color, dtype: object"
      ]
     },
     "metadata": {},
     "output_type": "display_data"
    },
    {
     "data": {
      "text/plain": [
       "0    1\n",
       "1    1\n",
       "2    1\n",
       "3    1\n",
       "4    1\n",
       "Name: injection_method_id, dtype: int64"
      ]
     },
     "metadata": {},
     "output_type": "display_data"
    },
    {
     "data": {
      "text/plain": [
       "0    #FF7373\n",
       "1    #FF7373\n",
       "2    #FF7373\n",
       "3    #FF7373\n",
       "4    #FF7373\n",
       "Name: injection_method_color, dtype: object"
      ]
     },
     "metadata": {},
     "output_type": "display_data"
    },
    {
     "data": {
      "text/plain": [
       "0    1\n",
       "1    1\n",
       "2    1\n",
       "3    1\n",
       "4    1\n",
       "Name: injection_roi_id, dtype: int64"
      ]
     },
     "metadata": {},
     "output_type": "display_data"
    },
    {
     "data": {
      "text/plain": [
       "0    #FF7373\n",
       "1    #FF7373\n",
       "2    #FF7373\n",
       "3    #FF7373\n",
       "4    #FF7373\n",
       "Name: injection_roi_color, dtype: object"
      ]
     },
     "metadata": {},
     "output_type": "display_data"
    },
    {
     "data": {
      "text/plain": [
       "0    2\n",
       "1    2\n",
       "2    2\n",
       "3    2\n",
       "4    2\n",
       "Name: injection_type_id, dtype: int64"
      ]
     },
     "metadata": {},
     "output_type": "display_data"
    },
    {
     "data": {
      "text/plain": [
       "0    #3DCCCC\n",
       "1    #3DCCCC\n",
       "2    #3DCCCC\n",
       "3    #3DCCCC\n",
       "4    #3DCCCC\n",
       "Name: injection_type_color, dtype: object"
      ]
     },
     "metadata": {},
     "output_type": "display_data"
    },
    {
     "data": {
      "text/plain": [
       "0    CS202106160_259\n",
       "1    CS202106160_259\n",
       "2    CS202106160_259\n",
       "3    CS202106160_197\n",
       "4    CS202106160_245\n",
       "Name: cell_type_accession_label, dtype: object"
      ]
     },
     "metadata": {},
     "output_type": "display_data"
    },
    {
     "data": {
      "text/plain": [
       "0    259_L5 PT CTX\n",
       "1    259_L5 PT CTX\n",
       "2    259_L5 PT CTX\n",
       "3    197_L5 IT CTX\n",
       "4    245_L5 PT CTX\n",
       "Name: cell_type_alias_label, dtype: object"
      ]
     },
     "metadata": {},
     "output_type": "display_data"
    },
    {
     "data": {
      "text/plain": [
       "0   NaN\n",
       "1   NaN\n",
       "2   NaN\n",
       "3   NaN\n",
       "4   NaN\n",
       "Name: cell_type_alt_alias_label, dtype: float64"
      ]
     },
     "metadata": {},
     "output_type": "display_data"
    },
    {
     "data": {
      "text/plain": [
       "0    CTX-HPF 259\n",
       "1    CTX-HPF 259\n",
       "2    CTX-HPF 259\n",
       "3    CTX-HPF 197\n",
       "4    CTX-HPF 245\n",
       "Name: cell_type_designation_label, dtype: object"
      ]
     },
     "metadata": {},
     "output_type": "display_data"
    },
    {
     "data": {
      "text/plain": [
       "0    259\n",
       "1    259\n",
       "2    259\n",
       "3    197\n",
       "4    245\n",
       "Name: cell_type_designation_id, dtype: int64"
      ]
     },
     "metadata": {},
     "output_type": "display_data"
    },
    {
     "data": {
      "text/plain": [
       "0    259\n",
       "1    259\n",
       "2    259\n",
       "3    197\n",
       "4    245\n",
       "Name: cell_type_alt_alias_id, dtype: int64"
      ]
     },
     "metadata": {},
     "output_type": "display_data"
    },
    {
     "data": {
      "text/plain": [
       "0    259\n",
       "1    259\n",
       "2    259\n",
       "3    197\n",
       "4    245\n",
       "Name: cell_type_alias_id, dtype: int64"
      ]
     },
     "metadata": {},
     "output_type": "display_data"
    },
    {
     "data": {
      "text/plain": [
       "0    259\n",
       "1    259\n",
       "2    259\n",
       "3    197\n",
       "4    245\n",
       "Name: cell_type_accession_id, dtype: int64"
      ]
     },
     "metadata": {},
     "output_type": "display_data"
    },
    {
     "data": {
      "text/plain": [
       "0    #286291\n",
       "1    #286291\n",
       "2    #286291\n",
       "3    #4EA8AC\n",
       "4    #0D5D7E\n",
       "Name: cell_type_designation_color, dtype: object"
      ]
     },
     "metadata": {},
     "output_type": "display_data"
    },
    {
     "data": {
      "text/plain": [
       "0    #286291\n",
       "1    #286291\n",
       "2    #286291\n",
       "3    #4EA8AC\n",
       "4    #0D5D7E\n",
       "Name: cell_type_alt_alias_color, dtype: object"
      ]
     },
     "metadata": {},
     "output_type": "display_data"
    },
    {
     "data": {
      "text/plain": [
       "0    #286291\n",
       "1    #286291\n",
       "2    #286291\n",
       "3    #4EA8AC\n",
       "4    #0D5D7E\n",
       "Name: cell_type_alias_color, dtype: object"
      ]
     },
     "metadata": {},
     "output_type": "display_data"
    },
    {
     "data": {
      "text/plain": [
       "0    #286291\n",
       "1    #286291\n",
       "2    #286291\n",
       "3    #4EA8AC\n",
       "4    #0D5D7E\n",
       "Name: cell_type_accession_color, dtype: object"
      ]
     },
     "metadata": {},
     "output_type": "display_data"
    },
    {
     "data": {
      "text/plain": [
       "0    L4/5/6\n",
       "1    L4/5/6\n",
       "2    L4/5/6\n",
       "3    L4/5/6\n",
       "4    L4/5/6\n",
       "Name: cortical_layer_label, dtype: object"
      ]
     },
     "metadata": {},
     "output_type": "display_data"
    },
    {
     "data": {
      "text/plain": [
       "0    11\n",
       "1    11\n",
       "2    11\n",
       "3    11\n",
       "4    11\n",
       "Name: cortical_layer_order, dtype: int64"
      ]
     },
     "metadata": {},
     "output_type": "display_data"
    },
    {
     "data": {
      "text/plain": [
       "0    #7373FF\n",
       "1    #7373FF\n",
       "2    #7373FF\n",
       "3    #7373FF\n",
       "4    #7373FF\n",
       "Name: cortical_layer_color, dtype: object"
      ]
     },
     "metadata": {},
     "output_type": "display_data"
    },
    {
     "data": {
      "text/plain": [
       "0    L5 PT CTX\n",
       "1    L5 PT CTX\n",
       "2    L5 PT CTX\n",
       "3    L5 IT CTX\n",
       "4    L5 PT CTX\n",
       "Name: categorical_subclass_label, dtype: object"
      ]
     },
     "metadata": {},
     "output_type": "display_data"
    }
   ],
   "source": [
    "for col in df.columns:\n",
    "    display(df[col].head())"
   ]
  },
  {
   "cell_type": "code",
   "execution_count": 13,
   "id": "22561295",
   "metadata": {},
   "outputs": [
    {
     "name": "stderr",
     "output_type": "stream",
     "text": [
      "/Users/julian/miniconda3/envs/sims/lib/python3.9/site-packages/anndata/_core/anndata.py:121: ImplicitModificationWarning: Transforming to str index.\n",
      "  warnings.warn(\"Transforming to str index.\", ImplicitModificationWarning)\n"
     ]
    }
   ],
   "source": [
    "human_data = an.read_h5ad('../data/benchmark/human.h5ad')"
   ]
  },
  {
   "cell_type": "code",
   "execution_count": 16,
   "id": "c0682db5",
   "metadata": {},
   "outputs": [],
   "source": [
    "human_labels = pd.read_csv('../data/benchmark/human_labels.csv')"
   ]
  },
  {
   "cell_type": "code",
   "execution_count": 17,
   "id": "fb3e4a9d",
   "metadata": {
    "scrolled": true
   },
   "outputs": [
    {
     "data": {
      "text/plain": [
       "Index(['sample_name', 'exp_component_name', 'specimen_type', 'cluster_color',\n",
       "       'cluster_order', 'cluster_label', 'class_color', 'class_order',\n",
       "       'class_label', 'subclass_color', 'subclass_order', 'subclass_label',\n",
       "       'full_genotype_color', 'full_genotype_order', 'full_genotype_label',\n",
       "       'donor_sex_color', 'donor_sex_order', 'donor_sex_label', 'region_color',\n",
       "       'region_order', 'region_label', 'cortical_layer_color',\n",
       "       'cortical_layer_order', 'cortical_layer_label',\n",
       "       'cell_type_accession_color', 'cell_type_accession_order',\n",
       "       'cell_type_accession_label', 'cell_type_alias_color', 'cell_type_order',\n",
       "       'cell_type_alias_label', 'cell_type_alt_alias_color',\n",
       "       'cell_type_alt_alias_order', 'cell_type_alt_alias_label',\n",
       "       'cell_type_designation_color', 'cell_type_designation_order',\n",
       "       'cell_type_designation_label', 'external_donor_name_color',\n",
       "       'external_donor_name_order', 'external_donor_name_label',\n",
       "       'outlier_call', 'outlier_type'],\n",
       "      dtype='object')"
      ]
     },
     "execution_count": 17,
     "metadata": {},
     "output_type": "execute_result"
    }
   ],
   "source": [
    "human_labels.columns"
   ]
  },
  {
   "cell_type": "code",
   "execution_count": 26,
   "id": "6db5af6c",
   "metadata": {
    "scrolled": true
   },
   "outputs": [
    {
     "name": "stderr",
     "output_type": "stream",
     "text": [
      "/var/folders/pd/jsjcl0fn7w57s5mfr34b20pm0000gn/T/ipykernel_43006/1865304553.py:1: DtypeWarning: Columns (21) have mixed types. Specify dtype option on import or set low_memory=False.\n",
      "  test = pd.read_csv('/Users/julian/Downloads/metadata(2).csv')\n"
     ]
    },
    {
     "data": {
      "text/plain": [
       "Index(['sample_name', 'donor_sex_id', 'donor_sex_label', 'donor_sex_color',\n",
       "       'region_id', 'region_label', 'region_color', 'platform_label',\n",
       "       'cluster_order', 'cluster_label', 'cluster_color', 'subclass_order',\n",
       "       'subclass_label', 'subclass_color', 'neighborhood_id',\n",
       "       'neighborhood_label', 'neighborhood_color', 'class_order',\n",
       "       'class_label', 'class_color', 'exp_component_name',\n",
       "       'external_donor_name_label', 'full_genotype_label',\n",
       "       'facs_population_plan_label', 'injection_roi_label',\n",
       "       'injection_materials_label', 'injection_method_label',\n",
       "       'injection_type_label', 'full_genotype_id', 'full_genotype_color',\n",
       "       'external_donor_name_id', 'external_donor_name_color',\n",
       "       'facs_population_plan_id', 'facs_population_plan_color',\n",
       "       'injection_materials_id', 'injection_materials_color',\n",
       "       'injection_method_id', 'injection_method_color', 'injection_roi_id',\n",
       "       'injection_roi_color', 'injection_type_id', 'injection_type_color',\n",
       "       'cell_type_accession_label', 'cell_type_alias_label',\n",
       "       'cell_type_alt_alias_label', 'cell_type_designation_label',\n",
       "       'cell_type_designation_id', 'cell_type_alt_alias_id',\n",
       "       'cell_type_alias_id', 'cell_type_accession_id',\n",
       "       'cell_type_designation_color', 'cell_type_alt_alias_color',\n",
       "       'cell_type_alias_color', 'cell_type_accession_color',\n",
       "       'cortical_layer_label', 'cortical_layer_order', 'cortical_layer_color'],\n",
       "      dtype='object')"
      ]
     },
     "execution_count": 26,
     "metadata": {},
     "output_type": "execute_result"
    }
   ],
   "source": [
    "test = pd.read_csv('/Users/julian/Downloads/metadata(2).csv')\n",
    "\n",
    "test.columns"
   ]
  },
  {
   "cell_type": "code",
   "execution_count": 27,
   "id": "1971a3a7",
   "metadata": {
    "scrolled": true
   },
   "outputs": [
    {
     "data": {
      "text/html": [
       "<div>\n",
       "<style scoped>\n",
       "    .dataframe tbody tr th:only-of-type {\n",
       "        vertical-align: middle;\n",
       "    }\n",
       "\n",
       "    .dataframe tbody tr th {\n",
       "        vertical-align: top;\n",
       "    }\n",
       "\n",
       "    .dataframe thead th {\n",
       "        text-align: right;\n",
       "    }\n",
       "</style>\n",
       "<table border=\"1\" class=\"dataframe\">\n",
       "  <thead>\n",
       "    <tr style=\"text-align: right;\">\n",
       "      <th></th>\n",
       "      <th>sample_name</th>\n",
       "      <th>donor_sex_id</th>\n",
       "      <th>donor_sex_label</th>\n",
       "      <th>donor_sex_color</th>\n",
       "      <th>region_id</th>\n",
       "      <th>region_label</th>\n",
       "      <th>region_color</th>\n",
       "      <th>platform_label</th>\n",
       "      <th>cluster_order</th>\n",
       "      <th>cluster_label</th>\n",
       "      <th>cluster_color</th>\n",
       "      <th>subclass_order</th>\n",
       "      <th>subclass_label</th>\n",
       "      <th>subclass_color</th>\n",
       "      <th>neighborhood_id</th>\n",
       "      <th>neighborhood_label</th>\n",
       "      <th>neighborhood_color</th>\n",
       "      <th>class_order</th>\n",
       "      <th>class_label</th>\n",
       "      <th>class_color</th>\n",
       "      <th>exp_component_name</th>\n",
       "      <th>external_donor_name_label</th>\n",
       "      <th>full_genotype_label</th>\n",
       "      <th>facs_population_plan_label</th>\n",
       "      <th>injection_roi_label</th>\n",
       "      <th>injection_materials_label</th>\n",
       "      <th>injection_method_label</th>\n",
       "      <th>injection_type_label</th>\n",
       "      <th>full_genotype_id</th>\n",
       "      <th>full_genotype_color</th>\n",
       "      <th>external_donor_name_id</th>\n",
       "      <th>external_donor_name_color</th>\n",
       "      <th>facs_population_plan_id</th>\n",
       "      <th>facs_population_plan_color</th>\n",
       "      <th>injection_materials_id</th>\n",
       "      <th>injection_materials_color</th>\n",
       "      <th>injection_method_id</th>\n",
       "      <th>injection_method_color</th>\n",
       "      <th>injection_roi_id</th>\n",
       "      <th>injection_roi_color</th>\n",
       "      <th>injection_type_id</th>\n",
       "      <th>injection_type_color</th>\n",
       "      <th>cell_type_accession_label</th>\n",
       "      <th>cell_type_alias_label</th>\n",
       "      <th>cell_type_alt_alias_label</th>\n",
       "      <th>cell_type_designation_label</th>\n",
       "      <th>cell_type_designation_id</th>\n",
       "      <th>cell_type_alt_alias_id</th>\n",
       "      <th>cell_type_alias_id</th>\n",
       "      <th>cell_type_accession_id</th>\n",
       "      <th>cell_type_designation_color</th>\n",
       "      <th>cell_type_alt_alias_color</th>\n",
       "      <th>cell_type_alias_color</th>\n",
       "      <th>cell_type_accession_color</th>\n",
       "      <th>cortical_layer_label</th>\n",
       "      <th>cortical_layer_order</th>\n",
       "      <th>cortical_layer_color</th>\n",
       "    </tr>\n",
       "  </thead>\n",
       "  <tbody>\n",
       "    <tr>\n",
       "      <th>0</th>\n",
       "      <td>US-1250273_E1_S37</td>\n",
       "      <td>1</td>\n",
       "      <td>F</td>\n",
       "      <td>#565353</td>\n",
       "      <td>1</td>\n",
       "      <td>VISp</td>\n",
       "      <td>#9299FF</td>\n",
       "      <td>SS</td>\n",
       "      <td>259</td>\n",
       "      <td>259_L5 PT CTX</td>\n",
       "      <td>#286291</td>\n",
       "      <td>22</td>\n",
       "      <td>L5 PT CTX</td>\n",
       "      <td>#0D5B78</td>\n",
       "      <td>5</td>\n",
       "      <td>PT</td>\n",
       "      <td>#0D5A8B</td>\n",
       "      <td>1</td>\n",
       "      <td>Glutamatergic</td>\n",
       "      <td>#00ADEE</td>\n",
       "      <td>US-1250273_E1_S37</td>\n",
       "      <td>184750</td>\n",
       "      <td>Rbp4-Cre_KL100/wt;Ai14(RCL-tdT)/wt</td>\n",
       "      <td>RFP-positive</td>\n",
       "      <td>NaN</td>\n",
       "      <td>NaN</td>\n",
       "      <td>NaN</td>\n",
       "      <td>ZZ_Missing</td>\n",
       "      <td>54</td>\n",
       "      <td>#2E3699</td>\n",
       "      <td>1</td>\n",
       "      <td>#FF7373</td>\n",
       "      <td>6</td>\n",
       "      <td>#4C2E99</td>\n",
       "      <td>1</td>\n",
       "      <td>#FF7373</td>\n",
       "      <td>1</td>\n",
       "      <td>#FF7373</td>\n",
       "      <td>1</td>\n",
       "      <td>#FF7373</td>\n",
       "      <td>2</td>\n",
       "      <td>#3DCCCC</td>\n",
       "      <td>CS202106160_259</td>\n",
       "      <td>259_L5 PT CTX</td>\n",
       "      <td>NaN</td>\n",
       "      <td>CTX-HPF 259</td>\n",
       "      <td>259</td>\n",
       "      <td>259</td>\n",
       "      <td>259</td>\n",
       "      <td>259</td>\n",
       "      <td>#286291</td>\n",
       "      <td>#286291</td>\n",
       "      <td>#286291</td>\n",
       "      <td>#286291</td>\n",
       "      <td>L4/5/6</td>\n",
       "      <td>11</td>\n",
       "      <td>#7373FF</td>\n",
       "    </tr>\n",
       "    <tr>\n",
       "      <th>1</th>\n",
       "      <td>US-1250273_E2_S01</td>\n",
       "      <td>2</td>\n",
       "      <td>M</td>\n",
       "      <td>#ADC4C3</td>\n",
       "      <td>1</td>\n",
       "      <td>VISp</td>\n",
       "      <td>#9299FF</td>\n",
       "      <td>SS</td>\n",
       "      <td>259</td>\n",
       "      <td>259_L5 PT CTX</td>\n",
       "      <td>#286291</td>\n",
       "      <td>22</td>\n",
       "      <td>L5 PT CTX</td>\n",
       "      <td>#0D5B78</td>\n",
       "      <td>5</td>\n",
       "      <td>PT</td>\n",
       "      <td>#0D5A8B</td>\n",
       "      <td>1</td>\n",
       "      <td>Glutamatergic</td>\n",
       "      <td>#00ADEE</td>\n",
       "      <td>US-1250273_E2_S01</td>\n",
       "      <td>184756</td>\n",
       "      <td>Rbp4-Cre_KL100/wt;Ai14(RCL-tdT)/wt</td>\n",
       "      <td>RFP-positive</td>\n",
       "      <td>NaN</td>\n",
       "      <td>NaN</td>\n",
       "      <td>NaN</td>\n",
       "      <td>ZZ_Missing</td>\n",
       "      <td>54</td>\n",
       "      <td>#2E3699</td>\n",
       "      <td>3</td>\n",
       "      <td>#991A17</td>\n",
       "      <td>6</td>\n",
       "      <td>#4C2E99</td>\n",
       "      <td>1</td>\n",
       "      <td>#FF7373</td>\n",
       "      <td>1</td>\n",
       "      <td>#FF7373</td>\n",
       "      <td>1</td>\n",
       "      <td>#FF7373</td>\n",
       "      <td>2</td>\n",
       "      <td>#3DCCCC</td>\n",
       "      <td>CS202106160_259</td>\n",
       "      <td>259_L5 PT CTX</td>\n",
       "      <td>NaN</td>\n",
       "      <td>CTX-HPF 259</td>\n",
       "      <td>259</td>\n",
       "      <td>259</td>\n",
       "      <td>259</td>\n",
       "      <td>259</td>\n",
       "      <td>#286291</td>\n",
       "      <td>#286291</td>\n",
       "      <td>#286291</td>\n",
       "      <td>#286291</td>\n",
       "      <td>L4/5/6</td>\n",
       "      <td>11</td>\n",
       "      <td>#7373FF</td>\n",
       "    </tr>\n",
       "    <tr>\n",
       "      <th>2</th>\n",
       "      <td>US-1250273_E2_S02</td>\n",
       "      <td>2</td>\n",
       "      <td>M</td>\n",
       "      <td>#ADC4C3</td>\n",
       "      <td>1</td>\n",
       "      <td>VISp</td>\n",
       "      <td>#9299FF</td>\n",
       "      <td>SS</td>\n",
       "      <td>259</td>\n",
       "      <td>259_L5 PT CTX</td>\n",
       "      <td>#286291</td>\n",
       "      <td>22</td>\n",
       "      <td>L5 PT CTX</td>\n",
       "      <td>#0D5B78</td>\n",
       "      <td>5</td>\n",
       "      <td>PT</td>\n",
       "      <td>#0D5A8B</td>\n",
       "      <td>1</td>\n",
       "      <td>Glutamatergic</td>\n",
       "      <td>#00ADEE</td>\n",
       "      <td>US-1250273_E2_S02</td>\n",
       "      <td>184756</td>\n",
       "      <td>Rbp4-Cre_KL100/wt;Ai14(RCL-tdT)/wt</td>\n",
       "      <td>RFP-positive</td>\n",
       "      <td>NaN</td>\n",
       "      <td>NaN</td>\n",
       "      <td>NaN</td>\n",
       "      <td>ZZ_Missing</td>\n",
       "      <td>54</td>\n",
       "      <td>#2E3699</td>\n",
       "      <td>3</td>\n",
       "      <td>#991A17</td>\n",
       "      <td>6</td>\n",
       "      <td>#4C2E99</td>\n",
       "      <td>1</td>\n",
       "      <td>#FF7373</td>\n",
       "      <td>1</td>\n",
       "      <td>#FF7373</td>\n",
       "      <td>1</td>\n",
       "      <td>#FF7373</td>\n",
       "      <td>2</td>\n",
       "      <td>#3DCCCC</td>\n",
       "      <td>CS202106160_259</td>\n",
       "      <td>259_L5 PT CTX</td>\n",
       "      <td>NaN</td>\n",
       "      <td>CTX-HPF 259</td>\n",
       "      <td>259</td>\n",
       "      <td>259</td>\n",
       "      <td>259</td>\n",
       "      <td>259</td>\n",
       "      <td>#286291</td>\n",
       "      <td>#286291</td>\n",
       "      <td>#286291</td>\n",
       "      <td>#286291</td>\n",
       "      <td>L4/5/6</td>\n",
       "      <td>11</td>\n",
       "      <td>#7373FF</td>\n",
       "    </tr>\n",
       "    <tr>\n",
       "      <th>3</th>\n",
       "      <td>US-1250273_E2_S03</td>\n",
       "      <td>2</td>\n",
       "      <td>M</td>\n",
       "      <td>#ADC4C3</td>\n",
       "      <td>1</td>\n",
       "      <td>VISp</td>\n",
       "      <td>#9299FF</td>\n",
       "      <td>SS</td>\n",
       "      <td>197</td>\n",
       "      <td>197_L5 IT CTX</td>\n",
       "      <td>#4EA8AC</td>\n",
       "      <td>17</td>\n",
       "      <td>L5 IT CTX</td>\n",
       "      <td>#50B2AD</td>\n",
       "      <td>4</td>\n",
       "      <td>L4/5/6 IT Car3</td>\n",
       "      <td>#58D2CF</td>\n",
       "      <td>1</td>\n",
       "      <td>Glutamatergic</td>\n",
       "      <td>#00ADEE</td>\n",
       "      <td>US-1250273_E2_S03</td>\n",
       "      <td>184756</td>\n",
       "      <td>Rbp4-Cre_KL100/wt;Ai14(RCL-tdT)/wt</td>\n",
       "      <td>RFP-positive</td>\n",
       "      <td>NaN</td>\n",
       "      <td>NaN</td>\n",
       "      <td>NaN</td>\n",
       "      <td>ZZ_Missing</td>\n",
       "      <td>54</td>\n",
       "      <td>#2E3699</td>\n",
       "      <td>3</td>\n",
       "      <td>#991A17</td>\n",
       "      <td>6</td>\n",
       "      <td>#4C2E99</td>\n",
       "      <td>1</td>\n",
       "      <td>#FF7373</td>\n",
       "      <td>1</td>\n",
       "      <td>#FF7373</td>\n",
       "      <td>1</td>\n",
       "      <td>#FF7373</td>\n",
       "      <td>2</td>\n",
       "      <td>#3DCCCC</td>\n",
       "      <td>CS202106160_197</td>\n",
       "      <td>197_L5 IT CTX</td>\n",
       "      <td>NaN</td>\n",
       "      <td>CTX-HPF 197</td>\n",
       "      <td>197</td>\n",
       "      <td>197</td>\n",
       "      <td>197</td>\n",
       "      <td>197</td>\n",
       "      <td>#4EA8AC</td>\n",
       "      <td>#4EA8AC</td>\n",
       "      <td>#4EA8AC</td>\n",
       "      <td>#4EA8AC</td>\n",
       "      <td>L4/5/6</td>\n",
       "      <td>11</td>\n",
       "      <td>#7373FF</td>\n",
       "    </tr>\n",
       "    <tr>\n",
       "      <th>4</th>\n",
       "      <td>US-1250273_E2_S04</td>\n",
       "      <td>2</td>\n",
       "      <td>M</td>\n",
       "      <td>#ADC4C3</td>\n",
       "      <td>1</td>\n",
       "      <td>VISp</td>\n",
       "      <td>#9299FF</td>\n",
       "      <td>SS</td>\n",
       "      <td>245</td>\n",
       "      <td>245_L5 PT CTX</td>\n",
       "      <td>#0D5D7E</td>\n",
       "      <td>22</td>\n",
       "      <td>L5 PT CTX</td>\n",
       "      <td>#0D5B78</td>\n",
       "      <td>5</td>\n",
       "      <td>PT</td>\n",
       "      <td>#0D5A8B</td>\n",
       "      <td>1</td>\n",
       "      <td>Glutamatergic</td>\n",
       "      <td>#00ADEE</td>\n",
       "      <td>US-1250273_E2_S04</td>\n",
       "      <td>184756</td>\n",
       "      <td>Rbp4-Cre_KL100/wt;Ai14(RCL-tdT)/wt</td>\n",
       "      <td>RFP-positive</td>\n",
       "      <td>NaN</td>\n",
       "      <td>NaN</td>\n",
       "      <td>NaN</td>\n",
       "      <td>ZZ_Missing</td>\n",
       "      <td>54</td>\n",
       "      <td>#2E3699</td>\n",
       "      <td>3</td>\n",
       "      <td>#991A17</td>\n",
       "      <td>6</td>\n",
       "      <td>#4C2E99</td>\n",
       "      <td>1</td>\n",
       "      <td>#FF7373</td>\n",
       "      <td>1</td>\n",
       "      <td>#FF7373</td>\n",
       "      <td>1</td>\n",
       "      <td>#FF7373</td>\n",
       "      <td>2</td>\n",
       "      <td>#3DCCCC</td>\n",
       "      <td>CS202106160_245</td>\n",
       "      <td>245_L5 PT CTX</td>\n",
       "      <td>NaN</td>\n",
       "      <td>CTX-HPF 245</td>\n",
       "      <td>245</td>\n",
       "      <td>245</td>\n",
       "      <td>245</td>\n",
       "      <td>245</td>\n",
       "      <td>#0D5D7E</td>\n",
       "      <td>#0D5D7E</td>\n",
       "      <td>#0D5D7E</td>\n",
       "      <td>#0D5D7E</td>\n",
       "      <td>L4/5/6</td>\n",
       "      <td>11</td>\n",
       "      <td>#7373FF</td>\n",
       "    </tr>\n",
       "  </tbody>\n",
       "</table>\n",
       "</div>"
      ],
      "text/plain": [
       "         sample_name  donor_sex_id donor_sex_label donor_sex_color  region_id  \\\n",
       "0  US-1250273_E1_S37             1               F         #565353          1   \n",
       "1  US-1250273_E2_S01             2               M         #ADC4C3          1   \n",
       "2  US-1250273_E2_S02             2               M         #ADC4C3          1   \n",
       "3  US-1250273_E2_S03             2               M         #ADC4C3          1   \n",
       "4  US-1250273_E2_S04             2               M         #ADC4C3          1   \n",
       "\n",
       "  region_label region_color platform_label  cluster_order  cluster_label  \\\n",
       "0         VISp      #9299FF             SS            259  259_L5 PT CTX   \n",
       "1         VISp      #9299FF             SS            259  259_L5 PT CTX   \n",
       "2         VISp      #9299FF             SS            259  259_L5 PT CTX   \n",
       "3         VISp      #9299FF             SS            197  197_L5 IT CTX   \n",
       "4         VISp      #9299FF             SS            245  245_L5 PT CTX   \n",
       "\n",
       "  cluster_color  subclass_order subclass_label subclass_color  \\\n",
       "0       #286291              22      L5 PT CTX        #0D5B78   \n",
       "1       #286291              22      L5 PT CTX        #0D5B78   \n",
       "2       #286291              22      L5 PT CTX        #0D5B78   \n",
       "3       #4EA8AC              17      L5 IT CTX        #50B2AD   \n",
       "4       #0D5D7E              22      L5 PT CTX        #0D5B78   \n",
       "\n",
       "   neighborhood_id neighborhood_label neighborhood_color  class_order  \\\n",
       "0                5                 PT            #0D5A8B            1   \n",
       "1                5                 PT            #0D5A8B            1   \n",
       "2                5                 PT            #0D5A8B            1   \n",
       "3                4     L4/5/6 IT Car3            #58D2CF            1   \n",
       "4                5                 PT            #0D5A8B            1   \n",
       "\n",
       "     class_label class_color exp_component_name external_donor_name_label  \\\n",
       "0  Glutamatergic     #00ADEE  US-1250273_E1_S37                    184750   \n",
       "1  Glutamatergic     #00ADEE  US-1250273_E2_S01                    184756   \n",
       "2  Glutamatergic     #00ADEE  US-1250273_E2_S02                    184756   \n",
       "3  Glutamatergic     #00ADEE  US-1250273_E2_S03                    184756   \n",
       "4  Glutamatergic     #00ADEE  US-1250273_E2_S04                    184756   \n",
       "\n",
       "                  full_genotype_label facs_population_plan_label  \\\n",
       "0  Rbp4-Cre_KL100/wt;Ai14(RCL-tdT)/wt               RFP-positive   \n",
       "1  Rbp4-Cre_KL100/wt;Ai14(RCL-tdT)/wt               RFP-positive   \n",
       "2  Rbp4-Cre_KL100/wt;Ai14(RCL-tdT)/wt               RFP-positive   \n",
       "3  Rbp4-Cre_KL100/wt;Ai14(RCL-tdT)/wt               RFP-positive   \n",
       "4  Rbp4-Cre_KL100/wt;Ai14(RCL-tdT)/wt               RFP-positive   \n",
       "\n",
       "  injection_roi_label injection_materials_label injection_method_label  \\\n",
       "0                 NaN                       NaN                    NaN   \n",
       "1                 NaN                       NaN                    NaN   \n",
       "2                 NaN                       NaN                    NaN   \n",
       "3                 NaN                       NaN                    NaN   \n",
       "4                 NaN                       NaN                    NaN   \n",
       "\n",
       "  injection_type_label  full_genotype_id full_genotype_color  \\\n",
       "0           ZZ_Missing                54             #2E3699   \n",
       "1           ZZ_Missing                54             #2E3699   \n",
       "2           ZZ_Missing                54             #2E3699   \n",
       "3           ZZ_Missing                54             #2E3699   \n",
       "4           ZZ_Missing                54             #2E3699   \n",
       "\n",
       "   external_donor_name_id external_donor_name_color  facs_population_plan_id  \\\n",
       "0                       1                   #FF7373                        6   \n",
       "1                       3                   #991A17                        6   \n",
       "2                       3                   #991A17                        6   \n",
       "3                       3                   #991A17                        6   \n",
       "4                       3                   #991A17                        6   \n",
       "\n",
       "  facs_population_plan_color  injection_materials_id  \\\n",
       "0                    #4C2E99                       1   \n",
       "1                    #4C2E99                       1   \n",
       "2                    #4C2E99                       1   \n",
       "3                    #4C2E99                       1   \n",
       "4                    #4C2E99                       1   \n",
       "\n",
       "  injection_materials_color  injection_method_id injection_method_color  \\\n",
       "0                   #FF7373                    1                #FF7373   \n",
       "1                   #FF7373                    1                #FF7373   \n",
       "2                   #FF7373                    1                #FF7373   \n",
       "3                   #FF7373                    1                #FF7373   \n",
       "4                   #FF7373                    1                #FF7373   \n",
       "\n",
       "   injection_roi_id injection_roi_color  injection_type_id  \\\n",
       "0                 1             #FF7373                  2   \n",
       "1                 1             #FF7373                  2   \n",
       "2                 1             #FF7373                  2   \n",
       "3                 1             #FF7373                  2   \n",
       "4                 1             #FF7373                  2   \n",
       "\n",
       "  injection_type_color cell_type_accession_label cell_type_alias_label  \\\n",
       "0              #3DCCCC           CS202106160_259         259_L5 PT CTX   \n",
       "1              #3DCCCC           CS202106160_259         259_L5 PT CTX   \n",
       "2              #3DCCCC           CS202106160_259         259_L5 PT CTX   \n",
       "3              #3DCCCC           CS202106160_197         197_L5 IT CTX   \n",
       "4              #3DCCCC           CS202106160_245         245_L5 PT CTX   \n",
       "\n",
       "   cell_type_alt_alias_label cell_type_designation_label  \\\n",
       "0                        NaN                 CTX-HPF 259   \n",
       "1                        NaN                 CTX-HPF 259   \n",
       "2                        NaN                 CTX-HPF 259   \n",
       "3                        NaN                 CTX-HPF 197   \n",
       "4                        NaN                 CTX-HPF 245   \n",
       "\n",
       "   cell_type_designation_id  cell_type_alt_alias_id  cell_type_alias_id  \\\n",
       "0                       259                     259                 259   \n",
       "1                       259                     259                 259   \n",
       "2                       259                     259                 259   \n",
       "3                       197                     197                 197   \n",
       "4                       245                     245                 245   \n",
       "\n",
       "   cell_type_accession_id cell_type_designation_color  \\\n",
       "0                     259                     #286291   \n",
       "1                     259                     #286291   \n",
       "2                     259                     #286291   \n",
       "3                     197                     #4EA8AC   \n",
       "4                     245                     #0D5D7E   \n",
       "\n",
       "  cell_type_alt_alias_color cell_type_alias_color cell_type_accession_color  \\\n",
       "0                   #286291               #286291                   #286291   \n",
       "1                   #286291               #286291                   #286291   \n",
       "2                   #286291               #286291                   #286291   \n",
       "3                   #4EA8AC               #4EA8AC                   #4EA8AC   \n",
       "4                   #0D5D7E               #0D5D7E                   #0D5D7E   \n",
       "\n",
       "  cortical_layer_label  cortical_layer_order cortical_layer_color  \n",
       "0               L4/5/6                    11              #7373FF  \n",
       "1               L4/5/6                    11              #7373FF  \n",
       "2               L4/5/6                    11              #7373FF  \n",
       "3               L4/5/6                    11              #7373FF  \n",
       "4               L4/5/6                    11              #7373FF  "
      ]
     },
     "execution_count": 27,
     "metadata": {},
     "output_type": "execute_result"
    }
   ],
   "source": [
    "pd.set_option('display.max_colwidth', None)\n",
    "pd.set_option('display.max_columns', 999)\n",
    "\n",
    "test.head()"
   ]
  },
  {
   "cell_type": "code",
   "execution_count": 32,
   "id": "e74f8902",
   "metadata": {},
   "outputs": [
    {
     "data": {
      "text/plain": [
       "SS    73347\n",
       "Name: platform_label, dtype: int64"
      ]
     },
     "execution_count": 32,
     "metadata": {},
     "output_type": "execute_result"
    }
   ],
   "source": [
    "test['platform_label'].value_counts()"
   ]
  },
  {
   "cell_type": "code",
   "execution_count": null,
   "id": "39117575",
   "metadata": {},
   "outputs": [],
   "source": []
  }
 ],
 "metadata": {
  "kernelspec": {
   "display_name": "sims",
   "language": "python",
   "name": "sims"
  },
  "language_info": {
   "codemirror_mode": {
    "name": "ipython",
    "version": 3
   },
   "file_extension": ".py",
   "mimetype": "text/x-python",
   "name": "python",
   "nbconvert_exporter": "python",
   "pygments_lexer": "ipython3",
   "version": "3.9.12"
  }
 },
 "nbformat": 4,
 "nbformat_minor": 5
}

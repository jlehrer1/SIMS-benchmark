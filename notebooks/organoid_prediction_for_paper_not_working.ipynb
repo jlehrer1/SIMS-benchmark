{
 "cells": [
  {
   "cell_type": "code",
   "execution_count": 81,
   "id": "33524f94",
   "metadata": {},
   "outputs": [
    {
     "name": "stderr",
     "output_type": "stream",
     "text": [
      "wandb: Network error (ConnectionError), entering retry loop.\n"
     ]
    }
   ],
   "source": [
    "import scsims \n",
    "import pandas as pd \n",
    "import numpy as np\n",
    "import os\n",
    "import anndata as an\n",
    "from scsims import SIMS \n",
    "import scanpy as sc\n",
    "import anndata as an\n",
    "from torch.utils.data import DataLoader\n",
    "from scsims.testing import TestAnndatasetMatrix\n",
    "import torch\n",
    "from tqdm import tqdm\n",
    "from scsims import clean_sample \n",
    "import numpy as np\n",
    "import pandas as pd \n",
    "from scsims import SIMSClassifier\n",
    "from scsims.data import AnnDatasetMatrix\n",
    "import plotly.express as px \n",
    "from scsims import DataModule\n",
    "import os \n",
    "from pytorch_lightning.loggers import WandbLogger\n",
    "import pytorch_lightning as pl \n",
    "\n",
    "from bigcsv import to_h5ad\n",
    "\n",
    "class UploadCallback(pl.callbacks.Callback):\n",
    "    def __init__(\n",
    "        self, \n",
    "        path: str, \n",
    "        desc: str, \n",
    "        upload_path='model_checkpoints',\n",
    "        epochs: int=1,\n",
    "    ) -> None:\n",
    "        super().__init__()\n",
    "        self.path = path \n",
    "        self.desc = desc\n",
    "        self.upload_path = upload_path\n",
    "        self.epochs = epochs \n",
    "\n",
    "    def on_train_epoch_end(self, trainer, pl_module):\n",
    "        epoch = trainer.current_epoch\n",
    "\n",
    "        if epoch % self.epochs == 0 and epoch > 0: # Save every ten epochs\n",
    "            checkpoint = f'checkpoint-{epoch}-desc-{self.desc}.ckpt'\n",
    "            trainer.save_checkpoint(os.path.join(self.path, checkpoint))\n",
    "            print(f'Saving checkpoint at epoch {epoch}')"
   ]
  },
  {
   "cell_type": "code",
   "execution_count": 9,
   "id": "46ea19e0",
   "metadata": {},
   "outputs": [],
   "source": [
    "df = pd.read_csv('../data/SCP282/expression/expression_11a.6mon.txt', nrows=2, sep='\\t')"
   ]
  },
  {
   "cell_type": "code",
   "execution_count": 10,
   "id": "20a63b32",
   "metadata": {},
   "outputs": [
    {
     "data": {
      "text/html": [
       "<div>\n",
       "<style scoped>\n",
       "    .dataframe tbody tr th:only-of-type {\n",
       "        vertical-align: middle;\n",
       "    }\n",
       "\n",
       "    .dataframe tbody tr th {\n",
       "        vertical-align: top;\n",
       "    }\n",
       "\n",
       "    .dataframe thead th {\n",
       "        text-align: right;\n",
       "    }\n",
       "</style>\n",
       "<table border=\"1\" class=\"dataframe\">\n",
       "  <thead>\n",
       "    <tr style=\"text-align: right;\">\n",
       "      <th></th>\n",
       "      <th>GENE</th>\n",
       "      <th>11a.6mon_X1_AAACCTGAGAATCTCC</th>\n",
       "      <th>11a.6mon_X1_AAACCTGAGACAGACC</th>\n",
       "      <th>11a.6mon_X1_AAACCTGAGATGTAAC</th>\n",
       "      <th>11a.6mon_X1_AAACCTGAGGAGTTGC</th>\n",
       "      <th>11a.6mon_X1_AAACCTGCAATGGTCT</th>\n",
       "      <th>11a.6mon_X1_AAACCTGCAGATGGCA</th>\n",
       "      <th>11a.6mon_X1_AAACCTGCAGCTGTGC</th>\n",
       "      <th>11a.6mon_X1_AAACCTGCAGGCTCAC</th>\n",
       "      <th>11a.6mon_X1_AAACCTGCATCACGTA</th>\n",
       "      <th>...</th>\n",
       "      <th>11a.6mon_X3_TTTGTCAAGTTGCAGG</th>\n",
       "      <th>11a.6mon_X3_TTTGTCACAACTGGCC</th>\n",
       "      <th>11a.6mon_X3_TTTGTCACAATGCCAT</th>\n",
       "      <th>11a.6mon_X3_TTTGTCACATAAAGGT</th>\n",
       "      <th>11a.6mon_X3_TTTGTCAGTAAGTGTA</th>\n",
       "      <th>11a.6mon_X3_TTTGTCAGTACATCCA</th>\n",
       "      <th>11a.6mon_X3_TTTGTCAGTAGGAGTC</th>\n",
       "      <th>11a.6mon_X3_TTTGTCAGTGTAACGG</th>\n",
       "      <th>11a.6mon_X3_TTTGTCAGTTTGACAC</th>\n",
       "      <th>11a.6mon_X3_TTTGTCATCAACACCA</th>\n",
       "    </tr>\n",
       "  </thead>\n",
       "  <tbody>\n",
       "    <tr>\n",
       "      <th>0</th>\n",
       "      <td>RP11-34P13.3</td>\n",
       "      <td>0</td>\n",
       "      <td>0</td>\n",
       "      <td>0</td>\n",
       "      <td>0</td>\n",
       "      <td>0</td>\n",
       "      <td>0</td>\n",
       "      <td>0</td>\n",
       "      <td>0</td>\n",
       "      <td>0</td>\n",
       "      <td>...</td>\n",
       "      <td>0</td>\n",
       "      <td>0</td>\n",
       "      <td>0</td>\n",
       "      <td>0</td>\n",
       "      <td>0</td>\n",
       "      <td>0</td>\n",
       "      <td>0</td>\n",
       "      <td>0</td>\n",
       "      <td>0</td>\n",
       "      <td>0</td>\n",
       "    </tr>\n",
       "    <tr>\n",
       "      <th>1</th>\n",
       "      <td>FAM138A</td>\n",
       "      <td>0</td>\n",
       "      <td>0</td>\n",
       "      <td>0</td>\n",
       "      <td>0</td>\n",
       "      <td>0</td>\n",
       "      <td>0</td>\n",
       "      <td>0</td>\n",
       "      <td>0</td>\n",
       "      <td>0</td>\n",
       "      <td>...</td>\n",
       "      <td>0</td>\n",
       "      <td>0</td>\n",
       "      <td>0</td>\n",
       "      <td>0</td>\n",
       "      <td>0</td>\n",
       "      <td>0</td>\n",
       "      <td>0</td>\n",
       "      <td>0</td>\n",
       "      <td>0</td>\n",
       "      <td>0</td>\n",
       "    </tr>\n",
       "  </tbody>\n",
       "</table>\n",
       "<p>2 rows × 25619 columns</p>\n",
       "</div>"
      ],
      "text/plain": [
       "           GENE  11a.6mon_X1_AAACCTGAGAATCTCC  11a.6mon_X1_AAACCTGAGACAGACC  \\\n",
       "0  RP11-34P13.3                             0                             0   \n",
       "1       FAM138A                             0                             0   \n",
       "\n",
       "   11a.6mon_X1_AAACCTGAGATGTAAC  11a.6mon_X1_AAACCTGAGGAGTTGC  \\\n",
       "0                             0                             0   \n",
       "1                             0                             0   \n",
       "\n",
       "   11a.6mon_X1_AAACCTGCAATGGTCT  11a.6mon_X1_AAACCTGCAGATGGCA  \\\n",
       "0                             0                             0   \n",
       "1                             0                             0   \n",
       "\n",
       "   11a.6mon_X1_AAACCTGCAGCTGTGC  11a.6mon_X1_AAACCTGCAGGCTCAC  \\\n",
       "0                             0                             0   \n",
       "1                             0                             0   \n",
       "\n",
       "   11a.6mon_X1_AAACCTGCATCACGTA  ...  11a.6mon_X3_TTTGTCAAGTTGCAGG  \\\n",
       "0                             0  ...                             0   \n",
       "1                             0  ...                             0   \n",
       "\n",
       "   11a.6mon_X3_TTTGTCACAACTGGCC  11a.6mon_X3_TTTGTCACAATGCCAT  \\\n",
       "0                             0                             0   \n",
       "1                             0                             0   \n",
       "\n",
       "   11a.6mon_X3_TTTGTCACATAAAGGT  11a.6mon_X3_TTTGTCAGTAAGTGTA  \\\n",
       "0                             0                             0   \n",
       "1                             0                             0   \n",
       "\n",
       "   11a.6mon_X3_TTTGTCAGTACATCCA  11a.6mon_X3_TTTGTCAGTAGGAGTC  \\\n",
       "0                             0                             0   \n",
       "1                             0                             0   \n",
       "\n",
       "   11a.6mon_X3_TTTGTCAGTGTAACGG  11a.6mon_X3_TTTGTCAGTTTGACAC  \\\n",
       "0                             0                             0   \n",
       "1                             0                             0   \n",
       "\n",
       "   11a.6mon_X3_TTTGTCATCAACACCA  \n",
       "0                             0  \n",
       "1                             0  \n",
       "\n",
       "[2 rows x 25619 columns]"
      ]
     },
     "execution_count": 10,
     "metadata": {},
     "output_type": "execute_result"
    }
   ],
   "source": [
    "df"
   ]
  },
  {
   "cell_type": "code",
   "execution_count": 12,
   "id": "a1a99156",
   "metadata": {},
   "outputs": [],
   "source": [
    "# import concurrent.futures\n",
    "\n",
    "# infiles = [f for f in os.listdir('../data/SCP282/expression/') if f.startswith('expression')]\n",
    "# outfiles = ['_'.join(f.split('.')[:-1]) + '.h5ad' for f in files]\n",
    "\n",
    "# with concurrent.futures.ProcessPoolExecutor(max_workers=8) as executor:\n",
    "#     for infile, outfile in zip(infiles, outfiles):\n",
    "#         executor.submit(\n",
    "#             to_h5ad,\n",
    "#             file=f'../data/SCP282/expression/{infile}',\n",
    "#             outfile=f'../data/SCP282/{outfile}',\n",
    "#             sep='\\t',\n",
    "#             sparsify=True,\n",
    "#             chunksize=400,\n",
    "#             index_col='GENE',\n",
    "#             quiet=False,\n",
    "#         )\n"
   ]
  },
  {
   "cell_type": "code",
   "execution_count": 15,
   "id": "cf1540f0",
   "metadata": {},
   "outputs": [
    {
     "data": {
      "text/plain": [
       "['expression_PGP1_6mon_Batch2.h5ad',\n",
       " 'expression_PGP1_3mon.h5ad',\n",
       " 'expression_PGP1_3mon_batch2.h5ad',\n",
       " 'expression_11a_6mon.h5ad',\n",
       " 'expression_HUES66_3mon.h5ad',\n",
       " 'expression_PGP1_6mon.h5ad']"
      ]
     },
     "execution_count": 15,
     "metadata": {},
     "output_type": "execute_result"
    }
   ],
   "source": [
    "h5s = [f for f in os.listdir('../data/SCP282/') if f.endswith('h5ad') and f.startswith('expression')]\n",
    "\n",
    "h5s"
   ]
  },
  {
   "cell_type": "code",
   "execution_count": 16,
   "id": "31127d61",
   "metadata": {
    "scrolled": true
   },
   "outputs": [],
   "source": [
    "# for file in h5s:\n",
    "#     data = an.read_h5ad(f'../data/SCP282/{file}')\n",
    "#     data = data.T\n",
    "#     data.write_h5ad(f'../data/SCP282/for_inference/transposed_{file}')"
   ]
  },
  {
   "cell_type": "code",
   "execution_count": 16,
   "id": "1e2719f1",
   "metadata": {},
   "outputs": [
    {
     "data": {
      "text/plain": [
       "6"
      ]
     },
     "execution_count": 16,
     "metadata": {},
     "output_type": "execute_result"
    }
   ],
   "source": [
    "h5s = [f for f in os.listdir('../data/SCP282/for_inference') if f.endswith('h5ad')]\n",
    "\n",
    "len(h5s)"
   ]
  },
  {
   "cell_type": "code",
   "execution_count": 18,
   "id": "70223066",
   "metadata": {
    "scrolled": true
   },
   "outputs": [
    {
     "name": "stdout",
     "output_type": "stream",
     "text": [
      "True\n",
      "True\n",
      "True\n",
      "True\n",
      "True\n",
      "True\n"
     ]
    }
   ],
   "source": [
    "l = an.read_h5ad(f'../data/SCP282/for_inference/{h5s[0]}')\n",
    "\n",
    "for file in h5s:\n",
    "    data = an.read_h5ad(f'../data/SCP282/for_inference/{file}')\n",
    "    print(all(data.var['index'] == l.var['index']))"
   ]
  },
  {
   "cell_type": "code",
   "execution_count": 18,
   "id": "8dd4f05f",
   "metadata": {},
   "outputs": [
    {
     "data": {
      "text/html": [
       "<div>\n",
       "<style scoped>\n",
       "    .dataframe tbody tr th:only-of-type {\n",
       "        vertical-align: middle;\n",
       "    }\n",
       "\n",
       "    .dataframe tbody tr th {\n",
       "        vertical-align: top;\n",
       "    }\n",
       "\n",
       "    .dataframe thead th {\n",
       "        text-align: right;\n",
       "    }\n",
       "</style>\n",
       "<table border=\"1\" class=\"dataframe\">\n",
       "  <thead>\n",
       "    <tr style=\"text-align: right;\">\n",
       "      <th></th>\n",
       "    </tr>\n",
       "  </thead>\n",
       "  <tbody>\n",
       "    <tr>\n",
       "      <th>PGP1.6mon.Batch2_X1_AAACCTGAGATCTGAA</th>\n",
       "    </tr>\n",
       "    <tr>\n",
       "      <th>PGP1.6mon.Batch2_X1_AAACCTGAGCCCAATT</th>\n",
       "    </tr>\n",
       "    <tr>\n",
       "      <th>PGP1.6mon.Batch2_X1_AAACCTGAGGATGCGT</th>\n",
       "    </tr>\n",
       "    <tr>\n",
       "      <th>PGP1.6mon.Batch2_X1_AAACCTGCACTTCTGC</th>\n",
       "    </tr>\n",
       "    <tr>\n",
       "      <th>PGP1.6mon.Batch2_X1_AAACCTGGTATATCCG</th>\n",
       "    </tr>\n",
       "    <tr>\n",
       "      <th>...</th>\n",
       "    </tr>\n",
       "    <tr>\n",
       "      <th>PGP1.6mon.Batch2_X3_TTTGTCATCCCTTGCA</th>\n",
       "    </tr>\n",
       "    <tr>\n",
       "      <th>PGP1.6mon.Batch2_X3_TTTGTCATCCTCTAGC</th>\n",
       "    </tr>\n",
       "    <tr>\n",
       "      <th>PGP1.6mon.Batch2_X3_TTTGTCATCGGCGCTA</th>\n",
       "    </tr>\n",
       "    <tr>\n",
       "      <th>PGP1.6mon.Batch2_X3_TTTGTCATCTCCAACC</th>\n",
       "    </tr>\n",
       "    <tr>\n",
       "      <th>PGP1.6mon.Batch2_X3_TTTGTCATCTTCCTTC</th>\n",
       "    </tr>\n",
       "  </tbody>\n",
       "</table>\n",
       "<p>25776 rows × 0 columns</p>\n",
       "</div>"
      ],
      "text/plain": [
       "Empty DataFrame\n",
       "Columns: []\n",
       "Index: [PGP1.6mon.Batch2_X1_AAACCTGAGATCTGAA, PGP1.6mon.Batch2_X1_AAACCTGAGCCCAATT, PGP1.6mon.Batch2_X1_AAACCTGAGGATGCGT, PGP1.6mon.Batch2_X1_AAACCTGCACTTCTGC, PGP1.6mon.Batch2_X1_AAACCTGGTATATCCG, PGP1.6mon.Batch2_X1_AAACCTGGTATGGTTC, PGP1.6mon.Batch2_X1_AAACCTGGTCAATACC, PGP1.6mon.Batch2_X1_AAACCTGGTCGATTGT, PGP1.6mon.Batch2_X1_AAACCTGGTGCCTGCA, PGP1.6mon.Batch2_X1_AAACCTGTCCTCTAGC, PGP1.6mon.Batch2_X1_AAACCTGTCTCGTATT, PGP1.6mon.Batch2_X1_AAACCTGTCTGTTGAG, PGP1.6mon.Batch2_X1_AAACGGGAGACAATAC, PGP1.6mon.Batch2_X1_AAACGGGAGAGCTATA, PGP1.6mon.Batch2_X1_AAACGGGAGAGTGACC, PGP1.6mon.Batch2_X1_AAACGGGAGATGTGTA, PGP1.6mon.Batch2_X1_AAACGGGAGCTAAGAT, PGP1.6mon.Batch2_X1_AAACGGGAGGCAAAGA, PGP1.6mon.Batch2_X1_AAACGGGAGTACGTAA, PGP1.6mon.Batch2_X1_AAACGGGAGTAGCGGT, PGP1.6mon.Batch2_X1_AAACGGGAGTCAAGGC, PGP1.6mon.Batch2_X1_AAACGGGCAAGAGGCT, PGP1.6mon.Batch2_X1_AAACGGGCACGGTGTC, PGP1.6mon.Batch2_X1_AAACGGGCATAAGACA, PGP1.6mon.Batch2_X1_AAACGGGGTACCGGCT, PGP1.6mon.Batch2_X1_AAACGGGGTATATCCG, PGP1.6mon.Batch2_X1_AAACGGGGTCACAAGG, PGP1.6mon.Batch2_X1_AAACGGGGTGAAAGAG, PGP1.6mon.Batch2_X1_AAACGGGGTGAGGCTA, PGP1.6mon.Batch2_X1_AAACGGGGTGTGGCTC, PGP1.6mon.Batch2_X1_AAACGGGTCCTATGTT, PGP1.6mon.Batch2_X1_AAACGGGTCTTGTACT, PGP1.6mon.Batch2_X1_AAAGATGAGACAGGCT, PGP1.6mon.Batch2_X1_AAAGATGAGCACACAG, PGP1.6mon.Batch2_X1_AAAGATGAGCATGGCA, PGP1.6mon.Batch2_X1_AAAGATGAGCCAGGAT, PGP1.6mon.Batch2_X1_AAAGATGAGCTGAAAT, PGP1.6mon.Batch2_X1_AAAGATGAGGAGTAGA, PGP1.6mon.Batch2_X1_AAAGATGAGGCAATTA, PGP1.6mon.Batch2_X1_AAAGATGAGGCAGTCA, PGP1.6mon.Batch2_X1_AAAGATGAGTAACCCT, PGP1.6mon.Batch2_X1_AAAGATGAGTACGACG, PGP1.6mon.Batch2_X1_AAAGATGAGTATGACA, PGP1.6mon.Batch2_X1_AAAGATGCAACTGGCC, PGP1.6mon.Batch2_X1_AAAGATGCATAAGACA, PGP1.6mon.Batch2_X1_AAAGATGCATGCCTAA, PGP1.6mon.Batch2_X1_AAAGATGGTAGCACGA, PGP1.6mon.Batch2_X1_AAAGATGGTAGGGTAC, PGP1.6mon.Batch2_X1_AAAGATGGTCTGGAGA, PGP1.6mon.Batch2_X1_AAAGATGTCCCTTGCA, PGP1.6mon.Batch2_X1_AAAGATGTCCTAGTGA, PGP1.6mon.Batch2_X1_AAAGATGTCGACCAGC, PGP1.6mon.Batch2_X1_AAAGATGTCGGAGGTA, PGP1.6mon.Batch2_X1_AAAGATGTCTCTGAGA, PGP1.6mon.Batch2_X1_AAAGCAAAGACTGGGT, PGP1.6mon.Batch2_X1_AAAGCAAAGCATGGCA, PGP1.6mon.Batch2_X1_AAAGCAAAGCCACTAT, PGP1.6mon.Batch2_X1_AAAGCAAAGCTGCGAA, PGP1.6mon.Batch2_X1_AAAGCAAAGGACACCA, PGP1.6mon.Batch2_X1_AAAGCAAAGGACATTA, PGP1.6mon.Batch2_X1_AAAGCAAAGTGTTAGA, PGP1.6mon.Batch2_X1_AAAGCAACACCCAGTG, PGP1.6mon.Batch2_X1_AAAGCAACACTAAGTC, PGP1.6mon.Batch2_X1_AAAGCAACACTGCCAG, PGP1.6mon.Batch2_X1_AAAGCAACATATACCG, PGP1.6mon.Batch2_X1_AAAGCAAGTGTCGCTG, PGP1.6mon.Batch2_X1_AAAGCAAGTTCAGTAC, PGP1.6mon.Batch2_X1_AAAGCAAGTTGGTAAA, PGP1.6mon.Batch2_X1_AAAGCAATCAAACGGG, PGP1.6mon.Batch2_X1_AAAGCAATCAGTACGT, PGP1.6mon.Batch2_X1_AAAGCAATCCCGGATG, PGP1.6mon.Batch2_X1_AAAGCAATCCTGCAGG, PGP1.6mon.Batch2_X1_AAAGCAATCTGTTTGT, PGP1.6mon.Batch2_X1_AAAGTAGAGCTCTCGG, PGP1.6mon.Batch2_X1_AAAGTAGAGTAGTGCG, PGP1.6mon.Batch2_X1_AAAGTAGAGTTACCCA, PGP1.6mon.Batch2_X1_AAAGTAGAGTTTCCTT, PGP1.6mon.Batch2_X1_AAAGTAGCACAAGTAA, PGP1.6mon.Batch2_X1_AAAGTAGCACATTTCT, PGP1.6mon.Batch2_X1_AAAGTAGCACGAAGCA, PGP1.6mon.Batch2_X1_AAAGTAGCACTGTGTA, PGP1.6mon.Batch2_X1_AAAGTAGCAGACGTAG, PGP1.6mon.Batch2_X1_AAAGTAGCAGTCAGAG, PGP1.6mon.Batch2_X1_AAAGTAGCATAGGATA, PGP1.6mon.Batch2_X1_AAAGTAGCATAGTAAG, PGP1.6mon.Batch2_X1_AAAGTAGCATTTGCCC, PGP1.6mon.Batch2_X1_AAAGTAGGTAGCCTAT, PGP1.6mon.Batch2_X1_AAAGTAGGTCTTCTCG, PGP1.6mon.Batch2_X1_AAAGTAGTCCCTCTTT, PGP1.6mon.Batch2_X1_AAAGTAGTCTGCTTGC, PGP1.6mon.Batch2_X1_AAATGCCAGGCCCTTG, PGP1.6mon.Batch2_X1_AAATGCCAGTAGCGGT, PGP1.6mon.Batch2_X1_AAATGCCAGTGCCATT, PGP1.6mon.Batch2_X1_AAATGCCAGTGTACTC, PGP1.6mon.Batch2_X1_AAATGCCCATGTAGTC, PGP1.6mon.Batch2_X1_AAATGCCGTATAATGG, PGP1.6mon.Batch2_X1_AAATGCCGTTGAGTTC, PGP1.6mon.Batch2_X1_AAATGCCTCCGAAGAG, PGP1.6mon.Batch2_X1_AAATGCCTCTTGAGGT, PGP1.6mon.Batch2_X1_AACACGTAGTCTCGGC, ...]\n",
       "\n",
       "[25776 rows x 0 columns]"
      ]
     },
     "execution_count": 18,
     "metadata": {},
     "output_type": "execute_result"
    }
   ],
   "source": [
    "l = an.read_h5ad(f'../data/SCP282/for_inference/{h5s[0]}')\n",
    "l.obs"
   ]
  },
  {
   "cell_type": "code",
   "execution_count": 20,
   "id": "a16d8d84",
   "metadata": {},
   "outputs": [],
   "source": [
    "to_concat = [an.read_h5ad(f'../data/SCP282/for_inference/{file}') for file in h5s]"
   ]
  },
  {
   "cell_type": "code",
   "execution_count": 21,
   "id": "51f4d6f3",
   "metadata": {},
   "outputs": [],
   "source": [
    "combined_data = an.concat(to_concat)"
   ]
  },
  {
   "cell_type": "code",
   "execution_count": 147,
   "id": "a7299584",
   "metadata": {},
   "outputs": [],
   "source": [
    "combined_data.obs = combined_data.obs.reset_index(drop=True)"
   ]
  },
  {
   "cell_type": "code",
   "execution_count": 153,
   "id": "ac91ef1b",
   "metadata": {
    "scrolled": true
   },
   "outputs": [],
   "source": [
    "combined_data.obs = combined_data.obs.drop(['nGene', 'nUMI', 'Cluster'], axis=1)"
   ]
  },
  {
   "cell_type": "code",
   "execution_count": 156,
   "id": "618bba57",
   "metadata": {},
   "outputs": [],
   "source": [
    "for col in combined_data.obs.columns:\n",
    "    combined_data.obs[col] = combined_data.obs[col].astype(str)"
   ]
  },
  {
   "cell_type": "code",
   "execution_count": 157,
   "id": "441b679b",
   "metadata": {},
   "outputs": [],
   "source": [
    "combined_data.write_h5ad('../data/SCP282/combined_data.h5ad')"
   ]
  },
  {
   "cell_type": "code",
   "execution_count": 128,
   "id": "fb2c7bb8",
   "metadata": {
    "scrolled": true
   },
   "outputs": [
    {
     "data": {
      "text/html": [
       "<div>\n",
       "<style scoped>\n",
       "    .dataframe tbody tr th:only-of-type {\n",
       "        vertical-align: middle;\n",
       "    }\n",
       "\n",
       "    .dataframe tbody tr th {\n",
       "        vertical-align: top;\n",
       "    }\n",
       "\n",
       "    .dataframe thead th {\n",
       "        text-align: right;\n",
       "    }\n",
       "</style>\n",
       "<table border=\"1\" class=\"dataframe\">\n",
       "  <thead>\n",
       "    <tr style=\"text-align: right;\">\n",
       "      <th></th>\n",
       "      <th>index</th>\n",
       "    </tr>\n",
       "  </thead>\n",
       "  <tbody>\n",
       "    <tr>\n",
       "      <th>0</th>\n",
       "      <td>RP11-34P13.3</td>\n",
       "    </tr>\n",
       "    <tr>\n",
       "      <th>1</th>\n",
       "      <td>FAM138A</td>\n",
       "    </tr>\n",
       "    <tr>\n",
       "      <th>2</th>\n",
       "      <td>OR4F5</td>\n",
       "    </tr>\n",
       "    <tr>\n",
       "      <th>3</th>\n",
       "      <td>RP11-34P13.7</td>\n",
       "    </tr>\n",
       "    <tr>\n",
       "      <th>4</th>\n",
       "      <td>RP11-34P13.8</td>\n",
       "    </tr>\n",
       "    <tr>\n",
       "      <th>...</th>\n",
       "      <td>...</td>\n",
       "    </tr>\n",
       "    <tr>\n",
       "      <th>33689</th>\n",
       "      <td>AC233755.2</td>\n",
       "    </tr>\n",
       "    <tr>\n",
       "      <th>33690</th>\n",
       "      <td>AC233755.1</td>\n",
       "    </tr>\n",
       "    <tr>\n",
       "      <th>33691</th>\n",
       "      <td>AC240274.1</td>\n",
       "    </tr>\n",
       "    <tr>\n",
       "      <th>33692</th>\n",
       "      <td>AC213203.1</td>\n",
       "    </tr>\n",
       "    <tr>\n",
       "      <th>33693</th>\n",
       "      <td>FAM231B</td>\n",
       "    </tr>\n",
       "  </tbody>\n",
       "</table>\n",
       "<p>33694 rows × 1 columns</p>\n",
       "</div>"
      ],
      "text/plain": [
       "              index\n",
       "0      RP11-34P13.3\n",
       "1           FAM138A\n",
       "2             OR4F5\n",
       "3      RP11-34P13.7\n",
       "4      RP11-34P13.8\n",
       "...             ...\n",
       "33689    AC233755.2\n",
       "33690    AC233755.1\n",
       "33691    AC240274.1\n",
       "33692    AC213203.1\n",
       "33693       FAM231B\n",
       "\n",
       "[33694 rows x 1 columns]"
      ]
     },
     "execution_count": 128,
     "metadata": {},
     "output_type": "execute_result"
    }
   ],
   "source": [
    "data.var"
   ]
  },
  {
   "cell_type": "code",
   "execution_count": 2,
   "id": "82284c49",
   "metadata": {},
   "outputs": [
    {
     "name": "stderr",
     "output_type": "stream",
     "text": [
      "/var/folders/pd/jsjcl0fn7w57s5mfr34b20pm0000gn/T/ipykernel_51687/2208636785.py:1: DtypeWarning: Columns (1,2,3,4) have mixed types. Specify dtype option on import or set low_memory=False.\n",
      "  metadata = pd.read_csv('../data/SCP282/metadata/meta_combined.txt', sep='\\t')\n"
     ]
    }
   ],
   "source": [
    "metadata = pd.read_csv('../data/SCP282/metadata/meta_combined.txt', sep='\\t')"
   ]
  },
  {
   "cell_type": "code",
   "execution_count": 6,
   "id": "620ac41b",
   "metadata": {
    "scrolled": true
   },
   "outputs": [],
   "source": [
    "combined_data.obs = combined_data.obs.drop('CellType', axis=1)"
   ]
  },
  {
   "cell_type": "code",
   "execution_count": 7,
   "id": "e447b5b8",
   "metadata": {
    "scrolled": true
   },
   "outputs": [
    {
     "data": {
      "text/html": [
       "<div>\n",
       "<style scoped>\n",
       "    .dataframe tbody tr th:only-of-type {\n",
       "        vertical-align: middle;\n",
       "    }\n",
       "\n",
       "    .dataframe tbody tr th {\n",
       "        vertical-align: top;\n",
       "    }\n",
       "\n",
       "    .dataframe thead th {\n",
       "        text-align: right;\n",
       "    }\n",
       "</style>\n",
       "<table border=\"1\" class=\"dataframe\">\n",
       "  <thead>\n",
       "    <tr style=\"text-align: right;\">\n",
       "      <th></th>\n",
       "      <th>NAME</th>\n",
       "      <th>nGene</th>\n",
       "      <th>nUMI</th>\n",
       "      <th>Cluster</th>\n",
       "      <th>Organoid</th>\n",
       "      <th>CellType</th>\n",
       "      <th>Batch</th>\n",
       "    </tr>\n",
       "  </thead>\n",
       "  <tbody>\n",
       "    <tr>\n",
       "      <th>0</th>\n",
       "      <td>TYPE</td>\n",
       "      <td>numeric</td>\n",
       "      <td>numeric</td>\n",
       "      <td>group</td>\n",
       "      <td>group</td>\n",
       "      <td>group</td>\n",
       "      <td>group</td>\n",
       "    </tr>\n",
       "    <tr>\n",
       "      <th>1</th>\n",
       "      <td>GM.6mon_X1_AAACCTGAGCAGGTCA</td>\n",
       "      <td>2253</td>\n",
       "      <td>5593</td>\n",
       "      <td>5</td>\n",
       "      <td>13</td>\n",
       "      <td>Cycling</td>\n",
       "      <td>GM8330_6mon</td>\n",
       "    </tr>\n",
       "    <tr>\n",
       "      <th>2</th>\n",
       "      <td>GM.6mon_X1_AAACCTGCAAGAGTCG</td>\n",
       "      <td>1137</td>\n",
       "      <td>2213</td>\n",
       "      <td>3</td>\n",
       "      <td>13</td>\n",
       "      <td>Immature Interneurons</td>\n",
       "      <td>GM8330_6mon</td>\n",
       "    </tr>\n",
       "    <tr>\n",
       "      <th>3</th>\n",
       "      <td>GM.6mon_X1_AAACCTGCAATGACCT</td>\n",
       "      <td>3084</td>\n",
       "      <td>9435</td>\n",
       "      <td>4</td>\n",
       "      <td>13</td>\n",
       "      <td>Cycling</td>\n",
       "      <td>GM8330_6mon</td>\n",
       "    </tr>\n",
       "    <tr>\n",
       "      <th>4</th>\n",
       "      <td>GM.6mon_X1_AAACCTGGTCAAAGAT</td>\n",
       "      <td>2437</td>\n",
       "      <td>7361</td>\n",
       "      <td>6</td>\n",
       "      <td>13</td>\n",
       "      <td>oRG/Astroglia</td>\n",
       "      <td>GM8330_6mon</td>\n",
       "    </tr>\n",
       "    <tr>\n",
       "      <th>...</th>\n",
       "      <td>...</td>\n",
       "      <td>...</td>\n",
       "      <td>...</td>\n",
       "      <td>...</td>\n",
       "      <td>...</td>\n",
       "      <td>...</td>\n",
       "      <td>...</td>\n",
       "    </tr>\n",
       "    <tr>\n",
       "      <th>166238</th>\n",
       "      <td>11a.6mon_X3_TTTGTCAGTACATCCA</td>\n",
       "      <td>1634</td>\n",
       "      <td>3951</td>\n",
       "      <td>15</td>\n",
       "      <td>12</td>\n",
       "      <td>IPCs</td>\n",
       "      <td>11a_6mon</td>\n",
       "    </tr>\n",
       "    <tr>\n",
       "      <th>166239</th>\n",
       "      <td>11a.6mon_X3_TTTGTCAGTAGGAGTC</td>\n",
       "      <td>2807</td>\n",
       "      <td>8397</td>\n",
       "      <td>11</td>\n",
       "      <td>12</td>\n",
       "      <td>oRG/Astroglia</td>\n",
       "      <td>11a_6mon</td>\n",
       "    </tr>\n",
       "    <tr>\n",
       "      <th>166240</th>\n",
       "      <td>11a.6mon_X3_TTTGTCAGTGTAACGG</td>\n",
       "      <td>1723</td>\n",
       "      <td>3694</td>\n",
       "      <td>5</td>\n",
       "      <td>12</td>\n",
       "      <td>Ventral Precursors</td>\n",
       "      <td>11a_6mon</td>\n",
       "    </tr>\n",
       "    <tr>\n",
       "      <th>166241</th>\n",
       "      <td>11a.6mon_X3_TTTGTCAGTTTGACAC</td>\n",
       "      <td>1851</td>\n",
       "      <td>4112</td>\n",
       "      <td>3</td>\n",
       "      <td>12</td>\n",
       "      <td>Immature CPNs</td>\n",
       "      <td>11a_6mon</td>\n",
       "    </tr>\n",
       "    <tr>\n",
       "      <th>166242</th>\n",
       "      <td>11a.6mon_X3_TTTGTCATCAACACCA</td>\n",
       "      <td>791</td>\n",
       "      <td>1527</td>\n",
       "      <td>10</td>\n",
       "      <td>12</td>\n",
       "      <td>Immature Interneurons</td>\n",
       "      <td>11a_6mon</td>\n",
       "    </tr>\n",
       "  </tbody>\n",
       "</table>\n",
       "<p>166243 rows × 7 columns</p>\n",
       "</div>"
      ],
      "text/plain": [
       "                                NAME    nGene     nUMI Cluster Organoid  \\\n",
       "0                               TYPE  numeric  numeric   group    group   \n",
       "1        GM.6mon_X1_AAACCTGAGCAGGTCA     2253     5593       5       13   \n",
       "2        GM.6mon_X1_AAACCTGCAAGAGTCG     1137     2213       3       13   \n",
       "3        GM.6mon_X1_AAACCTGCAATGACCT     3084     9435       4       13   \n",
       "4        GM.6mon_X1_AAACCTGGTCAAAGAT     2437     7361       6       13   \n",
       "...                              ...      ...      ...     ...      ...   \n",
       "166238  11a.6mon_X3_TTTGTCAGTACATCCA     1634     3951      15       12   \n",
       "166239  11a.6mon_X3_TTTGTCAGTAGGAGTC     2807     8397      11       12   \n",
       "166240  11a.6mon_X3_TTTGTCAGTGTAACGG     1723     3694       5       12   \n",
       "166241  11a.6mon_X3_TTTGTCAGTTTGACAC     1851     4112       3       12   \n",
       "166242  11a.6mon_X3_TTTGTCATCAACACCA      791     1527      10       12   \n",
       "\n",
       "                     CellType        Batch  \n",
       "0                       group        group  \n",
       "1                     Cycling  GM8330_6mon  \n",
       "2       Immature Interneurons  GM8330_6mon  \n",
       "3                     Cycling  GM8330_6mon  \n",
       "4               oRG/Astroglia  GM8330_6mon  \n",
       "...                       ...          ...  \n",
       "166238                   IPCs     11a_6mon  \n",
       "166239          oRG/Astroglia     11a_6mon  \n",
       "166240     Ventral Precursors     11a_6mon  \n",
       "166241          Immature CPNs     11a_6mon  \n",
       "166242  Immature Interneurons     11a_6mon  \n",
       "\n",
       "[166243 rows x 7 columns]"
      ]
     },
     "execution_count": 7,
     "metadata": {},
     "output_type": "execute_result"
    }
   ],
   "source": [
    "combined_data"
   ]
  },
  {
   "cell_type": "code",
   "execution_count": 13,
   "id": "70302bc1",
   "metadata": {},
   "outputs": [
    {
     "name": "stderr",
     "output_type": "stream",
     "text": [
      "/Users/julian/miniconda3/envs/sims/lib/python3.9/site-packages/anndata/_core/anndata.py:798: UserWarning: \n",
      "AnnData expects .obs.index to contain strings, but got values like:\n",
      "    [0, 1, 2, 3, 4]\n",
      "\n",
      "    Inferred to be: integer\n",
      "\n",
      "  value_idx = self._prep_dim_index(value.index, attr)\n"
     ]
    }
   ],
   "source": [
    "combined_data.obs = combined_data.obs.merge(metadata, on='NAME', how='inner')"
   ]
  },
  {
   "cell_type": "code",
   "execution_count": 15,
   "id": "31901b67",
   "metadata": {},
   "outputs": [
    {
     "data": {
      "text/html": [
       "<div>\n",
       "<style scoped>\n",
       "    .dataframe tbody tr th:only-of-type {\n",
       "        vertical-align: middle;\n",
       "    }\n",
       "\n",
       "    .dataframe tbody tr th {\n",
       "        vertical-align: top;\n",
       "    }\n",
       "\n",
       "    .dataframe thead th {\n",
       "        text-align: right;\n",
       "    }\n",
       "</style>\n",
       "<table border=\"1\" class=\"dataframe\">\n",
       "  <thead>\n",
       "    <tr style=\"text-align: right;\">\n",
       "      <th></th>\n",
       "      <th>NAME</th>\n",
       "      <th>Organoid_x</th>\n",
       "      <th>CellType_x</th>\n",
       "      <th>Batch_x</th>\n",
       "      <th>nGene</th>\n",
       "      <th>nUMI</th>\n",
       "      <th>Cluster</th>\n",
       "      <th>Organoid_y</th>\n",
       "      <th>CellType_y</th>\n",
       "      <th>Batch_y</th>\n",
       "    </tr>\n",
       "  </thead>\n",
       "  <tbody>\n",
       "    <tr>\n",
       "      <th>0</th>\n",
       "      <td>PGP1.6mon.Batch2_X1_AAACCTGAGATCTGAA</td>\n",
       "      <td>19</td>\n",
       "      <td>CPNs</td>\n",
       "      <td>PGP1_6mon_Batch3</td>\n",
       "      <td>2145</td>\n",
       "      <td>5260</td>\n",
       "      <td>8</td>\n",
       "      <td>19</td>\n",
       "      <td>CPNs</td>\n",
       "      <td>PGP1_6mon_Batch3</td>\n",
       "    </tr>\n",
       "    <tr>\n",
       "      <th>1</th>\n",
       "      <td>PGP1.6mon.Batch2_X1_AAACCTGAGCCCAATT</td>\n",
       "      <td>19</td>\n",
       "      <td>oRG/Astroglia</td>\n",
       "      <td>PGP1_6mon_Batch3</td>\n",
       "      <td>3282</td>\n",
       "      <td>12256</td>\n",
       "      <td>2</td>\n",
       "      <td>19</td>\n",
       "      <td>oRG/Astroglia</td>\n",
       "      <td>PGP1_6mon_Batch3</td>\n",
       "    </tr>\n",
       "    <tr>\n",
       "      <th>2</th>\n",
       "      <td>PGP1.6mon.Batch2_X1_AAACCTGAGGATGCGT</td>\n",
       "      <td>19</td>\n",
       "      <td>oRG/Astroglia</td>\n",
       "      <td>PGP1_6mon_Batch3</td>\n",
       "      <td>2103</td>\n",
       "      <td>7619</td>\n",
       "      <td>2</td>\n",
       "      <td>19</td>\n",
       "      <td>oRG/Astroglia</td>\n",
       "      <td>PGP1_6mon_Batch3</td>\n",
       "    </tr>\n",
       "    <tr>\n",
       "      <th>3</th>\n",
       "      <td>PGP1.6mon.Batch2_X1_AAACCTGCACTTCTGC</td>\n",
       "      <td>19</td>\n",
       "      <td>Immature Interneurons</td>\n",
       "      <td>PGP1_6mon_Batch3</td>\n",
       "      <td>1533</td>\n",
       "      <td>3769</td>\n",
       "      <td>1</td>\n",
       "      <td>19</td>\n",
       "      <td>Immature Interneurons</td>\n",
       "      <td>PGP1_6mon_Batch3</td>\n",
       "    </tr>\n",
       "    <tr>\n",
       "      <th>4</th>\n",
       "      <td>PGP1.6mon.Batch2_X1_AAACCTGGTATATCCG</td>\n",
       "      <td>19</td>\n",
       "      <td>Ventral Precursors</td>\n",
       "      <td>PGP1_6mon_Batch3</td>\n",
       "      <td>1230</td>\n",
       "      <td>2658</td>\n",
       "      <td>6</td>\n",
       "      <td>19</td>\n",
       "      <td>Ventral Precursors</td>\n",
       "      <td>PGP1_6mon_Batch3</td>\n",
       "    </tr>\n",
       "    <tr>\n",
       "      <th>...</th>\n",
       "      <td>...</td>\n",
       "      <td>...</td>\n",
       "      <td>...</td>\n",
       "      <td>...</td>\n",
       "      <td>...</td>\n",
       "      <td>...</td>\n",
       "      <td>...</td>\n",
       "      <td>...</td>\n",
       "      <td>...</td>\n",
       "      <td>...</td>\n",
       "    </tr>\n",
       "    <tr>\n",
       "      <th>133278</th>\n",
       "      <td>PGP1.3mon_X3_TTTGTCACAAGAGGCT</td>\n",
       "      <td>3</td>\n",
       "      <td>Immature CPNs</td>\n",
       "      <td>PGP1_3mon_Batch1</td>\n",
       "      <td>1543</td>\n",
       "      <td>3239</td>\n",
       "      <td>1</td>\n",
       "      <td>3</td>\n",
       "      <td>Immature CPNs</td>\n",
       "      <td>PGP1_3mon_Batch1</td>\n",
       "    </tr>\n",
       "    <tr>\n",
       "      <th>133279</th>\n",
       "      <td>PGP1.3mon_X3_TTTGTCAGTCCATGAT</td>\n",
       "      <td>3</td>\n",
       "      <td>Immature CPNs</td>\n",
       "      <td>PGP1_3mon_Batch1</td>\n",
       "      <td>1967</td>\n",
       "      <td>4781</td>\n",
       "      <td>1</td>\n",
       "      <td>3</td>\n",
       "      <td>Immature CPNs</td>\n",
       "      <td>PGP1_3mon_Batch1</td>\n",
       "    </tr>\n",
       "    <tr>\n",
       "      <th>133280</th>\n",
       "      <td>PGP1.3mon_X3_TTTGTCATCAGCAACT</td>\n",
       "      <td>3</td>\n",
       "      <td>IPCs/Immature PNs</td>\n",
       "      <td>PGP1_3mon_Batch1</td>\n",
       "      <td>1342</td>\n",
       "      <td>2941</td>\n",
       "      <td>7</td>\n",
       "      <td>3</td>\n",
       "      <td>IPCs/Immature PNs</td>\n",
       "      <td>PGP1_3mon_Batch1</td>\n",
       "    </tr>\n",
       "    <tr>\n",
       "      <th>133281</th>\n",
       "      <td>PGP1.3mon_X3_TTTGTCATCAGGCAAG</td>\n",
       "      <td>3</td>\n",
       "      <td>Immature CPNs</td>\n",
       "      <td>PGP1_3mon_Batch1</td>\n",
       "      <td>1194</td>\n",
       "      <td>2215</td>\n",
       "      <td>1</td>\n",
       "      <td>3</td>\n",
       "      <td>Immature CPNs</td>\n",
       "      <td>PGP1_3mon_Batch1</td>\n",
       "    </tr>\n",
       "    <tr>\n",
       "      <th>133282</th>\n",
       "      <td>PGP1.3mon_X3_TTTGTCATCCGCGTTT</td>\n",
       "      <td>3</td>\n",
       "      <td>Immature CPNs</td>\n",
       "      <td>PGP1_3mon_Batch1</td>\n",
       "      <td>2282</td>\n",
       "      <td>5593</td>\n",
       "      <td>1</td>\n",
       "      <td>3</td>\n",
       "      <td>Immature CPNs</td>\n",
       "      <td>PGP1_3mon_Batch1</td>\n",
       "    </tr>\n",
       "  </tbody>\n",
       "</table>\n",
       "<p>133283 rows × 10 columns</p>\n",
       "</div>"
      ],
      "text/plain": [
       "                                        NAME Organoid_x  \\\n",
       "0       PGP1.6mon.Batch2_X1_AAACCTGAGATCTGAA         19   \n",
       "1       PGP1.6mon.Batch2_X1_AAACCTGAGCCCAATT         19   \n",
       "2       PGP1.6mon.Batch2_X1_AAACCTGAGGATGCGT         19   \n",
       "3       PGP1.6mon.Batch2_X1_AAACCTGCACTTCTGC         19   \n",
       "4       PGP1.6mon.Batch2_X1_AAACCTGGTATATCCG         19   \n",
       "...                                      ...        ...   \n",
       "133278         PGP1.3mon_X3_TTTGTCACAAGAGGCT          3   \n",
       "133279         PGP1.3mon_X3_TTTGTCAGTCCATGAT          3   \n",
       "133280         PGP1.3mon_X3_TTTGTCATCAGCAACT          3   \n",
       "133281         PGP1.3mon_X3_TTTGTCATCAGGCAAG          3   \n",
       "133282         PGP1.3mon_X3_TTTGTCATCCGCGTTT          3   \n",
       "\n",
       "                   CellType_x           Batch_x nGene   nUMI Cluster  \\\n",
       "0                        CPNs  PGP1_6mon_Batch3  2145   5260       8   \n",
       "1               oRG/Astroglia  PGP1_6mon_Batch3  3282  12256       2   \n",
       "2               oRG/Astroglia  PGP1_6mon_Batch3  2103   7619       2   \n",
       "3       Immature Interneurons  PGP1_6mon_Batch3  1533   3769       1   \n",
       "4          Ventral Precursors  PGP1_6mon_Batch3  1230   2658       6   \n",
       "...                       ...               ...   ...    ...     ...   \n",
       "133278          Immature CPNs  PGP1_3mon_Batch1  1543   3239       1   \n",
       "133279          Immature CPNs  PGP1_3mon_Batch1  1967   4781       1   \n",
       "133280      IPCs/Immature PNs  PGP1_3mon_Batch1  1342   2941       7   \n",
       "133281          Immature CPNs  PGP1_3mon_Batch1  1194   2215       1   \n",
       "133282          Immature CPNs  PGP1_3mon_Batch1  2282   5593       1   \n",
       "\n",
       "       Organoid_y             CellType_y           Batch_y  \n",
       "0              19                   CPNs  PGP1_6mon_Batch3  \n",
       "1              19          oRG/Astroglia  PGP1_6mon_Batch3  \n",
       "2              19          oRG/Astroglia  PGP1_6mon_Batch3  \n",
       "3              19  Immature Interneurons  PGP1_6mon_Batch3  \n",
       "4              19     Ventral Precursors  PGP1_6mon_Batch3  \n",
       "...           ...                    ...               ...  \n",
       "133278          3          Immature CPNs  PGP1_3mon_Batch1  \n",
       "133279          3          Immature CPNs  PGP1_3mon_Batch1  \n",
       "133280          3      IPCs/Immature PNs  PGP1_3mon_Batch1  \n",
       "133281          3          Immature CPNs  PGP1_3mon_Batch1  \n",
       "133282          3          Immature CPNs  PGP1_3mon_Batch1  \n",
       "\n",
       "[133283 rows x 10 columns]"
      ]
     },
     "execution_count": 15,
     "metadata": {},
     "output_type": "execute_result"
    }
   ],
   "source": [
    "combined_data.obs"
   ]
  },
  {
   "cell_type": "code",
   "execution_count": 14,
   "id": "248ef9dc",
   "metadata": {},
   "outputs": [
    {
     "data": {
      "text/plain": [
       "0         True\n",
       "1         True\n",
       "2         True\n",
       "3         True\n",
       "4         True\n",
       "          ... \n",
       "133278    True\n",
       "133279    True\n",
       "133280    True\n",
       "133281    True\n",
       "133282    True\n",
       "Length: 133283, dtype: bool"
      ]
     },
     "execution_count": 14,
     "metadata": {},
     "output_type": "execute_result"
    }
   ],
   "source": [
    "combined_data.obs['Organoid_x'] == combined_data.obs['Organoid_y']"
   ]
  },
  {
   "cell_type": "markdown",
   "id": "2f59d75d",
   "metadata": {},
   "source": [
    "### Now we'll look at the classes in the data from the Allen Brain Institute"
   ]
  },
  {
   "cell_type": "code",
   "execution_count": 23,
   "id": "4116a5c1",
   "metadata": {},
   "outputs": [
    {
     "name": "stderr",
     "output_type": "stream",
     "text": [
      "/Users/julian/miniconda3/envs/sims/lib/python3.9/site-packages/anndata/_core/anndata.py:121: ImplicitModificationWarning: Transforming to str index.\n",
      "  warnings.warn(\"Transforming to str index.\", ImplicitModificationWarning)\n",
      "/Users/julian/miniconda3/envs/sims/lib/python3.9/site-packages/anndata/_core/anndata.py:121: ImplicitModificationWarning: Transforming to str index.\n",
      "  warnings.warn(\"Transforming to str index.\", ImplicitModificationWarning)\n"
     ]
    }
   ],
   "source": [
    "allen = an.read_h5ad('../data/benchmark/human.h5ad')\n",
    "combined_data = an.read_h5ad('../data/benchmark/combined_organoid_data_for_test.h5ad')\n",
    "allen_labels = pd.read_csv('../data/benchmark/human_labels.csv')"
   ]
  },
  {
   "cell_type": "code",
   "execution_count": 24,
   "id": "7573fec2",
   "metadata": {},
   "outputs": [
    {
     "data": {
      "text/plain": [
       "(409205.0, 13.454478)"
      ]
     },
     "execution_count": 24,
     "metadata": {},
     "output_type": "execute_result"
    }
   ],
   "source": [
    "allen.X.max(), combined_data.X.max()"
   ]
  },
  {
   "cell_type": "code",
   "execution_count": 25,
   "id": "47a666e6",
   "metadata": {},
   "outputs": [],
   "source": [
    "import scanpy as sc \n",
    "\n",
    "sc.pp.normalize_total(combined_data)\n",
    "sc.pp.normalize_total(allen)"
   ]
  },
  {
   "cell_type": "code",
   "execution_count": 26,
   "id": "296d4b74",
   "metadata": {},
   "outputs": [
    {
     "data": {
      "text/plain": [
       "(41.361042, 326391.78)"
      ]
     },
     "execution_count": 26,
     "metadata": {},
     "output_type": "execute_result"
    }
   ],
   "source": [
    "combined_data.X.max(), allen.X.max()"
   ]
  },
  {
   "cell_type": "code",
   "execution_count": 31,
   "id": "11eb6203",
   "metadata": {},
   "outputs": [],
   "source": [
    "allen.write_h5ad('../data/benchmark/human_cpm.h5ad')"
   ]
  },
  {
   "cell_type": "code",
   "execution_count": null,
   "id": "5dd6ec97",
   "metadata": {},
   "outputs": [],
   "source": []
  },
  {
   "cell_type": "code",
   "execution_count": 27,
   "id": "ff114407",
   "metadata": {},
   "outputs": [
    {
     "data": {
      "text/plain": [
       "array([nan, 'VIP', 'LAMP5', 'IT', 'PAX6', 'Oligodendrocyte', 'Astrocyte',\n",
       "       'L5/6 IT Car3', 'L5/6 NP', 'SST', 'L6 CT', 'OPC', 'PVALB', 'L6b',\n",
       "       'Microglia', 'L5 ET', 'Pericyte', 'Endothelial', 'L4 IT', 'VLMC'],\n",
       "      dtype=object)"
      ]
     },
     "execution_count": 27,
     "metadata": {},
     "output_type": "execute_result"
    }
   ],
   "source": [
    "allen_labels['subclass_label'].unique()"
   ]
  },
  {
   "cell_type": "code",
   "execution_count": 28,
   "id": "516b0b33",
   "metadata": {},
   "outputs": [
    {
     "data": {
      "text/plain": [
       "['CPNs', 'oRG/Astroglia', 'Immature Interneurons', 'Ventral Precursors', 'oRG', ..., 'Immature CPNs', 'Astroglia', 'CFuPNs', 'Immature CFuPNs', 'IPCs/Immature PNs']\n",
       "Length: 15\n",
       "Categories (15, object): ['Astroglia', 'CFuPNs', 'CPNs', 'Cycling', ..., 'Unknown', 'Ventral Precursors', 'oRG', 'oRG/Astroglia']"
      ]
     },
     "execution_count": 28,
     "metadata": {},
     "output_type": "execute_result"
    }
   ],
   "source": [
    "combined_data.obs['CellType'].unique()"
   ]
  },
  {
   "cell_type": "code",
   "execution_count": 29,
   "id": "98716be2",
   "metadata": {},
   "outputs": [],
   "source": [
    "mapping = {\n",
    "    'CPNs' : ['IT', 'L5/6 IT Car3', 'L4 IT'],\n",
    "    'oRG/Astroglia': ['PAX6', 'Astrocyte'],\n",
    "    'Immature Interneurons': ['SST', 'VIP'],\n",
    "    'Ventral Precursors': ['VIP', 'LAMP5', 'Astrocyte', 'SST', 'OPC'], \n",
    "    'oRG': ['SOX6', 'Astrocyte', 'L5/6 NP'], \n",
    "    'Unknown': ['SOX6', 'Astrocyte'], # Anything \n",
    "    'Cycling': ['SOX6'], \n",
    "    'RG': ['SOX6', 'Astrocyte'],\n",
    "    'Immature PNs': ['IT', 'PAX6', 'L5/6 IT Car3', 'L5/6 NP', 'L6 CT', 'L6b', 'L5 ET', 'L4 IT'], \n",
    "    'IPCs': ['SOX6', 'Astrocyte', 'OPC'], \n",
    "    'Immature CPNs': ['IT', 'L5/6 IT Car3', 'L4 IT'],\n",
    "    'Astroglia': ['PAX6', 'Astrocyte', 'Oligodendrocyte'], \n",
    "    'CFuPNs': ['L5/6 NP', 'L6b', 'L5 ET', 'L6 CT'],\n",
    "    'Immature CFuPNs': ['L5/6 NP', 'L6b', 'L5 ET', 'L6 CT'], \n",
    "    'IPCs/Immature PNs': ['IT', 'PAX6', 'Oligodendrocyte', 'Astrocyte', 'L5/6 IT Car3', 'L5/6 NP', 'L6 CT', 'L6b', 'L5 ET', 'L4 IT']\n",
    "}"
   ]
  },
  {
   "cell_type": "markdown",
   "id": "bf8bf07c",
   "metadata": {},
   "source": [
    "There should be no microglia in the organoid data"
   ]
  },
  {
   "cell_type": "markdown",
   "id": "85f1b819",
   "metadata": {},
   "source": [
    "### Training our model for inference on the organoid data\n",
    "\n",
    "While we figure out docker, we can train a model locally and use it for inference."
   ]
  },
  {
   "cell_type": "code",
   "execution_count": 32,
   "id": "428c79c7",
   "metadata": {
    "scrolled": true
   },
   "outputs": [
    {
     "name": "stdout",
     "output_type": "stream",
     "text": [
      "Creating train/val/test DataLoaders...\n",
      "Done, continuing to training.\n",
      "Calculating weights\n"
     ]
    },
    {
     "name": "stderr",
     "output_type": "stream",
     "text": [
      "\u001b[34m\u001b[1mwandb\u001b[0m: Currently logged in as: \u001b[33mjlehrer1\u001b[0m. Use \u001b[1m`wandb login --relogin`\u001b[0m to force relogin\n"
     ]
    },
    {
     "data": {
      "text/html": [
       "wandb version 0.13.2 is available!  To upgrade, please run:\n",
       " $ pip install wandb --upgrade"
      ],
      "text/plain": [
       "<IPython.core.display.HTML object>"
      ]
     },
     "metadata": {},
     "output_type": "display_data"
    },
    {
     "data": {
      "text/html": [
       "Tracking run with wandb version 0.12.16"
      ],
      "text/plain": [
       "<IPython.core.display.HTML object>"
      ]
     },
     "metadata": {},
     "output_type": "display_data"
    },
    {
     "data": {
      "text/html": [
       "Run data is saved locally in <code>/Users/julian/Documents/Projects/scanvi_benchmark/notebooks/wandb/run-20220902_163110-3uhvht0v</code>"
      ],
      "text/plain": [
       "<IPython.core.display.HTML object>"
      ]
     },
     "metadata": {},
     "output_type": "display_data"
    },
    {
     "data": {
      "text/html": [
       "Syncing run <strong><a href=\"https://wandb.ai/jlehrer1/Human%20model%20for%20organoid%20benchmark/runs/3uhvht0v\" target=\"_blank\">dashing-lion-3</a></strong> to <a href=\"https://wandb.ai/jlehrer1/Human%20model%20for%20organoid%20benchmark\" target=\"_blank\">Weights & Biases</a> (<a href=\"https://wandb.me/run\" target=\"_blank\">docs</a>)<br/>"
      ],
      "text/plain": [
       "<IPython.core.display.HTML object>"
      ]
     },
     "metadata": {},
     "output_type": "display_data"
    },
    {
     "name": "stderr",
     "output_type": "stream",
     "text": [
      "GPU available: False, used: False\n",
      "TPU available: False, using: 0 TPU cores\n",
      "IPU available: False, using: 0 IPUs\n",
      "HPU available: False, using: 0 HPUs\n"
     ]
    },
    {
     "name": "stdout",
     "output_type": "stream",
     "text": [
      "Initializing network\n",
      "Initializing explain matrix\n",
      "Input dim and output dim are 21730 / 19\n",
      "Creating train/val/test DataLoaders...\n",
      "Done, continuing to training.\n",
      "Calculating weights\n"
     ]
    },
    {
     "name": "stderr",
     "output_type": "stream",
     "text": [
      "\n",
      "  | Name    | Type   | Params\n",
      "-----------------------------------\n",
      "0 | network | TabNet | 1.4 M \n",
      "-----------------------------------\n",
      "1.4 M     Trainable params\n",
      "0         Non-trainable params\n",
      "1.4 M     Total params\n",
      "5.760     Total estimated model params size (MB)\n"
     ]
    },
    {
     "data": {
      "application/vnd.jupyter.widget-view+json": {
       "model_id": "",
       "version_major": 2,
       "version_minor": 0
      },
      "text/plain": [
       "Sanity Checking: 0it [00:00, ?it/s]"
      ]
     },
     "metadata": {},
     "output_type": "display_data"
    },
    {
     "name": "stderr",
     "output_type": "stream",
     "text": [
      "/Users/julian/miniconda3/envs/sims/lib/python3.9/site-packages/pytorch_lightning/trainer/connectors/data_connector.py:240: PossibleUserWarning: The dataloader, val_dataloader 0, does not have many workers which may be a bottleneck. Consider increasing the value of the `num_workers` argument` (try 10 which is the number of cpus on this machine) in the `DataLoader` init to improve performance.\n",
      "  rank_zero_warn(\n",
      "/Users/julian/miniconda3/envs/sims/lib/python3.9/site-packages/torchmetrics/utilities/prints.py:36: UserWarning: No positive samples in targets, true positive value should be meaningless. Returning zero tensor in true positive score\n",
      "  warnings.warn(*args, **kwargs)\n",
      "/Users/julian/miniconda3/envs/sims/lib/python3.9/site-packages/scsims/model.py:207: RuntimeWarning: invalid value encountered in true_divide\n",
      "  precision = tp / (tp + fp)\n",
      "/Users/julian/miniconda3/envs/sims/lib/python3.9/site-packages/scsims/model.py:208: RuntimeWarning: invalid value encountered in true_divide\n",
      "  recall = tp / (tp + fn)\n",
      "/Users/julian/miniconda3/envs/sims/lib/python3.9/site-packages/scsims/model.py:209: RuntimeWarning: invalid value encountered in true_divide\n",
      "  f1s = 2*(precision * recall) / (precision + recall)\n",
      "/Users/julian/miniconda3/envs/sims/lib/python3.9/site-packages/pytorch_lightning/trainer/connectors/data_connector.py:240: PossibleUserWarning: The dataloader, train_dataloader, does not have many workers which may be a bottleneck. Consider increasing the value of the `num_workers` argument` (try 10 which is the number of cpus on this machine) in the `DataLoader` init to improve performance.\n",
      "  rank_zero_warn(\n"
     ]
    },
    {
     "data": {
      "application/vnd.jupyter.widget-view+json": {
       "model_id": "662127ef19b14b97826055b1bf8ee398",
       "version_major": 2,
       "version_minor": 0
      },
      "text/plain": [
       "Training: 0it [00:00, ?it/s]"
      ]
     },
     "metadata": {},
     "output_type": "display_data"
    },
    {
     "data": {
      "application/vnd.jupyter.widget-view+json": {
       "model_id": "",
       "version_major": 2,
       "version_minor": 0
      },
      "text/plain": [
       "Validation: 0it [00:00, ?it/s]"
      ]
     },
     "metadata": {},
     "output_type": "display_data"
    },
    {
     "data": {
      "application/vnd.jupyter.widget-view+json": {
       "model_id": "",
       "version_major": 2,
       "version_minor": 0
      },
      "text/plain": [
       "Validation: 0it [00:00, ?it/s]"
      ]
     },
     "metadata": {},
     "output_type": "display_data"
    },
    {
     "name": "stdout",
     "output_type": "stream",
     "text": [
      "Saving checkpoint at epoch 1\n"
     ]
    },
    {
     "data": {
      "application/vnd.jupyter.widget-view+json": {
       "model_id": "",
       "version_major": 2,
       "version_minor": 0
      },
      "text/plain": [
       "Validation: 0it [00:00, ?it/s]"
      ]
     },
     "metadata": {},
     "output_type": "display_data"
    },
    {
     "name": "stdout",
     "output_type": "stream",
     "text": [
      "Saving checkpoint at epoch 2\n"
     ]
    },
    {
     "data": {
      "application/vnd.jupyter.widget-view+json": {
       "model_id": "",
       "version_major": 2,
       "version_minor": 0
      },
      "text/plain": [
       "Validation: 0it [00:00, ?it/s]"
      ]
     },
     "metadata": {},
     "output_type": "display_data"
    },
    {
     "name": "stdout",
     "output_type": "stream",
     "text": [
      "Saving checkpoint at epoch 3\n"
     ]
    },
    {
     "data": {
      "application/vnd.jupyter.widget-view+json": {
       "model_id": "",
       "version_major": 2,
       "version_minor": 0
      },
      "text/plain": [
       "Validation: 0it [00:00, ?it/s]"
      ]
     },
     "metadata": {},
     "output_type": "display_data"
    },
    {
     "name": "stdout",
     "output_type": "stream",
     "text": [
      "Saving checkpoint at epoch 4\n"
     ]
    },
    {
     "data": {
      "application/vnd.jupyter.widget-view+json": {
       "model_id": "",
       "version_major": 2,
       "version_minor": 0
      },
      "text/plain": [
       "Validation: 0it [00:00, ?it/s]"
      ]
     },
     "metadata": {},
     "output_type": "display_data"
    },
    {
     "name": "stdout",
     "output_type": "stream",
     "text": [
      "Saving checkpoint at epoch 5\n"
     ]
    },
    {
     "data": {
      "application/vnd.jupyter.widget-view+json": {
       "model_id": "",
       "version_major": 2,
       "version_minor": 0
      },
      "text/plain": [
       "Validation: 0it [00:00, ?it/s]"
      ]
     },
     "metadata": {},
     "output_type": "display_data"
    },
    {
     "name": "stdout",
     "output_type": "stream",
     "text": [
      "Saving checkpoint at epoch 6\n"
     ]
    },
    {
     "data": {
      "application/vnd.jupyter.widget-view+json": {
       "model_id": "",
       "version_major": 2,
       "version_minor": 0
      },
      "text/plain": [
       "Validation: 0it [00:00, ?it/s]"
      ]
     },
     "metadata": {},
     "output_type": "display_data"
    },
    {
     "name": "stdout",
     "output_type": "stream",
     "text": [
      "Saving checkpoint at epoch 7\n"
     ]
    },
    {
     "data": {
      "application/vnd.jupyter.widget-view+json": {
       "model_id": "",
       "version_major": 2,
       "version_minor": 0
      },
      "text/plain": [
       "Validation: 0it [00:00, ?it/s]"
      ]
     },
     "metadata": {},
     "output_type": "display_data"
    },
    {
     "name": "stdout",
     "output_type": "stream",
     "text": [
      "Saving checkpoint at epoch 8\n"
     ]
    },
    {
     "data": {
      "application/vnd.jupyter.widget-view+json": {
       "model_id": "",
       "version_major": 2,
       "version_minor": 0
      },
      "text/plain": [
       "Validation: 0it [00:00, ?it/s]"
      ]
     },
     "metadata": {},
     "output_type": "display_data"
    },
    {
     "name": "stdout",
     "output_type": "stream",
     "text": [
      "Saving checkpoint at epoch 9\n"
     ]
    },
    {
     "name": "stderr",
     "output_type": "stream",
     "text": [
      "/Users/julian/miniconda3/envs/sims/lib/python3.9/site-packages/pytorch_lightning/trainer/trainer.py:724: UserWarning: Detected KeyboardInterrupt, attempting graceful shutdown...\n",
      "  rank_zero_warn(\"Detected KeyboardInterrupt, attempting graceful shutdown...\")\n"
     ]
    }
   ],
   "source": [
    "combined_genes = [x.upper() for x in combined_data.var['index'].values]\n",
    "currgenes = [x.upper() for x in allen.var.index]\n",
    "refgenes = list(set(currgenes).intersection(combined_genes))\n",
    "    \n",
    "module = DataModule(\n",
    "    datafiles=['../data/benchmark/human_cpm.h5ad'],\n",
    "    labelfiles=['../data/benchmark/human_labels_clean.csv'],\n",
    "    class_label='subclass_label',\n",
    "    index_col='cell',\n",
    "    batch_size=16,\n",
    "    num_workers=0,\n",
    "    deterministic=True,\n",
    "    normalize=True,\n",
    "    currgenes=currgenes,\n",
    "    refgenes=refgenes,\n",
    ")\n",
    "\n",
    "module.prepare_data()\n",
    "module.setup()\n",
    "\n",
    "wandb_logger = WandbLogger(\n",
    "    project=f\"Human model for organoid benchmark\",\n",
    ")\n",
    "\n",
    "lr_callback = pl.callbacks.LearningRateMonitor(logging_interval='epoch')\n",
    "\n",
    "upload_callback = UploadCallback(\n",
    "    path='checkpoints',\n",
    "    desc=f'local_allen_model_for_organoid_inference'\n",
    ")\n",
    "\n",
    "early_stopping_callback = pl.callbacks.EarlyStopping(\n",
    "    monitor='val_loss',\n",
    "    patience=20,\n",
    ")\n",
    "\n",
    "trainer = pl.Trainer(\n",
    "    gpus=(1 if torch.cuda.is_available() else 0),\n",
    "    auto_lr_find=False,\n",
    "    logger=wandb_logger,\n",
    "    max_epochs=500,\n",
    "    gradient_clip_val=0.5,\n",
    "    callbacks=[\n",
    "        lr_callback, \n",
    "        upload_callback,\n",
    "        early_stopping_callback,\n",
    "    ],\n",
    "    stochastic_weight_avg=True,\n",
    "    \n",
    ")\n",
    "\n",
    "\n",
    "model = SIMSClassifier(\n",
    "    input_dim=module.num_features,\n",
    "    output_dim=module.num_labels,\n",
    "    weights=module.weights,\n",
    ")\n",
    "\n",
    "print(f'Input dim and output dim are {module.num_features} / {module.num_labels}')\n",
    "\n",
    "trainer.fit(model, datamodule=module)"
   ]
  },
  {
   "cell_type": "markdown",
   "id": "a8897a4c",
   "metadata": {},
   "source": [
    "Now let's set up the data to pass into the classifier for the predictions"
   ]
  },
  {
   "cell_type": "code",
   "execution_count": 59,
   "id": "b4949f02",
   "metadata": {},
   "outputs": [],
   "source": [
    "from scsims.data import CollateLoader \n",
    "from scsims.testing import TestAnndatasetMatrix\n",
    "\n",
    "traindataset = TestAnndatasetMatrix(\n",
    "    combined_data.X,\n",
    ")\n",
    "\n",
    "testloader = CollateLoader(\n",
    "    dataset=traindataset, \n",
    "    batch_size=4, \n",
    "    num_workers=0, \n",
    "    refgenes=refgenes, \n",
    "    currgenes=combined_genes,\n",
    "    normalize=True,\n",
    ")"
   ]
  },
  {
   "cell_type": "code",
   "execution_count": 34,
   "id": "37fe3312",
   "metadata": {},
   "outputs": [],
   "source": [
    "from functools import partial\n",
    "tqdm = partial(tqdm, position=0, leave=True)"
   ]
  },
  {
   "cell_type": "code",
   "execution_count": 70,
   "id": "e5db85fb",
   "metadata": {},
   "outputs": [
    {
     "name": "stdout",
     "output_type": "stream",
     "text": [
      "Initializing network\n",
      "Initializing explain matrix\n"
     ]
    }
   ],
   "source": [
    "model = SIMSClassifier.load_from_checkpoint(\n",
    "    'checkpoints/checkpoint-9-desc-local_allen_model_for_organoid_inference.ckpt',\n",
    "    input_dim=module.num_features,\n",
    "    output_dim=module.num_labels,\n",
    ")"
   ]
  },
  {
   "cell_type": "code",
   "execution_count": 60,
   "id": "bf6d2153",
   "metadata": {
    "scrolled": true
   },
   "outputs": [
    {
     "data": {
      "text/plain": [
       "tensor([[0.0227, 0.0000, 0.0000,  ..., 0.0200, 0.0000, 0.0000],\n",
       "        [0.0179, 0.0000, 0.0000,  ..., 0.0155, 0.0000, 0.0155],\n",
       "        [0.0000, 0.0000, 0.0000,  ..., 0.0197, 0.0000, 0.0000],\n",
       "        [0.0240, 0.0000, 0.0000,  ..., 0.0000, 0.0000, 0.0000]])"
      ]
     },
     "execution_count": 60,
     "metadata": {},
     "output_type": "execute_result"
    }
   ],
   "source": [
    "next(iter(testloader))"
   ]
  },
  {
   "cell_type": "code",
   "execution_count": 71,
   "id": "e16c4a1e",
   "metadata": {
    "scrolled": true
   },
   "outputs": [
    {
     "name": "stderr",
     "output_type": "stream",
     "text": [
      "100%|█████████████████████████████████████████████████████████████████████████████████████████████████████████████████████████████| 33321/33321 [15:16:33<00:00,  1.65s/it]\n"
     ]
    }
   ],
   "source": [
    "preds = []\n",
    "\n",
    "model.eval()\n",
    "with torch.no_grad():\n",
    "    for X in tqdm(testloader):\n",
    "        res, _ = model(X)\n",
    "        \n",
    "        _, top_preds = res.topk(3, axis=1) # to get indices\n",
    "        preds.extend(top_preds.numpy())"
   ]
  },
  {
   "cell_type": "code",
   "execution_count": 72,
   "id": "59ad0fae",
   "metadata": {},
   "outputs": [],
   "source": [
    "preds = pd.DataFrame(preds)"
   ]
  },
  {
   "cell_type": "code",
   "execution_count": 73,
   "id": "cb6b6cbe",
   "metadata": {},
   "outputs": [
    {
     "data": {
      "text/plain": [
       "133283"
      ]
     },
     "execution_count": 73,
     "metadata": {},
     "output_type": "execute_result"
    }
   ],
   "source": [
    "len(preds)"
   ]
  },
  {
   "cell_type": "code",
   "execution_count": 74,
   "id": "bcae7b57",
   "metadata": {},
   "outputs": [],
   "source": [
    "combined_data.obs['predicted'] = preds.loc[:, 0].values"
   ]
  },
  {
   "cell_type": "code",
   "execution_count": 75,
   "id": "df1a98cc",
   "metadata": {
    "scrolled": true
   },
   "outputs": [],
   "source": [
    "from sklearn.preprocessing import LabelEncoder\n",
    "\n",
    "le = LabelEncoder()\n",
    "le = le.fit([x for x in allen_labels['subclass_label'].unique()])"
   ]
  },
  {
   "cell_type": "code",
   "execution_count": 76,
   "id": "c55465ce",
   "metadata": {
    "scrolled": false
   },
   "outputs": [],
   "source": [
    "combined_data.obs['predicted_str'] = le.inverse_transform(combined_data.obs['predicted'])"
   ]
  },
  {
   "cell_type": "code",
   "execution_count": 77,
   "id": "4cb9f604",
   "metadata": {
    "scrolled": true
   },
   "outputs": [],
   "source": [
    "acc = 0\n",
    "for truth, pred in zip(combined_data.obs[\"CellType\"], combined_data.obs[\"predicted_str\"]):\n",
    "    options = mapping[truth]\n",
    "    if pred in options:\n",
    "        acc += 1"
   ]
  },
  {
   "cell_type": "code",
   "execution_count": 78,
   "id": "8e635dfa",
   "metadata": {},
   "outputs": [
    {
     "data": {
      "text/plain": [
       "0.13609387543797782"
      ]
     },
     "execution_count": 78,
     "metadata": {},
     "output_type": "execute_result"
    }
   ],
   "source": [
    "acc / len(combined_data.obs)"
   ]
  },
  {
   "cell_type": "code",
   "execution_count": null,
   "id": "04e5197e",
   "metadata": {},
   "outputs": [],
   "source": [
    "allen"
   ]
  }
 ],
 "metadata": {
  "kernelspec": {
   "display_name": "sims",
   "language": "python",
   "name": "sims"
  },
  "language_info": {
   "codemirror_mode": {
    "name": "ipython",
    "version": 3
   },
   "file_extension": ".py",
   "mimetype": "text/x-python",
   "name": "python",
   "nbconvert_exporter": "python",
   "pygments_lexer": "ipython3",
   "version": "3.9.12"
  }
 },
 "nbformat": 4,
 "nbformat_minor": 5
}

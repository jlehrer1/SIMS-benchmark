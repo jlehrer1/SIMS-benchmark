{
 "cells": [
  {
   "cell_type": "code",
   "execution_count": 6,
   "id": "3e916ec5",
   "metadata": {
    "scrolled": true
   },
   "outputs": [],
   "source": [
    "import pandas as pd \n",
    "from sklearn.preprocessing import LabelEncoder\n",
    "import sys\n",
    "import anndata as an\n",
    "import scanpy as sp\n",
    "import h5py\n",
    "\n",
    "sys.path.append('../src')\n",
    "\n",
    "from lightning_train import DataModule, generate_trainer\n",
    "from data import *\n",
    "from model import *\n",
    "\n",
    "from pytorch_lightning.loggers import WandbLogger\n",
    "from torchmetrics.functional import *\n",
    "\n",
    "import pandas as pd\n",
    "from scipy.sparse import csr_matrix\n",
    "from pytorch_lightning.callbacks.early_stopping import EarlyStopping\n",
    "\n",
    "from functools import partial\n",
    "import torchmetrics.functional as f\n",
    "from torchmetrics import Metric\n",
    "import torchmetrics "
   ]
  },
  {
   "cell_type": "code",
   "execution_count": 2,
   "id": "a6ea4138",
   "metadata": {},
   "outputs": [
    {
     "name": "stderr",
     "output_type": "stream",
     "text": [
      "Variable names are not unique. To make them unique, call `.var_names_make_unique`.\n"
     ]
    }
   ],
   "source": [
    "data = an.read_h5ad('../data/retina/retina_T.h5ad')"
   ]
  },
  {
   "cell_type": "code",
   "execution_count": 3,
   "id": "af30813a",
   "metadata": {
    "scrolled": true
   },
   "outputs": [],
   "source": [
    "cols = data.var['gene']\n",
    "ref = cols[5:]"
   ]
  },
  {
   "cell_type": "code",
   "execution_count": 4,
   "id": "fedd57a9",
   "metadata": {},
   "outputs": [
    {
     "data": {
      "text/plain": [
       "(37475, 37470)"
      ]
     },
     "execution_count": 4,
     "metadata": {},
     "output_type": "execute_result"
    }
   ],
   "source": [
    "len(cols), len(ref)"
   ]
  },
  {
   "cell_type": "code",
   "execution_count": 7,
   "id": "727b447d",
   "metadata": {
    "scrolled": true
   },
   "outputs": [
    {
     "name": "stdout",
     "output_type": "stream",
     "text": [
      "Creating train/val/test DataLoaders...\n"
     ]
    },
    {
     "name": "stderr",
     "output_type": "stream",
     "text": [
      "Variable names are not unique. To make them unique, call `.var_names_make_unique`.\n"
     ]
    },
    {
     "name": "stdout",
     "output_type": "stream",
     "text": [
      "Done, continuing to training.\n",
      "Calculating weights\n",
      "Initializing network\n",
      "Initializing explain matrix\n"
     ]
    }
   ],
   "source": [
    "module = DataModule(\n",
    "    datafiles=['../data/retina/retina_T.h5ad'],\n",
    "    labelfiles=['../data/retina/retina_labels_numeric.csv'],\n",
    "    class_label='class_label',\n",
    "    index_col='cell',\n",
    "    batch_size=16,\n",
    "    num_workers=0,\n",
    "    shuffle=True,\n",
    "    drop_last=True,\n",
    "    normalize=True,\n",
    "    deterministic=True,\n",
    "    currgenes=cols,\n",
    "    refgenes=ref,\n",
    ")\n",
    "\n",
    "module.setup()\n",
    "\n",
    "model = SIMSClassifier(\n",
    "    input_dim=len(ref),\n",
    "    output_dim=module.num_labels,\n",
    ")"
   ]
  },
  {
   "cell_type": "code",
   "execution_count": null,
   "id": "a00ea602",
   "metadata": {
    "scrolled": true
   },
   "outputs": [
    {
     "name": "stderr",
     "output_type": "stream",
     "text": [
      "GPU available: False, used: False\n",
      "TPU available: False, using: 0 TPU cores\n",
      "IPU available: False, using: 0 IPUs\n",
      "/Users/julian/miniconda3/envs/base-data-science/lib/python3.9/site-packages/pytorch_lightning/core/datamodule.py:469: LightningDeprecationWarning: DataModule.setup has already been called, so it will not be called again. In v1.6 this behavior will change to always call DataModule.setup.\n",
      "  rank_zero_deprecation(\n"
     ]
    },
    {
     "name": "stdout",
     "output_type": "stream",
     "text": [
      "<torch.optim.lr_scheduler.ReduceLROnPlateau object at 0x7fb920712fd0>\n",
      "Adam (\n",
      "Parameter Group 0\n",
      "    amsgrad: False\n",
      "    betas: (0.9, 0.999)\n",
      "    eps: 1e-08\n",
      "    lr: 0.001\n",
      "    weight_decay: 0.001\n",
      ")\n"
     ]
    },
    {
     "name": "stderr",
     "output_type": "stream",
     "text": [
      "\u001b[34m\u001b[1mwandb\u001b[0m: Currently logged in as: \u001b[33mjlehrer1\u001b[0m (use `wandb login --relogin` to force relogin)\n"
     ]
    },
    {
     "data": {
      "text/html": [
       "wandb version 0.12.16 is available!  To upgrade, please run:\n",
       " $ pip install wandb --upgrade"
      ],
      "text/plain": [
       "<IPython.core.display.HTML object>"
      ]
     },
     "metadata": {},
     "output_type": "display_data"
    },
    {
     "data": {
      "text/html": [
       "Tracking run with wandb version 0.12.11"
      ],
      "text/plain": [
       "<IPython.core.display.HTML object>"
      ]
     },
     "metadata": {},
     "output_type": "display_data"
    },
    {
     "data": {
      "text/html": [
       "Run data is saved locally in <code>/Users/julian/Documents/Projects/SIMS/notebooks/wandb/run-20220519_174027-31og7me1</code>"
      ],
      "text/plain": [
       "<IPython.core.display.HTML object>"
      ]
     },
     "metadata": {},
     "output_type": "display_data"
    },
    {
     "data": {
      "text/html": [
       "Syncing run <strong><a href=\"https://wandb.ai/jlehrer1/Retina%20Model/runs/31og7me1\" target=\"_blank\">local-retina-model</a></strong> to <a href=\"https://wandb.ai/jlehrer1/Retina%20Model\" target=\"_blank\">Weights & Biases</a> (<a href=\"https://wandb.me/run\" target=\"_blank\">docs</a>)<br/>"
      ],
      "text/plain": [
       "<IPython.core.display.HTML object>"
      ]
     },
     "metadata": {},
     "output_type": "display_data"
    },
    {
     "name": "stderr",
     "output_type": "stream",
     "text": [
      "\n",
      "  | Name    | Type   | Params\n",
      "-----------------------------------\n",
      "0 | network | TabNet | 2.5 M \n",
      "-----------------------------------\n",
      "2.5 M     Trainable params\n",
      "0         Non-trainable params\n",
      "2.5 M     Total params\n",
      "9.915     Total estimated model params size (MB)\n"
     ]
    },
    {
     "data": {
      "application/vnd.jupyter.widget-view+json": {
       "model_id": "",
       "version_major": 2,
       "version_minor": 0
      },
      "text/plain": [
       "Validation sanity check: 0it [00:00, ?it/s]"
      ]
     },
     "metadata": {},
     "output_type": "display_data"
    },
    {
     "name": "stderr",
     "output_type": "stream",
     "text": [
      "/Users/julian/miniconda3/envs/base-data-science/lib/python3.9/site-packages/pytorch_lightning/trainer/data_loading.py:453: UserWarning: Your `val_dataloader` has `shuffle=True`,it is strongly recommended that you turn this off for val/test/predict dataloaders.\n",
      "  rank_zero_warn(\n",
      "/Users/julian/miniconda3/envs/base-data-science/lib/python3.9/site-packages/pytorch_lightning/trainer/data_loading.py:111: UserWarning: The dataloader, val_dataloader 0, does not have many workers which may be a bottleneck. Consider increasing the value of the `num_workers` argument` (try 10 which is the number of cpus on this machine) in the `DataLoader` init to improve performance.\n",
      "  rank_zero_warn(\n",
      "/Users/julian/miniconda3/envs/base-data-science/lib/python3.9/site-packages/pytorch_lightning/trainer/connectors/logger_connector/result.py:219: UserWarning: You called `self.log('val_confusion_matrix', ...)` in your `validation_step` but the value needs to be floating point. Converting it to torch.float32.\n",
      "  warning_cache.warn(\n",
      "/Users/julian/miniconda3/envs/base-data-science/lib/python3.9/site-packages/torchmetrics/utilities/prints.py:36: UserWarning: No positive samples in targets, true positive value should be meaningless. Returning zero tensor in true positive score\n",
      "  warnings.warn(*args, **kwargs)\n",
      "/Users/julian/Documents/Projects/SIMS/notebooks/../src/model.py:206: RuntimeWarning: invalid value encountered in true_divide\n",
      "  precision = tp / (tp + fp)\n",
      "/Users/julian/Documents/Projects/SIMS/notebooks/../src/model.py:207: RuntimeWarning: invalid value encountered in true_divide\n",
      "  recall = tp / (tp + fn)\n",
      "/Users/julian/Documents/Projects/SIMS/notebooks/../src/model.py:208: RuntimeWarning: invalid value encountered in true_divide\n",
      "  f1s = 2*(precision * recall) / (precision + recall)\n",
      "/Users/julian/miniconda3/envs/base-data-science/lib/python3.9/site-packages/pytorch_lightning/trainer/data_loading.py:111: UserWarning: The dataloader, train_dataloader, does not have many workers which may be a bottleneck. Consider increasing the value of the `num_workers` argument` (try 10 which is the number of cpus on this machine) in the `DataLoader` init to improve performance.\n",
      "  rank_zero_warn(\n"
     ]
    },
    {
     "data": {
      "application/vnd.jupyter.widget-view+json": {
       "model_id": "c3c8260f1e4647b5997f0ef79785bb89",
       "version_major": 2,
       "version_minor": 0
      },
      "text/plain": [
       "Training: 0it [00:00, ?it/s]"
      ]
     },
     "metadata": {},
     "output_type": "display_data"
    },
    {
     "name": "stderr",
     "output_type": "stream",
     "text": [
      "/Users/julian/miniconda3/envs/base-data-science/lib/python3.9/site-packages/pytorch_lightning/trainer/connectors/logger_connector/result.py:219: UserWarning: You called `self.log('train_confusion_matrix', ...)` in your `training_step` but the value needs to be floating point. Converting it to torch.float32.\n",
      "  warning_cache.warn(\n"
     ]
    },
    {
     "data": {
      "application/vnd.jupyter.widget-view+json": {
       "model_id": "",
       "version_major": 2,
       "version_minor": 0
      },
      "text/plain": [
       "Validating: 0it [00:00, ?it/s]"
      ]
     },
     "metadata": {},
     "output_type": "display_data"
    },
    {
     "data": {
      "application/vnd.jupyter.widget-view+json": {
       "model_id": "",
       "version_major": 2,
       "version_minor": 0
      },
      "text/plain": [
       "Validating: 0it [00:00, ?it/s]"
      ]
     },
     "metadata": {},
     "output_type": "display_data"
    },
    {
     "data": {
      "application/vnd.jupyter.widget-view+json": {
       "model_id": "",
       "version_major": 2,
       "version_minor": 0
      },
      "text/plain": [
       "Validating: 0it [00:00, ?it/s]"
      ]
     },
     "metadata": {},
     "output_type": "display_data"
    },
    {
     "data": {
      "application/vnd.jupyter.widget-view+json": {
       "model_id": "",
       "version_major": 2,
       "version_minor": 0
      },
      "text/plain": [
       "Validating: 0it [00:00, ?it/s]"
      ]
     },
     "metadata": {},
     "output_type": "display_data"
    },
    {
     "data": {
      "application/vnd.jupyter.widget-view+json": {
       "model_id": "",
       "version_major": 2,
       "version_minor": 0
      },
      "text/plain": [
       "Validating: 0it [00:00, ?it/s]"
      ]
     },
     "metadata": {},
     "output_type": "display_data"
    },
    {
     "data": {
      "application/vnd.jupyter.widget-view+json": {
       "model_id": "",
       "version_major": 2,
       "version_minor": 0
      },
      "text/plain": [
       "Validating: 0it [00:00, ?it/s]"
      ]
     },
     "metadata": {},
     "output_type": "display_data"
    },
    {
     "data": {
      "application/vnd.jupyter.widget-view+json": {
       "model_id": "",
       "version_major": 2,
       "version_minor": 0
      },
      "text/plain": [
       "Validating: 0it [00:00, ?it/s]"
      ]
     },
     "metadata": {},
     "output_type": "display_data"
    },
    {
     "data": {
      "application/vnd.jupyter.widget-view+json": {
       "model_id": "",
       "version_major": 2,
       "version_minor": 0
      },
      "text/plain": [
       "Validating: 0it [00:00, ?it/s]"
      ]
     },
     "metadata": {},
     "output_type": "display_data"
    },
    {
     "data": {
      "application/vnd.jupyter.widget-view+json": {
       "model_id": "",
       "version_major": 2,
       "version_minor": 0
      },
      "text/plain": [
       "Validating: 0it [00:00, ?it/s]"
      ]
     },
     "metadata": {},
     "output_type": "display_data"
    },
    {
     "data": {
      "application/vnd.jupyter.widget-view+json": {
       "model_id": "",
       "version_major": 2,
       "version_minor": 0
      },
      "text/plain": [
       "Validating: 0it [00:00, ?it/s]"
      ]
     },
     "metadata": {},
     "output_type": "display_data"
    },
    {
     "data": {
      "application/vnd.jupyter.widget-view+json": {
       "model_id": "",
       "version_major": 2,
       "version_minor": 0
      },
      "text/plain": [
       "Validating: 0it [00:00, ?it/s]"
      ]
     },
     "metadata": {},
     "output_type": "display_data"
    },
    {
     "data": {
      "application/vnd.jupyter.widget-view+json": {
       "model_id": "",
       "version_major": 2,
       "version_minor": 0
      },
      "text/plain": [
       "Validating: 0it [00:00, ?it/s]"
      ]
     },
     "metadata": {},
     "output_type": "display_data"
    },
    {
     "data": {
      "application/vnd.jupyter.widget-view+json": {
       "model_id": "",
       "version_major": 2,
       "version_minor": 0
      },
      "text/plain": [
       "Validating: 0it [00:00, ?it/s]"
      ]
     },
     "metadata": {},
     "output_type": "display_data"
    },
    {
     "data": {
      "application/vnd.jupyter.widget-view+json": {
       "model_id": "",
       "version_major": 2,
       "version_minor": 0
      },
      "text/plain": [
       "Validating: 0it [00:00, ?it/s]"
      ]
     },
     "metadata": {},
     "output_type": "display_data"
    },
    {
     "data": {
      "application/vnd.jupyter.widget-view+json": {
       "model_id": "",
       "version_major": 2,
       "version_minor": 0
      },
      "text/plain": [
       "Validating: 0it [00:00, ?it/s]"
      ]
     },
     "metadata": {},
     "output_type": "display_data"
    },
    {
     "data": {
      "application/vnd.jupyter.widget-view+json": {
       "model_id": "",
       "version_major": 2,
       "version_minor": 0
      },
      "text/plain": [
       "Validating: 0it [00:00, ?it/s]"
      ]
     },
     "metadata": {},
     "output_type": "display_data"
    },
    {
     "data": {
      "application/vnd.jupyter.widget-view+json": {
       "model_id": "",
       "version_major": 2,
       "version_minor": 0
      },
      "text/plain": [
       "Validating: 0it [00:00, ?it/s]"
      ]
     },
     "metadata": {},
     "output_type": "display_data"
    },
    {
     "data": {
      "application/vnd.jupyter.widget-view+json": {
       "model_id": "",
       "version_major": 2,
       "version_minor": 0
      },
      "text/plain": [
       "Validating: 0it [00:00, ?it/s]"
      ]
     },
     "metadata": {},
     "output_type": "display_data"
    },
    {
     "data": {
      "application/vnd.jupyter.widget-view+json": {
       "model_id": "",
       "version_major": 2,
       "version_minor": 0
      },
      "text/plain": [
       "Validating: 0it [00:00, ?it/s]"
      ]
     },
     "metadata": {},
     "output_type": "display_data"
    },
    {
     "data": {
      "application/vnd.jupyter.widget-view+json": {
       "model_id": "",
       "version_major": 2,
       "version_minor": 0
      },
      "text/plain": [
       "Validating: 0it [00:00, ?it/s]"
      ]
     },
     "metadata": {},
     "output_type": "display_data"
    },
    {
     "data": {
      "application/vnd.jupyter.widget-view+json": {
       "model_id": "",
       "version_major": 2,
       "version_minor": 0
      },
      "text/plain": [
       "Validating: 0it [00:00, ?it/s]"
      ]
     },
     "metadata": {},
     "output_type": "display_data"
    },
    {
     "data": {
      "application/vnd.jupyter.widget-view+json": {
       "model_id": "",
       "version_major": 2,
       "version_minor": 0
      },
      "text/plain": [
       "Validating: 0it [00:00, ?it/s]"
      ]
     },
     "metadata": {},
     "output_type": "display_data"
    },
    {
     "data": {
      "application/vnd.jupyter.widget-view+json": {
       "model_id": "",
       "version_major": 2,
       "version_minor": 0
      },
      "text/plain": [
       "Validating: 0it [00:00, ?it/s]"
      ]
     },
     "metadata": {},
     "output_type": "display_data"
    },
    {
     "data": {
      "application/vnd.jupyter.widget-view+json": {
       "model_id": "",
       "version_major": 2,
       "version_minor": 0
      },
      "text/plain": [
       "Validating: 0it [00:00, ?it/s]"
      ]
     },
     "metadata": {},
     "output_type": "display_data"
    },
    {
     "data": {
      "application/vnd.jupyter.widget-view+json": {
       "model_id": "",
       "version_major": 2,
       "version_minor": 0
      },
      "text/plain": [
       "Validating: 0it [00:00, ?it/s]"
      ]
     },
     "metadata": {},
     "output_type": "display_data"
    },
    {
     "data": {
      "application/vnd.jupyter.widget-view+json": {
       "model_id": "",
       "version_major": 2,
       "version_minor": 0
      },
      "text/plain": [
       "Validating: 0it [00:00, ?it/s]"
      ]
     },
     "metadata": {},
     "output_type": "display_data"
    },
    {
     "data": {
      "application/vnd.jupyter.widget-view+json": {
       "model_id": "",
       "version_major": 2,
       "version_minor": 0
      },
      "text/plain": [
       "Validating: 0it [00:00, ?it/s]"
      ]
     },
     "metadata": {},
     "output_type": "display_data"
    },
    {
     "data": {
      "application/vnd.jupyter.widget-view+json": {
       "model_id": "",
       "version_major": 2,
       "version_minor": 0
      },
      "text/plain": [
       "Validating: 0it [00:00, ?it/s]"
      ]
     },
     "metadata": {},
     "output_type": "display_data"
    },
    {
     "data": {
      "application/vnd.jupyter.widget-view+json": {
       "model_id": "",
       "version_major": 2,
       "version_minor": 0
      },
      "text/plain": [
       "Validating: 0it [00:00, ?it/s]"
      ]
     },
     "metadata": {},
     "output_type": "display_data"
    },
    {
     "data": {
      "application/vnd.jupyter.widget-view+json": {
       "model_id": "",
       "version_major": 2,
       "version_minor": 0
      },
      "text/plain": [
       "Validating: 0it [00:00, ?it/s]"
      ]
     },
     "metadata": {},
     "output_type": "display_data"
    },
    {
     "data": {
      "application/vnd.jupyter.widget-view+json": {
       "model_id": "",
       "version_major": 2,
       "version_minor": 0
      },
      "text/plain": [
       "Validating: 0it [00:00, ?it/s]"
      ]
     },
     "metadata": {},
     "output_type": "display_data"
    },
    {
     "data": {
      "application/vnd.jupyter.widget-view+json": {
       "model_id": "",
       "version_major": 2,
       "version_minor": 0
      },
      "text/plain": [
       "Validating: 0it [00:00, ?it/s]"
      ]
     },
     "metadata": {},
     "output_type": "display_data"
    },
    {
     "data": {
      "application/vnd.jupyter.widget-view+json": {
       "model_id": "",
       "version_major": 2,
       "version_minor": 0
      },
      "text/plain": [
       "Validating: 0it [00:00, ?it/s]"
      ]
     },
     "metadata": {},
     "output_type": "display_data"
    },
    {
     "data": {
      "application/vnd.jupyter.widget-view+json": {
       "model_id": "",
       "version_major": 2,
       "version_minor": 0
      },
      "text/plain": [
       "Validating: 0it [00:00, ?it/s]"
      ]
     },
     "metadata": {},
     "output_type": "display_data"
    },
    {
     "data": {
      "application/vnd.jupyter.widget-view+json": {
       "model_id": "",
       "version_major": 2,
       "version_minor": 0
      },
      "text/plain": [
       "Validating: 0it [00:00, ?it/s]"
      ]
     },
     "metadata": {},
     "output_type": "display_data"
    },
    {
     "data": {
      "application/vnd.jupyter.widget-view+json": {
       "model_id": "",
       "version_major": 2,
       "version_minor": 0
      },
      "text/plain": [
       "Validating: 0it [00:00, ?it/s]"
      ]
     },
     "metadata": {},
     "output_type": "display_data"
    },
    {
     "data": {
      "application/vnd.jupyter.widget-view+json": {
       "model_id": "",
       "version_major": 2,
       "version_minor": 0
      },
      "text/plain": [
       "Validating: 0it [00:00, ?it/s]"
      ]
     },
     "metadata": {},
     "output_type": "display_data"
    },
    {
     "data": {
      "application/vnd.jupyter.widget-view+json": {
       "model_id": "",
       "version_major": 2,
       "version_minor": 0
      },
      "text/plain": [
       "Validating: 0it [00:00, ?it/s]"
      ]
     },
     "metadata": {},
     "output_type": "display_data"
    },
    {
     "data": {
      "application/vnd.jupyter.widget-view+json": {
       "model_id": "",
       "version_major": 2,
       "version_minor": 0
      },
      "text/plain": [
       "Validating: 0it [00:00, ?it/s]"
      ]
     },
     "metadata": {},
     "output_type": "display_data"
    },
    {
     "data": {
      "application/vnd.jupyter.widget-view+json": {
       "model_id": "",
       "version_major": 2,
       "version_minor": 0
      },
      "text/plain": [
       "Validating: 0it [00:00, ?it/s]"
      ]
     },
     "metadata": {},
     "output_type": "display_data"
    },
    {
     "name": "stderr",
     "output_type": "stream",
     "text": [
      "wandb: Network error (ConnectionError), entering retry loop.\n"
     ]
    },
    {
     "data": {
      "application/vnd.jupyter.widget-view+json": {
       "model_id": "",
       "version_major": 2,
       "version_minor": 0
      },
      "text/plain": [
       "Validating: 0it [00:00, ?it/s]"
      ]
     },
     "metadata": {},
     "output_type": "display_data"
    },
    {
     "data": {
      "application/vnd.jupyter.widget-view+json": {
       "model_id": "",
       "version_major": 2,
       "version_minor": 0
      },
      "text/plain": [
       "Validating: 0it [00:00, ?it/s]"
      ]
     },
     "metadata": {},
     "output_type": "display_data"
    },
    {
     "data": {
      "application/vnd.jupyter.widget-view+json": {
       "model_id": "",
       "version_major": 2,
       "version_minor": 0
      },
      "text/plain": [
       "Validating: 0it [00:00, ?it/s]"
      ]
     },
     "metadata": {},
     "output_type": "display_data"
    },
    {
     "data": {
      "application/vnd.jupyter.widget-view+json": {
       "model_id": "",
       "version_major": 2,
       "version_minor": 0
      },
      "text/plain": [
       "Validating: 0it [00:00, ?it/s]"
      ]
     },
     "metadata": {},
     "output_type": "display_data"
    },
    {
     "data": {
      "application/vnd.jupyter.widget-view+json": {
       "model_id": "",
       "version_major": 2,
       "version_minor": 0
      },
      "text/plain": [
       "Validating: 0it [00:00, ?it/s]"
      ]
     },
     "metadata": {},
     "output_type": "display_data"
    },
    {
     "data": {
      "application/vnd.jupyter.widget-view+json": {
       "model_id": "",
       "version_major": 2,
       "version_minor": 0
      },
      "text/plain": [
       "Validating: 0it [00:00, ?it/s]"
      ]
     },
     "metadata": {},
     "output_type": "display_data"
    },
    {
     "data": {
      "application/vnd.jupyter.widget-view+json": {
       "model_id": "",
       "version_major": 2,
       "version_minor": 0
      },
      "text/plain": [
       "Validating: 0it [00:00, ?it/s]"
      ]
     },
     "metadata": {},
     "output_type": "display_data"
    },
    {
     "data": {
      "application/vnd.jupyter.widget-view+json": {
       "model_id": "",
       "version_major": 2,
       "version_minor": 0
      },
      "text/plain": [
       "Validating: 0it [00:00, ?it/s]"
      ]
     },
     "metadata": {},
     "output_type": "display_data"
    },
    {
     "data": {
      "application/vnd.jupyter.widget-view+json": {
       "model_id": "",
       "version_major": 2,
       "version_minor": 0
      },
      "text/plain": [
       "Validating: 0it [00:00, ?it/s]"
      ]
     },
     "metadata": {},
     "output_type": "display_data"
    },
    {
     "data": {
      "application/vnd.jupyter.widget-view+json": {
       "model_id": "",
       "version_major": 2,
       "version_minor": 0
      },
      "text/plain": [
       "Validating: 0it [00:00, ?it/s]"
      ]
     },
     "metadata": {},
     "output_type": "display_data"
    },
    {
     "data": {
      "application/vnd.jupyter.widget-view+json": {
       "model_id": "",
       "version_major": 2,
       "version_minor": 0
      },
      "text/plain": [
       "Validating: 0it [00:00, ?it/s]"
      ]
     },
     "metadata": {},
     "output_type": "display_data"
    },
    {
     "data": {
      "application/vnd.jupyter.widget-view+json": {
       "model_id": "",
       "version_major": 2,
       "version_minor": 0
      },
      "text/plain": [
       "Validating: 0it [00:00, ?it/s]"
      ]
     },
     "metadata": {},
     "output_type": "display_data"
    },
    {
     "data": {
      "application/vnd.jupyter.widget-view+json": {
       "model_id": "",
       "version_major": 2,
       "version_minor": 0
      },
      "text/plain": [
       "Validating: 0it [00:00, ?it/s]"
      ]
     },
     "metadata": {},
     "output_type": "display_data"
    },
    {
     "data": {
      "application/vnd.jupyter.widget-view+json": {
       "model_id": "",
       "version_major": 2,
       "version_minor": 0
      },
      "text/plain": [
       "Validating: 0it [00:00, ?it/s]"
      ]
     },
     "metadata": {},
     "output_type": "display_data"
    },
    {
     "data": {
      "application/vnd.jupyter.widget-view+json": {
       "model_id": "",
       "version_major": 2,
       "version_minor": 0
      },
      "text/plain": [
       "Validating: 0it [00:00, ?it/s]"
      ]
     },
     "metadata": {},
     "output_type": "display_data"
    },
    {
     "data": {
      "application/vnd.jupyter.widget-view+json": {
       "model_id": "",
       "version_major": 2,
       "version_minor": 0
      },
      "text/plain": [
       "Validating: 0it [00:00, ?it/s]"
      ]
     },
     "metadata": {},
     "output_type": "display_data"
    },
    {
     "data": {
      "application/vnd.jupyter.widget-view+json": {
       "model_id": "",
       "version_major": 2,
       "version_minor": 0
      },
      "text/plain": [
       "Validating: 0it [00:00, ?it/s]"
      ]
     },
     "metadata": {},
     "output_type": "display_data"
    },
    {
     "data": {
      "application/vnd.jupyter.widget-view+json": {
       "model_id": "",
       "version_major": 2,
       "version_minor": 0
      },
      "text/plain": [
       "Validating: 0it [00:00, ?it/s]"
      ]
     },
     "metadata": {},
     "output_type": "display_data"
    },
    {
     "data": {
      "application/vnd.jupyter.widget-view+json": {
       "model_id": "",
       "version_major": 2,
       "version_minor": 0
      },
      "text/plain": [
       "Validating: 0it [00:00, ?it/s]"
      ]
     },
     "metadata": {},
     "output_type": "display_data"
    },
    {
     "data": {
      "application/vnd.jupyter.widget-view+json": {
       "model_id": "",
       "version_major": 2,
       "version_minor": 0
      },
      "text/plain": [
       "Validating: 0it [00:00, ?it/s]"
      ]
     },
     "metadata": {},
     "output_type": "display_data"
    },
    {
     "data": {
      "application/vnd.jupyter.widget-view+json": {
       "model_id": "",
       "version_major": 2,
       "version_minor": 0
      },
      "text/plain": [
       "Validating: 0it [00:00, ?it/s]"
      ]
     },
     "metadata": {},
     "output_type": "display_data"
    },
    {
     "data": {
      "application/vnd.jupyter.widget-view+json": {
       "model_id": "",
       "version_major": 2,
       "version_minor": 0
      },
      "text/plain": [
       "Validating: 0it [00:00, ?it/s]"
      ]
     },
     "metadata": {},
     "output_type": "display_data"
    },
    {
     "data": {
      "application/vnd.jupyter.widget-view+json": {
       "model_id": "",
       "version_major": 2,
       "version_minor": 0
      },
      "text/plain": [
       "Validating: 0it [00:00, ?it/s]"
      ]
     },
     "metadata": {},
     "output_type": "display_data"
    },
    {
     "data": {
      "application/vnd.jupyter.widget-view+json": {
       "model_id": "",
       "version_major": 2,
       "version_minor": 0
      },
      "text/plain": [
       "Validating: 0it [00:00, ?it/s]"
      ]
     },
     "metadata": {},
     "output_type": "display_data"
    },
    {
     "data": {
      "application/vnd.jupyter.widget-view+json": {
       "model_id": "",
       "version_major": 2,
       "version_minor": 0
      },
      "text/plain": [
       "Validating: 0it [00:00, ?it/s]"
      ]
     },
     "metadata": {},
     "output_type": "display_data"
    },
    {
     "data": {
      "application/vnd.jupyter.widget-view+json": {
       "model_id": "",
       "version_major": 2,
       "version_minor": 0
      },
      "text/plain": [
       "Validating: 0it [00:00, ?it/s]"
      ]
     },
     "metadata": {},
     "output_type": "display_data"
    },
    {
     "data": {
      "application/vnd.jupyter.widget-view+json": {
       "model_id": "",
       "version_major": 2,
       "version_minor": 0
      },
      "text/plain": [
       "Validating: 0it [00:00, ?it/s]"
      ]
     },
     "metadata": {},
     "output_type": "display_data"
    },
    {
     "data": {
      "application/vnd.jupyter.widget-view+json": {
       "model_id": "",
       "version_major": 2,
       "version_minor": 0
      },
      "text/plain": [
       "Validating: 0it [00:00, ?it/s]"
      ]
     },
     "metadata": {},
     "output_type": "display_data"
    },
    {
     "data": {
      "application/vnd.jupyter.widget-view+json": {
       "model_id": "",
       "version_major": 2,
       "version_minor": 0
      },
      "text/plain": [
       "Validating: 0it [00:00, ?it/s]"
      ]
     },
     "metadata": {},
     "output_type": "display_data"
    },
    {
     "data": {
      "application/vnd.jupyter.widget-view+json": {
       "model_id": "",
       "version_major": 2,
       "version_minor": 0
      },
      "text/plain": [
       "Validating: 0it [00:00, ?it/s]"
      ]
     },
     "metadata": {},
     "output_type": "display_data"
    },
    {
     "data": {
      "application/vnd.jupyter.widget-view+json": {
       "model_id": "",
       "version_major": 2,
       "version_minor": 0
      },
      "text/plain": [
       "Validating: 0it [00:00, ?it/s]"
      ]
     },
     "metadata": {},
     "output_type": "display_data"
    },
    {
     "data": {
      "application/vnd.jupyter.widget-view+json": {
       "model_id": "",
       "version_major": 2,
       "version_minor": 0
      },
      "text/plain": [
       "Validating: 0it [00:00, ?it/s]"
      ]
     },
     "metadata": {},
     "output_type": "display_data"
    }
   ],
   "source": [
    "wandb_logger = WandbLogger(\n",
    "    project=f\"Retina Model\",\n",
    "    name='local-retina-model'\n",
    ")\n",
    "\n",
    "trainer = pl.Trainer(logger=wandb_logger)\n",
    "trainer.fit(model, datamodule=module)"
   ]
  },
  {
   "cell_type": "markdown",
   "id": "b56853d6",
   "metadata": {},
   "source": [
    "Let's do some simple preprocessing for training, and then test our library"
   ]
  },
  {
   "cell_type": "code",
   "execution_count": 4,
   "id": "61b897bb",
   "metadata": {
    "scrolled": true
   },
   "outputs": [],
   "source": [
    "# le = LabelEncoder()\n",
    "\n",
    "# labels = pd.read_csv('../data/retina/retina_labels.tsv', sep='\\t')\n",
    "# labels = labels[labels['CellType'].isin(['retinal rod cell type B', 'retinal rod cell type A'])]\n",
    "# labels = labels[labels['CellType'] != 'unannotated']\n",
    "# labels['class_label'] = le.fit_transform(labels['CellType'])\n",
    "\n",
    "# labels.index.name = 'cell'\n",
    "# # labels = labels.iloc[0:5000, :]\n",
    "# labels.to_csv('../data/retina/retina_labels_numeric.csv')\n",
    "\n",
    "# # label_df = pd.read_csv('../data/retina/retina_labels_numeric.csv', index_col='cell')\n",
    "# # label_df\n",
    "\n",
    "# # labels.to_csv('../data/retina/retina_labels_numeric.csv')\n",
    "\n",
    "# labels = pd.read_csv('../data/retina/retina_labels_numeric.csv')\n",
    "# labels.loc[:, 'class_label']"
   ]
  },
  {
   "cell_type": "code",
   "execution_count": 5,
   "id": "bc90ff18",
   "metadata": {},
   "outputs": [],
   "source": [
    "# labels = pd.read_csv('../data/retina/raw_labels.tsv', sep='\\t')\n",
    "# corrected = pd.read_csv('../data/retina/retina_labels_numeric.csv')"
   ]
  },
  {
   "cell_type": "code",
   "execution_count": 6,
   "id": "dfe21b68",
   "metadata": {},
   "outputs": [],
   "source": [
    "# from sklearn.model_selection import train_test_split\n",
    "# trainsplit, valsplit = train_test_split(current_labels, stratify=current_labels, random_state=42)\n",
    "# trainsplit"
   ]
  },
  {
   "cell_type": "code",
   "execution_count": 7,
   "id": "15305e1a",
   "metadata": {},
   "outputs": [
    {
     "name": "stdout",
     "output_type": "stream",
     "text": [
      "(16446, 8)\n"
     ]
    }
   ],
   "source": [
    "corrected = pd.read_csv('../data/retina/retina_labels_numeric.csv', index_col='cell')\n",
    "print(corrected.shape)\n",
    "# current_labels = corrected['CellType']\n",
    "\n",
    "# trainsplit, valsplit = train_test_split(current_labels, stratify=current_labels, random_state=42)\n",
    "# trainsplit"
   ]
  },
  {
   "cell_type": "code",
   "execution_count": 8,
   "id": "d5c976b9",
   "metadata": {
    "scrolled": true
   },
   "outputs": [
    {
     "name": "stdout",
     "output_type": "stream",
     "text": [
      "Creating train/val/test DataLoaders...\n"
     ]
    },
    {
     "name": "stderr",
     "output_type": "stream",
     "text": [
      "Variable names are not unique. To make them unique, call `.var_names_make_unique`.\n"
     ]
    },
    {
     "name": "stdout",
     "output_type": "stream",
     "text": [
      "Done, continuing to training.\n",
      "Calculating weights\n"
     ]
    }
   ],
   "source": [
    "module = DataModule(\n",
    "    datafiles=['../data/retina/retina_T.h5ad'],\n",
    "    labelfiles=['../data/retina/retina_labels_numeric.csv'],\n",
    "    class_label='class_label',\n",
    "    index_col='cell',\n",
    "    batch_size=16,\n",
    "    num_workers=0,\n",
    "    shuffle=True,\n",
    "    drop_last=True,\n",
    "    normalize=True,\n",
    "    deterministic=True,\n",
    ")\n",
    "\n",
    "module.setup()"
   ]
  },
  {
   "cell_type": "code",
   "execution_count": 9,
   "id": "9aa205f1",
   "metadata": {},
   "outputs": [
    {
     "data": {
      "text/plain": [
       "array([10,  9,  7, ...,  9,  9,  9])"
      ]
     },
     "execution_count": 9,
     "metadata": {},
     "output_type": "execute_result"
    }
   ],
   "source": [
    "module.valloader.dataset.labels"
   ]
  },
  {
   "cell_type": "code",
   "execution_count": 10,
   "id": "2babcc56",
   "metadata": {},
   "outputs": [],
   "source": [
    "import pytorch_lightning as pl\n",
    "\n",
    "lr_monitor = pl.callbacks.LearningRateMonitor(logging_interval='epoch')\n",
    "checkpoint = pl.callbacks.ModelCheckpoint(\n",
    "    dirpath='checkpoints', \n",
    "    filename='{epoch}-{weighted_val_accuracy}'\n",
    ")\n",
    "# pruner = pl.callbacks.ModelPruning()\n",
    "progressbar = pl.callbacks.RichProgressBar()"
   ]
  },
  {
   "cell_type": "code",
   "execution_count": 11,
   "id": "d3f1891f",
   "metadata": {},
   "outputs": [
    {
     "name": "stdout",
     "output_type": "stream",
     "text": [
      "Initializing network\n",
      "Initializing explain matrix\n"
     ]
    },
    {
     "name": "stderr",
     "output_type": "stream",
     "text": [
      "GPU available: False, used: False\n",
      "TPU available: False, using: 0 TPU cores\n",
      "IPU available: False, using: 0 IPUs\n"
     ]
    }
   ],
   "source": [
    "tabnetmodel = TabNetLightning(\n",
    "    input_dim=module.num_features,\n",
    "    output_dim=module.num_labels,\n",
    "    optim_params={\n",
    "        'optimizer': torch.optim.Adam,\n",
    "        'lr': 0.02,\n",
    "        'weight_decay': 0,\n",
    "    },\n",
    "    scheduler_params={\n",
    "        'scheduler': torch.optim.lr_scheduler.ReduceLROnPlateau,\n",
    "        'factor': 0.001,\n",
    "    },\n",
    "    metrics={\n",
    "        'accuracy': accuracy,\n",
    "        'precision': precision,\n",
    "        'recall': recall,\n",
    "    },\n",
    ")\n",
    "\n",
    "wandb_logger = WandbLogger(\n",
    "    project=f\"Retina Model\",\n",
    "    name='local-retina-model'\n",
    ")\n",
    "\n",
    "early_stop = EarlyStopping(\n",
    "    monitor=\"weighted_val_accuracy\", \n",
    "    min_delta=0.00, \n",
    "    patience=3,\n",
    "    verbose=False, \n",
    "    mode=\"max\"\n",
    ")\n",
    "\n",
    "trainer = pl.Trainer(\n",
    "    logger=wandb_logger,\n",
    "    callbacks=[early_stop, lr_monitor, checkpoint],\n",
    "    max_epochs=100,\n",
    ")"
   ]
  },
  {
   "cell_type": "code",
   "execution_count": 12,
   "id": "aeb2155f",
   "metadata": {
    "scrolled": true
   },
   "outputs": [
    {
     "name": "stderr",
     "output_type": "stream",
     "text": [
      "/Users/julian/miniconda3/envs/base-data-science/lib/python3.9/site-packages/pytorch_lightning/core/datamodule.py:469: LightningDeprecationWarning: DataModule.setup has already been called, so it will not be called again. In v1.6 this behavior will change to always call DataModule.setup.\n",
      "  rank_zero_deprecation(\n",
      "\u001b[34m\u001b[1mwandb\u001b[0m: Currently logged in as: \u001b[33mjlehrer1\u001b[0m (use `wandb login --relogin` to force relogin)\n"
     ]
    },
    {
     "data": {
      "text/html": [
       "wandb version 0.12.16 is available!  To upgrade, please run:\n",
       " $ pip install wandb --upgrade"
      ],
      "text/plain": [
       "<IPython.core.display.HTML object>"
      ]
     },
     "metadata": {},
     "output_type": "display_data"
    },
    {
     "data": {
      "text/html": [
       "Tracking run with wandb version 0.12.11"
      ],
      "text/plain": [
       "<IPython.core.display.HTML object>"
      ]
     },
     "metadata": {},
     "output_type": "display_data"
    },
    {
     "data": {
      "text/html": [
       "Run data is saved locally in <code>/Users/julian/Documents/Projects/SIMS/notebooks/wandb/run-20220511_191951-4ntc9boq</code>"
      ],
      "text/plain": [
       "<IPython.core.display.HTML object>"
      ]
     },
     "metadata": {},
     "output_type": "display_data"
    },
    {
     "data": {
      "text/html": [
       "Syncing run <strong><a href=\"https://wandb.ai/jlehrer1/Retina%20Model/runs/4ntc9boq\" target=\"_blank\">local-retina-model</a></strong> to <a href=\"https://wandb.ai/jlehrer1/Retina%20Model\" target=\"_blank\">Weights & Biases</a> (<a href=\"https://wandb.me/run\" target=\"_blank\">docs</a>)<br/>"
      ],
      "text/plain": [
       "<IPython.core.display.HTML object>"
      ]
     },
     "metadata": {},
     "output_type": "display_data"
    },
    {
     "name": "stderr",
     "output_type": "stream",
     "text": [
      "\n",
      "  | Name    | Type   | Params\n",
      "-----------------------------------\n",
      "0 | network | TabNet | 2.5 M \n",
      "-----------------------------------\n",
      "2.5 M     Trainable params\n",
      "0         Non-trainable params\n",
      "2.5 M     Total params\n",
      "9.916     Total estimated model params size (MB)\n"
     ]
    },
    {
     "data": {
      "application/vnd.jupyter.widget-view+json": {
       "model_id": "",
       "version_major": 2,
       "version_minor": 0
      },
      "text/plain": [
       "Validation sanity check: 0it [00:00, ?it/s]"
      ]
     },
     "metadata": {},
     "output_type": "display_data"
    },
    {
     "name": "stderr",
     "output_type": "stream",
     "text": [
      "/Users/julian/miniconda3/envs/base-data-science/lib/python3.9/site-packages/pytorch_lightning/trainer/data_loading.py:453: UserWarning: Your `val_dataloader` has `shuffle=True`,it is strongly recommended that you turn this off for val/test/predict dataloaders.\n",
      "  rank_zero_warn(\n",
      "/Users/julian/miniconda3/envs/base-data-science/lib/python3.9/site-packages/pytorch_lightning/trainer/data_loading.py:111: UserWarning: The dataloader, val_dataloader 0, does not have many workers which may be a bottleneck. Consider increasing the value of the `num_workers` argument` (try 10 which is the number of cpus on this machine) in the `DataLoader` init to improve performance.\n",
      "  rank_zero_warn(\n"
     ]
    },
    {
     "name": "stdout",
     "output_type": "stream",
     "text": [
      "Median f1 score is 0.0 for epoch=0\n",
      "Validation F1-scores are [0.         0.         0.         0.         0.         0.\n",
      " 0.         0.14285714 0.         0.         0.33333333 0.\n",
      " 0.        ]\n"
     ]
    },
    {
     "name": "stderr",
     "output_type": "stream",
     "text": [
      "/Users/julian/Documents/Projects/SIMS/notebooks/../src/model.py:177: RuntimeWarning: invalid value encountered in true_divide\n",
      "  precision = tp / (tp + fp)\n",
      "/Users/julian/Documents/Projects/SIMS/notebooks/../src/model.py:178: RuntimeWarning: invalid value encountered in true_divide\n",
      "  recall = tp / (tp + fn)\n",
      "/Users/julian/Documents/Projects/SIMS/notebooks/../src/model.py:179: RuntimeWarning: invalid value encountered in true_divide\n",
      "  f1s = 2*(precision * recall) / (precision + recall)\n",
      "/Users/julian/miniconda3/envs/base-data-science/lib/python3.9/site-packages/pytorch_lightning/trainer/data_loading.py:111: UserWarning: The dataloader, train_dataloader, does not have many workers which may be a bottleneck. Consider increasing the value of the `num_workers` argument` (try 10 which is the number of cpus on this machine) in the `DataLoader` init to improve performance.\n",
      "  rank_zero_warn(\n"
     ]
    },
    {
     "data": {
      "application/vnd.jupyter.widget-view+json": {
       "model_id": "1f811a370cf747508abda42ac4590988",
       "version_major": 2,
       "version_minor": 0
      },
      "text/plain": [
       "Training: 0it [00:00, ?it/s]"
      ]
     },
     "metadata": {},
     "output_type": "display_data"
    },
    {
     "data": {
      "application/vnd.jupyter.widget-view+json": {
       "model_id": "acbc215b8e3841e88e3bad0777c17e60",
       "version_major": 2,
       "version_minor": 0
      },
      "text/plain": [
       "Validating: 0it [00:00, ?it/s]"
      ]
     },
     "metadata": {},
     "output_type": "display_data"
    },
    {
     "name": "stderr",
     "output_type": "stream",
     "text": [
      "/Users/julian/miniconda3/envs/base-data-science/lib/python3.9/site-packages/pytorch_lightning/trainer/trainer.py:685: UserWarning: Detected KeyboardInterrupt, attempting graceful shutdown...\n",
      "  rank_zero_warn(\"Detected KeyboardInterrupt, attempting graceful shutdown...\")\n"
     ]
    }
   ],
   "source": [
    "trainer.fit(tabnetmodel, datamodule=module)"
   ]
  },
  {
   "cell_type": "code",
   "execution_count": 13,
   "id": "aad793f4",
   "metadata": {},
   "outputs": [],
   "source": [
    "to_test = pd.read_csv('../data/retina/fovea_for_test_labels.tsv', sep='\\t')"
   ]
  },
  {
   "cell_type": "code",
   "execution_count": 14,
   "id": "508289e9",
   "metadata": {},
   "outputs": [],
   "source": [
    "train_labels = pd.read_csv('../data/retina/retina_labels_numeric.csv')"
   ]
  },
  {
   "cell_type": "code",
   "execution_count": 15,
   "id": "4c0b2ea6",
   "metadata": {
    "scrolled": true
   },
   "outputs": [
    {
     "data": {
      "text/html": [
       "<div>\n",
       "<style scoped>\n",
       "    .dataframe tbody tr th:only-of-type {\n",
       "        vertical-align: middle;\n",
       "    }\n",
       "\n",
       "    .dataframe tbody tr th {\n",
       "        vertical-align: top;\n",
       "    }\n",
       "\n",
       "    .dataframe thead th {\n",
       "        text-align: right;\n",
       "    }\n",
       "</style>\n",
       "<table border=\"1\" class=\"dataframe\">\n",
       "  <thead>\n",
       "    <tr style=\"text-align: right;\">\n",
       "      <th></th>\n",
       "      <th>cellId</th>\n",
       "      <th>final_cluster_labels</th>\n",
       "      <th>libraryID</th>\n",
       "      <th>celltype</th>\n",
       "      <th>region</th>\n",
       "      <th>disease_ontology_term_id</th>\n",
       "      <th>disease</th>\n",
       "      <th>sex</th>\n",
       "      <th>tissue_ontology_term_id</th>\n",
       "      <th>tissue</th>\n",
       "      <th>cell_type_ontology_term_id</th>\n",
       "      <th>cell_type</th>\n",
       "    </tr>\n",
       "  </thead>\n",
       "  <tbody>\n",
       "    <tr>\n",
       "      <th>0</th>\n",
       "      <td>AAACCCAGTCGGCACT-1</td>\n",
       "      <td>9</td>\n",
       "      <td>fovea_donor_1</td>\n",
       "      <td>Unknown</td>\n",
       "      <td>fovea</td>\n",
       "      <td>MONDO:0005041</td>\n",
       "      <td>glaucoma (disease)</td>\n",
       "      <td>male</td>\n",
       "      <td>UBERON:0001786</td>\n",
       "      <td>fovea centralis</td>\n",
       "      <td>NaN</td>\n",
       "      <td>unknown</td>\n",
       "    </tr>\n",
       "    <tr>\n",
       "      <th>1</th>\n",
       "      <td>AAACGAACAGGGACTA-1</td>\n",
       "      <td>15</td>\n",
       "      <td>fovea_donor_1</td>\n",
       "      <td>Glial-F1</td>\n",
       "      <td>fovea</td>\n",
       "      <td>MONDO:0005041</td>\n",
       "      <td>glaucoma (disease)</td>\n",
       "      <td>male</td>\n",
       "      <td>UBERON:0001786</td>\n",
       "      <td>fovea centralis</td>\n",
       "      <td>CL:0000125</td>\n",
       "      <td>glial cell</td>\n",
       "    </tr>\n",
       "    <tr>\n",
       "      <th>2</th>\n",
       "      <td>AAACGAAGTTCTCCAC-1</td>\n",
       "      <td>3</td>\n",
       "      <td>fovea_donor_1</td>\n",
       "      <td>Cones-Fov</td>\n",
       "      <td>fovea</td>\n",
       "      <td>MONDO:0005041</td>\n",
       "      <td>glaucoma (disease)</td>\n",
       "      <td>male</td>\n",
       "      <td>UBERON:0001786</td>\n",
       "      <td>fovea centralis</td>\n",
       "      <td>NaN</td>\n",
       "      <td>foveal cone photoreceptor</td>\n",
       "    </tr>\n",
       "    <tr>\n",
       "      <th>3</th>\n",
       "      <td>AAACGAATCATAGCAC-1</td>\n",
       "      <td>5</td>\n",
       "      <td>fovea_donor_1</td>\n",
       "      <td>Bipolar-1</td>\n",
       "      <td>fovea</td>\n",
       "      <td>MONDO:0005041</td>\n",
       "      <td>glaucoma (disease)</td>\n",
       "      <td>male</td>\n",
       "      <td>UBERON:0001786</td>\n",
       "      <td>fovea centralis</td>\n",
       "      <td>CL:0000103</td>\n",
       "      <td>bipolar neuron</td>\n",
       "    </tr>\n",
       "    <tr>\n",
       "      <th>4</th>\n",
       "      <td>AAACGCTAGGAGGCAG-1</td>\n",
       "      <td>8A</td>\n",
       "      <td>fovea_donor_1</td>\n",
       "      <td>Horizontal</td>\n",
       "      <td>fovea</td>\n",
       "      <td>MONDO:0005041</td>\n",
       "      <td>glaucoma (disease)</td>\n",
       "      <td>male</td>\n",
       "      <td>UBERON:0001786</td>\n",
       "      <td>fovea centralis</td>\n",
       "      <td>CL:0000745</td>\n",
       "      <td>retina horizontal cell</td>\n",
       "    </tr>\n",
       "    <tr>\n",
       "      <th>...</th>\n",
       "      <td>...</td>\n",
       "      <td>...</td>\n",
       "      <td>...</td>\n",
       "      <td>...</td>\n",
       "      <td>...</td>\n",
       "      <td>...</td>\n",
       "      <td>...</td>\n",
       "      <td>...</td>\n",
       "      <td>...</td>\n",
       "      <td>...</td>\n",
       "      <td>...</td>\n",
       "      <td>...</td>\n",
       "    </tr>\n",
       "    <tr>\n",
       "      <th>8212</th>\n",
       "      <td>TTTGACTCATGACTGT-6</td>\n",
       "      <td>5</td>\n",
       "      <td>peripheral_donor_3</td>\n",
       "      <td>Bipolar-1</td>\n",
       "      <td>peripheral</td>\n",
       "      <td>PATO:0000461</td>\n",
       "      <td>normal</td>\n",
       "      <td>female</td>\n",
       "      <td>UBERON:0013682</td>\n",
       "      <td>peripheral region of retina</td>\n",
       "      <td>CL:0000103</td>\n",
       "      <td>bipolar neuron</td>\n",
       "    </tr>\n",
       "    <tr>\n",
       "      <th>8213</th>\n",
       "      <td>TTTGACTGTCCGGACT-6</td>\n",
       "      <td>6</td>\n",
       "      <td>peripheral_donor_3</td>\n",
       "      <td>Bipolar-2</td>\n",
       "      <td>peripheral</td>\n",
       "      <td>PATO:0000461</td>\n",
       "      <td>normal</td>\n",
       "      <td>female</td>\n",
       "      <td>UBERON:0013682</td>\n",
       "      <td>peripheral region of retina</td>\n",
       "      <td>CL:0000103</td>\n",
       "      <td>bipolar neuron</td>\n",
       "    </tr>\n",
       "    <tr>\n",
       "      <th>8214</th>\n",
       "      <td>TTTGACTTCTGAGTCA-6</td>\n",
       "      <td>2</td>\n",
       "      <td>peripheral_donor_3</td>\n",
       "      <td>Rods-2</td>\n",
       "      <td>peripheral</td>\n",
       "      <td>PATO:0000461</td>\n",
       "      <td>normal</td>\n",
       "      <td>female</td>\n",
       "      <td>UBERON:0013682</td>\n",
       "      <td>peripheral region of retina</td>\n",
       "      <td>CL:0000604</td>\n",
       "      <td>retinal rod cell</td>\n",
       "    </tr>\n",
       "    <tr>\n",
       "      <th>8215</th>\n",
       "      <td>TTTGGAGCAGTTTGGT-6</td>\n",
       "      <td>6</td>\n",
       "      <td>peripheral_donor_3</td>\n",
       "      <td>Bipolar-2</td>\n",
       "      <td>peripheral</td>\n",
       "      <td>PATO:0000461</td>\n",
       "      <td>normal</td>\n",
       "      <td>female</td>\n",
       "      <td>UBERON:0013682</td>\n",
       "      <td>peripheral region of retina</td>\n",
       "      <td>CL:0000103</td>\n",
       "      <td>bipolar neuron</td>\n",
       "    </tr>\n",
       "    <tr>\n",
       "      <th>8216</th>\n",
       "      <td>TTTGGAGTCGTTCTAT-6</td>\n",
       "      <td>6</td>\n",
       "      <td>peripheral_donor_3</td>\n",
       "      <td>Bipolar-2</td>\n",
       "      <td>peripheral</td>\n",
       "      <td>PATO:0000461</td>\n",
       "      <td>normal</td>\n",
       "      <td>female</td>\n",
       "      <td>UBERON:0013682</td>\n",
       "      <td>peripheral region of retina</td>\n",
       "      <td>CL:0000103</td>\n",
       "      <td>bipolar neuron</td>\n",
       "    </tr>\n",
       "  </tbody>\n",
       "</table>\n",
       "<p>8217 rows × 12 columns</p>\n",
       "</div>"
      ],
      "text/plain": [
       "                  cellId final_cluster_labels           libraryID    celltype  \\\n",
       "0     AAACCCAGTCGGCACT-1                    9       fovea_donor_1     Unknown   \n",
       "1     AAACGAACAGGGACTA-1                   15       fovea_donor_1    Glial-F1   \n",
       "2     AAACGAAGTTCTCCAC-1                    3       fovea_donor_1   Cones-Fov   \n",
       "3     AAACGAATCATAGCAC-1                    5       fovea_donor_1   Bipolar-1   \n",
       "4     AAACGCTAGGAGGCAG-1                   8A       fovea_donor_1  Horizontal   \n",
       "...                  ...                  ...                 ...         ...   \n",
       "8212  TTTGACTCATGACTGT-6                    5  peripheral_donor_3   Bipolar-1   \n",
       "8213  TTTGACTGTCCGGACT-6                    6  peripheral_donor_3   Bipolar-2   \n",
       "8214  TTTGACTTCTGAGTCA-6                    2  peripheral_donor_3      Rods-2   \n",
       "8215  TTTGGAGCAGTTTGGT-6                    6  peripheral_donor_3   Bipolar-2   \n",
       "8216  TTTGGAGTCGTTCTAT-6                    6  peripheral_donor_3   Bipolar-2   \n",
       "\n",
       "          region disease_ontology_term_id             disease     sex  \\\n",
       "0          fovea            MONDO:0005041  glaucoma (disease)    male   \n",
       "1          fovea            MONDO:0005041  glaucoma (disease)    male   \n",
       "2          fovea            MONDO:0005041  glaucoma (disease)    male   \n",
       "3          fovea            MONDO:0005041  glaucoma (disease)    male   \n",
       "4          fovea            MONDO:0005041  glaucoma (disease)    male   \n",
       "...          ...                      ...                 ...     ...   \n",
       "8212  peripheral             PATO:0000461              normal  female   \n",
       "8213  peripheral             PATO:0000461              normal  female   \n",
       "8214  peripheral             PATO:0000461              normal  female   \n",
       "8215  peripheral             PATO:0000461              normal  female   \n",
       "8216  peripheral             PATO:0000461              normal  female   \n",
       "\n",
       "     tissue_ontology_term_id                       tissue  \\\n",
       "0             UBERON:0001786              fovea centralis   \n",
       "1             UBERON:0001786              fovea centralis   \n",
       "2             UBERON:0001786              fovea centralis   \n",
       "3             UBERON:0001786              fovea centralis   \n",
       "4             UBERON:0001786              fovea centralis   \n",
       "...                      ...                          ...   \n",
       "8212          UBERON:0013682  peripheral region of retina   \n",
       "8213          UBERON:0013682  peripheral region of retina   \n",
       "8214          UBERON:0013682  peripheral region of retina   \n",
       "8215          UBERON:0013682  peripheral region of retina   \n",
       "8216          UBERON:0013682  peripheral region of retina   \n",
       "\n",
       "     cell_type_ontology_term_id                  cell_type  \n",
       "0                           NaN                    unknown  \n",
       "1                    CL:0000125                 glial cell  \n",
       "2                           NaN  foveal cone photoreceptor  \n",
       "3                    CL:0000103             bipolar neuron  \n",
       "4                    CL:0000745     retina horizontal cell  \n",
       "...                         ...                        ...  \n",
       "8212                 CL:0000103             bipolar neuron  \n",
       "8213                 CL:0000103             bipolar neuron  \n",
       "8214                 CL:0000604           retinal rod cell  \n",
       "8215                 CL:0000103             bipolar neuron  \n",
       "8216                 CL:0000103             bipolar neuron  \n",
       "\n",
       "[8217 rows x 12 columns]"
      ]
     },
     "execution_count": 15,
     "metadata": {},
     "output_type": "execute_result"
    }
   ],
   "source": [
    "to_test"
   ]
  },
  {
   "cell_type": "code",
   "execution_count": 16,
   "id": "ff287719",
   "metadata": {},
   "outputs": [
    {
     "data": {
      "text/html": [
       "<div>\n",
       "<style scoped>\n",
       "    .dataframe tbody tr th:only-of-type {\n",
       "        vertical-align: middle;\n",
       "    }\n",
       "\n",
       "    .dataframe tbody tr th {\n",
       "        vertical-align: top;\n",
       "    }\n",
       "\n",
       "    .dataframe thead th {\n",
       "        text-align: right;\n",
       "    }\n",
       "</style>\n",
       "<table border=\"1\" class=\"dataframe\">\n",
       "  <thead>\n",
       "    <tr style=\"text-align: right;\">\n",
       "      <th></th>\n",
       "      <th>cell</th>\n",
       "      <th>index</th>\n",
       "      <th>Expressed Genes</th>\n",
       "      <th>UMI Count</th>\n",
       "      <th>Percent Mitochond.</th>\n",
       "      <th>BroadCellType</th>\n",
       "      <th>CellType</th>\n",
       "      <th>Donor</th>\n",
       "      <th>class_label</th>\n",
       "    </tr>\n",
       "  </thead>\n",
       "  <tbody>\n",
       "    <tr>\n",
       "      <th>0</th>\n",
       "      <td>0</td>\n",
       "      <td>0024369980fd003553cbc9dfe29f7f95</td>\n",
       "      <td>2351</td>\n",
       "      <td>6060.0</td>\n",
       "      <td>4.125413</td>\n",
       "      <td>retinal rod cell</td>\n",
       "      <td>retinal rod cell type A</td>\n",
       "      <td>b8049daa-7458-47bf-8ec2-3f5c56d2cb34</td>\n",
       "      <td>9</td>\n",
       "    </tr>\n",
       "    <tr>\n",
       "      <th>1</th>\n",
       "      <td>2</td>\n",
       "      <td>0037f1b36684cb59b84d3585ca55ff69</td>\n",
       "      <td>950</td>\n",
       "      <td>1507.0</td>\n",
       "      <td>0.597213</td>\n",
       "      <td>retinal rod cell</td>\n",
       "      <td>retinal rod cell type B</td>\n",
       "      <td>427c0a62-9baf-42ab-a3a3-f48d10544280</td>\n",
       "      <td>10</td>\n",
       "    </tr>\n",
       "    <tr>\n",
       "      <th>2</th>\n",
       "      <td>3</td>\n",
       "      <td>00390952646f52d11a9ab9bba7d6ac51</td>\n",
       "      <td>961</td>\n",
       "      <td>1962.0</td>\n",
       "      <td>7.543323</td>\n",
       "      <td>retinal rod cell</td>\n",
       "      <td>retinal rod cell type A</td>\n",
       "      <td>b8049daa-7458-47bf-8ec2-3f5c56d2cb34</td>\n",
       "      <td>9</td>\n",
       "    </tr>\n",
       "    <tr>\n",
       "      <th>3</th>\n",
       "      <td>4</td>\n",
       "      <td>005b3351658380695a5dc46c384d72d7</td>\n",
       "      <td>858</td>\n",
       "      <td>1384.0</td>\n",
       "      <td>0.144509</td>\n",
       "      <td>retinal rod cell</td>\n",
       "      <td>retinal rod cell type B</td>\n",
       "      <td>b8049daa-7458-47bf-8ec2-3f5c56d2cb34</td>\n",
       "      <td>10</td>\n",
       "    </tr>\n",
       "    <tr>\n",
       "      <th>4</th>\n",
       "      <td>6</td>\n",
       "      <td>00906832f470fc434a52ac7d678a95bc</td>\n",
       "      <td>532</td>\n",
       "      <td>1054.0</td>\n",
       "      <td>6.451613</td>\n",
       "      <td>retinal rod cell</td>\n",
       "      <td>retinal rod cell type A</td>\n",
       "      <td>427c0a62-9baf-42ab-a3a3-f48d10544280</td>\n",
       "      <td>9</td>\n",
       "    </tr>\n",
       "    <tr>\n",
       "      <th>...</th>\n",
       "      <td>...</td>\n",
       "      <td>...</td>\n",
       "      <td>...</td>\n",
       "      <td>...</td>\n",
       "      <td>...</td>\n",
       "      <td>...</td>\n",
       "      <td>...</td>\n",
       "      <td>...</td>\n",
       "      <td>...</td>\n",
       "    </tr>\n",
       "    <tr>\n",
       "      <th>16441</th>\n",
       "      <td>19684</td>\n",
       "      <td>ff61c0c282f41e4a37885b05342441da</td>\n",
       "      <td>1494</td>\n",
       "      <td>3320.0</td>\n",
       "      <td>2.289157</td>\n",
       "      <td>retinal rod cell</td>\n",
       "      <td>retinal rod cell type B</td>\n",
       "      <td>427c0a62-9baf-42ab-a3a3-f48d10544280</td>\n",
       "      <td>10</td>\n",
       "    </tr>\n",
       "    <tr>\n",
       "      <th>16442</th>\n",
       "      <td>19689</td>\n",
       "      <td>ffa4633bef82949d2c6ac17b3ddf46e9</td>\n",
       "      <td>1813</td>\n",
       "      <td>4129.0</td>\n",
       "      <td>3.996125</td>\n",
       "      <td>retinal rod cell</td>\n",
       "      <td>retinal rod cell type A</td>\n",
       "      <td>b8049daa-7458-47bf-8ec2-3f5c56d2cb34</td>\n",
       "      <td>9</td>\n",
       "    </tr>\n",
       "    <tr>\n",
       "      <th>16443</th>\n",
       "      <td>19690</td>\n",
       "      <td>ffa5758b0600f47722fdc755444dfe0c</td>\n",
       "      <td>2692</td>\n",
       "      <td>8244.0</td>\n",
       "      <td>16.460457</td>\n",
       "      <td>retinal cone cell</td>\n",
       "      <td>retinal cone cell</td>\n",
       "      <td>b8049daa-7458-47bf-8ec2-3f5c56d2cb34</td>\n",
       "      <td>7</td>\n",
       "    </tr>\n",
       "    <tr>\n",
       "      <th>16444</th>\n",
       "      <td>19691</td>\n",
       "      <td>ffd3fd6119de767f3c3b8c47b2c28bf0</td>\n",
       "      <td>516</td>\n",
       "      <td>896.0</td>\n",
       "      <td>3.794643</td>\n",
       "      <td>retinal rod cell</td>\n",
       "      <td>retinal rod cell type A</td>\n",
       "      <td>427c0a62-9baf-42ab-a3a3-f48d10544280</td>\n",
       "      <td>9</td>\n",
       "    </tr>\n",
       "    <tr>\n",
       "      <th>16445</th>\n",
       "      <td>19693</td>\n",
       "      <td>fffd3d11e75c6c544e6741967b3edb7a</td>\n",
       "      <td>1896</td>\n",
       "      <td>4175.0</td>\n",
       "      <td>4.550898</td>\n",
       "      <td>retinal rod cell</td>\n",
       "      <td>retinal rod cell type A</td>\n",
       "      <td>b8049daa-7458-47bf-8ec2-3f5c56d2cb34</td>\n",
       "      <td>9</td>\n",
       "    </tr>\n",
       "  </tbody>\n",
       "</table>\n",
       "<p>16446 rows × 9 columns</p>\n",
       "</div>"
      ],
      "text/plain": [
       "        cell                             index  Expressed Genes  UMI Count  \\\n",
       "0          0  0024369980fd003553cbc9dfe29f7f95             2351     6060.0   \n",
       "1          2  0037f1b36684cb59b84d3585ca55ff69              950     1507.0   \n",
       "2          3  00390952646f52d11a9ab9bba7d6ac51              961     1962.0   \n",
       "3          4  005b3351658380695a5dc46c384d72d7              858     1384.0   \n",
       "4          6  00906832f470fc434a52ac7d678a95bc              532     1054.0   \n",
       "...      ...                               ...              ...        ...   \n",
       "16441  19684  ff61c0c282f41e4a37885b05342441da             1494     3320.0   \n",
       "16442  19689  ffa4633bef82949d2c6ac17b3ddf46e9             1813     4129.0   \n",
       "16443  19690  ffa5758b0600f47722fdc755444dfe0c             2692     8244.0   \n",
       "16444  19691  ffd3fd6119de767f3c3b8c47b2c28bf0              516      896.0   \n",
       "16445  19693  fffd3d11e75c6c544e6741967b3edb7a             1896     4175.0   \n",
       "\n",
       "       Percent Mitochond.      BroadCellType                 CellType  \\\n",
       "0                4.125413   retinal rod cell  retinal rod cell type A   \n",
       "1                0.597213   retinal rod cell  retinal rod cell type B   \n",
       "2                7.543323   retinal rod cell  retinal rod cell type A   \n",
       "3                0.144509   retinal rod cell  retinal rod cell type B   \n",
       "4                6.451613   retinal rod cell  retinal rod cell type A   \n",
       "...                   ...                ...                      ...   \n",
       "16441            2.289157   retinal rod cell  retinal rod cell type B   \n",
       "16442            3.996125   retinal rod cell  retinal rod cell type A   \n",
       "16443           16.460457  retinal cone cell        retinal cone cell   \n",
       "16444            3.794643   retinal rod cell  retinal rod cell type A   \n",
       "16445            4.550898   retinal rod cell  retinal rod cell type A   \n",
       "\n",
       "                                      Donor  class_label  \n",
       "0      b8049daa-7458-47bf-8ec2-3f5c56d2cb34            9  \n",
       "1      427c0a62-9baf-42ab-a3a3-f48d10544280           10  \n",
       "2      b8049daa-7458-47bf-8ec2-3f5c56d2cb34            9  \n",
       "3      b8049daa-7458-47bf-8ec2-3f5c56d2cb34           10  \n",
       "4      427c0a62-9baf-42ab-a3a3-f48d10544280            9  \n",
       "...                                     ...          ...  \n",
       "16441  427c0a62-9baf-42ab-a3a3-f48d10544280           10  \n",
       "16442  b8049daa-7458-47bf-8ec2-3f5c56d2cb34            9  \n",
       "16443  b8049daa-7458-47bf-8ec2-3f5c56d2cb34            7  \n",
       "16444  427c0a62-9baf-42ab-a3a3-f48d10544280            9  \n",
       "16445  b8049daa-7458-47bf-8ec2-3f5c56d2cb34            9  \n",
       "\n",
       "[16446 rows x 9 columns]"
      ]
     },
     "execution_count": 16,
     "metadata": {},
     "output_type": "execute_result"
    }
   ],
   "source": [
    "train_labels"
   ]
  },
  {
   "cell_type": "code",
   "execution_count": 17,
   "id": "10224277",
   "metadata": {},
   "outputs": [
    {
     "data": {
      "text/plain": [
       "(array(['unknown', 'glial cell', 'foveal cone photoreceptor',\n",
       "        'bipolar neuron', 'retina horizontal cell', 'endothelial cell',\n",
       "        'pericyte cell', 'retinal rod cell', 'retinal ganglion cell',\n",
       "        'amacrine cell', 'microglial cell',\n",
       "        'peripheral cone photoreceptor'], dtype=object),\n",
       " array(['retinal rod cell type A', 'retinal rod cell type B',\n",
       "        'retinal bipolar neuron type B', 'retinal rod cell type C',\n",
       "        'unspecified', 'retinal bipolar neuron type C', 'Muller cell',\n",
       "        'retinal cone cell', 'retinal bipolar neuron type A',\n",
       "        'amacrine cell', 'retinal bipolar neuron type D',\n",
       "        'retinal ganglion cell', 'microglial cell'], dtype=object))"
      ]
     },
     "execution_count": 17,
     "metadata": {},
     "output_type": "execute_result"
    }
   ],
   "source": [
    "to_test['cell_type'].unique(), train_labels['CellType'].unique()"
   ]
  },
  {
   "cell_type": "code",
   "execution_count": 18,
   "id": "c80c991a",
   "metadata": {},
   "outputs": [],
   "source": [
    "# map to_test --> training labels for testing prediction on other datasets\n",
    "\n",
    "# mapping = {\n",
    "#     'glial cell': 'microglial',\n",
    "#     'foveal cone photoreceptor': \n",
    "#     'bipolar neuron': \n",
    "# }"
   ]
  },
  {
   "cell_type": "code",
   "execution_count": null,
   "id": "181d74d7",
   "metadata": {},
   "outputs": [
    {
     "name": "stdout",
     "output_type": "stream",
     "text": [
      "Initializing network\n",
      "Initializing explain matrix\n"
     ]
    }
   ],
   "source": [
    "model = TabNetLightning(\n",
    "    input_dim=module.num_features,\n",
    "    output_dim=module.num_labels,\n",
    "    optim_params={\n",
    "        'optimizer': torch.optim.Adam,\n",
    "        'lr': 0.02,\n",
    "        'weight_decay': 0,\n",
    "    },\n",
    "    scheduler_params={\n",
    "        'scheduler': torch.optim.lr_scheduler.ReduceLROnPlateau,\n",
    "        'factor': 0.001,\n",
    "    },\n",
    "    metrics={\n",
    "        'accuracy': accuracy,\n",
    "        'precision': precision,\n",
    "        'recall': recall,\n",
    "    },\n",
    ")"
   ]
  },
  {
   "cell_type": "code",
   "execution_count": null,
   "id": "c9a4a82a",
   "metadata": {},
   "outputs": [],
   "source": [
    "model = TabNetLightning.load_from_checkpoint(\n",
    "    '../checkpoints/checkpoint-80-desc-retina.ckpt',\n",
    "    input_dim=37475,\n",
    "    output_dim=13,\n",
    "    n_d=32,\n",
    "    n_a=32,\n",
    "    n_steps=10,\n",
    ")"
   ]
  },
  {
   "cell_type": "code",
   "execution_count": null,
   "id": "737afd08",
   "metadata": {},
   "outputs": [],
   "source": [
    "model"
   ]
  },
  {
   "cell_type": "code",
   "execution_count": null,
   "id": "4216f2d2",
   "metadata": {},
   "outputs": [],
   "source": [
    "datafile = '../data/retina/fovea_for_test_T.h5ad'\n",
    "data = an.read_h5ad('../data/retina/fovea_for_test_T.h5ad')\n",
    "\n",
    "dataset = AnnDataMatrix(\n",
    "    data=data.X,\n",
    "    labels=\n",
    ")"
   ]
  },
  {
   "cell_type": "code",
   "execution_count": null,
   "id": "9ee08475",
   "metadata": {},
   "outputs": [],
   "source": [
    "!ls ../data/retina"
   ]
  },
  {
   "cell_type": "code",
   "execution_count": null,
   "id": "e5644729",
   "metadata": {},
   "outputs": [],
   "source": [
    "labels = pd.read_csv('../data/retina/fovea_for_test_labels.tsv', sep='\\t')"
   ]
  },
  {
   "cell_type": "code",
   "execution_count": null,
   "id": "b5ada1db",
   "metadata": {
    "scrolled": true
   },
   "outputs": [],
   "source": [
    "labels"
   ]
  },
  {
   "cell_type": "code",
   "execution_count": null,
   "id": "785bebfe",
   "metadata": {},
   "outputs": [],
   "source": []
  }
 ],
 "metadata": {
  "kernelspec": {
   "display_name": "Python [conda env:base-data-science] *",
   "language": "python",
   "name": "conda-env-base-data-science-py"
  },
  "language_info": {
   "codemirror_mode": {
    "name": "ipython",
    "version": 3
   },
   "file_extension": ".py",
   "mimetype": "text/x-python",
   "name": "python",
   "nbconvert_exporter": "python",
   "pygments_lexer": "ipython3",
   "version": "3.9.7"
  }
 },
 "nbformat": 4,
 "nbformat_minor": 5
}

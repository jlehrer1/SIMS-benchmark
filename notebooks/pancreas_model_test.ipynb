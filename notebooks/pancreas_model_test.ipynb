{
 "cells": [
  {
   "cell_type": "code",
   "execution_count": 1,
   "id": "cd07dc17",
   "metadata": {},
   "outputs": [],
   "source": [
    "import pandas as pd \n",
    "from sklearn.preprocessing import LabelEncoder\n",
    "import sys\n",
    "import anndata as an\n",
    "import scanpy as sp\n",
    "import h5py\n",
    "\n",
    "sys.path.append('../src')\n",
    "sys.path.append('../tests')\n",
    "\n",
    "from lightning_train import DataModule, generate_trainer\n",
    "from data import *\n",
    "from model import *\n",
    "from testing import *\n",
    "\n",
    "from pytorch_lightning.loggers import WandbLogger\n",
    "from torchmetrics.functional import *\n",
    "\n",
    "import pandas as pd\n",
    "from scipy.sparse import csr_matrix\n",
    "from pytorch_lightning.callbacks.early_stopping import EarlyStopping\n",
    "\n",
    "from functools import partial\n",
    "import torchmetrics.functional as f\n",
    "from torchmetrics import Metric\n",
    "import torchmetrics "
   ]
  },
  {
   "cell_type": "markdown",
   "id": "9bacd727",
   "metadata": {},
   "source": [
    "The data is from https://academic.oup.com/bioinformatics/article/36/3/964/5545955"
   ]
  },
  {
   "cell_type": "code",
   "execution_count": 2,
   "id": "e1f64c59",
   "metadata": {
    "scrolled": true
   },
   "outputs": [
    {
     "name": "stderr",
     "output_type": "stream",
     "text": [
      "/Users/julian/miniconda3/envs/base-data-science/lib/python3.9/site-packages/anndata/compat/__init__.py:180: FutureWarning: Moving element from .uns['neighbors']['distances'] to .obsp['distances'].\n",
      "\n",
      "This is where adjacency matrices should go now.\n",
      "  warn(\n",
      "/Users/julian/miniconda3/envs/base-data-science/lib/python3.9/site-packages/anndata/compat/__init__.py:180: FutureWarning: Moving element from .uns['neighbors']['connectivities'] to .obsp['connectivities'].\n",
      "\n",
      "This is where adjacency matrices should go now.\n",
      "  warn(\n"
     ]
    }
   ],
   "source": [
    "data = an.read_h5ad('../data/pancreas/pancreas.h5ad', backed='r+')"
   ]
  },
  {
   "cell_type": "markdown",
   "id": "f3a01454",
   "metadata": {},
   "source": [
    "Now that we know all the labels are the same, we can subset the samples we'd like to train on and train a model"
   ]
  },
  {
   "cell_type": "code",
   "execution_count": 3,
   "id": "ee7ac468",
   "metadata": {
    "scrolled": true
   },
   "outputs": [],
   "source": [
    "common_labels = []\n",
    "\n",
    "for i in range(4):\n",
    "    labels = data.obs.reset_index(drop=True) # make index numeric \n",
    "    labels = labels[labels['batch'] == str(i)]\n",
    "    labels.index.name = 'cell'\n",
    "    common_labels.append(labels['celltype'].unique().categories)\n",
    "    labels.to_csv(f'../data/pancreas/batch_{i}_labels.csv', index=True)"
   ]
  },
  {
   "cell_type": "markdown",
   "id": "baedfc98",
   "metadata": {},
   "source": [
    "# Test refgenes to make sure this code is buggy .. "
   ]
  },
  {
   "cell_type": "code",
   "execution_count": 4,
   "id": "c7b2db11",
   "metadata": {
    "scrolled": true
   },
   "outputs": [],
   "source": [
    "train_cols = data.var.index\n",
    "ref_cols = train_cols[1:]"
   ]
  },
  {
   "cell_type": "code",
   "execution_count": 9,
   "id": "72bbeb03",
   "metadata": {
    "scrolled": true
   },
   "outputs": [
    {
     "data": {
      "text/plain": [
       "Index(['A2M', 'ABAT', 'ABCA1', 'ABCA17P', 'ABCA7', 'ABCB6', 'ABCB7', 'ABCC5',\n",
       "       'ABCC6', 'ABHD3',\n",
       "       ...\n",
       "       'VTRNA1-3', 'ZFP91-CNTF', 'SNORD10', 'LOC339290', 'ESF1', 'MIR663A',\n",
       "       'LOC100379224', 'LOC100130093', 'LOC101928303', 'COPG'],\n",
       "      dtype='object', name='index', length=2448)"
      ]
     },
     "execution_count": 9,
     "metadata": {},
     "output_type": "execute_result"
    }
   ],
   "source": []
  },
  {
   "cell_type": "code",
   "execution_count": 10,
   "id": "a08646dc",
   "metadata": {
    "scrolled": true
   },
   "outputs": [
    {
     "name": "stdout",
     "output_type": "stream",
     "text": [
      "assume_numeric_label=False, using sklearn.preprocessing.LabelEncoder and encoding target variables.\n",
      "Transforming labelfile 1/1\n",
      "Creating train/val/test DataLoaders...\n",
      "Done, continuing to training.\n",
      "Calculating weights\n",
      "Initializing network\n",
      "Initializing explain matrix\n"
     ]
    },
    {
     "name": "stderr",
     "output_type": "stream",
     "text": [
      "/Users/julian/miniconda3/envs/base-data-science/lib/python3.9/site-packages/anndata/compat/__init__.py:180: FutureWarning: Moving element from .uns['neighbors']['distances'] to .obsp['distances'].\n",
      "\n",
      "This is where adjacency matrices should go now.\n",
      "  warn(\n",
      "/Users/julian/miniconda3/envs/base-data-science/lib/python3.9/site-packages/anndata/compat/__init__.py:180: FutureWarning: Moving element from .uns['neighbors']['connectivities'] to .obsp['connectivities'].\n",
      "\n",
      "This is where adjacency matrices should go now.\n",
      "  warn(\n"
     ]
    }
   ],
   "source": [
    "datamodule = DataModule(\n",
    "    datafiles=['../data/pancreas/pancreas.h5ad'],\n",
    "    labelfiles=['../data/pancreas/labels.csv'],\n",
    "    class_label='celltype',\n",
    "    index_col='cell',\n",
    "    assume_numeric_label=False,\n",
    "#     currgenes=train_cols,\n",
    "#     refgenes=ref_cols,\n",
    "#     preprocess=True,\n",
    ")\n",
    "\n",
    "datamodule.prepare_data()\n",
    "datamodule.setup()\n",
    "\n",
    "model = SIMSClassifier(\n",
    "    input_dim=datamodule.input_dim,\n",
    "    output_dim=datamodule.num_labels,\n",
    ")"
   ]
  },
  {
   "cell_type": "code",
   "execution_count": null,
   "id": "dafcf053",
   "metadata": {
    "scrolled": true
   },
   "outputs": [
    {
     "name": "stderr",
     "output_type": "stream",
     "text": [
      "GPU available: False, used: False\n",
      "TPU available: False, using: 0 TPU cores\n",
      "IPU available: False, using: 0 IPUs\n",
      "/Users/julian/miniconda3/envs/base-data-science/lib/python3.9/site-packages/pytorch_lightning/core/datamodule.py:469: LightningDeprecationWarning: DataModule.setup has already been called, so it will not be called again. In v1.6 this behavior will change to always call DataModule.setup.\n",
      "  rank_zero_deprecation(\n",
      "/Users/julian/miniconda3/envs/base-data-science/lib/python3.9/site-packages/pytorch_lightning/loggers/wandb.py:341: UserWarning: There is a wandb run already in progress and newly created instances of `WandbLogger` will reuse this run. If this is not desired, call `wandb.finish()` before instantiating `WandbLogger`.\n",
      "  rank_zero_warn(\n",
      "\n",
      "  | Name    | Type   | Params\n",
      "-----------------------------------\n",
      "0 | network | TabNet | 167 K \n",
      "-----------------------------------\n",
      "167 K     Trainable params\n",
      "0         Non-trainable params\n",
      "167 K     Total params\n",
      "0.670     Total estimated model params size (MB)\n",
      "/Users/julian/miniconda3/envs/base-data-science/lib/python3.9/site-packages/pytorch_lightning/callbacks/model_checkpoint.py:623: UserWarning: Checkpoint directory /Users/julian/Documents/Projects/SIMS/notebooks/Pancreas Model/1n6cydiq/checkpoints exists and is not empty.\n",
      "  rank_zero_warn(f\"Checkpoint directory {dirpath} exists and is not empty.\")\n"
     ]
    },
    {
     "data": {
      "application/vnd.jupyter.widget-view+json": {
       "model_id": "",
       "version_major": 2,
       "version_minor": 0
      },
      "text/plain": [
       "Validation sanity check: 0it [00:00, ?it/s]"
      ]
     },
     "metadata": {},
     "output_type": "display_data"
    },
    {
     "name": "stderr",
     "output_type": "stream",
     "text": [
      "/Users/julian/miniconda3/envs/base-data-science/lib/python3.9/site-packages/pytorch_lightning/trainer/data_loading.py:111: UserWarning: The dataloader, val_dataloader 0, does not have many workers which may be a bottleneck. Consider increasing the value of the `num_workers` argument` (try 10 which is the number of cpus on this machine) in the `DataLoader` init to improve performance.\n",
      "  rank_zero_warn(\n",
      "/Users/julian/miniconda3/envs/base-data-science/lib/python3.9/site-packages/torchmetrics/utilities/prints.py:36: UserWarning: No positive samples in targets, true positive value should be meaningless. Returning zero tensor in true positive score\n",
      "  warnings.warn(*args, **kwargs)\n",
      "/Users/julian/Documents/Projects/SIMS/notebooks/../src/model.py:206: RuntimeWarning: invalid value encountered in true_divide\n",
      "  precision = tp / (tp + fp)\n",
      "/Users/julian/Documents/Projects/SIMS/notebooks/../src/model.py:207: RuntimeWarning: invalid value encountered in true_divide\n",
      "  recall = tp / (tp + fn)\n",
      "/Users/julian/Documents/Projects/SIMS/notebooks/../src/model.py:208: RuntimeWarning: invalid value encountered in true_divide\n",
      "  f1s = 2*(precision * recall) / (precision + recall)\n",
      "/Users/julian/miniconda3/envs/base-data-science/lib/python3.9/site-packages/pytorch_lightning/trainer/data_loading.py:111: UserWarning: The dataloader, train_dataloader, does not have many workers which may be a bottleneck. Consider increasing the value of the `num_workers` argument` (try 10 which is the number of cpus on this machine) in the `DataLoader` init to improve performance.\n",
      "  rank_zero_warn(\n"
     ]
    },
    {
     "data": {
      "application/vnd.jupyter.widget-view+json": {
       "model_id": "c5f05c34fa254f289707d61c6a6ee0da",
       "version_major": 2,
       "version_minor": 0
      },
      "text/plain": [
       "Training: 0it [00:00, ?it/s]"
      ]
     },
     "metadata": {},
     "output_type": "display_data"
    },
    {
     "data": {
      "application/vnd.jupyter.widget-view+json": {
       "model_id": "",
       "version_major": 2,
       "version_minor": 0
      },
      "text/plain": [
       "Validating: 0it [00:00, ?it/s]"
      ]
     },
     "metadata": {},
     "output_type": "display_data"
    },
    {
     "data": {
      "application/vnd.jupyter.widget-view+json": {
       "model_id": "",
       "version_major": 2,
       "version_minor": 0
      },
      "text/plain": [
       "Validating: 0it [00:00, ?it/s]"
      ]
     },
     "metadata": {},
     "output_type": "display_data"
    },
    {
     "data": {
      "application/vnd.jupyter.widget-view+json": {
       "model_id": "",
       "version_major": 2,
       "version_minor": 0
      },
      "text/plain": [
       "Validating: 0it [00:00, ?it/s]"
      ]
     },
     "metadata": {},
     "output_type": "display_data"
    },
    {
     "data": {
      "application/vnd.jupyter.widget-view+json": {
       "model_id": "",
       "version_major": 2,
       "version_minor": 0
      },
      "text/plain": [
       "Validating: 0it [00:00, ?it/s]"
      ]
     },
     "metadata": {},
     "output_type": "display_data"
    },
    {
     "data": {
      "application/vnd.jupyter.widget-view+json": {
       "model_id": "",
       "version_major": 2,
       "version_minor": 0
      },
      "text/plain": [
       "Validating: 0it [00:00, ?it/s]"
      ]
     },
     "metadata": {},
     "output_type": "display_data"
    },
    {
     "data": {
      "application/vnd.jupyter.widget-view+json": {
       "model_id": "",
       "version_major": 2,
       "version_minor": 0
      },
      "text/plain": [
       "Validating: 0it [00:00, ?it/s]"
      ]
     },
     "metadata": {},
     "output_type": "display_data"
    },
    {
     "data": {
      "application/vnd.jupyter.widget-view+json": {
       "model_id": "",
       "version_major": 2,
       "version_minor": 0
      },
      "text/plain": [
       "Validating: 0it [00:00, ?it/s]"
      ]
     },
     "metadata": {},
     "output_type": "display_data"
    },
    {
     "data": {
      "application/vnd.jupyter.widget-view+json": {
       "model_id": "",
       "version_major": 2,
       "version_minor": 0
      },
      "text/plain": [
       "Validating: 0it [00:00, ?it/s]"
      ]
     },
     "metadata": {},
     "output_type": "display_data"
    },
    {
     "data": {
      "application/vnd.jupyter.widget-view+json": {
       "model_id": "",
       "version_major": 2,
       "version_minor": 0
      },
      "text/plain": [
       "Validating: 0it [00:00, ?it/s]"
      ]
     },
     "metadata": {},
     "output_type": "display_data"
    },
    {
     "data": {
      "application/vnd.jupyter.widget-view+json": {
       "model_id": "",
       "version_major": 2,
       "version_minor": 0
      },
      "text/plain": [
       "Validating: 0it [00:00, ?it/s]"
      ]
     },
     "metadata": {},
     "output_type": "display_data"
    },
    {
     "data": {
      "application/vnd.jupyter.widget-view+json": {
       "model_id": "",
       "version_major": 2,
       "version_minor": 0
      },
      "text/plain": [
       "Validating: 0it [00:00, ?it/s]"
      ]
     },
     "metadata": {},
     "output_type": "display_data"
    },
    {
     "data": {
      "application/vnd.jupyter.widget-view+json": {
       "model_id": "",
       "version_major": 2,
       "version_minor": 0
      },
      "text/plain": [
       "Validating: 0it [00:00, ?it/s]"
      ]
     },
     "metadata": {},
     "output_type": "display_data"
    },
    {
     "data": {
      "application/vnd.jupyter.widget-view+json": {
       "model_id": "",
       "version_major": 2,
       "version_minor": 0
      },
      "text/plain": [
       "Validating: 0it [00:00, ?it/s]"
      ]
     },
     "metadata": {},
     "output_type": "display_data"
    },
    {
     "data": {
      "application/vnd.jupyter.widget-view+json": {
       "model_id": "",
       "version_major": 2,
       "version_minor": 0
      },
      "text/plain": [
       "Validating: 0it [00:00, ?it/s]"
      ]
     },
     "metadata": {},
     "output_type": "display_data"
    },
    {
     "data": {
      "application/vnd.jupyter.widget-view+json": {
       "model_id": "",
       "version_major": 2,
       "version_minor": 0
      },
      "text/plain": [
       "Validating: 0it [00:00, ?it/s]"
      ]
     },
     "metadata": {},
     "output_type": "display_data"
    },
    {
     "data": {
      "application/vnd.jupyter.widget-view+json": {
       "model_id": "",
       "version_major": 2,
       "version_minor": 0
      },
      "text/plain": [
       "Validating: 0it [00:00, ?it/s]"
      ]
     },
     "metadata": {},
     "output_type": "display_data"
    },
    {
     "data": {
      "application/vnd.jupyter.widget-view+json": {
       "model_id": "",
       "version_major": 2,
       "version_minor": 0
      },
      "text/plain": [
       "Validating: 0it [00:00, ?it/s]"
      ]
     },
     "metadata": {},
     "output_type": "display_data"
    },
    {
     "data": {
      "application/vnd.jupyter.widget-view+json": {
       "model_id": "",
       "version_major": 2,
       "version_minor": 0
      },
      "text/plain": [
       "Validating: 0it [00:00, ?it/s]"
      ]
     },
     "metadata": {},
     "output_type": "display_data"
    }
   ],
   "source": [
    "wandb_logger = WandbLogger(\n",
    "    project=f\"Pancreas Model\",\n",
    "    name=\"Local, Default Settings\"\n",
    ")\n",
    "\n",
    "trainer = pl.Trainer(\n",
    "    logger=wandb_logger,\n",
    "    max_epochs=200,\n",
    ")\n",
    "\n",
    "trainer.fit(model, datamodule=datamodule)"
   ]
  },
  {
   "cell_type": "code",
   "execution_count": 11,
   "id": "73a7c72f",
   "metadata": {
    "scrolled": true
   },
   "outputs": [
    {
     "name": "stderr",
     "output_type": "stream",
     "text": [
      "/Users/julian/miniconda3/envs/base-data-science/lib/python3.9/site-packages/pytorch_lightning/core/datamodule.py:469: LightningDeprecationWarning: DataModule.setup has already been called, so it will not be called again. In v1.6 this behavior will change to always call DataModule.setup.\n",
      "  rank_zero_deprecation(\n",
      "/Users/julian/miniconda3/envs/base-data-science/lib/python3.9/site-packages/pytorch_lightning/trainer/data_loading.py:111: UserWarning: The dataloader, test_dataloader 0, does not have many workers which may be a bottleneck. Consider increasing the value of the `num_workers` argument` (try 10 which is the number of cpus on this machine) in the `DataLoader` init to improve performance.\n",
      "  rank_zero_warn(\n"
     ]
    },
    {
     "data": {
      "application/vnd.jupyter.widget-view+json": {
       "model_id": "d544d2c5b83d4e36b847df454f2dc70a",
       "version_major": 2,
       "version_minor": 0
      },
      "text/plain": [
       "Testing: 0it [00:00, ?it/s]"
      ]
     },
     "metadata": {},
     "output_type": "display_data"
    },
    {
     "name": "stderr",
     "output_type": "stream",
     "text": [
      "/Users/julian/miniconda3/envs/base-data-science/lib/python3.9/site-packages/pytorch_lightning/trainer/connectors/logger_connector/result.py:219: UserWarning: You called `self.log('test_confusion_matrix', ...)` in your `test_step` but the value needs to be floating point. Converting it to torch.float32.\n",
      "  warning_cache.warn(\n"
     ]
    },
    {
     "name": "stdout",
     "output_type": "stream",
     "text": [
      "Median f1 score is 0.9464114832535886 for epoch=199\n",
      "Test f1 is [0.9771987  0.94736842 0.97843666 0.97135741 0.91       0.97109827\n",
      " 0.98734177 0.         0.95348837 0.84210526 0.         0.94545455\n",
      " 0.         0.        ]\n",
      "--------------------------------------------------------------------------------\n",
      "DATALOADER:0 TEST RESULTS\n",
      "{'test_auroc': 0.5352076888084412,\n",
      " 'test_balanced_accuracy': 0.9280354976654053,\n",
      " 'test_confusion_matrix': 0.16276288032531738,\n",
      " 'test_f1': 0.9635302424430847,\n",
      " 'test_loss': 0.16146838665008545,\n",
      " 'test_loss_epoch': 0.16146838665008545,\n",
      " 'test_median_f1': 0.9464114904403687,\n",
      " 'test_per_class_f1': nan,\n",
      " 'test_per_class_precision': nan,\n",
      " 'test_per_class_recall': nan,\n",
      " 'test_precision': 0.9635302424430847,\n",
      " 'test_recall': 0.9635302424430847,\n",
      " 'test_specificity': 0.997194766998291,\n",
      " 'test_total_accuracy': 0.9635302424430847,\n",
      " 'test_weighted_accuracy': 0.9635302424430847}\n",
      "--------------------------------------------------------------------------------\n"
     ]
    },
    {
     "data": {
      "text/plain": [
       "[{'test_loss': 0.16146838665008545,\n",
       "  'test_loss_epoch': 0.16146838665008545,\n",
       "  'test_total_accuracy': 0.9635302424430847,\n",
       "  'test_balanced_accuracy': 0.9280354976654053,\n",
       "  'test_weighted_accuracy': 0.9635302424430847,\n",
       "  'test_precision': 0.9635302424430847,\n",
       "  'test_recall': 0.9635302424430847,\n",
       "  'test_f1': 0.9635302424430847,\n",
       "  'test_per_class_f1': nan,\n",
       "  'test_per_class_precision': nan,\n",
       "  'test_per_class_recall': nan,\n",
       "  'test_specificity': 0.997194766998291,\n",
       "  'test_confusion_matrix': 0.16276288032531738,\n",
       "  'test_auroc': 0.5352076888084412,\n",
       "  'test_median_f1': 0.9464114904403687}]"
      ]
     },
     "execution_count": 11,
     "metadata": {},
     "output_type": "execute_result"
    },
    {
     "name": "stderr",
     "output_type": "stream",
     "text": [
      "wandb: Network error (ConnectionError), entering retry loop.\n",
      "wandb: Network error (ConnectionError), entering retry loop.\n",
      "wandb: Network error (ConnectionError), entering retry loop.\n"
     ]
    }
   ],
   "source": [
    "trainer.test(model, datamodule=datamodule)"
   ]
  },
  {
   "cell_type": "code",
   "execution_count": 12,
   "id": "d1e2d394",
   "metadata": {},
   "outputs": [],
   "source": [
    "t1 = data.obs[data.obs['batch'] == '0']\n",
    "t2 = data.obs[data.obs['batch'] == '1']"
   ]
  },
  {
   "cell_type": "code",
   "execution_count": 13,
   "id": "c0f9cc75",
   "metadata": {},
   "outputs": [
    {
     "data": {
      "text/plain": [
       "Index(['MHC class II', 'PSC', 'acinar', 'activated_stellate', 'alpha', 'beta',\n",
       "       'co-expression', 'delta', 'dropped', 'ductal', 'endothelial', 'epsilon',\n",
       "       'gamma', 'macrophage', 'mast', 'mesenchymal', 'mesenchyme',\n",
       "       'not applicable', 'quiescent_stellate', 'schwann', 't_cell',\n",
       "       'unclassified', 'unclassified endocrine', 'unclear'],\n",
       "      dtype='object')"
      ]
     },
     "execution_count": 13,
     "metadata": {},
     "output_type": "execute_result"
    },
    {
     "name": "stderr",
     "output_type": "stream",
     "text": [
      "wandb: Network error (ConnectionError), entering retry loop.\n"
     ]
    }
   ],
   "source": [
    "t1['celltype'].unique().categories"
   ]
  },
  {
   "cell_type": "code",
   "execution_count": 45,
   "id": "314642a0",
   "metadata": {},
   "outputs": [
    {
     "data": {
      "text/plain": [
       "array([ True,  True,  True,  True,  True,  True,  True,  True,  True,\n",
       "        True,  True,  True,  True,  True,  True,  True,  True,  True,\n",
       "        True,  True,  True,  True,  True,  True])"
      ]
     },
     "execution_count": 45,
     "metadata": {},
     "output_type": "execute_result"
    }
   ],
   "source": [
    "t2['celltype'].unique().categories == t1['celltype'].unique().categories"
   ]
  },
  {
   "cell_type": "code",
   "execution_count": null,
   "id": "d6cab67d",
   "metadata": {},
   "outputs": [],
   "source": []
  }
 ],
 "metadata": {
  "kernelspec": {
   "display_name": "sims",
   "language": "python",
   "name": "sims"
  },
  "language_info": {
   "codemirror_mode": {
    "name": "ipython",
    "version": 3
   },
   "file_extension": ".py",
   "mimetype": "text/x-python",
   "name": "python",
   "nbconvert_exporter": "python",
   "pygments_lexer": "ipython3",
   "version": "3.9.12"
  }
 },
 "nbformat": 4,
 "nbformat_minor": 5
}
